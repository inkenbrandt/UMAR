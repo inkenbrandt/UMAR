{
 "cells": [
  {
   "cell_type": "code",
   "execution_count": 1,
   "metadata": {
    "collapsed": false
   },
   "outputs": [],
   "source": [
    "import pandas as pd\n",
    "import numpy as np\n",
    "import matplotlib\n",
    "import matplotlib.pyplot as plt\n",
    "import urllib2\n",
    "from pyproj import Proj, transform\n",
    "import xmltodict\n",
    "import mechanize\n",
    "import sys\n",
    "import platform\n",
    "import datetime\n",
    "import statsmodels.api as sm\n",
    "from pylab import rcParams\n",
    "rcParams['figure.figsize'] = 15, 10\n",
    "%matplotlib inline"
   ]
  },
  {
   "cell_type": "code",
   "execution_count": 2,
   "metadata": {
    "collapsed": false
   },
   "outputs": [
    {
     "name": "stdout",
     "output_type": "stream",
     "text": [
      "Operating System Linux 3.19.0-43-generic\n",
      "Python Version 2.7.6 (default, Jun 22 2015, 17:58:13) \n",
      "[GCC 4.8.2]\n",
      "Pandas Version 0.17.1\n",
      "Numpy Version 1.10.4\n",
      "Matplotlib Version 1.5.0\n"
     ]
    }
   ],
   "source": [
    "print(\"Operating System \" + platform.system() + \" \" + platform.release())\n",
    "print(\"Python Version \" + str(sys.version))\n",
    "print(\"Pandas Version \" + str(pd.__version__))\n",
    "print(\"Numpy Version \" + str(np.__version__))\n",
    "print(\"Matplotlib Version \" + str(matplotlib.__version__))"
   ]
  },
  {
   "cell_type": "code",
   "execution_count": 2,
   "metadata": {
    "collapsed": true
   },
   "outputs": [],
   "source": [
    "import wellapplication"
   ]
  },
  {
   "cell_type": "code",
   "execution_count": 3,
   "metadata": {
    "collapsed": true
   },
   "outputs": [],
   "source": [
    "import wellapplication.chem as wc"
   ]
  },
  {
   "cell_type": "code",
   "execution_count": 4,
   "metadata": {
    "collapsed": false
   },
   "outputs": [
    {
     "data": {
      "text/plain": [
       "'0.2.4'"
      ]
     },
     "execution_count": 4,
     "metadata": {},
     "output_type": "execute_result"
    }
   ],
   "source": [
    "wellapplication.__version__"
   ]
  },
  {
   "cell_type": "markdown",
   "metadata": {},
   "source": [
    "# Import and Standardize Data"
   ]
  },
  {
   "cell_type": "code",
   "execution_count": 9,
   "metadata": {
    "collapsed": true
   },
   "outputs": [],
   "source": [
    "#rootname = \"/media/p/Transcend/PROJECTS/UMAR/Data/chem/\" #thumb on ubuntu\n",
    "rootname = \"E:\\\\PROJECTS\\\\UMAR\\\\Data\\\\chem\\\\\" #thumb on windows"
   ]
  },
  {
   "cell_type": "code",
   "execution_count": 10,
   "metadata": {
    "collapsed": false
   },
   "outputs": [],
   "source": [
    "WQPResultsFile = rootname + \"result.csv\"\n",
    "WQPStationFile = rootname + \"station.csv\"\n",
    "SDWISFile = rootname + \"SDWIS_Cache.txt\"\n",
    "AGStationsFile = rootname + \"AG_Stations_Cache.csv\"\n",
    "AGResultsFile = rootname + \"AG_byparam.csv\"\n",
    "UGSFile = rootname + \"UGS_Cache.txt\"\n",
    "STORLegStatFile = rootname + \"UT_Cache_sta_001.txt\"\n",
    "STORLegResFile = rootname + \"UT_Cache_res_001.txt\"\n",
    "STORParamFile = rootname + \"parameter.txt\""
   ]
  },
  {
   "cell_type": "code",
   "execution_count": 11,
   "metadata": {
    "collapsed": true
   },
   "outputs": [],
   "source": [
    "fielddata = rootname + \"FieldData.xlsx\"\n",
    "statelabresults0 = rootname + \"utgs1402.txt\"\n",
    "statelabresults1 = rootname + \"utgs1403.txt\"\n",
    "statelabresults2 = rootname + \"utgs1501.txt\"\n",
    "statelabstations = rootname + \"UtahStateLabStations.xlsx\""
   ]
  },
  {
   "cell_type": "code",
   "execution_count": 12,
   "metadata": {
    "collapsed": false,
    "scrolled": true
   },
   "outputs": [],
   "source": [
    "df = wc.WQP.WQPimportRes(WQPResultsFile)\n",
    "df = wc.WQP.WQPmassageResults(df)"
   ]
  },
  {
   "cell_type": "markdown",
   "metadata": {},
   "source": [
    "## WQP"
   ]
  },
  {
   "cell_type": "markdown",
   "metadata": {},
   "source": [
    "The following html addresses are REST-based queries to download WQP data from the <a href=\"http://www.waterqualitydata.us/portal/\">WQP portal</a>. If you click on them, they will produce zipped csv files that can be opened and processed with the code below. Originally, the code directly applied these links, but the files are large and take a lot of time to download."
   ]
  },
  {
   "cell_type": "markdown",
   "metadata": {},
   "source": [
    "Station data address:"
   ]
  },
  {
   "cell_type": "markdown",
   "metadata": {},
   "source": [
    "http://waterqualitydata.us/Station/search?statecode=US%3A49&countycode=US%3A49%3A005&sampleMedia=Water&characteristicType=Information%3BInorganics%2C+Major%2C+Metals%3BInorganics%2C+Major%2C+Non-metals%3BInorganics%2C+Minor%2C+Metals%3BInorganics%2C+Minor%2C+Non-metals%3BNot+Assigned%3BNutrient%3BPhysical%3BStable+Isotopes&mimeType=csv&zip=yes&sorted=no"
   ]
  },
  {
   "cell_type": "markdown",
   "metadata": {},
   "source": [
    "Result data address:"
   ]
  },
  {
   "cell_type": "markdown",
   "metadata": {},
   "source": [
    "\n",
    "http://waterqualitydata.us/Result/search?statecode=US%3A49&countycode=US%3A49%3A005&sampleMedia=Water&characteristicType=Information%3BInorganics%2C+Major%2C+Metals%3BInorganics%2C+Major%2C+Non-metals%3BInorganics%2C+Minor%2C+Metals%3BInorganics%2C+Minor%2C+Non-metals%3BNot+Assigned%3BNutrient%3BPhysical%3BStable+Isotopes&mimeType=csv&zip=yes&sorted=no"
   ]
  },
  {
   "cell_type": "markdown",
   "metadata": {},
   "source": [
    "### WQP Results"
   ]
  },
  {
   "cell_type": "markdown",
   "metadata": {},
   "source": [
    "Define data type of each field in the WQP database.  This allows for easy import of data."
   ]
  },
  {
   "cell_type": "code",
   "execution_count": 14,
   "metadata": {
    "collapsed": false
   },
   "outputs": [],
   "source": [
    "Rdtypes = {\"OrganizationIdentifier\":np.str_, \"OrganizationFormalName\":np.str_, \"ActivityIdentifier\":np.str_, \n",
    "           \"ActivityStartTime/Time\":np.str_,\n",
    "           \"ActivityTypeCode\":np.str_, \"ActivityMediaName\":np.str_, \"ActivityMediaSubdivisionName\":np.str_, \n",
    "           \"ActivityStartDate\":np.str_, \"ActivityStartTime/Time\":np.str_, \"ActivityStartTime/TimeZoneCode\":np.str_, \n",
    "           \"ActivityEndDate\":np.str_, \"ActivityEndTime/Time\":np.str_, \"ActivityEndTime/TimeZoneCode\":np.str_, \n",
    "           \"ActivityDepthHeightMeasure/MeasureValue\":np.float16, \"ActivityDepthHeightMeasure/MeasureUnitCode\":np.str_, \n",
    "           \"ActivityDepthAltitudeReferencePointText\":np.str_, \"ActivityTopDepthHeightMeasure/MeasureValue\":np.float16, \n",
    "           \"ActivityTopDepthHeightMeasure/MeasureUnitCode\":np.str_, \n",
    "           \"ActivityBottomDepthHeightMeasure/MeasureValue\":np.float16, \n",
    "           \"ActivityBottomDepthHeightMeasure/MeasureUnitCode\":np.str_, \n",
    "           \"ProjectIdentifier\":np.str_, \"ActivityConductingOrganizationText\":np.str_, \n",
    "           \"MonitoringLocationIdentifier\":np.str_, \"ActivityCommentText\":np.str_, \n",
    "           \"SampleAquifer\":np.str_, \"HydrologicCondition\":np.str_, \"HydrologicEvent\":np.str_, \n",
    "           \"SampleCollectionMethod/MethodIdentifier\":np.str_, \"SampleCollectionMethod/MethodIdentifierContext\":np.str_, \n",
    "           \"SampleCollectionMethod/MethodName\":np.str_, \"SampleCollectionEquipmentName\":np.str_, \n",
    "           \"ResultDetectionConditionText\":np.str_, \"CharacteristicName\":np.str_, \"ResultSampleFractionText\":np.str_, \n",
    "           \"ResultMeasureValue\":np.str_, \"ResultMeasure/MeasureUnitCode\":np.str_, \"MeasureQualifierCode\":np.str_, \n",
    "           \"ResultStatusIdentifier\":np.str_, \"StatisticalBaseCode\":np.str_, \"ResultValueTypeName\":np.str_, \n",
    "           \"ResultWeightBasisText\":np.str_, \"ResultTimeBasisText\":np.str_, \"ResultTemperatureBasisText\":np.str_, \n",
    "           \"ResultParticleSizeBasisText\":np.str_, \"PrecisionValue\":np.str_, \"ResultCommentText\":np.str_, \n",
    "           \"USGSPCode\":np.str_, \"ResultDepthHeightMeasure/MeasureValue\":np.float16, \n",
    "           \"ResultDepthHeightMeasure/MeasureUnitCode\":np.str_, \"ResultDepthAltitudeReferencePointText\":np.str_, \n",
    "           \"SubjectTaxonomicName\":np.str_, \"SampleTissueAnatomyName\":np.str_, \n",
    "           \"ResultAnalyticalMethod/MethodIdentifier\":np.str_, \"ResultAnalyticalMethod/MethodIdentifierContext\":np.str_, \n",
    "           \"ResultAnalyticalMethod/MethodName\":np.str_, \"MethodDescriptionText\":np.str_, \"LaboratoryName\":np.str_, \n",
    "           \"AnalysisStartDate\":np.str_, \"ResultLaboratoryCommentText\":np.str_, \n",
    "           \"DetectionQuantitationLimitTypeName\":np.str_, \"DetectionQuantitationLimitMeasure/MeasureValue\":np.str_, \n",
    "           \"DetectionQuantitationLimitMeasure/MeasureUnitCode\":np.str_, \"PreparationStartDate\":np.str_, \n",
    "           \"ProviderName\":np.str_} \n",
    "\n",
    "dt = [6,56,61]"
   ]
  },
  {
   "cell_type": "markdown",
   "metadata": {},
   "source": [
    "Read csv data into python."
   ]
  },
  {
   "cell_type": "code",
   "execution_count": 15,
   "metadata": {
    "collapsed": false
   },
   "outputs": [],
   "source": [
    "WQP = pd.read_csv(WQPResultsFile, dtype=Rdtypes, parse_dates=dt)"
   ]
  },
  {
   "cell_type": "markdown",
   "metadata": {},
   "source": [
    "Rename columns to match with other data later."
   ]
  },
  {
   "cell_type": "code",
   "execution_count": 16,
   "metadata": {
    "collapsed": true
   },
   "outputs": [],
   "source": [
    "ResFieldDict = {\"AnalysisStartDate\":\"AnalysisDate\", \"ResultAnalyticalMethod/MethodIdentifier\":\"AnalytMeth\", \n",
    "                \"ResultAnalyticalMethod/MethodName\":\"AnalytMethId\", \"ResultDetectionConditionText\":\"DetectCond\", \n",
    "                \"ResultLaboratoryCommentText\":\"LabComments\", \"LaboratoryName\":\"LabName\", \n",
    "                \"DetectionQuantitationLimitTypeName\":\"LimitType\", \"DetectionQuantitationLimitMeasure/MeasureValue\":\"MDL\", \n",
    "                \"DetectionQuantitationLimitMeasure/MeasureUnitCode\":\"MDLUnit\", \"MethodDescriptionText\":\"MethodDescript\", \n",
    "                \"OrganizationIdentifier\":\"OrgId\", \"OrganizationFormalName\":\"OrgName\", \"CharacteristicName\":\"Param\", \n",
    "                \"ProjectIdentifier\":\"ProjectId\", \"MeasureQualifierCode\":\"QualCode\", \"ResultCommentText\":\"ResultComment\", \n",
    "                \"ResultStatusIdentifier\":\"ResultStatus\", \"ResultMeasureValue\":\"ResultValue\", \n",
    "                \"ActivityCommentText\":\"SampComment\", \"ActivityDepthHeightMeasure/MeasureValue\":\"SampDepth\", \n",
    "                \"ActivityDepthAltitudeReferencePointText\":\"SampDepthRef\", \n",
    "                \"ActivityDepthHeightMeasure/MeasureUnitCode\":\"SampDepthU\", \"SampleCollectionEquipmentName\":\"SampEquip\", \n",
    "                \"ResultSampleFractionText\":\"SampFrac\", \"ActivityStartDate\":\"SampleDate\", \"ActivityIdentifier\":\"SampleId\", \n",
    "                \"ActivityStartTime/Time\":\"SampleTime\", \"ActivityMediaSubdivisionName\":\"SampMedia\", \n",
    "                \"SampleCollectionMethod/MethodIdentifier\":\"SampMeth\", \"SampleCollectionMethod/MethodName\":\"SampMethName\", \n",
    "                \"ActivityTypeCode\":\"SampType\", \"MonitoringLocationIdentifier\":\"StationId\", \n",
    "                \"ResultMeasure/MeasureUnitCode\":\"Unit\", \"USGSPCode\":\"USGSPCode\",\n",
    "                \"ActivityStartDate\":\"StartDate\",\"ActivityStartTime/Time\":\"StartTime\"} "
   ]
  },
  {
   "cell_type": "code",
   "execution_count": 17,
   "metadata": {
    "collapsed": false
   },
   "outputs": [],
   "source": [
    "WQP.rename(columns=ResFieldDict,inplace=True)"
   ]
  },
  {
   "cell_type": "markdown",
   "metadata": {},
   "source": [
    "Define unneeded columns that will be dropped to save memory."
   ]
  },
  {
   "cell_type": "code",
   "execution_count": 18,
   "metadata": {
    "collapsed": false
   },
   "outputs": [],
   "source": [
    "resdroplist = [\"ActivityBottomDepthHeightMeasure/MeasureUnitCode\", \"ActivityBottomDepthHeightMeasure/MeasureValue\", \n",
    "               \"ActivityConductingOrganizationText\", \"ActivityEndDate\", \"ActivityEndTime/Time\", \n",
    "               \"ActivityEndTime/TimeZoneCode\", \"ActivityMediaName\", \"ActivityStartTime/TimeZoneCode\", \n",
    "               \"ActivityTopDepthHeightMeasure/MeasureUnitCode\", \"ActivityTopDepthHeightMeasure/MeasureValue\", \n",
    "               \"HydrologicCondition\", \"HydrologicEvent\", \"PrecisionValue\", \"PreparationStartDate\", \"ProviderName\", \n",
    "               \"ResultAnalyticalMethod/MethodIdentifierContext\", \"ResultDepthAltitudeReferencePointText\", \n",
    "               \"ResultDepthHeightMeasure/MeasureUnitCode\", \"ResultDepthHeightMeasure/MeasureValue\", \n",
    "               \"ResultParticleSizeBasisText\", \"ResultTemperatureBasisText\", \n",
    "               \"ResultTimeBasisText\", \"ResultValueTypeName\", \"ResultWeightBasisText\", \"SampleAquifer\", \n",
    "               \"SampleCollectionMethod/MethodIdentifierContext\", \"SampleTissueAnatomyName\", \"StatisticalBaseCode\", \n",
    "               \"SubjectTaxonomicName\",\"StartTime\",\"StartDate\",\"StartTime\",\"StartDate\"] "
   ]
  },
  {
   "cell_type": "markdown",
   "metadata": {},
   "source": [
    "Define a function to fix funky dates found in the WQP database.  This includes impossible dates or dates with too many numbers."
   ]
  },
  {
   "cell_type": "code",
   "execution_count": 19,
   "metadata": {
    "collapsed": false
   },
   "outputs": [],
   "source": [
    "def datetimefix(x,format):\n",
    "    '''\n",
    "    This script cleans date-time errors\n",
    "    \n",
    "    input\n",
    "    x = date-time string\n",
    "    format = format of date-time string\n",
    "    \n",
    "    output \n",
    "    formatted datetime type\n",
    "    '''\n",
    "    d = str(x[0]).lstrip().rstrip()[0:10]\n",
    "    t = str(x[1]).lstrip().rstrip()[0:5].zfill(5)\n",
    "    try:\n",
    "        int(d[0:2])\n",
    "    except(ValueError,TypeError,NameError):\n",
    "        return np.nan\n",
    "    try:\n",
    "        int(t[0:2])\n",
    "        int(t[3:5])\n",
    "    except(ValueError,TypeError,NameError):\n",
    "        t = \"00:00\"\n",
    "   \n",
    "    if int(t[0:2])>23:\n",
    "        t = \"00:00\"\n",
    "    elif int(t[3:5])>59:\n",
    "        t = \"00:00\"\n",
    "    else:\n",
    "        t = t[0:2].zfill(2) + \":\" + t[3:5]\n",
    "    return datetime.datetime.strptime(d + \" \" + t, format)\n",
    "    "
   ]
  },
  {
   "cell_type": "code",
   "execution_count": 20,
   "metadata": {
    "collapsed": false
   },
   "outputs": [],
   "source": [
    "WQP[\"SampleDate\"] = WQP[[\"StartDate\",\"StartTime\"]].apply(lambda x: datetimefix(x,\"%Y-%m-%d %H:%M\"),1)"
   ]
  },
  {
   "cell_type": "markdown",
   "metadata": {},
   "source": [
    "Drop unwanted fields"
   ]
  },
  {
   "cell_type": "code",
   "execution_count": 21,
   "metadata": {
    "collapsed": false
   },
   "outputs": [],
   "source": [
    "WQP.drop(resdroplist,inplace=True,axis=1)"
   ]
  },
  {
   "cell_type": "markdown",
   "metadata": {},
   "source": [
    "Convert result values and the MDL values to numeric fields from string fields."
   ]
  },
  {
   "cell_type": "code",
   "execution_count": 22,
   "metadata": {
    "collapsed": false
   },
   "outputs": [
    {
     "name": "stderr",
     "output_type": "stream",
     "text": [
      "c:\\python27\\arcgis10.3\\lib\\site-packages\\ipykernel\\__main__.py:1: FutureWarning: convert_objects is deprecated.  Use the data-type specific converters pd.to_datetime, pd.to_timedelta and pd.to_numeric.\n",
      "  if __name__ == '__main__':\n",
      "c:\\python27\\arcgis10.3\\lib\\site-packages\\ipykernel\\__main__.py:2: FutureWarning: convert_objects is deprecated.  Use the data-type specific converters pd.to_datetime, pd.to_timedelta and pd.to_numeric.\n",
      "  from ipykernel import kernelapp as app\n"
     ]
    }
   ],
   "source": [
    "WQP['ResultValue'] = WQP['ResultValue'].convert_objects(convert_numeric=True)\n",
    "WQP['MDL'] = WQP['MDL'].convert_objects(convert_numeric=True)"
   ]
  },
  {
   "cell_type": "markdown",
   "metadata": {},
   "source": [
    "Remove station duplicates by removing the preceding 'WQX' found in the station id field."
   ]
  },
  {
   "cell_type": "code",
   "execution_count": 23,
   "metadata": {
    "collapsed": true
   },
   "outputs": [],
   "source": [
    "WQP['StationId'] = WQP['StationId'].str.replace('_WQX-','-')"
   ]
  },
  {
   "cell_type": "markdown",
   "metadata": {},
   "source": [
    "Standardize all ug/l data to mg/l by changing out the unit descriptor and dividing by 1000."
   ]
  },
  {
   "cell_type": "code",
   "execution_count": 24,
   "metadata": {
    "collapsed": false
   },
   "outputs": [],
   "source": [
    "#standardize all ug/l data to mg/l\n",
    "def unitfix(x):\n",
    "    z = str(x).lower()\n",
    "    if z == \"ug/l\":\n",
    "        return \"mg/l\"\n",
    "    elif z == \"mg/l\":\n",
    "        return \"mg/l\"\n",
    "    else:\n",
    "        return x\n",
    "\n",
    "WQP.Unit = WQP.Unit.apply(lambda x: str(x).rstrip(), 1)\n",
    "WQP.ResultValue = WQP[[\"ResultValue\",\"Unit\"]].apply(lambda x: x[0]/1000 if str(x[1]).lower()==\"ug/l\" else x[0], 1)\n",
    "WQP.Unit = WQP.Unit.apply(lambda x: unitfix(x),1)"
   ]
  },
  {
   "cell_type": "markdown",
   "metadata": {},
   "source": [
    "Normalize common nutrients so that they are all in the same type of units.  For example, sometimes nitrate is reported \"as nitrogen\" and sometimes it is reported \"as nitrate\".  The difference between the two types of reporting is a factor of 4.427!"
   ]
  },
  {
   "cell_type": "code",
   "execution_count": 25,
   "metadata": {
    "collapsed": false
   },
   "outputs": [],
   "source": [
    "def parnorm(x):\n",
    "    p = str(x[0]).rstrip().lstrip().lower()\n",
    "    u = str(x[2]).rstrip().lstrip().lower()\n",
    "    if p == 'nitrate' and u == 'mg/l as n':\n",
    "        return 'Nitrate', x[1]*4.427, 'mg/l'\n",
    "    elif p == 'nitrite' and u == 'mg/l as n':\n",
    "        return 'Nitrite', x[1]*3.285, 'mg/l'\n",
    "    elif p == 'ammonia-nitrogen' or p == 'ammonia-nitrogen as n' or p == 'ammonia and ammonium':\n",
    "        return 'Ammonium', x[1]*1.288, 'mg/l'\n",
    "    elif p == 'ammonium' and u == 'mg/l as n':\n",
    "        return 'Ammonium', x[1]*1.288, 'mg/l'\n",
    "    elif p == 'sulfate as s':\n",
    "        return 'Sulfate', x[1]*2.996, 'mg/l'\n",
    "    elif p in ('phosphate-phosphorus', 'phosphate-phosphorus as p','orthophosphate as p'):\n",
    "        return 'Phosphate', x[1]*3.066, 'mg/l'\n",
    "    elif (p == 'phosphate' or p == 'orthophosphate') and u == 'mg/l as p':\n",
    "        return 'Phosphate', x[1]*3.066, 'mg/l'\n",
    "    elif u == 'ug/l':\n",
    "        return x[0], x[1]/1000, 'mg/l'\n",
    "    else:\n",
    "        return x[0], x[1], str(x[2]).rstrip()\n",
    "\n",
    "WQP['Param'], WQP['ResultValue'], WQP['Unit'] = zip(*WQP[['Param','ResultValue','Unit']].apply(lambda x: parnorm(x),1))"
   ]
  },
  {
   "cell_type": "markdown",
   "metadata": {},
   "source": [
    "### WQP Stations"
   ]
  },
  {
   "cell_type": "markdown",
   "metadata": {},
   "source": [
    "Read in WQP station data."
   ]
  },
  {
   "cell_type": "code",
   "execution_count": 26,
   "metadata": {
    "collapsed": true
   },
   "outputs": [],
   "source": [
    "WQPStat = pd.read_csv(WQPStationFile)"
   ]
  },
  {
   "cell_type": "markdown",
   "metadata": {},
   "source": [
    "Rename and simplify station data column names for later compilation."
   ]
  },
  {
   "cell_type": "code",
   "execution_count": 27,
   "metadata": {
    "collapsed": true
   },
   "outputs": [],
   "source": [
    "StatFieldDict = {\"MonitoringLocationIdentifier\":\"StationId\", \"AquiferName\":\"Aquifer\", \"AquiferTypeName\":\"AquiferType\", \n",
    "             \"ConstructionDateText\":\"ConstDate\", \"CountyCode\":\"CountyCode\", \"WellDepthMeasure/MeasureValue\":\"Depth\", \n",
    "             \"WellDepthMeasure/MeasureUnitCode\":\"DepthUnit\", \"VerticalMeasure/MeasureValue\":\"Elev\", \n",
    "             \"VerticalAccuracyMeasure/MeasureValue\":\"ElevAcc\", \"VerticalAccuracyMeasure/MeasureUnitCode\":\"ElevAccUnit\", \n",
    "             \"VerticalCollectionMethodName\":\"ElevMeth\", \"VerticalCoordinateReferenceSystemDatumName\":\"ElevRef\", \n",
    "             \"VerticalMeasure/MeasureUnitCode\":\"ElevUnit\", \"FormationTypeText\":\"FmType\", \n",
    "             \"WellHoleDepthMeasure/MeasureValue\":\"HoleDepth\", \"WellHoleDepthMeasure/MeasureUnitCode\":\"HoleDUnit\", \n",
    "             \"HorizontalAccuracyMeasure/MeasureValue\":\"HorAcc\", \"HorizontalAccuracyMeasure/MeasureUnitCode\":\"HorAccUnit\", \n",
    "             \"HorizontalCollectionMethodName\":\"HorCollMeth\", \"HorizontalCoordinateReferenceSystemDatumName\":\"HorRef\", \n",
    "             \"HUCEightDigitCode\":\"HUC8\", \"LatitudeMeasure\":\"Lat_Y\", \"LongitudeMeasure\":\"Lon_X\", \n",
    "             \"OrganizationIdentifier\":\"OrgId\", \"OrganizationFormalName\":\"OrgName\", \"StateCode\":\"StateCode\", \n",
    "             \"MonitoringLocationDescriptionText\":\"StationComment\", \"MonitoringLocationName\":\"StationName\", \n",
    "             \"MonitoringLocationTypeName\":\"StationType\"} "
   ]
  },
  {
   "cell_type": "code",
   "execution_count": 28,
   "metadata": {
    "collapsed": true
   },
   "outputs": [],
   "source": [
    "WQPStat.rename(columns=StatFieldDict,inplace=True)"
   ]
  },
  {
   "cell_type": "markdown",
   "metadata": {},
   "source": [
    "Define the fields to drop to save memory."
   ]
  },
  {
   "cell_type": "code",
   "execution_count": 29,
   "metadata": {
    "collapsed": true
   },
   "outputs": [],
   "source": [
    "statdroplist = [\"ContributingDrainageAreaMeasure/MeasureUnitCode\", \"ContributingDrainageAreaMeasure/MeasureValue\", \n",
    "                \"DrainageAreaMeasure/MeasureUnitCode\", \"DrainageAreaMeasure/MeasureValue\", \"CountryCode\", \"ProviderName\", \n",
    "                \"SourceMapScaleNumeric\"]\n",
    "WQPStat.drop(statdroplist,inplace=True,axis=1)"
   ]
  },
  {
   "cell_type": "markdown",
   "metadata": {},
   "source": [
    "Make station types in the `StationType` field consistent for easier summary and compilation later on."
   ]
  },
  {
   "cell_type": "code",
   "execution_count": 30,
   "metadata": {
    "collapsed": true
   },
   "outputs": [],
   "source": [
    "TypeDict = {\"Stream: Canal\":\"Stream\", \"River/Stream\":\"Stream\", \n",
    "            \"Stream: Canal\":\"Stream\", \"Well: Test hole not completed as a well\":\"Well\"}\n",
    "WQPStat.StationType = WQPStat[\"StationType\"].apply(lambda x: TypeDict.get(x,x),1)\n",
    "WQPStat.Elev = WQPStat.Elev.apply(lambda x: np.nan if x==0.0 else round(x,1), 1)"
   ]
  },
  {
   "cell_type": "markdown",
   "metadata": {},
   "source": [
    "Remove preceding `WQX` from `StationId` field to remove duplicate station data created by legacy database."
   ]
  },
  {
   "cell_type": "code",
   "execution_count": 31,
   "metadata": {
    "collapsed": false
   },
   "outputs": [],
   "source": [
    "WQPStat['StationId'] = WQPStat['StationId'].str.replace('_WQX-','-')\n",
    "WQPStat.drop_duplicates(subset=['StationId'],inplace=True)"
   ]
  },
  {
   "cell_type": "markdown",
   "metadata": {},
   "source": [
    "## SDWIS"
   ]
  },
  {
   "cell_type": "markdown",
   "metadata": {},
   "source": [
    "SDWIS data were extracted from the Utah SDWIS database into ArcGIS 10.3.2 using the following SQL query.  NED 10m elevation and UTM coordinates were appended using ArcGIS."
   ]
  },
  {
   "cell_type": "markdown",
   "metadata": {},
   "source": [
    "```SQL\n",
    "SELECT UTV80.TINWSF.EXTERNAL_SYS_NUM AS \"FED_NM\",  UTV80.TINWSF.ST_ASGN_IDENT_CD AS \"ST_ID\",  UTV80.TINWSF.TYPE_CODE,  UTV80.TINWSYS.NAME AS \"SYS_NM\", UTV80.TINWSYS.D_PRIN_CNTY_SVD_NM AS \"COUNTY\", UTV80.TINWSF.NAME AS \"FAC_NM\",  UTV80.TINWSF.TINWSYS_IS_NUMBER AS \"SY_NBR\", UTV80.TINLOC.LATITUDE_MEASURE AS \"Y\",  UTV80.TINLOC.LONGITUDE_MEASURE AS \"X\",  UTV80.TINLOC.VERTICAL_MEASURE AS \"Z\", UTV80.TSASAMPL.COLLLECTION_END_DT AS \"DTE\", UTV80.TSAANLYT.NAME AS \"ANLY_NM\",  UTV80.TSASAR.CONCENTRATION_MSR AS \"CONC_MSR\", UTV80.TSASAR.TSASAR_IS_NUMBER AS \"ID_NUM\",  UTV80.TSASAR.UOM_CODE,   UTV80.TSASAR.DETECTN_LIMIT_NUM AS \"DET_LIM\", UTV80.TSASAR.DETECTN_LIM_UOM_CD AS \"DET_UOM\"  FROM  UTV80.TINWSF  INNER JOIN  UTV80.TINWSYS ON UTV80.TINWSF.TINWSYS_IS_NUMBER = UTV80.TINWSYS.TINWSYS_IS_NUMBER  INNER JOIN  UTV80.TINLOC ON UTV80.TINWSF.TINWSF_IS_NUMBER = UTV80.TINLOC.TINWSF_IS_NUMBER  INNER JOIN  UTV80.TSASMPPT ON UTV80.TINWSF.TINWSF_IS_NUMBER = UTV80.TSASMPPT.TINWSF0IS_NUMBER  INNER JOIN  UTV80.TSASAMPL ON UTV80.TSASMPPT.TSASMPPT_IS_NUMBER = UTV80.TSASAMPL.TSASMPPT_IS_NUMBER  INNER JOIN  UTV80.TSASAR ON UTV80.TSASAMPL.TSASAMPL_IS_NUMBER = UTV80.TSASAR.TSASAMPL_IS_NUMBER  INNER JOIN  UTV80.TSAANLYT ON UTV80.TSASAR.TSAANLYT_IS_NUMBER = UTV80.TSAANLYT.TSAANLYT_IS_NUMBER WHERE  (UTV80.TINWSYS.D_PRIN_CNTY_SVD_NM LIKE '%CACHE COUNTY%')   AND (UTV80.TSAANLYT.NAME LIKE '%NITRATE%' OR UTV80.TSAANLYT.NAME LIKE '%NITRITE%' OR UTV80.TSAANLYT.NAME LIKE '%AMMONI%' OR UTV80.TSAANLYT.NAME LIKE '%SULFATE%' OR UTV80.TSAANLYT.NAME LIKE '%TDS%' OR UTV80.TSAANLYT.NAME LIKE '%SODIUM%' OR UTV80.TSAANLYT.NAME LIKE '%FLUORIDE%' OR UTV80.TSAANLYT.NAME LIKE '%MAGNESIUM%' OR UTV80.TSAANLYT.NAME LIKE '%SELENIUM%' OR  UTV80.TSAANLYT.NAME LIKE '%CALCIUM%' OR UTV80.TSAANLYT.NAME LIKE '%CHLORIDE%' OR UTV80.TSAANLYT.NAME LIKE '%POTASSIUM%' OR UTV80.TSAANLYT.NAME LIKE '%SELENIUM%' OR UTV80.TSAANLYT.NAME LIKE '%SILICA%' OR UTV80.TSAANLYT.NAME LIKE '%IRON %' OR UTV80.TSAANLYT.NAME LIKE '%ALKA %' OR UTV80.TSAANLYT.NAME LIKE '%CONDUCTIVITY%' OR UTV80.TSAANLYT.NAME LIKE '%PH %' OR UTV80.TSAANLYT.NAME LIKE '%TEMP%' OR UTV80.TSAANLYT.NAME LIKE '%ARSENIC%' OR UTV80.TSAANLYT.NAME LIKE '%CARBON%' OR UTV80.TSAANLYT.NAME LIKE '%TRITIUM%' OR UTV80.TSAANLYT.NAME LIKE '%COPPER%' OR UTV80.TSAANLYT.NAME LIKE '%LEAD%' OR UTV80.TSAANLYT.NAME LIKE '%NITROGEN%' OR UTV80.TSAANLYT.NAME LIKE '%PHOSPHATE%' OR UTV80.TSAANLYT.NAME LIKE '%TDS%' OR UTV80.TSAANLYT.NAME LIKE '%ZINC%' OR UTV80.TSAANLYT.NAME LIKE '%IRON%' OR UTV80.TSAANLYT.NAME LIKE '%CHROMIUM%' ) ORDER BY UTV80.TINWSF.ST_ASGN_IDENT_CD\n",
    "```"
   ]
  },
  {
   "cell_type": "markdown",
   "metadata": {},
   "source": [
    "```SQL\n",
    "SELECT UTV80.TINWSF.EXTERNAL_SYS_NUM AS \"FED_NM\",  UTV80.TINWSF.ST_ASGN_IDENT_CD AS \"ST_ID\",  UTV80.TINWSF.TYPE_CODE,  UTV80.TINWSYS.NAME AS \"SYS_NM\", UTV80.TINWSYS.D_PRIN_CNTY_SVD_NM AS \"COUNTY\", UTV80.TINWSF.NAME AS \"FAC_NM\",  UTV80.TINWSF.TINWSYS_IS_NUMBER AS \"SY_NBR\", UTV80.TINLOC.LATITUDE_MEASURE AS \"Y\",  UTV80.TINLOC.LONGITUDE_MEASURE AS \"X\",  UTV80.TINLOC.VERTICAL_MEASURE AS \"Z\", UTV80.TSASAMPL.COLLLECTION_END_DT AS \"DTE\", UTV80.TSAANLYT.NAME AS \"ANLY_NM\",  UTV80.TSASAR.CONCENTRATION_MSR AS \"CONC_MSR\", UTV80.TSASAR.TSASAR_IS_NUMBER AS \"ID_NUM\",  UTV80.TSASAR.UOM_CODE,   UTV80.TSASAR.DETECTN_LIMIT_NUM AS \"DET_LIM\", UTV80.TSASAR.DETECTN_LIM_UOM_CD AS \"DET_UOM\"  FROM  UTV80.TINWSF  INNER JOIN  UTV80.TINWSYS ON UTV80.TINWSF.TINWSYS_IS_NUMBER = UTV80.TINWSYS.TINWSYS_IS_NUMBER  INNER JOIN  UTV80.TINLOC ON UTV80.TINWSF.TINWSF_IS_NUMBER = UTV80.TINLOC.TINWSF_IS_NUMBER  INNER JOIN  UTV80.TSASMPPT ON UTV80.TINWSF.TINWSF_IS_NUMBER = UTV80.TSASMPPT.TINWSF0IS_NUMBER  INNER JOIN  UTV80.TSASAMPL ON UTV80.TSASMPPT.TSASMPPT_IS_NUMBER = UTV80.TSASAMPL.TSASMPPT_IS_NUMBER  INNER JOIN  UTV80.TSASAR ON UTV80.TSASAMPL.TSASAMPL_IS_NUMBER = UTV80.TSASAR.TSASAMPL_IS_NUMBER  INNER JOIN  UTV80.TSAANLYT ON UTV80.TSASAR.TSAANLYT_IS_NUMBER = UTV80.TSAANLYT.TSAANLYT_IS_NUMBER WHERE  UTV80.TINWSYS.D_PRIN_CNTY_SVD_NM LIKE '%CACHE COUNTY%' AND (UTV80.TINWSYS.NAME IN('%PROVID%','%MILL%','%LOG%','%NIB%',   ORDER BY UTV80.TINWSF.ST_ASGN_IDENT_CD\n",
    "```"
   ]
  },
  {
   "cell_type": "markdown",
   "metadata": {},
   "source": [
    "Read in the queried SDWIS data and make a `StationId` and `StationName` field.  Make field names consistent with those applied to WQP data above so that compilation is easier later."
   ]
  },
  {
   "cell_type": "code",
   "execution_count": 32,
   "metadata": {
    "collapsed": false
   },
   "outputs": [],
   "source": [
    "SDWIS = pd.read_csv(SDWISFile)\n",
    "\n",
    "def sampid(x):\n",
    "    return \"SDWIS\" + str(x[0]) + str(x[1]) + str(x[2])[:-7]\n",
    "\n",
    "def statid(x):\n",
    "    return \"SDWIS\" + str(x[0]) + str(x[1]) \n",
    "\n",
    "def statnm(x):\n",
    "    return str(str(x[0]) + \" \" + str(x[1])).title()\n",
    "\n",
    "SDWIS[\"StationId\"] = SDWIS[[\"FED_NM\",\"ST_ID\"]].apply(lambda x: statid(x),1)\n",
    "SDWIS[\"StationName\"] = SDWIS[[\"SYS_NM\",\"FAC_NM\"]].apply(lambda x: statnm(x),1)\n",
    "SDWIS[\"SampleId\"] = SDWIS[[\"FED_NM\",\"ST_ID\",\"DTE\"]].apply(lambda x: sampid(x),1)\n",
    "SDWIS[\"OrgId\"] = \"UDDW\"\n",
    "SDWIS[\"OrgName\"] = \"Utah Division of Drinking Water\"\n",
    "SDWIS[\"Elev\"] = SDWIS[\"Z\"].apply(lambda x: round(x*3.2808,1),1)\n",
    "SDWIS[\"Unit\"] = SDWIS[\"UOM_CODE\"].apply(lambda x: str(x).lower(),1)\n",
    "SDWIS[\"MDLUnit\"] = SDWIS[\"DET_UOM\"].apply(lambda x: str(x).lower(),1)\n",
    "SDWIS[\"Param\"] = SDWIS[\"ANLY_NM\"].apply(lambda x: str(x).title().rstrip(),1)"
   ]
  },
  {
   "cell_type": "code",
   "execution_count": 33,
   "metadata": {
    "collapsed": false
   },
   "outputs": [],
   "source": [
    "SDWISFields ={\"DTE\":\"SampleDate\", \"TYPE_CODE\":\"StationType\",\n",
    "              \"CONC_MSR\":\"ResultValue\", \"DET_LIM\":\"MDL\",\n",
    "              \"Y\":\"Lat_Y\", \"X\":\"Lon_X\"}  \n",
    "SDWIS.rename(columns=SDWISFields,inplace=True)"
   ]
  },
  {
   "cell_type": "code",
   "execution_count": 34,
   "metadata": {
    "collapsed": false
   },
   "outputs": [],
   "source": [
    "def datetimefixSDWIS(x,format):\n",
    "    d = str(x).lstrip().rstrip()\n",
    "    try:\n",
    "        return datetime.datetime.strptime(d, \"%m/%d/%Y %H:%M:%S\")\n",
    "    except(ValueError):\n",
    "        return datetime.datetime.strptime(d, \"%Y-%m-%d %H:%M:%S\")\n",
    "\n",
    "SDWIS[\"SampleDate\"] = SDWIS[\"SampleDate\"].apply(lambda x: datetimefixSDWIS(x,\"%m/%d/%Y %H:%M:%S\"),1)"
   ]
  },
  {
   "cell_type": "markdown",
   "metadata": {},
   "source": [
    "Normalize units and nutrient data so that they are consistent with the WQP data. This includes standardizing ug/l to mg/l"
   ]
  },
  {
   "cell_type": "code",
   "execution_count": 35,
   "metadata": {
    "collapsed": false
   },
   "outputs": [
    {
     "name": "stdout",
     "output_type": "stream",
     "text": [
      "['Alkalinity, Carbonate', 'Arsenic', 'Bicarbonate As Hco3', 'Calcium', 'Carbon Dioxide', 'Carbon Tetrachloride', 'Carbon, Total', 'Chloride', 'Chromium', 'Chromium, Hex', 'Conductivity @ 25 C Umhos/Cm', 'Copper, Free', 'Fluoride', 'Hardness, Carbonate', 'Hydroxide As Calcium Carbonate', 'Iron', 'Iron, Dissolved', 'Lead', 'Magnesium', 'Nitrate', 'Nitrate-Nitrite', 'Nitrite', 'Nitrogen-Ammonia As (N)', 'Orthophosphate', 'Ph', 'Phosphate, Total', 'Potassium', 'Selenium', 'Silica', 'Sodium', 'Sulfate', 'Tds', 'Tritium', 'Vinyl Chloride', 'Zinc']\n"
     ]
    }
   ],
   "source": [
    "print sorted(list(SDWIS.Param.unique()))\n",
    "\n",
    "def parnormSDWIS(x):\n",
    "    p = str(x[0]).rstrip().lstrip().lower()\n",
    "    u = str(x[2]).rstrip().lstrip().lower()\n",
    "    if p == 'nitrate':\n",
    "        return 'Nitrate', x[1]*4.427, 'mg/l'\n",
    "    elif p == 'nitrite':\n",
    "        return 'Nitrite', x[1]*3.285, 'mg/l'\n",
    "    elif p == 'nitrogen-ammonia as (n)':\n",
    "        return 'Ammonium', x[1]*1.288, 'mg/l'\n",
    "    elif u == 'ug/l':\n",
    "        return x[0], x[1]/1000, 'mg/l'\n",
    "    else:\n",
    "        return x[0], x[1], str(x[2]).rstrip()\n",
    "    \n",
    "SDWIS['Param'], SDWIS['ResultValue'], SDWIS['Unit'] = zip(*SDWIS[['Param','ResultValue','Unit']].apply(lambda x: parnormSDWIS(x),1))"
   ]
  },
  {
   "cell_type": "markdown",
   "metadata": {},
   "source": [
    "Drop unneeded SDWIS fields to save memory and reduce confusion."
   ]
  },
  {
   "cell_type": "code",
   "execution_count": 36,
   "metadata": {
    "collapsed": false
   },
   "outputs": [],
   "source": [
    "SDWIS.drop([\"FED_NM\", \"DET_UOM\", \"UOM_CODE\",\"ANLY_NM\", \"FAC_NM\", \"ST_ID\", \n",
    "            \"SYS_NM\", \"COUNTY\", \"SY_NBR\", \"Z\", \"ID_NUM\"],inplace=True, axis=1)"
   ]
  },
  {
   "cell_type": "markdown",
   "metadata": {},
   "source": [
    "Rename chemical parameters in the SDWIS `Param` field to match those of the WQP data."
   ]
  },
  {
   "cell_type": "code",
   "execution_count": 37,
   "metadata": {
    "collapsed": false
   },
   "outputs": [],
   "source": [
    "SDWISPmatch = {\"Ph\":\"pH\",\"Tds\":\"TDS\",\"Nitrogen-Ammonia As (N)\":\"Nitrogen-Ammonia as (N)\",\n",
    "              \"Hydroxide As Calcium Carbonate\":\"Hydroxide as Calcium Carbonate\",\n",
    "               \"Bicarbonate As Hco3\":\"Bicarbonate as HCO3\"}\n",
    "SDWIS[\"Param\"] = SDWIS[\"Param\"].apply(lambda x: SDWISPmatch.get(x,x))\n",
    "SDWIS[\"StationName\"] = SDWIS[\"StationName\"].apply(lambda x: x.replace(\"Wtp\",\"WTP\"))\n",
    "\n",
    "SDWIS[\"ResultValue\"] = SDWIS[[\"ResultValue\",\"Unit\"]].apply(lambda x: x[0]/1000 if x[1]==\"ug/L\" else x[0], 1)"
   ]
  },
  {
   "cell_type": "markdown",
   "metadata": {},
   "source": [
    "Make station types consistent with the WQP data."
   ]
  },
  {
   "cell_type": "code",
   "execution_count": 38,
   "metadata": {
    "collapsed": false
   },
   "outputs": [],
   "source": [
    "SDWISType = {\"SP\":\"Spring\",\"WL\":\"Well\",\"TP\":\"Facility Other\",\"IN\":\"Stream\",\"CC\":\"Connection\",\"WH\":\"Well\"}\n",
    "SDWIS.StationType = SDWIS.StationType.apply(lambda x: SDWISType.get(x,x),1)"
   ]
  },
  {
   "cell_type": "markdown",
   "metadata": {},
   "source": [
    "SDWIS facility type code (FacTypeCode): CC, Consecutive_connection;\n",
    "CH, Common_headers; CS, Cistern; CW, Clear_well;\n",
    "DS, Distribution_system_zone; IG, Infiltration_gallery; IN,\n",
    "Intake; NP, Non-piped; OT, Other; PC, Pressure_control;\n",
    "PF, Pump_facility; RC, Roof_catchment; RS, Reservoir; SI,\n",
    "Surface_impoundment; SP, Spring; SS, Sampling_station; ST,\n",
    "Storage; TM, Transmission_main; TP, Treatment_plant; WH,\n",
    "Well_head; WL, Well."
   ]
  },
  {
   "cell_type": "markdown",
   "metadata": {},
   "source": [
    "Create a SDWIS stations file from the SDWIS data. Drop unneeded fields from the station file. Remove duplication stations."
   ]
  },
  {
   "cell_type": "code",
   "execution_count": 39,
   "metadata": {
    "collapsed": true
   },
   "outputs": [],
   "source": [
    "SDWISSta = SDWIS.drop([u'SampleDate', u'ResultValue', u'MDL', u'SampleId', u'Unit', u'MDLUnit', u'Param'], axis=1)\n",
    "SDWISSta.drop_duplicates(inplace=True)"
   ]
  },
  {
   "cell_type": "markdown",
   "metadata": {},
   "source": [
    "Create SDWIS results file from the SDWIS data. Drop unneeded fields from the results file.  These are fields that are in the station field and apply to stations."
   ]
  },
  {
   "cell_type": "code",
   "execution_count": 40,
   "metadata": {
    "collapsed": false
   },
   "outputs": [],
   "source": [
    "SDWISRes = SDWIS.drop([u'StationType', u'Lat_Y', u'Lon_X', u'StationName', u'Elev'], axis=1)"
   ]
  },
  {
   "cell_type": "markdown",
   "metadata": {},
   "source": [
    "Create a sample media field and populate it with the value `Groundwater`."
   ]
  },
  {
   "cell_type": "code",
   "execution_count": 41,
   "metadata": {
    "collapsed": false
   },
   "outputs": [],
   "source": [
    "SDWISRes[\"SampMedia\"] = \"Groundwater\""
   ]
  },
  {
   "cell_type": "markdown",
   "metadata": {},
   "source": [
    "## UDAF"
   ]
  },
  {
   "cell_type": "markdown",
   "metadata": {},
   "source": [
    "### UDAF Stations "
   ]
  },
  {
   "cell_type": "markdown",
   "metadata": {},
   "source": [
    "Import Utah Department of Food and Agriculture data from the data file. These data were compiled from <a href=http://ag.utah.gov/conservation-environmental/ground-water.html>reports available of the UDAF website</a>. Once the data are imported, rename the fields to match the above SDWIS and WQP data."
   ]
  },
  {
   "cell_type": "code",
   "execution_count": 42,
   "metadata": {
    "collapsed": true
   },
   "outputs": [],
   "source": [
    "AGStat = pd.read_csv(AGStationsFile)\n",
    "AGStat[\"StationType\"] = \"Well\"\n",
    "AGStatFields = {\"SITEID\":\"StationId\",\"FINISHEDDE\":\"Depth\",\"POINT_Y\":\"Lat_Y\",\n",
    "                \"POINT_X\":\"Lon_X\",\"ELEV_FT\":\"Elev\",\"ACCURACY\":\"HorAcc\"}\n",
    "AGStat.rename(columns=AGStatFields,inplace=True)"
   ]
  },
  {
   "cell_type": "markdown",
   "metadata": {},
   "source": [
    "Drop unneeded fields to save memory."
   ]
  },
  {
   "cell_type": "code",
   "execution_count": 43,
   "metadata": {
    "collapsed": true
   },
   "outputs": [],
   "source": [
    "AGStat.drop([\"OBJECTID_1\", \"OBJECTID\", \"PUB_YR\", \"SAMPLENO\", \"WLDATE\", \"WLDEPTH\"], inplace=True, axis=1)"
   ]
  },
  {
   "cell_type": "markdown",
   "metadata": {},
   "source": [
    "Add `UDAF` prefix to the station identification field (`StationId`) to make station ids unique."
   ]
  },
  {
   "cell_type": "code",
   "execution_count": 44,
   "metadata": {
    "collapsed": false
   },
   "outputs": [],
   "source": [
    "AGStat.StationId = AGStat.StationId.apply(lambda x: \"UDAF-\"+str(int(x)).zfill(5),1)"
   ]
  },
  {
   "cell_type": "markdown",
   "metadata": {},
   "source": [
    "### UDAF Results "
   ]
  },
  {
   "cell_type": "markdown",
   "metadata": {},
   "source": [
    "Import data Utah Department of Food and Agriculture data from the data file. These data were compiled from reports available of the UDAF website. Once the data are imported, rename the fields to match the above SDWIS and WQP data."
   ]
  },
  {
   "cell_type": "code",
   "execution_count": 45,
   "metadata": {
    "collapsed": false
   },
   "outputs": [],
   "source": [
    "names = [\"SampleId\",\"ResultValue\", \"ParAbb\", \"Unit\", \"Param\", \"MDL\",\"BelowLim\",\"TestNo\",\n",
    "         \"StationId\",\"SampleDate\",\"SampYear\"]\n",
    "AGRes = pd.read_csv(AGResultsFile, names=names, index_col=10)"
   ]
  },
  {
   "cell_type": "markdown",
   "metadata": {},
   "source": [
    "Create a detection condition field and populate it based on values in the imported data."
   ]
  },
  {
   "cell_type": "code",
   "execution_count": 46,
   "metadata": {
    "collapsed": true
   },
   "outputs": [],
   "source": [
    "AGRes[\"DetectCond\"] = AGRes[\"BelowLim\"].apply(lambda x: 'Not Detected' if x=='Y' else np.nan,1)"
   ]
  },
  {
   "cell_type": "markdown",
   "metadata": {},
   "source": [
    "Fill null result values with zeros when data are reported as below detection limit."
   ]
  },
  {
   "cell_type": "code",
   "execution_count": 47,
   "metadata": {
    "collapsed": false
   },
   "outputs": [],
   "source": [
    "AGRes.ResultValue = AGRes[[\"BelowLim\",\"ResultValue\"]].apply(lambda x: np.nan if x[0]==\"Y\" or x[1] == 0.0 else x[1], 1)"
   ]
  },
  {
   "cell_type": "markdown",
   "metadata": {},
   "source": [
    "Make data consistent by cleaning up parameter descriptions."
   ]
  },
  {
   "cell_type": "code",
   "execution_count": 48,
   "metadata": {
    "collapsed": false
   },
   "outputs": [],
   "source": [
    "def parnormAG(x):\n",
    "    p = str(x[0]).rstrip().lstrip().lower()\n",
    "    u = str(x[2]).rstrip().lstrip().lower()\n",
    "    if p == 'nitrate-n':\n",
    "        return 'Nitrate', x[1]*4.427, 'mg/l'\n",
    "    elif u == 'ug/l':\n",
    "        return x[0], x[1]/1000, 'mg/l'\n",
    "    else:\n",
    "        return x[0], x[1], str(x[2]).rstrip()\n",
    "    \n",
    "AGRes['Param'], AGRes['ResultValue'], AGRes['Unit'] = zip(*AGRes[['Param','ResultValue','Unit']].apply(lambda x: parnormAG(x),1))"
   ]
  },
  {
   "cell_type": "code",
   "execution_count": 49,
   "metadata": {
    "collapsed": false
   },
   "outputs": [
    {
     "data": {
      "text/plain": [
       "array(['mg/L', 'mg/l', 'meq/L', '\\xb0C', '--', 'mS/cm', 'nan'], dtype=object)"
      ]
     },
     "execution_count": 49,
     "metadata": {},
     "output_type": "execute_result"
    }
   ],
   "source": [
    "AGRes.Unit.unique()"
   ]
  },
  {
   "cell_type": "code",
   "execution_count": 50,
   "metadata": {
    "collapsed": false
   },
   "outputs": [],
   "source": [
    "AGRes.dropna(subset=[\"StationId\",\"ResultValue\"], how=\"any\", inplace=True)"
   ]
  },
  {
   "cell_type": "code",
   "execution_count": 51,
   "metadata": {
    "collapsed": false
   },
   "outputs": [],
   "source": [
    "AGRes.StationId = AGRes.StationId.apply(lambda x: \"UDAF-\"+str(int(x)).zfill(5),1)"
   ]
  },
  {
   "cell_type": "code",
   "execution_count": 52,
   "metadata": {
    "collapsed": false
   },
   "outputs": [],
   "source": [
    "AGStAv = list(AGStat.StationId.values)\n",
    "AGRes = AGRes[AGRes.StationId.isin(AGStAv)]\n",
    "AGRes[\"SampMedia\"] = \"Groundwater\""
   ]
  },
  {
   "cell_type": "code",
   "execution_count": 53,
   "metadata": {
    "collapsed": true
   },
   "outputs": [],
   "source": [
    "AGStat['OrgId']='UDAF'"
   ]
  },
  {
   "cell_type": "markdown",
   "metadata": {},
   "source": [
    "## STORET Legacy"
   ]
  },
  {
   "cell_type": "markdown",
   "metadata": {},
   "source": [
    "Legacy EPA data are kept in the <a href=ftp://ftp.epa.gov/storet/exports/>STORET Legacy Database</a>."
   ]
  },
  {
   "cell_type": "code",
   "execution_count": 54,
   "metadata": {
    "collapsed": false
   },
   "outputs": [],
   "source": [
    "STORLegSta = pd.read_table(STORLegStatFile, skiprows=[1])\n",
    "STORLegRes = pd.read_table(STORLegResFile, skiprows=[1])\n",
    "STORParam = pd.read_table(STORParamFile)"
   ]
  },
  {
   "cell_type": "markdown",
   "metadata": {},
   "source": [
    "Parse choppy text data from the STORET Legacy database."
   ]
  },
  {
   "cell_type": "code",
   "execution_count": 55,
   "metadata": {
    "collapsed": false
   },
   "outputs": [],
   "source": [
    "rescol = list(STORLegRes.columns)\n",
    "j = []\n",
    "for i in rescol:\n",
    "    j.append(i.rstrip(\"\\t\").rstrip().lstrip().replace(\" \",\"\"))\n",
    "resdict = dict(zip(rescol,j))\n",
    "STORLegRes.rename(columns=resdict,inplace=True)\n",
    "\n",
    "statcol = list(STORLegSta.columns)\n",
    "k = []\n",
    "for i in statcol:\n",
    "    k.append(i.rstrip(\"\\t\").rstrip().lstrip().replace(\" \",\"\"))\n",
    "statdict = dict(zip(statcol,k))\n",
    "STORLegSta.rename(columns=statdict,inplace=True)"
   ]
  },
  {
   "cell_type": "code",
   "execution_count": 56,
   "metadata": {
    "collapsed": false
   },
   "outputs": [],
   "source": [
    "STORLegRes[\"SampleDate\"] = STORLegRes[[\"StartDate\",\"StartTime\"]].apply(lambda x: datetimefix(x,\"%Y-%m-%d %H:%M\"),1)\n",
    "STORLegRes = STORLegRes[STORLegRes.SecondaryActivityCategory.isin(['Water',np.nan])]\n",
    "STORParamDict = dict(zip(STORParam['Parameter No.'].values, STORParam['Full Name'].values))\n",
    "STORLegRes.Param = STORLegRes.Param.apply(lambda x: STORParamDict.get(x),1) "
   ]
  },
  {
   "cell_type": "code",
   "execution_count": 57,
   "metadata": {
    "collapsed": true
   },
   "outputs": [],
   "source": [
    "STORResField = {\"Agency\":\"OrgId\",\"AgencyName\":\"OrgName\",\"Station\":\"StationId\",\"SampleDepth\":\"SampDepth\"}\n",
    "STORLegRes.rename(columns=STORResField,inplace=True)"
   ]
  },
  {
   "cell_type": "code",
   "execution_count": 58,
   "metadata": {
    "collapsed": false
   },
   "outputs": [],
   "source": [
    "STORLegRes.drop([\"StateName\", \"CountyName\", \"HUC\", \"EndDate\", \"UMK\", \"CS\", \"ReplicateNumber\",\n",
    "                 \"COMPOSITE_GRAB_NUMBER\",\"CM\",\"PrimaryActivityCategory\",\"PrimaryActivityCategory\",\n",
    "                 \"SecondaryActivityCategory\",\n",
    "                 \"EndTime\", \"StartDate\", \"StartTime\", \"Latitude\", \"Longitude\"],inplace=True,axis=1)"
   ]
  },
  {
   "cell_type": "code",
   "execution_count": 59,
   "metadata": {
    "collapsed": false
   },
   "outputs": [],
   "source": [
    "STORLegRes[\"SampleId\"] = STORLegRes[[\"StationId\",\"SampleDate\"]].apply(lambda x: str(x[0]) + \"-\" + str(x[1]),1 )\n",
    "STORLegRes[\"StationId\"] = STORLegRes[\"StationId\"].apply(lambda x: \"EPALeg-\" + x, 1)"
   ]
  },
  {
   "cell_type": "code",
   "execution_count": 60,
   "metadata": {
    "collapsed": false
   },
   "outputs": [],
   "source": [
    "STORLegRes.Param = STORLegRes.Param.apply(lambda x: str(x).title(),1)"
   ]
  },
  {
   "cell_type": "code",
   "execution_count": 61,
   "metadata": {
    "collapsed": false
   },
   "outputs": [
    {
     "data": {
      "text/plain": [
       "Index([u'OrgId', u'StationId', u'StationName', u'OrgName', u'ResultValue',\n",
       "       u'R', u'Param', u'SampDepth', u'SampleDate', u'SampleId'],\n",
       "      dtype='object')"
      ]
     },
     "execution_count": 61,
     "metadata": {},
     "output_type": "execute_result"
    }
   ],
   "source": [
    "STORLegRes.columns"
   ]
  },
  {
   "cell_type": "code",
   "execution_count": 62,
   "metadata": {
    "collapsed": false
   },
   "outputs": [],
   "source": [
    "def parnormSTOR(x):\n",
    "    p = str(x[0]).rstrip().lstrip().lower()\n",
    "    if p ==  'nitrate nitrogen, total (mg/L as n)' or p== 'nitrate nitrogen, total':\n",
    "        return 'Nitrate', x[1]*4.427, 'mg/l'\n",
    "    elif p == 'nitrite nitrogen, total (mg/l as n)':\n",
    "        return 'Nitrite', x[1]*3.285, 'mg/l'\n",
    "    elif p == 'nitrogen, ammonia, total (mg/l as n)':\n",
    "        return 'Ammonium', x[1]*1.288, 'mg/l'\n",
    "    elif p == 'sulfate (as s) whole     water, mg/L':\n",
    "        return 'Sulfate', x[1]*2.996, 'mg/l'\n",
    "    elif p in ('phosphorus, dissolved orthophosphate (mg/l as p)'):\n",
    "        return 'Phosphate', x[1]*3.066, 'mg/l'\n",
    "    else:\n",
    "        return x[0], x[1], np.nan\n",
    "\n",
    "STORLegRes['Param'], STORLegRes['ResultValue'], STORLegRes['Unit'] = zip(*STORLegRes[['Param','ResultValue']].apply(lambda x: parnormSTOR(x),1))"
   ]
  },
  {
   "cell_type": "code",
   "execution_count": 63,
   "metadata": {
    "collapsed": false
   },
   "outputs": [],
   "source": [
    "STORKeepers = ['Temperature, Water (Degrees Centigrade)',\n",
    "               'Temperature, Water (Degrees Fahrenheit)', \n",
    "               'Specific Conductance,Field (Umhos/Cm @ 25C)',\n",
    "               'Specific Conductance (Umhos/Cm @ 25C)', \n",
    "               'Sulfate (As S) Whole     Water, Mg/L',\n",
    "               'Oxygen, Dissolved                             Mg/L',\n",
    "               'Oxygen, Dissolved, Percent Of Saturation         %',\n",
    "               'Bod, 5 Day, 20 Deg C                          Mg/L',\n",
    "               'Ph (Standard Units)', 'Ph, Lab, Standard Units                         Su',\n",
    "               'Carbon Dioxide (Mg/L As Co2)', 'Alkalinity,Total,Low Level Gran Analysis     Ueq/L',\n",
    "               'Alkalinity, Total (Mg/L As Caco3)', 'Bicarbonate Ion (Mg/L As Hco3)', 'Carbonate Ion (Mg/L As Co3)',\n",
    "               'Nitrogen, Ammonia, Total (Mg/L As N)', 'Ammonia, Unionzed                      (Mg/L As N)',\n",
    "               'Nitrite Nitrogen, Total (Mg/L As N)', 'Ammonia, Unionized (Calc Fr Temp-Ph-Nh4)  (Mg/L)',\n",
    "               'Nitrate Nitrogen, Total (Mg/L As N)', 'Nitrogen, Kjeldahl, Total, (Mg/L As N)',\n",
    "               'Nitrite Plus Nitrate, Total 1 Det. (Mg/L As N)', 'Phosphorus (P), Water, Total Recoverable      Ug/L',\n",
    "               'Phosphorus, Total (Mg/L As P)', 'Phosphorus, Dissolved Orthophosphate (Mg/L As P)',\n",
    "               'Carbon, Dissolved Organic (Mg/L As C)',\n",
    "               'Carbon, Dissolved Inorganic (Mg/L As C)',\n",
    "               'Hardness, Total (Mg/L As Caco3)', 'Calcium (Mg/L As Caco3)',\n",
    "               'Calcium, Dissolved (Mg/L As Ca)',\n",
    "               'Magnesium, Dissolved (Mg/L As Mg)',\n",
    "               'Sodium, Dissolved (Mg/L As Na)',\n",
    "               'Potassium, Dissolved (Mg/L As K)',\n",
    "               'Chloride, Dissolved In Water           Mg/L',\n",
    "               'Sulfate, Dissolved (Mg/L As So4)',\n",
    "               'Fluoride, Dissolved (Mg/L As F)',\n",
    "               'Silica, Dissolved (Mg/L As Si02)',\n",
    "               'Arsenic, Dissolved  (Ug/L As As)', 'Arsenic, Total (Ug/L As As)',\n",
    "               'Barium, Dissolved (Ug/L As Ba)', 'Barium, Total (Ug/L As Ba)',\n",
    "               'Beryllium, Total (Ug/L As Be)', 'Boron, Dissolved (Ug/L As B)',\n",
    "               'Boron, Total (Ug/L As B)', 'Cadmium, Dissolved (Ug/L As Cd)',\n",
    "               'Cadmium, Total (Ug/L As Cd)', 'Chromium, Dissolved (Ug/L As Cr)',\n",
    "               'Chromium, Hexavalent (Ug/L As Cr)', 'Chromium, Total (Ug/L As Cr)',\n",
    "               'Copper, Dissolved (Ug/L As Cu)', 'Copper, Total (Ug/L As Cu)',\n",
    "               'Iron, Dissolved (Ug/L As Fe)', 'Lead, Dissolved (Ug/L As Pb)',\n",
    "               'Lead, Total (Ug/L As Pb)', 'Manganese, Total (Ug/L As Mn)',\n",
    "               'Manganese, Dissolved (Ug/L As Mn)', 'Thallium, Total (Ug/L As Tl)',\n",
    "               'Nickel, Dissolved (Ug/L As Ni)', 'Nickel, Total (Ug/L As Ni)',\n",
    "               'Silver, Dissolved (Ug/L As Ag)', 'Silver, Total (Ug/L As Ag)',\n",
    "               'Zinc, Dissolved (Ug/L As Zn)', 'Zinc, Total (Ug/L As Zn)',\n",
    "               'Antimony, Total (Ug/L As Sb)', 'Aluminum, Total (Ug/L As Al)',\n",
    "               'Selenium, Dissolved (Ug/L As Se)', 'Selenium, Total (Ug/L As Se)',\n",
    "               'Tritium (1H3),Total (Picocuries/Liter)',\n",
    "               'Hardness, Ca Mg Calculated (Mg/L As Caco3)',\n",
    "               'Chlorine, Total Residual (Mg/L)',\n",
    "               'Residue,Total Filtrable (Dried At 180C),Mg/L',\n",
    "               'Nitrate Nitrogen, Dissolved (Mg/L As No3)', 'Iron (Ug/L As Fe)',\n",
    "               'Phosphorus, Total, As Po4 - Mg/L', 'Mercury, Total  (Ug/L As Hg)']\n",
    "STORLegRes = STORLegRes[STORLegRes.Param.isin(STORKeepers)] "
   ]
  },
  {
   "cell_type": "code",
   "execution_count": 64,
   "metadata": {
    "collapsed": true
   },
   "outputs": [],
   "source": [
    "def parsplit(x,p):\n",
    "    x = str(x).rstrip().lstrip()\n",
    "    if p == \"Un\":\n",
    "        z = -1\n",
    "        x = str(x).replace(\"Mg/L\", \"mg/l\")\n",
    "        x = str(x).replace(\"Ug/L\", \"ug/l\")\n",
    "        x = str(x).replace(\"o\", \"O\")\n",
    "        x = str(x).replace(\"c\", \"C\")\n",
    "        x = str(x).replace(\"TOtal ReCOverable\",\"Total Recoverable\")        \n",
    "        x = str(x).replace(\"UmhOs\", \"umhos\")\n",
    "        x = str(x).replace(\"TOtal\",\"Total\")\n",
    "    elif p== \"Par\":\n",
    "        z = 0\n",
    "        x = str(x).replace(\", Standard Units\",\"\")\n",
    "        x = str(x).replace(\", Unionized\",\"\")\n",
    "        x = str(x).replace(\", Unionzed\",\"\")\n",
    "        x = str(x).replace(\",Low Level Gran Analysis\",\"\")\n",
    "        x = str(x).replace(\" Ion\",\"\")\n",
    "        x = str(x).replace(\",Total\",\", Total\")\n",
    "        if x == \"Ph\" or x == \"Ph, Lab\":\n",
    "            x = str(x).replace(\"Ph\",\"pH\")\n",
    "    if \"(\" in x:\n",
    "        x = str(x).replace(\" As \", \" as \")\n",
    "        return str(x).split(\" (\")[z].rstrip(\")\").rstrip().lstrip()\n",
    "    else:\n",
    "        return str(x).split(\"  \")[z].rstrip().lstrip()\n",
    "\n",
    "def splitmore(x):\n",
    "    if \"NO3\" in x:\n",
    "        return x\n",
    "    elif \" as \" in x:\n",
    "        return x.split(\" as \")[0]\n",
    "    elif x == \"As S) WhOle     Water, mg/l\" or x == \"Dried At 180C),mg/l\" or x==\"PhOsphOrus, Total, As PO4 - mg/l\":\n",
    "        return \"mg/l\"\n",
    "    elif x == \"P), Water, Total Recoverable      ug/l\":\n",
    "        return \"ug/l\"\n",
    "    else:\n",
    "        return x\n",
    "\n",
    "def unitconv(x):\n",
    "    if x[1]==\"ug/l\":\n",
    "        return x[0]/1000\n",
    "    elif x[1]==\"Degrees Fahrenheit\":\n",
    "        return (float(x[0])-32.0)*(5.0/9.0)\n",
    "    else:\n",
    "        return x[0]"
   ]
  },
  {
   "cell_type": "code",
   "execution_count": 65,
   "metadata": {
    "collapsed": false
   },
   "outputs": [],
   "source": [
    "STORLegRes[\"Unit\"] = STORLegRes[\"Param\"].apply(lambda x: parsplit(x,\"Un\"), 1)\n",
    "STORLegRes[\"Param\"] = STORLegRes[\"Param\"].apply(lambda x: parsplit(x,\"Par\"), 1)\n",
    "STORLegRes[\"Unit\"] = STORLegRes[\"Unit\"].apply(lambda x: splitmore(x), 1)\n",
    "STORLegRes[\"ResultValue\"] = STORLegRes[[\"ResultValue\",\"Unit\"]].apply(lambda x: unitconv(x), 1)\n",
    "STORLegRes[\"Unit\"] = STORLegRes[\"Unit\"].apply(lambda x: \"mg/l\" if x==\"ug/l\" else x, 1)\n",
    "STORLegRes[\"Unit\"] = STORLegRes[\"Unit\"].apply(lambda x: \"Degrees Centigrade\" if x==\"Degrees Fahrenheit\" else x, 1)"
   ]
  },
  {
   "cell_type": "code",
   "execution_count": 66,
   "metadata": {
    "collapsed": false
   },
   "outputs": [],
   "source": [
    "STORStaField = {\"Agency\":\"OrgId\",\"AgencyName\":\"OrgName\",\"Station\":\"StationId\", \"DepthUnits\":\"DepthUnit\",\n",
    "                \"Latitude\":\"Lat_Y\", \"Longitude\":\"Lon_X\", \"HUC\":\"HUC8\", \"StationDepth\":\"Depth\"}\n",
    "STORLegSta.rename(columns=STORStaField,inplace=True)"
   ]
  },
  {
   "cell_type": "code",
   "execution_count": 67,
   "metadata": {
    "collapsed": false
   },
   "outputs": [
    {
     "data": {
      "text/plain": [
       "Index([u'OrgId', u'StationId', u'StationName', u'OrgName', u'StateName',\n",
       "       u'CountyName', u'Lat_Y', u'Lon_X', u'HUC8', u'RchmileSegment',\n",
       "       u'MilesUpReach', u'Rchonoff', u'Rchname', u'StationAlias',\n",
       "       u'StationType', u'Depth', u'DepthUnit', u'S', u'G', u'Description'],\n",
       "      dtype='object')"
      ]
     },
     "execution_count": 67,
     "metadata": {},
     "output_type": "execute_result"
    }
   ],
   "source": [
    "STORLegSta.columns"
   ]
  },
  {
   "cell_type": "code",
   "execution_count": 68,
   "metadata": {
    "collapsed": false
   },
   "outputs": [],
   "source": [
    "STORLegSta.drop([\"RchmileSegment\", \"MilesUpReach\", \"Rchonoff\", \"Description\", \"G\", \"S\", \"StationAlias\",\n",
    "                 \"Rchname\", \"StateName\", \"CountyName\"], inplace=True, axis=1)"
   ]
  },
  {
   "cell_type": "code",
   "execution_count": 69,
   "metadata": {
    "collapsed": false
   },
   "outputs": [],
   "source": [
    "STORLegSta.StationType = STORLegSta.StationType.apply(lambda x: str(x).rstrip(\" \").strip(\"/SUPPLY\").split(\"/\")[-1].title(),1)"
   ]
  },
  {
   "cell_type": "code",
   "execution_count": 70,
   "metadata": {
    "collapsed": true
   },
   "outputs": [],
   "source": [
    "LegTypeDict = {\"We\":\"Well\"}\n",
    "STORLegSta.StationType = STORLegSta.StationType.apply(lambda x: LegTypeDict.get(x,x),1)"
   ]
  },
  {
   "cell_type": "code",
   "execution_count": 71,
   "metadata": {
    "collapsed": false
   },
   "outputs": [],
   "source": [
    "STORLegSta.StationId = STORLegSta[\"StationId\"].apply(lambda x: \"EPALeg-\" + x, 1)"
   ]
  },
  {
   "cell_type": "markdown",
   "metadata": {},
   "source": [
    "## UGS Data"
   ]
  },
  {
   "cell_type": "code",
   "execution_count": 72,
   "metadata": {
    "collapsed": false
   },
   "outputs": [],
   "source": [
    "UGSfield = pd.read_excel(fielddata,\"FieldChem\") #Field data\n",
    "UGSNO3 = pd.read_excel(fielddata,\"Nitrate\") #Nitrate data provided by Millville City"
   ]
  },
  {
   "cell_type": "code",
   "execution_count": 73,
   "metadata": {
    "collapsed": false
   },
   "outputs": [],
   "source": [
    "UGS = pd.read_csv(UGSFile, engine=\"python\")\n",
    "UGS[\"StationId\"] = UGS[\"SITE\"].apply(lambda x:\"UGS-\"+str(x).zfill(4),1) "
   ]
  },
  {
   "cell_type": "code",
   "execution_count": 74,
   "metadata": {
    "collapsed": true
   },
   "outputs": [],
   "source": [
    "UGSSta = UGS.drop([u'OBJECTID_1',u'SITE', u'TDS', u'Temp', u'Cond', u'CO2', u'HCO3', \n",
    "                  u'CO3',u'Na', u'pH', u'Ca', u'SO4', u'NO3', u'As_', u'Cl', u'K',\n",
    "                  u'Mg', u'Hard', u'NH4'], axis=1)"
   ]
  },
  {
   "cell_type": "code",
   "execution_count": 75,
   "metadata": {
    "collapsed": false
   },
   "outputs": [],
   "source": [
    "UGSRe = UGS.drop([u'OBJECTID_1',u'SITE',u'StationType', u'Geology', u'Elev', u'Lat_Y', u'Lon_X', u'StationName', \n",
    "                  u'OrgId', u'WRNUM', u'SITE', u'UTM_X', u'UTM_Y', u'Depth_ft'], axis=1)"
   ]
  },
  {
   "cell_type": "code",
   "execution_count": 76,
   "metadata": {
    "collapsed": true
   },
   "outputs": [],
   "source": [
    "UGSRe[\"SampleId\"] = UGSRe.index"
   ]
  },
  {
   "cell_type": "code",
   "execution_count": 77,
   "metadata": {
    "collapsed": false
   },
   "outputs": [],
   "source": [
    "UGSRe.reset_index(inplace=True)\n",
    "UGSRe.set_index([\"StationId\",\"SampleId\"], inplace=True)"
   ]
  },
  {
   "cell_type": "code",
   "execution_count": 78,
   "metadata": {
    "collapsed": false
   },
   "outputs": [],
   "source": [
    "UGSRe.drop(UGSRe.columns[0],inplace=True,axis=1)"
   ]
  },
  {
   "cell_type": "code",
   "execution_count": 79,
   "metadata": {
    "collapsed": false
   },
   "outputs": [],
   "source": [
    "UGSStack = UGSRe.stack().to_frame()\n",
    "UGSStack.columns = [\"ResultValue\"]"
   ]
  },
  {
   "cell_type": "code",
   "execution_count": 80,
   "metadata": {
    "collapsed": true
   },
   "outputs": [],
   "source": [
    "UGSStack.reset_index(inplace=True)"
   ]
  },
  {
   "cell_type": "code",
   "execution_count": 81,
   "metadata": {
    "collapsed": false
   },
   "outputs": [],
   "source": [
    "UGSStack.columns=[\"StationId\",\"SampleId\",\"Param\",\"ResultValue\"]"
   ]
  },
  {
   "cell_type": "code",
   "execution_count": 82,
   "metadata": {
    "collapsed": false
   },
   "outputs": [],
   "source": [
    "def unitcon(x):\n",
    "    if x==\"pH\":\n",
    "        return \"\"\n",
    "    elif x==\"Temp\":\n",
    "        return \"C\"\n",
    "    elif x==\"Cond\":\n",
    "        return \"uS/cm\"\n",
    "    else:\n",
    "        return \"mg/l\"\n",
    "    \n",
    "UGSStack[\"Unit\"] = UGSStack[\"Param\"].apply(lambda x: unitcon(x),1)\n",
    "UGSStack[\"ParAbb\"] = UGSStack[\"Param\"]\n",
    "UGSStack[\"OrgId\"] = \"UGS\"\n",
    "UGSStack[\"OrgName\"] = \"Utah Geological Survey\"\n",
    "UGSStack[\"ResultValue\"] = UGSStack[['Param','ResultValue']].apply(lambda x: x[1]*1.288 if x[0]=='Ammonia as N' else x[1],1)\n",
    "UGSStack[\"Param\"] = UGSStack['Param'].apply(lambda x: 'Ammonia' if x=='Ammonia as N' else x, 1)\n",
    "UGSStack[\"ResultValue\"] = UGSStack[['Param','ResultValue']].apply(lambda x: x[1]*3.066 if x[0]=='Phosphate, Tot. Dig. (as P)' else x[1],1)\n",
    "UGSStack[\"Param\"] = UGSStack['Param'].apply(lambda x: 'Phosphate' if x=='Phosphate, Tot. Dig. (as P)' else x, 1)"
   ]
  },
  {
   "cell_type": "markdown",
   "metadata": {},
   "source": [
    "## State Lab"
   ]
  },
  {
   "cell_type": "markdown",
   "metadata": {},
   "source": [
    "These are raw data results sent to the UGS via Tab-delimited tables from the Utah State Health Laboratory.  They make up the bulk of results of data collected for this study. They are supplimented with field data translated to spreadsheets."
   ]
  },
  {
   "cell_type": "code",
   "execution_count": 83,
   "metadata": {
    "collapsed": false
   },
   "outputs": [],
   "source": [
    "SLSampMatch = pd.read_excel(fielddata,\"StateLabMatch\")\n",
    "SLStat = pd.read_excel(fielddata,\"Stations\")\n",
    "#SLStat = pd.merge(SLSampMatch, SLStations, on='StationId', how='outer')\n",
    "#SLStat.reset_index(inplace=True)"
   ]
  },
  {
   "cell_type": "code",
   "execution_count": 84,
   "metadata": {
    "collapsed": false
   },
   "outputs": [
    {
     "data": {
      "text/html": [
       "<div>\n",
       "<table border=\"1\" class=\"dataframe\">\n",
       "  <thead>\n",
       "    <tr style=\"text-align: right;\">\n",
       "      <th></th>\n",
       "      <th>StationName</th>\n",
       "      <th>StationId</th>\n",
       "      <th>Elev</th>\n",
       "      <th>Lat_Y</th>\n",
       "      <th>Lon_X</th>\n",
       "      <th>StationType</th>\n",
       "      <th>Depth</th>\n",
       "      <th>DepthUnit</th>\n",
       "      <th>ScreenDepth</th>\n",
       "      <th>WIN</th>\n",
       "      <th>Diameter</th>\n",
       "      <th>WL</th>\n",
       "      <th>WLDate</th>\n",
       "      <th>ScreenBottom</th>\n",
       "    </tr>\n",
       "  </thead>\n",
       "  <tbody>\n",
       "    <tr>\n",
       "      <th>0</th>\n",
       "      <td>Garr Spring</td>\n",
       "      <td>414024111481101</td>\n",
       "      <td>1477.746000</td>\n",
       "      <td>41.672975</td>\n",
       "      <td>-111.803943</td>\n",
       "      <td>Spring</td>\n",
       "      <td>NaN</td>\n",
       "      <td>NaN</td>\n",
       "      <td>NaN</td>\n",
       "      <td>NaN</td>\n",
       "      <td>NaN</td>\n",
       "      <td>NaN</td>\n",
       "      <td>NaN</td>\n",
       "      <td>NaN</td>\n",
       "    </tr>\n",
       "    <tr>\n",
       "      <th>1</th>\n",
       "      <td>Park Well</td>\n",
       "      <td>414029111483501</td>\n",
       "      <td>1432.000000</td>\n",
       "      <td>41.673060</td>\n",
       "      <td>-111.811091</td>\n",
       "      <td>Well</td>\n",
       "      <td>NaN</td>\n",
       "      <td>NaN</td>\n",
       "      <td>NaN</td>\n",
       "      <td>2721</td>\n",
       "      <td>NaN</td>\n",
       "      <td>NaN</td>\n",
       "      <td>NaN</td>\n",
       "      <td>NaN</td>\n",
       "    </tr>\n",
       "    <tr>\n",
       "      <th>2</th>\n",
       "      <td>Matthews (Skinner) Spring</td>\n",
       "      <td>414112111483101</td>\n",
       "      <td>1471.531000</td>\n",
       "      <td>41.686166</td>\n",
       "      <td>-111.810294</td>\n",
       "      <td>Spring</td>\n",
       "      <td>NaN</td>\n",
       "      <td>NaN</td>\n",
       "      <td>NaN</td>\n",
       "      <td>NaN</td>\n",
       "      <td>NaN</td>\n",
       "      <td>NaN</td>\n",
       "      <td>NaN</td>\n",
       "      <td>NaN</td>\n",
       "    </tr>\n",
       "    <tr>\n",
       "      <th>3</th>\n",
       "      <td>Glenridge Well</td>\n",
       "      <td>414115111490301</td>\n",
       "      <td>1427.191000</td>\n",
       "      <td>41.687671</td>\n",
       "      <td>-111.818130</td>\n",
       "      <td>Well</td>\n",
       "      <td>385</td>\n",
       "      <td>ft</td>\n",
       "      <td>269</td>\n",
       "      <td>2722</td>\n",
       "      <td>10</td>\n",
       "      <td>180</td>\n",
       "      <td>1973-09-06 00:00:00</td>\n",
       "      <td>369</td>\n",
       "    </tr>\n",
       "    <tr>\n",
       "      <th>4</th>\n",
       "      <td>USU Well</td>\n",
       "      <td>414143111495501</td>\n",
       "      <td>1378.279000</td>\n",
       "      <td>41.695106</td>\n",
       "      <td>-111.832618</td>\n",
       "      <td>Well</td>\n",
       "      <td>230</td>\n",
       "      <td>ft</td>\n",
       "      <td>195</td>\n",
       "      <td>437364</td>\n",
       "      <td>12</td>\n",
       "      <td>17</td>\n",
       "      <td>1974-05-11 00:00:00</td>\n",
       "      <td>230</td>\n",
       "    </tr>\n",
       "    <tr>\n",
       "      <th>5</th>\n",
       "      <td>USU Well</td>\n",
       "      <td>414143111495501</td>\n",
       "      <td>1378.279000</td>\n",
       "      <td>41.695106</td>\n",
       "      <td>-111.832618</td>\n",
       "      <td>Well</td>\n",
       "      <td>30</td>\n",
       "      <td>ft</td>\n",
       "      <td>195</td>\n",
       "      <td>437364</td>\n",
       "      <td>12</td>\n",
       "      <td>17</td>\n",
       "      <td>1974-05-11 00:00:00</td>\n",
       "      <td>230</td>\n",
       "    </tr>\n",
       "    <tr>\n",
       "      <th>6</th>\n",
       "      <td>Alder Well</td>\n",
       "      <td>414213111493101</td>\n",
       "      <td>1381.935000</td>\n",
       "      <td>41.703693</td>\n",
       "      <td>-111.826497</td>\n",
       "      <td>Well</td>\n",
       "      <td>220</td>\n",
       "      <td>ft</td>\n",
       "      <td>180</td>\n",
       "      <td>2815</td>\n",
       "      <td>8</td>\n",
       "      <td>41</td>\n",
       "      <td>1978-08-15 00:00:00</td>\n",
       "      <td>215</td>\n",
       "    </tr>\n",
       "    <tr>\n",
       "      <th>7</th>\n",
       "      <td>Hidden Lake Well</td>\n",
       "      <td>UT412207111464701</td>\n",
       "      <td>2705.370641</td>\n",
       "      <td>41.368633</td>\n",
       "      <td>-111.763014</td>\n",
       "      <td>Well</td>\n",
       "      <td>NaN</td>\n",
       "      <td>NaN</td>\n",
       "      <td>NaN</td>\n",
       "      <td>NaN</td>\n",
       "      <td>NaN</td>\n",
       "      <td>NaN</td>\n",
       "      <td>NaN</td>\n",
       "      <td>NaN</td>\n",
       "    </tr>\n",
       "    <tr>\n",
       "      <th>8</th>\n",
       "      <td>Hidden Lake Lift v-notch</td>\n",
       "      <td>UT412305111463601</td>\n",
       "      <td>2321.781273</td>\n",
       "      <td>41.384740</td>\n",
       "      <td>-111.760056</td>\n",
       "      <td>Stream</td>\n",
       "      <td>NaN</td>\n",
       "      <td>NaN</td>\n",
       "      <td>NaN</td>\n",
       "      <td>NaN</td>\n",
       "      <td>NaN</td>\n",
       "      <td>NaN</td>\n",
       "      <td>NaN</td>\n",
       "      <td>NaN</td>\n",
       "    </tr>\n",
       "    <tr>\n",
       "      <th>9</th>\n",
       "      <td>Wellsville Spring 2</td>\n",
       "      <td>UT412349111463801</td>\n",
       "      <td>2426.990368</td>\n",
       "      <td>41.380182</td>\n",
       "      <td>-111.760683</td>\n",
       "      <td>Spring</td>\n",
       "      <td>NaN</td>\n",
       "      <td>NaN</td>\n",
       "      <td>NaN</td>\n",
       "      <td>NaN</td>\n",
       "      <td>NaN</td>\n",
       "      <td>NaN</td>\n",
       "      <td>NaN</td>\n",
       "      <td>NaN</td>\n",
       "    </tr>\n",
       "    <tr>\n",
       "      <th>10</th>\n",
       "      <td>Wellsville Spring 1</td>\n",
       "      <td>UT412358111464401</td>\n",
       "      <td>2373.518654</td>\n",
       "      <td>41.382892</td>\n",
       "      <td>-111.762323</td>\n",
       "      <td>Spring</td>\n",
       "      <td>NaN</td>\n",
       "      <td>NaN</td>\n",
       "      <td>NaN</td>\n",
       "      <td>NaN</td>\n",
       "      <td>NaN</td>\n",
       "      <td>NaN</td>\n",
       "      <td>NaN</td>\n",
       "      <td>NaN</td>\n",
       "    </tr>\n",
       "    <tr>\n",
       "      <th>11</th>\n",
       "      <td>Upper Davenport Spring 1</td>\n",
       "      <td>UT412415111430101</td>\n",
       "      <td>2285.518776</td>\n",
       "      <td>41.404140</td>\n",
       "      <td>-111.716962</td>\n",
       "      <td>Spring</td>\n",
       "      <td>NaN</td>\n",
       "      <td>NaN</td>\n",
       "      <td>NaN</td>\n",
       "      <td>NaN</td>\n",
       "      <td>NaN</td>\n",
       "      <td>NaN</td>\n",
       "      <td>NaN</td>\n",
       "      <td>NaN</td>\n",
       "    </tr>\n",
       "    <tr>\n",
       "      <th>12</th>\n",
       "      <td>spring to Wellsville Creek</td>\n",
       "      <td>UT412421111464701</td>\n",
       "      <td>2027.980980</td>\n",
       "      <td>41.405745</td>\n",
       "      <td>-111.762933</td>\n",
       "      <td>Stream</td>\n",
       "      <td>NaN</td>\n",
       "      <td>NaN</td>\n",
       "      <td>NaN</td>\n",
       "      <td>NaN</td>\n",
       "      <td>NaN</td>\n",
       "      <td>NaN</td>\n",
       "      <td>NaN</td>\n",
       "      <td>NaN</td>\n",
       "    </tr>\n",
       "    <tr>\n",
       "      <th>13</th>\n",
       "      <td>Paradise Lift Spring in Cobabe Drainage</td>\n",
       "      <td>UT412443111451601</td>\n",
       "      <td>2181.970861</td>\n",
       "      <td>41.395199</td>\n",
       "      <td>-111.754413</td>\n",
       "      <td>Spring</td>\n",
       "      <td>NaN</td>\n",
       "      <td>NaN</td>\n",
       "      <td>NaN</td>\n",
       "      <td>NaN</td>\n",
       "      <td>NaN</td>\n",
       "      <td>NaN</td>\n",
       "      <td>NaN</td>\n",
       "      <td>NaN</td>\n",
       "    </tr>\n",
       "    <tr>\n",
       "      <th>14</th>\n",
       "      <td>Big Spring</td>\n",
       "      <td>UT412516111454001</td>\n",
       "      <td>1987.140332</td>\n",
       "      <td>41.421071</td>\n",
       "      <td>-111.744373</td>\n",
       "      <td>Spring</td>\n",
       "      <td>NaN</td>\n",
       "      <td>NaN</td>\n",
       "      <td>NaN</td>\n",
       "      <td>NaN</td>\n",
       "      <td>NaN</td>\n",
       "      <td>NaN</td>\n",
       "      <td>NaN</td>\n",
       "      <td>NaN</td>\n",
       "    </tr>\n",
       "    <tr>\n",
       "      <th>15</th>\n",
       "      <td>Postma Well</td>\n",
       "      <td>UT414018111483001</td>\n",
       "      <td>1450.000000</td>\n",
       "      <td>41.671616</td>\n",
       "      <td>-111.808224</td>\n",
       "      <td>Well</td>\n",
       "      <td>340</td>\n",
       "      <td>ft</td>\n",
       "      <td>277</td>\n",
       "      <td>20761</td>\n",
       "      <td>6</td>\n",
       "      <td>150</td>\n",
       "      <td>2000-03-22 00:00:00</td>\n",
       "      <td>340</td>\n",
       "    </tr>\n",
       "    <tr>\n",
       "      <th>16</th>\n",
       "      <td>Arnold Well</td>\n",
       "      <td>UT414023111484101</td>\n",
       "      <td>1469.916000</td>\n",
       "      <td>41.688021</td>\n",
       "      <td>-111.811269</td>\n",
       "      <td>Well</td>\n",
       "      <td>450</td>\n",
       "      <td>ft</td>\n",
       "      <td>450</td>\n",
       "      <td>436207</td>\n",
       "      <td>6</td>\n",
       "      <td>315</td>\n",
       "      <td>2016-07-16 00:00:00</td>\n",
       "      <td>450</td>\n",
       "    </tr>\n",
       "    <tr>\n",
       "      <th>17</th>\n",
       "      <td>Hancey Well</td>\n",
       "      <td>UT414042111483501</td>\n",
       "      <td>1458.000000</td>\n",
       "      <td>41.678609</td>\n",
       "      <td>-111.808355</td>\n",
       "      <td>Well</td>\n",
       "      <td>356</td>\n",
       "      <td>ft</td>\n",
       "      <td>250</td>\n",
       "      <td>33886</td>\n",
       "      <td>8</td>\n",
       "      <td>270</td>\n",
       "      <td>1972-04-10 00:00:00</td>\n",
       "      <td>315</td>\n",
       "    </tr>\n",
       "    <tr>\n",
       "      <th>18</th>\n",
       "      <td>O. Hancey Well</td>\n",
       "      <td>UT4140521114843201</td>\n",
       "      <td>1461.000000</td>\n",
       "      <td>41.681078</td>\n",
       "      <td>-111.809061</td>\n",
       "      <td>Well</td>\n",
       "      <td>355</td>\n",
       "      <td>ft</td>\n",
       "      <td>NaN</td>\n",
       "      <td>32975</td>\n",
       "      <td>6</td>\n",
       "      <td>256</td>\n",
       "      <td>1975-09-17 00:00:00</td>\n",
       "      <td>NaN</td>\n",
       "    </tr>\n",
       "    <tr>\n",
       "      <th>19</th>\n",
       "      <td>Cox Well</td>\n",
       "      <td>UT414055111490101</td>\n",
       "      <td>1431.000000</td>\n",
       "      <td>41.681885</td>\n",
       "      <td>-111.816966</td>\n",
       "      <td>Well</td>\n",
       "      <td>295</td>\n",
       "      <td>ft</td>\n",
       "      <td>222</td>\n",
       "      <td>33155</td>\n",
       "      <td>6</td>\n",
       "      <td>185</td>\n",
       "      <td>1974-04-04 00:00:00</td>\n",
       "      <td>290</td>\n",
       "    </tr>\n",
       "    <tr>\n",
       "      <th>20</th>\n",
       "      <td>Knoll Spring</td>\n",
       "      <td>UT4141071111483501</td>\n",
       "      <td>1470.000000</td>\n",
       "      <td>41.685271</td>\n",
       "      <td>-111.809600</td>\n",
       "      <td>Spring</td>\n",
       "      <td>NaN</td>\n",
       "      <td>NaN</td>\n",
       "      <td>NaN</td>\n",
       "      <td>NaN</td>\n",
       "      <td>NaN</td>\n",
       "      <td>NaN</td>\n",
       "      <td>NaN</td>\n",
       "      <td>NaN</td>\n",
       "    </tr>\n",
       "    <tr>\n",
       "      <th>21</th>\n",
       "      <td>Arnold Well</td>\n",
       "      <td>UT414117111494101</td>\n",
       "      <td>1469.916000</td>\n",
       "      <td>41.688021</td>\n",
       "      <td>-111.811269</td>\n",
       "      <td>Well</td>\n",
       "      <td>450</td>\n",
       "      <td>ft</td>\n",
       "      <td>450</td>\n",
       "      <td>436207</td>\n",
       "      <td>6</td>\n",
       "      <td>315</td>\n",
       "      <td>2016-07-16 00:00:00</td>\n",
       "      <td>450</td>\n",
       "    </tr>\n",
       "    <tr>\n",
       "      <th>22</th>\n",
       "      <td>Vail Well</td>\n",
       "      <td>UT414117111500401</td>\n",
       "      <td>1378.351000</td>\n",
       "      <td>41.688123</td>\n",
       "      <td>-111.834496</td>\n",
       "      <td>Well</td>\n",
       "      <td>220</td>\n",
       "      <td>ft</td>\n",
       "      <td>170</td>\n",
       "      <td>NaN</td>\n",
       "      <td>8</td>\n",
       "      <td>37</td>\n",
       "      <td>1981-10-09 00:00:00</td>\n",
       "      <td>205</td>\n",
       "    </tr>\n",
       "    <tr>\n",
       "      <th>23</th>\n",
       "      <td>Matthews Well</td>\n",
       "      <td>UT414125111491601</td>\n",
       "      <td>1419.000000</td>\n",
       "      <td>41.690302</td>\n",
       "      <td>-111.821697</td>\n",
       "      <td>Well</td>\n",
       "      <td>351</td>\n",
       "      <td>ft</td>\n",
       "      <td>97</td>\n",
       "      <td>33877</td>\n",
       "      <td>8</td>\n",
       "      <td>156</td>\n",
       "      <td>1972-08-30 00:00:00</td>\n",
       "      <td>350</td>\n",
       "    </tr>\n",
       "  </tbody>\n",
       "</table>\n",
       "</div>"
      ],
      "text/plain": [
       "                                StationName           StationId         Elev  \\\n",
       "0                               Garr Spring     414024111481101  1477.746000   \n",
       "1                                 Park Well     414029111483501  1432.000000   \n",
       "2                 Matthews (Skinner) Spring     414112111483101  1471.531000   \n",
       "3                            Glenridge Well     414115111490301  1427.191000   \n",
       "4                                  USU Well     414143111495501  1378.279000   \n",
       "5                                  USU Well     414143111495501  1378.279000   \n",
       "6                                Alder Well     414213111493101  1381.935000   \n",
       "7                          Hidden Lake Well   UT412207111464701  2705.370641   \n",
       "8                  Hidden Lake Lift v-notch   UT412305111463601  2321.781273   \n",
       "9                       Wellsville Spring 2   UT412349111463801  2426.990368   \n",
       "10                      Wellsville Spring 1   UT412358111464401  2373.518654   \n",
       "11                 Upper Davenport Spring 1   UT412415111430101  2285.518776   \n",
       "12               spring to Wellsville Creek   UT412421111464701  2027.980980   \n",
       "13  Paradise Lift Spring in Cobabe Drainage   UT412443111451601  2181.970861   \n",
       "14                               Big Spring   UT412516111454001  1987.140332   \n",
       "15                              Postma Well   UT414018111483001  1450.000000   \n",
       "16                              Arnold Well   UT414023111484101  1469.916000   \n",
       "17                              Hancey Well   UT414042111483501  1458.000000   \n",
       "18                           O. Hancey Well  UT4140521114843201  1461.000000   \n",
       "19                                 Cox Well   UT414055111490101  1431.000000   \n",
       "20                             Knoll Spring  UT4141071111483501  1470.000000   \n",
       "21                              Arnold Well   UT414117111494101  1469.916000   \n",
       "22                                Vail Well   UT414117111500401  1378.351000   \n",
       "23                            Matthews Well   UT414125111491601  1419.000000   \n",
       "\n",
       "        Lat_Y       Lon_X StationType  Depth DepthUnit  ScreenDepth     WIN  \\\n",
       "0   41.672975 -111.803943      Spring    NaN       NaN          NaN     NaN   \n",
       "1   41.673060 -111.811091        Well    NaN       NaN          NaN    2721   \n",
       "2   41.686166 -111.810294      Spring    NaN       NaN          NaN     NaN   \n",
       "3   41.687671 -111.818130        Well    385        ft          269    2722   \n",
       "4   41.695106 -111.832618        Well    230        ft          195  437364   \n",
       "5   41.695106 -111.832618        Well     30        ft          195  437364   \n",
       "6   41.703693 -111.826497        Well    220        ft          180    2815   \n",
       "7   41.368633 -111.763014        Well    NaN       NaN          NaN     NaN   \n",
       "8   41.384740 -111.760056      Stream    NaN       NaN          NaN     NaN   \n",
       "9   41.380182 -111.760683      Spring    NaN       NaN          NaN     NaN   \n",
       "10  41.382892 -111.762323      Spring    NaN       NaN          NaN     NaN   \n",
       "11  41.404140 -111.716962      Spring    NaN       NaN          NaN     NaN   \n",
       "12  41.405745 -111.762933      Stream    NaN       NaN          NaN     NaN   \n",
       "13  41.395199 -111.754413      Spring    NaN       NaN          NaN     NaN   \n",
       "14  41.421071 -111.744373      Spring    NaN       NaN          NaN     NaN   \n",
       "15  41.671616 -111.808224        Well    340        ft          277   20761   \n",
       "16  41.688021 -111.811269        Well    450        ft          450  436207   \n",
       "17  41.678609 -111.808355        Well    356        ft          250   33886   \n",
       "18  41.681078 -111.809061        Well    355        ft          NaN   32975   \n",
       "19  41.681885 -111.816966        Well    295        ft          222   33155   \n",
       "20  41.685271 -111.809600      Spring    NaN       NaN          NaN     NaN   \n",
       "21  41.688021 -111.811269        Well    450        ft          450  436207   \n",
       "22  41.688123 -111.834496        Well    220        ft          170     NaN   \n",
       "23  41.690302 -111.821697        Well    351        ft           97   33877   \n",
       "\n",
       "    Diameter   WL               WLDate  ScreenBottom  \n",
       "0        NaN  NaN                  NaN           NaN  \n",
       "1        NaN  NaN                  NaN           NaN  \n",
       "2        NaN  NaN                  NaN           NaN  \n",
       "3         10  180  1973-09-06 00:00:00           369  \n",
       "4         12   17  1974-05-11 00:00:00           230  \n",
       "5         12   17  1974-05-11 00:00:00           230  \n",
       "6          8   41  1978-08-15 00:00:00           215  \n",
       "7        NaN  NaN                  NaN           NaN  \n",
       "8        NaN  NaN                  NaN           NaN  \n",
       "9        NaN  NaN                  NaN           NaN  \n",
       "10       NaN  NaN                  NaN           NaN  \n",
       "11       NaN  NaN                  NaN           NaN  \n",
       "12       NaN  NaN                  NaN           NaN  \n",
       "13       NaN  NaN                  NaN           NaN  \n",
       "14       NaN  NaN                  NaN           NaN  \n",
       "15         6  150  2000-03-22 00:00:00           340  \n",
       "16         6  315  2016-07-16 00:00:00           450  \n",
       "17         8  270  1972-04-10 00:00:00           315  \n",
       "18         6  256  1975-09-17 00:00:00           NaN  \n",
       "19         6  185  1974-04-04 00:00:00           290  \n",
       "20       NaN  NaN                  NaN           NaN  \n",
       "21         6  315  2016-07-16 00:00:00           450  \n",
       "22         8   37  1981-10-09 00:00:00           205  \n",
       "23         8  156  1972-08-30 00:00:00           350  "
      ]
     },
     "execution_count": 84,
     "metadata": {},
     "output_type": "execute_result"
    }
   ],
   "source": [
    "SLStat"
   ]
  },
  {
   "cell_type": "code",
   "execution_count": 85,
   "metadata": {
    "collapsed": false
   },
   "outputs": [
    {
     "name": "stderr",
     "output_type": "stream",
     "text": [
      "Skipping line 11: expected 43 fields, saw 44\n",
      "Skipping line 19: expected 43 fields, saw 44\n",
      "Skipping line 238: expected 43 fields, saw 44\n",
      "Skipping line 857: expected 43 fields, saw 44\n",
      "\n",
      "Skipping line 726: expected 43 fields, saw 44\n",
      "Skipping line 745: expected 43 fields, saw 44\n",
      "Skipping line 1467: expected 43 fields, saw 44\n",
      "Skipping line 1487: expected 43 fields, saw 44\n",
      "Skipping line 1507: expected 43 fields, saw 44\n",
      "Skipping line 1527: expected 43 fields, saw 44\n",
      "\n"
     ]
    }
   ],
   "source": [
    "SL0 = pd.read_table(statelabresults0, sep=\"\\t\", lineterminator=\"\\n\", error_bad_lines=False)\n",
    "SL0 = SL0[SL0['Collector']=='PI']\n",
    "SL1 = pd.read_table(statelabresults1, sep=\"\\t\", lineterminator=\"\\n\", error_bad_lines=False)\n",
    "SL1 = SL1[SL1['Collector']=='PI']\n",
    "SL2 = pd.read_table(statelabresults2, sep=\"\\t\", lineterminator=\"\\n\", error_bad_lines=False)\n",
    "SL2 = SL2[SL2['Collector']=='PI']"
   ]
  },
  {
   "cell_type": "code",
   "execution_count": 86,
   "metadata": {
    "collapsed": true
   },
   "outputs": [],
   "source": [
    "SL = pd.concat([SL0,SL1,SL2])"
   ]
  },
  {
   "cell_type": "code",
   "execution_count": 87,
   "metadata": {
    "collapsed": false
   },
   "outputs": [],
   "source": [
    "SL[\"OrgId\"] = \"UGS\"\n",
    "SL[\"OrgName\"] = \"Utah Geological Survey\"\n",
    "SL['DetectCond'] = SL['Problem#Identifier'].apply(lambda x: 'Not Detected' if str(x).rstrip()=='<' else np.nan,1)\n",
    "SL['SampleDate'] = SL[['Sample#Date','Sample#Time']].apply(lambda x: datetimefix(x,\"%m/%d/%y %H:%M\"),1)\n",
    "\n",
    "SLHead = {'Sample#Number':'SampleId', 'Param#Description':'Param', 'Result#Value':'ResultValue','Units':'Unit', \n",
    "          'Lower#Report#Limit':'MDL','Method#ID':'SampMeth','Analysis#Date':'AnalysisDate'}\n",
    "SL.rename(columns=SLHead,inplace=True)"
   ]
  },
  {
   "cell_type": "code",
   "execution_count": 88,
   "metadata": {
    "collapsed": false
   },
   "outputs": [
    {
     "data": {
      "text/plain": [
       "array(['PWDRMTN WELL', 'GLENRIDGE WELL', 'GARR SPRING', 'ARNOLD WELL',\n",
       "       'USU WELL', 'KNOLL SPRING', 'BOD WELL', 'WELLSVILLE SPRING 1',\n",
       "       'WELLSVILLE SPRING 2', 'PARADISE LIFT SPRING',\n",
       "       'LOWER WELLSVILLE SPRING', 'PIZZEL SPRING #3',\n",
       "       'UPPER DAVENPORT SPRINGS', 'BIG SPRINGS', 'UT414213111493501',\n",
       "       'ALDER WELL'], dtype=object)"
      ]
     },
     "execution_count": 88,
     "metadata": {},
     "output_type": "execute_result"
    }
   ],
   "source": [
    "SL['Sample#Description'].unique()"
   ]
  },
  {
   "cell_type": "code",
   "execution_count": 89,
   "metadata": {
    "collapsed": false
   },
   "outputs": [],
   "source": [
    "SL.drop([u'Lab#Code', u'Station#ID', u'Source#Code', u'Sample#Date',\n",
    "       u'Sample#Time', u'Sample#Type', u'Cost#Code', u'Billing#Code',\n",
    "       u'Agency#Bill#Code', u'Trip#ID', u'Sample#Description', u'Collector',\n",
    "       u'Sample#Recieved#Date', u'Chain#of#Custody#Ind.', u'Replicate#Number',\n",
    "       u'Sample#Comment', u'Method#Number', u'Method#Agency',\n",
    "       u'Method#Description', u'Param#Number', u'CAS#Number',\n",
    "       u'Matrix#Number', u'Matrix#Description', u'Preparation#Date',\n",
    "       u'Problem#Identifier', u'Result#Code', \n",
    "       u'Upper#Quant#Limit', u'Method#Detect#Limit',\n",
    "       u'Confidence#Limit', u'%#Confidence#Limit',u'Dilution#Factor',\n",
    "       u'Batch#Number',u'Comment#Number', u'Comment#Text'], inplace=True, axis=1)"
   ]
  },
  {
   "cell_type": "code",
   "execution_count": 90,
   "metadata": {
    "collapsed": false
   },
   "outputs": [
    {
     "data": {
      "text/plain": [
       "Index([u'AnalysisDate', u'Comment#Number.1', u'Comment#Text.1', u'MDL',\n",
       "       u'SampMeth', u'Param', u'ResultValue', u'SampleId', u'Unit', u'OrgId',\n",
       "       u'OrgName', u'DetectCond', u'SampleDate'],\n",
       "      dtype='object')"
      ]
     },
     "execution_count": 90,
     "metadata": {},
     "output_type": "execute_result"
    }
   ],
   "source": [
    "SL.columns"
   ]
  },
  {
   "cell_type": "code",
   "execution_count": 91,
   "metadata": {
    "collapsed": false
   },
   "outputs": [],
   "source": [
    "SLRes = pd.merge(SL, SLSampMatch, on='SampleId', how='left')"
   ]
  },
  {
   "cell_type": "code",
   "execution_count": 92,
   "metadata": {
    "collapsed": false
   },
   "outputs": [],
   "source": [
    "SLStat.drop_duplicates(inplace=True)"
   ]
  },
  {
   "cell_type": "code",
   "execution_count": 93,
   "metadata": {
    "collapsed": false
   },
   "outputs": [],
   "source": [
    "def SLparnorm(x):\n",
    "    p = str(x[0]).rstrip().lstrip().lower()\n",
    "    u = str(x[2]).rstrip().lstrip().lower()\n",
    "    if p == 'nitrate nitrogen, total (mg/l as n)':\n",
    "        return 'Nitrate', x[1]*4.427, 'mg/l'\n",
    "    elif p == 'nitrite nitrogen, total (mg/l as n)':\n",
    "        return 'Nitrite', x[1]*3.285, 'mg/l'\n",
    "    elif p == 'ammonia as n':\n",
    "        return 'Ammonium', x[1]*1.288, 'mg/l'\n",
    "    elif p == 'sulfate (as s) whole     water, mg/L':\n",
    "        return 'Sulfate', x[1]*2.996, 'mg/l'\n",
    "    elif p in ('phosphate, tot. dig. (as p)', 'phosphate-phosphorus as p','orthophosphate as p'):\n",
    "        return 'Phosphate', x[1]*3.066, 'mg/l'\n",
    "    elif u == 'ug/l':\n",
    "        return x[0], x[1]/1000, 'mg/l'\n",
    "    else:\n",
    "        return x[0], x[1], str(x[2]).rstrip()\n",
    "\n",
    "def MDLfix(x):\n",
    "    u = str(x[1]).rstrip().lstrip().lower()\n",
    "    if np.isfinite(x[2]):\n",
    "        return x[0]\n",
    "    elif u=='ug/l':\n",
    "        return x[0]/1000\n",
    "    else:\n",
    "        return x[0]\n",
    "\n",
    "SLRes['MDL'] = SLRes[['MDL','Unit','ResultValue']].apply(lambda x: MDLfix(x),1)\n",
    "SLRes['Param'], SLRes['ResultValue'], SLRes['Unit'] = zip(*SLRes[['Param','ResultValue','Unit']].apply(lambda x: parnorm(x),1))"
   ]
  },
  {
   "cell_type": "code",
   "execution_count": 94,
   "metadata": {
    "collapsed": false
   },
   "outputs": [
    {
     "data": {
      "text/plain": [
       "array([u'UT412207111464701', u'414115111490301', u'414024111481101',\n",
       "       u'UT414023111484101', u'414143111495501', u'UT4141071111483501',\n",
       "       u'UT414117111500401', u'UT412358111464401', u'UT412349111463801',\n",
       "       u'UT412443111451601', u'UT412421111464701', nan,\n",
       "       u'UT412415111430101', u'UT412516111454001', u'414213111493101'], dtype=object)"
      ]
     },
     "execution_count": 94,
     "metadata": {},
     "output_type": "execute_result"
    }
   ],
   "source": [
    "SLRes.StationId.unique()"
   ]
  },
  {
   "cell_type": "markdown",
   "metadata": {},
   "source": [
    "# Combine Data"
   ]
  },
  {
   "cell_type": "code",
   "execution_count": 95,
   "metadata": {
    "collapsed": false
   },
   "outputs": [],
   "source": [
    "Res = pd.concat([STORLegRes,AGRes,SDWISRes,WQP,UGSStack,SLRes,UGSfield,UGSNO3])"
   ]
  },
  {
   "cell_type": "code",
   "execution_count": 96,
   "metadata": {
    "collapsed": false
   },
   "outputs": [
    {
     "data": {
      "text/plain": [
       "436373"
      ]
     },
     "execution_count": 96,
     "metadata": {},
     "output_type": "execute_result"
    }
   ],
   "source": [
    "Res = Res[~Res[\"Unit\"].isin(['ueq/L','Ueq/L','ueq/l','tons/ac ft','tons/day','meq/L'])]\n",
    "Res = Res[~Res[\"Param\"].isin([\"Heptachlorobiphenyl\", \"Hydrocarbons\", \"Hydroxide\", \"Ionic strength\",\n",
    "                              \"Floating debris, severity\", \"Carbon Tetrachloride\", \"Trichlorobiphenyl\",\n",
    "                              \"Vinyl Chloride\", \"True color\", \"Color\", \"Trash, Debris, Floatables\",\n",
    "                              \"Total volatile solids\", \"Temperature, air\", \"Residue, Total Filtrable\",\n",
    "                              \"Pentachlorobiphenyl\", \"Odor threshold number\", \"Odor, atmospheric\",\n",
    "                              \"Instream features, est. stream width\", \"Hydroxide\", \n",
    "                              \"Light, transmissivity\",\"Algae, floating mats (severity)\"])]\n",
    "len(Res)"
   ]
  },
  {
   "cell_type": "code",
   "execution_count": 97,
   "metadata": {
    "collapsed": false
   },
   "outputs": [],
   "source": [
    "Res[[\"Param\",\"Unit\",\"USGSPCode\"]].drop_duplicates(subset=[\"Param\",\"Unit\"]).sort_values(by=[\"Param\"]).to_clipboard()"
   ]
  },
  {
   "cell_type": "code",
   "execution_count": 98,
   "metadata": {
    "collapsed": true
   },
   "outputs": [],
   "source": [
    "Stat = pd.concat([STORLegSta, AGStat, SDWISSta, WQPStat, SLStat, UGSSta])"
   ]
  },
  {
   "cell_type": "code",
   "execution_count": 99,
   "metadata": {
    "collapsed": false
   },
   "outputs": [],
   "source": [
    "parmatch = pd.read_excel(rootname + \"Aquachem.xlsx\")"
   ]
  },
  {
   "cell_type": "code",
   "execution_count": 100,
   "metadata": {
    "collapsed": false
   },
   "outputs": [],
   "source": [
    "parmatchdict = dict(zip(parmatch.Param.values, parmatch.ParrAbb.values))\n",
    "Res[\"ParAbb\"] = Res[[\"ParAbb\",\"Param\"]].apply(lambda x: parmatchdict.get(x[1],x[0]),1)"
   ]
  },
  {
   "cell_type": "code",
   "execution_count": 101,
   "metadata": {
    "collapsed": false
   },
   "outputs": [],
   "source": [
    "results = Res.dropna(subset=[\"StationId\",\"Param\",\"SampleId\"], how=\"any\")"
   ]
  },
  {
   "cell_type": "code",
   "execution_count": 102,
   "metadata": {
    "collapsed": true
   },
   "outputs": [],
   "source": [
    "Stat.loc[:,\"StationName\"] = Stat[\"StationName\"].apply(lambda x: str(x).strip().lstrip().rstrip(),1)\n",
    "Stat.loc[:,\"StationId\"] = Stat[\"StationId\"].apply(lambda x: str(x).strip().lstrip().rstrip(),1)\n",
    "Res.loc[:,\"StationId\"] = Res[\"StationId\"].apply(lambda x: str(x).strip().lstrip().rstrip(),1)"
   ]
  },
  {
   "cell_type": "code",
   "execution_count": 103,
   "metadata": {
    "collapsed": false
   },
   "outputs": [
    {
     "name": "stderr",
     "output_type": "stream",
     "text": [
      "c:\\python27\\arcgis10.3\\lib\\site-packages\\pandas\\core\\indexing.py:426: SettingWithCopyWarning: \n",
      "A value is trying to be set on a copy of a slice from a DataFrame.\n",
      "Try using .loc[row_indexer,col_indexer] = value instead\n",
      "\n",
      "See the caveats in the documentation: http://pandas.pydata.org/pandas-docs/stable/indexing.html#indexing-view-versus-copy\n",
      "  self.obj[item] = s\n"
     ]
    }
   ],
   "source": [
    "results.loc[:,\"Unit\"] = results[[\"ParAbb\",\"Unit\"]].apply(lambda x: \"C\" if x[0]==\"Temp\" else x[1],1)\n",
    "results.loc[:,\"Unit\"] = results[[\"ParAbb\",\"Unit\"]].apply(lambda x: \"umhos/cm\" if x[0]==\"Cond\" else x[1],1)\n",
    "results.loc[:,\"Unit\"] = results[[\"ParAbb\",\"Unit\"]].apply(lambda x: \"\" if x[0]==\"pH\" else x[1],1)"
   ]
  },
  {
   "cell_type": "code",
   "execution_count": 104,
   "metadata": {
    "collapsed": false
   },
   "outputs": [
    {
     "name": "stderr",
     "output_type": "stream",
     "text": [
      "c:\\python27\\arcgis10.3\\lib\\site-packages\\ipykernel\\__main__.py:5: SettingWithCopyWarning: \n",
      "A value is trying to be set on a copy of a slice from a DataFrame\n",
      "\n",
      "See the caveats in the documentation: http://pandas.pydata.org/pandas-docs/stable/indexing.html#indexing-view-versus-copy\n"
     ]
    }
   ],
   "source": [
    "results.drop([\"AnalysisDate\",\"AnalytMeth\",\"SampType\",\"AnalytMethId\", \"BelowLim\", \"StationName\",\n",
    "              \"MethodDescript\", \"LabComments\", \"LabName\", \"LimitType\", \"ProjectId\", \"QualCode\",\n",
    "              \"OrgName\",\"R\", \"ResultComment\",\"ResultStatus\",\"SampComment\", \"SampEquip\", \n",
    "              \"SampDepthRef\", \"SampDepthU\",\"SampDepth\",\"SampType\", \"USGSPCode\",\n",
    "              \"SampMeth\", \"SampMethName\",\"SampYear\",\"TestNo\"],inplace=True,axis=1)"
   ]
  },
  {
   "cell_type": "markdown",
   "metadata": {},
   "source": [
    "## Clean Up Non Detects"
   ]
  },
  {
   "cell_type": "code",
   "execution_count": 105,
   "metadata": {
    "collapsed": false
   },
   "outputs": [
    {
     "name": "stderr",
     "output_type": "stream",
     "text": [
      "c:\\python27\\arcgis10.3\\lib\\site-packages\\pandas\\core\\generic.py:2387: SettingWithCopyWarning: \n",
      "A value is trying to be set on a copy of a slice from a DataFrame.\n",
      "Try using .loc[row_indexer,col_indexer] = value instead\n",
      "\n",
      "See the caveats in the documentation: http://pandas.pydata.org/pandas-docs/stable/indexing.html#indexing-view-versus-copy\n",
      "  self[name] = value\n"
     ]
    }
   ],
   "source": [
    "NDs = {'Not Detected':'<', 'Present Above Quantification Limit':'<', 'ND             ':'<', '*Present >QL   ':'>',\n",
    "       'Present Below Quantification Limit':'<', '*Non-detect    ':'<', 'Detected Not Quantified':'<', \n",
    "       'Systematic Contamination':'<'}\n",
    "results.DetectCond = results.DetectCond.apply(lambda x: NDs.get(x,np.nan),1) "
   ]
  },
  {
   "cell_type": "code",
   "execution_count": 106,
   "metadata": {
    "collapsed": false
   },
   "outputs": [],
   "source": [
    "def is_nan(x): \n",
    "    '''\n",
    "    this function identifies nan values\n",
    "    Source: http://stackoverflow.com/questions/944700/how-to-check-for-nan-in-python\n",
    "    '''\n",
    "    try: \n",
    "        return math.isnan(x) \n",
    "    except: \n",
    "        return False \n",
    "\n",
    "def detected(x):\n",
    "    '''\n",
    "    Finds nondetects and fixes units and values\n",
    "    '''\n",
    "    if x[1]=='<' and np.isfinite(x[0]):\n",
    "        return x[1]+str(x[0])       \n",
    "    elif x[1]=='<' and np.isfinite(x[2]):\n",
    "        if str(x[3]).rstrip().lower() == 'ug/l':\n",
    "            return x[1]+str(x[2]/1000)\n",
    "        else:\n",
    "            return x[1]+str(x[2])\n",
    "    else:\n",
    "        return x[0]\n",
    "\n",
    "results.ResultValue = results[['ResultValue','DetectCond','MDL','MDLUnit']].apply(lambda x: detected(x),1)"
   ]
  },
  {
   "cell_type": "code",
   "execution_count": 107,
   "metadata": {
    "collapsed": false
   },
   "outputs": [
    {
     "name": "stderr",
     "output_type": "stream",
     "text": [
      "c:\\python27\\arcgis10.3\\lib\\site-packages\\pandas\\core\\indexing.py:266: SettingWithCopyWarning: \n",
      "A value is trying to be set on a copy of a slice from a DataFrame.\n",
      "Try using .loc[row_indexer,col_indexer] = value instead\n",
      "\n",
      "See the caveats in the documentation: http://pandas.pydata.org/pandas-docs/stable/indexing.html#indexing-view-versus-copy\n",
      "  self.obj[key] = _infer_fill_value(value)\n"
     ]
    }
   ],
   "source": [
    "def MDLfill(x):\n",
    "    if x[0] <= 0 and x[1]>0:\n",
    "        return 0\n",
    "    elif x[2] == '<':\n",
    "        return 0\n",
    "    elif x[0] < x[1]:\n",
    "        return 0\n",
    "    else:\n",
    "        return 1\n",
    "results.loc[:,'ResValue'] = pd.to_numeric(results['ResultValue'], errors='coerce')    \n",
    "results.loc[:,'Censored'] = results[['ResValue','MDL','DetectCond']].apply(lambda x: MDLfill(x),1)"
   ]
  },
  {
   "cell_type": "code",
   "execution_count": 108,
   "metadata": {
    "collapsed": false
   },
   "outputs": [],
   "source": [
    "matchDict = {'414143111495501':'USGS-414143111495501','414115111490301':'USGS-414115111490301',\n",
    "             'SDWIS3117.0WS004':'USGS-414115111490301', \n",
    "             'EPALeg-0301203':'414029111483501','SDWIS3116.0WS003':'414029111483501',\n",
    "             'EPALeg-0301201':'USGS-414024111481101','SDWIS5435.0WS001':'USGS-414024111481101',\n",
    "             '414024111481101':'USGS-414024111481101','EPALeg-0300101':'SDWIS5411.0WS001',\n",
    "             'EPALeg-0300102':'SDWIS5412.0WS002', 'EPALeg-0300103':'SDWIS5413.0WS003', \n",
    "             'UGS-107.5':'SDWIS3143.0WS001','UDAF-01492':'UGS-0412', 'UDAF-03165':'UGS-106.5',\n",
    "             'SDWIS3126.0WS002':'USGS-414216111485201', 'EPALeg-0301702':'USGS-414216111485201',\n",
    "             'EPALeg-0301901':'USGS-414328111493001', 'SDWIS3131.0WS001':'USGS-414328111493001', \n",
    "             'EPALeg-0301005':'SDWIS3112.0WS005', 'EPALeg-0301002':'USGS-414417111484301', \n",
    "             'SDWIS3109.0WS002':'USGS-414417111484301', 'SDWIS3113.0WS006':'USGS-414459111493601', \n",
    "             'SDWIS3127.0WS003':'414213111493101', 'SDWIS3159.0WS003':'SDWIS3157.0WS001','UDAF-01500':'UGS-63.5',\n",
    "             'SDWIS3111.0WS004':'USGS-414441111490701', 'EPALeg-0301904':'SDWIS3133.0WS004',\n",
    "            'EPALeg-0301004':'USGS-414441111490701','EPALeg-0301502':'SDWIS3118.0WS002',\n",
    "             'UDAF-01589':'UDAF-01568','UDAF-01586':'UDAF-01566','UGS-0050':'UDAF-01566',\n",
    "            'EPALeg-0300104':'SDWIS3088.0WS004', 'UDAF-01585':'UGS-0032', 'UDAF-01565':'UGS-0032',\n",
    "            'EPALeg-0300201':'SDWIS3091.0WS001', 'EPALeg-0300204':'SDWIS3094.0WS004',\n",
    "            'EPALeg-0301803':'SDWIS3129.0WS003','EPALeg-0300405':'SDWIS5418.0WS005',\n",
    "            'EPALeg-0300404':'SDWIS5417.0WS004', 'EPALeg-0300403':'SDWIS5416.0WS003',\n",
    "            'SDWIS5439.0WS003':'SDWIS5416.0WS003', 'SDWIS5460.0WS003':'SDWIS5416.0WS003',\n",
    "            'SDWIS5414.0WS001':'SDWIS5458.0WS001', 'SDWIS5437.0WS001':'SDWIS5458.0WS001',\n",
    "            'EPALeg-0308601':'USGS-415828111460001', 'SDWIS5487.0WS001':'USGS-415828111460001',\n",
    "            'SDWIS5430.0WS002':'USGS-415828111460001', 'SDWIS5423.0WS003':'USGS-415828111460001',\n",
    "            'SDWIS5421.0WS001':'USGS-415836111464701', 'EPALeg-0304901':'SDWIS5479.0WS001', \n",
    "            'EPALeg-0303201':'SDWIS5470.0WS001', 'SDWIS5432.0WS001':'USGS-414535111423001',\n",
    "            'EPALeg-0303001':'SDWIS5469.0WS001','EPALeg-0307701':'SDWIS5485.0WS001',\n",
    "            'EPALeg-0308301':'SDWIS5486.0WS001', 'EPALeg-0301501':'SDWIS5445.0WS001',\n",
    "            'EPALeg-0300701':'USGS-415120111440001', 'SDWIS5424.0WS001':'USGS-415120111440001',\n",
    "            'EPALeg-0302001':'SDWIS5455.0WS001', 'EPALeg-0301101':'SDWIS5433.0WS001', \n",
    "            'EPALeg-0301102':'SDWIS5434.0WS002'}\n",
    "\n",
    "\n",
    "Stat.loc[:,'StationId'] = Stat['StationId'].apply(lambda x: matchDict.get(x,x),1)\n",
    "results.loc[:,'StationId'] = results['StationId'].apply(lambda x: matchDict.get(x,x),1)             \n",
    "results.loc[:,'SampleDate'] = pd.to_datetime(results.SampleDate)  "
   ]
  },
  {
   "cell_type": "code",
   "execution_count": 109,
   "metadata": {
    "collapsed": false
   },
   "outputs": [],
   "source": [
    "def depthFill(x):\n",
    "    if x > 0:\n",
    "        return x\n",
    "    \n",
    "def depthUnitFill(x):\n",
    "    if x > 0:\n",
    "        return 'ft'\n",
    "\n",
    "Stat.Depth = Stat['Depth_ft'].apply(lambda x: depthFill(x),1)\n",
    "Stat.DepthUnit = Stat['Depth_ft'].apply(lambda x: depthUnitFill(x),1)"
   ]
  },
  {
   "cell_type": "code",
   "execution_count": 110,
   "metadata": {
    "collapsed": true
   },
   "outputs": [],
   "source": [
    "WINdict = {'SDWIS3180.0WS001':435116, 'UGS-47.5':32700, 'UDAF-01566':30211, 'UGS-46.5':12420, \n",
    "           'USGS-414525111503705':427268, 'UDAF-01569':28327, 'SDWIS3112.0WS005':2694,\n",
    "           'UDAF-03162':434818, 'USGS-414328111493001':2823, 'USGS-414332111491001':2836,\n",
    "           'SDWIS3133.0WS004':2848, 'UGS-91.5':28647, 'UGS-95.5':35814, 'SDWIS3128.0WS004':18590,\n",
    "           'UGS-0102':426853, 'USGS-414115111490301':2722, 'UT4140521114843201':32975, '414029111483501':2721,\n",
    "           'SDWIS3088.0WS004':2741,'UGS-63.5':7126, 'UGS-0084':9639, 'USGS-414134111544701':434098, 'UGS-0070':35061,\n",
    "           'UGS-0029':32851,'UGS-0030':26663,'UGS-0034':29110, 'UGS-0055':3728, 'UGS-61.5':9280, \n",
    "           'SDWIS3129.0WS003':2816, 'UGS-0043':29329, 'UGS-0889':24493, 'UGS-44.5':28333}\n",
    " \n",
    "Stat.WIN = Stat['StationId'].apply(lambda x: WINdict.get(x,x),1)"
   ]
  },
  {
   "cell_type": "code",
   "execution_count": 111,
   "metadata": {
    "collapsed": false
   },
   "outputs": [],
   "source": [
    "results.SampleID = results.SampleId.apply(lambda x: str(x).replace(' ',''),1)\n",
    "results.StationId = results.StationId.apply(lambda x: str(x).replace(' ',''),1)\n",
    "Stat.StationId = Stat.StationId.apply(lambda x: str(x).replace(' ',''),1)"
   ]
  },
  {
   "cell_type": "code",
   "execution_count": 112,
   "metadata": {
    "collapsed": false
   },
   "outputs": [
    {
     "name": "stderr",
     "output_type": "stream",
     "text": [
      "c:\\python27\\arcgis10.3\\lib\\site-packages\\pandas\\util\\decorators.py:89: SettingWithCopyWarning: \n",
      "A value is trying to be set on a copy of a slice from a DataFrame\n",
      "\n",
      "See the caveats in the documentation: http://pandas.pydata.org/pandas-docs/stable/indexing.html#indexing-view-versus-copy\n",
      "  return func(*args, **kwargs)\n"
     ]
    }
   ],
   "source": [
    "results.drop_duplicates(subset = ['SampleId','ParAbb'],inplace=True)\n",
    "Stat.drop_duplicates(subset = ['StationId'],inplace=True)"
   ]
  },
  {
   "cell_type": "code",
   "execution_count": 113,
   "metadata": {
    "collapsed": false
   },
   "outputs": [],
   "source": [
    "resultsNoND = results[(~results['DetectCond'].isin(['<','>']))]"
   ]
  },
  {
   "cell_type": "markdown",
   "metadata": {
    "collapsed": true
   },
   "source": [
    "# Pivot Data"
   ]
  },
  {
   "cell_type": "code",
   "execution_count": 114,
   "metadata": {
    "collapsed": false
   },
   "outputs": [],
   "source": [
    "datap = resultsNoND.pivot(index='SampleId', columns='ParAbb', values='ResValue')"
   ]
  },
  {
   "cell_type": "code",
   "execution_count": 115,
   "metadata": {
    "collapsed": false
   },
   "outputs": [],
   "source": [
    "datap.dropna(subset=['SO4','Cond','Temp','TDS','pH_field'],how='all',inplace=True)\n",
    "datap.drop(datap.columns[[0]], axis=1, inplace=True)"
   ]
  },
  {
   "cell_type": "code",
   "execution_count": 116,
   "metadata": {
    "collapsed": false
   },
   "outputs": [
    {
     "data": {
      "text/plain": [
       "Index([u'Comment#Number.1',   u'Comment#Text.1',       u'DetectCond',\n",
       "                    u'MDL',          u'MDLUnit',            u'OrgId',\n",
       "                 u'ParAbb',            u'Param',      u'ResultValue',\n",
       "               u'SampFrac',        u'SampMedia',       u'SampleDate',\n",
       "               u'SampleId',        u'StationId',             u'Unit',\n",
       "               u'ResValue',         u'Censored'],\n",
       "      dtype='object')"
      ]
     },
     "execution_count": 116,
     "metadata": {},
     "output_type": "execute_result"
    }
   ],
   "source": [
    "results.columns"
   ]
  },
  {
   "cell_type": "code",
   "execution_count": 117,
   "metadata": {
    "collapsed": false
   },
   "outputs": [],
   "source": [
    "resdrop = [ 'DetectCond', u'Comment#Number.1',   u'Comment#Text.1', 'ResultValue', 'ResValue',\n",
    "             'MDL', 'MDLUnit', 'OrgId', 'Param', 'ResultValue', 'SampFrac',\n",
    "             'SampMedia', 'Unit', 'ParAbb']\n",
    "resPivot = results.drop(resdrop, axis=1)"
   ]
  },
  {
   "cell_type": "code",
   "execution_count": 118,
   "metadata": {
    "collapsed": true
   },
   "outputs": [],
   "source": [
    "datapiv = pd.merge(datap, resPivot, left_index=True, right_on='SampleId',how='left')\n",
    "datapiv.drop_duplicates(subset=['SampleId'],inplace=True)"
   ]
  },
  {
   "cell_type": "markdown",
   "metadata": {},
   "source": [
    "# Add GIS Information"
   ]
  },
  {
   "cell_type": "code",
   "execution_count": 119,
   "metadata": {
    "collapsed": false
   },
   "outputs": [],
   "source": [
    "def projy(x):\n",
    "    inProj = Proj(init='epsg:4326') #WGS84\n",
    "    outProj = Proj(init='epsg:2152') #NAD83(CSRS98) / UTM zone 12N\n",
    "    x2,y2 = transform(inProj,outProj,x[0],x[1])\n",
    "    return y2\n",
    "\n",
    "def projx(x):\n",
    "    inProj = Proj(init='epsg:4326') #WGS84\n",
    "    outProj = Proj(init='epsg:2152') #NAD83(CSRS98) / UTM zone 12N\n",
    "    x2,y2 = transform(inProj,outProj,x[0],x[1])\n",
    "    return x2\n",
    "\n",
    "def getelev(x):\n",
    "    elev = \"http://ned.usgs.gov/epqs/pqs.php?x=\"+str(x[0])+\"&y=\"+str(x[1])+\"&units=Meters&output=xml\"\n",
    "    response = urllib2.urlopen(elev)\n",
    "    html = response.read()\n",
    "    d = xmltodict.parse(html)\n",
    "    return float(d['USGS_Elevation_Point_Query_Service']['Elevation_Query']['Elevation'])\n",
    "\n",
    "Stat.loc[:,'UTM_X'] = Stat[['Lon_X','Lat_Y']].apply(lambda x: projx(x),1)\n",
    "Stat.loc[:,'UTM_Y'] = Stat[['Lon_X','Lat_Y']].apply(lambda x: projy(x),1)\n",
    "Stat.loc[:,'Elev'] = Stat[['Lon_X','Lat_Y']].apply(lambda x: getelev(x),1)"
   ]
  },
  {
   "cell_type": "code",
   "execution_count": 120,
   "metadata": {
    "collapsed": false
   },
   "outputs": [],
   "source": [
    "pivStats = Stat.drop(['Aquifer', 'ConstDate', 'Depth', 'DepthUnit','AquiferType', 'HorCollMeth', 'Geology',\n",
    "                         'HoleDUnit', 'HoleDepth', 'HUC8', 'HorAccUnit', 'HoleDUnit', 'SCREENDEPT',\n",
    "                         'ElevUnit', 'ElevRef', 'ElevAcc', 'ElevMeth','CountyCode', 'ElevAccUnit',\n",
    "                         'HorAcc', 'StateCode', 'HorRef',\n",
    "                         'OrgId', 'StationComment'], axis=1)"
   ]
  },
  {
   "cell_type": "code",
   "execution_count": 121,
   "metadata": {
    "collapsed": true
   },
   "outputs": [],
   "source": [
    "pivStats.reset_index(inplace=True)\n",
    "pivStats.set_index(\"StationId\",inplace=True)"
   ]
  },
  {
   "cell_type": "code",
   "execution_count": 122,
   "metadata": {
    "collapsed": false
   },
   "outputs": [],
   "source": [
    "pivdata = pd.merge(datapiv, pivStats, left_on=\"StationId\", right_index=True, how='left')"
   ]
  },
  {
   "cell_type": "code",
   "execution_count": 123,
   "metadata": {
    "collapsed": false
   },
   "outputs": [],
   "source": [
    "pivdata.drop_duplicates(subset=['SampleId'],inplace=True)"
   ]
  },
  {
   "cell_type": "markdown",
   "metadata": {},
   "source": [
    "# Convert and Balance Samples"
   ]
  },
  {
   "cell_type": "code",
   "execution_count": 124,
   "metadata": {
    "collapsed": false
   },
   "outputs": [
    {
     "name": "stdout",
     "output_type": "stream",
     "text": [
      "1.21967724597\n",
      "-0.0647047647054\n"
     ]
    },
    {
     "data": {
      "text/plain": [
       "[<matplotlib.lines.Line2D at 0x1b719850>]"
      ]
     },
     "execution_count": 124,
     "metadata": {},
     "output_type": "execute_result"
    },
    {
     "data": {
      "image/png": "[encoded data removed]",
      "text/plain": [
       "<matplotlib.figure.Figure at 0x19133d10>"
      ]
     },
     "metadata": {},
     "output_type": "display_data"
    }
   ],
   "source": [
    "alkmatch = pivdata[(pivdata['Meas_Alk']>0) & (pivdata['HCO3']>0)]\n",
    "\n",
    "x = [np.float64(i) for i in alkmatch['Meas_Alk'].values]\n",
    "y = [np.float64(i) for i in alkmatch['HCO3'].values]\n",
    "\n",
    "X = sm.add_constant(x)\n",
    "res = sm.RLM(y,X).fit()\n",
    "b = res.params[0]\n",
    "m = res.params[1]\n",
    "print m\n",
    "print b\n",
    "\n",
    "plt.figure()\n",
    "plt.scatter(x,y)\n",
    "plt.plot(x, res.fittedvalues, color='red')"
   ]
  },
  {
   "cell_type": "code",
   "execution_count": 125,
   "metadata": {
    "collapsed": true
   },
   "outputs": [],
   "source": [
    "def HCO3fix(x):\n",
    "    if x[0]>0:\n",
    "        return x[0]\n",
    "    elif x[1]>0:\n",
    "        return x[1]*m+b\n",
    "    else:\n",
    "        pass\n",
    "\n",
    "pivdata['HCO3'] = pivdata[['HCO3','Meas_Alk']].apply(lambda x: HCO3fix(x),1)    "
   ]
  },
  {
   "cell_type": "code",
   "execution_count": 126,
   "metadata": {
    "collapsed": false
   },
   "outputs": [],
   "source": [
    "parlist = ['Ca','Mg','Na','K','Cl','HCO3','CO3','SO4','NO3','NO2','CO2','TDS','Si','Zn_tot','As_tot']\n",
    "\n",
    "def removeInf(x):\n",
    "    if x <= 0:\n",
    "        return np.nan\n",
    "    else:\n",
    "        return np.log(x)\n",
    "\n",
    "for i in parlist:\n",
    "    if i in pivdata.columns:\n",
    "        pivdata[i+'Ln'] = pivdata[i].apply(lambda x: removeInf(x),1)\n",
    "\n",
    "d = {'Ca':0.04990269, 'Mg':0.082287595, 'Na':0.043497608, 'K':0.02557656, 'Cl':0.028206596, 'HCO3':0.016388838, \n",
    "     'CO3':0.033328223, 'SO4':0.020833333, 'NO2':0.021736513, 'NO3':0.016129032}\n",
    "chemlist = ['Ca','Mg','Na','K','Cl','HCO3','CO3','SO4','NO3','NO2']\n",
    "\n",
    "for i in chemlist:\n",
    "    if i in pivdata.columns:\n",
    "        pivdata[i+'Meq'] = pivdata.loc[:,i] * d[i]\n",
    "\n",
    "pivdata.drop_duplicates(subset = ['StationId','SampleDate'], inplace=True)"
   ]
  },
  {
   "cell_type": "code",
   "execution_count": 127,
   "metadata": {
    "collapsed": false
   },
   "outputs": [],
   "source": [
    "def sumIons(x):\n",
    "    b = 0\n",
    "    for i in x:\n",
    "        if i>0:\n",
    "            b = i + b\n",
    "        else:\n",
    "            b = b\n",
    "    return b\n",
    "\n",
    "pivdata['Anions'] = pivdata[['ClMeq','HCO3Meq','SO4Meq','CO3Meq']].apply(lambda x: sumIons(x),1)\n",
    "pivdata['Cations'] = pivdata[['KMeq','MgMeq','NaMeq','CaMeq']].apply(lambda x: sumIons(x),1)\n",
    "pivdata['EC'] = pivdata['Anions'] - pivdata['Cations'] \n",
    "pivdata['CBE'] = ((pivdata['Cations']-np.abs(pivdata['Anions']))/(pivdata['Cations']+np.abs(pivdata['Anions'])))*100"
   ]
  },
  {
   "cell_type": "markdown",
   "metadata": {},
   "source": [
    "# Subset Data"
   ]
  },
  {
   "cell_type": "code",
   "execution_count": 128,
   "metadata": {
    "collapsed": false
   },
   "outputs": [],
   "source": [
    "#piperdata = pivdata.dropna(subset = ['Ca','Na','Cl','Mg','SO4','HCO3'], how='any')\n",
    "#piperdata.drop_duplicates(subset=['SampleId'], inplace=True)"
   ]
  },
  {
   "cell_type": "code",
   "execution_count": 129,
   "metadata": {
    "collapsed": false
   },
   "outputs": [
    {
     "name": "stdout",
     "output_type": "stream",
     "text": [
      "13728\n"
     ]
    }
   ],
   "source": [
    "print(len(pivdata))"
   ]
  },
  {
   "cell_type": "code",
   "execution_count": 130,
   "metadata": {
    "collapsed": false
   },
   "outputs": [],
   "source": [
    "pivgrps = pivdata.groupby(['StationId']).median()\n",
    "pivGoodData = pivdata[abs(pivdata.CBE)<=5]\n",
    "pipergrps = pivGoodData.groupby(['StationId']).median()\n",
    "pipergrps['sampCount'] = pivGoodData.groupby(['StationId'])['CBE'].agg({'cnt':(lambda x: np.count_nonzero(~np.isnan(x)))}).reset_index#squeeze=True"
   ]
  },
  {
   "cell_type": "code",
   "execution_count": 133,
   "metadata": {
    "collapsed": false
   },
   "outputs": [],
   "source": [
    "pivgrp = pd.merge(pivgrps, pivStats, left_index=True, right_index=True, how='left')\n",
    "pipergrp = pd.merge(pipergrps, pivStats, left_index=True, right_index=True, how='left')"
   ]
  },
  {
   "cell_type": "code",
   "execution_count": 134,
   "metadata": {
    "collapsed": true
   },
   "outputs": [],
   "source": [
    "pivgrp = pivgrp.reset_index().drop_duplicates(subset=['StationId']).set_index('StationId')"
   ]
  },
  {
   "cell_type": "code",
   "execution_count": 135,
   "metadata": {
    "collapsed": false
   },
   "outputs": [],
   "source": [
    "princpiv = pivGoodData[(pivGoodData.SampleDate < datetime.datetime(2014,3,10))&(pivGoodData.UTM_X < 435000) & (pivGoodData.UTM_X > 422000) \\\n",
    "                   & (pivGoodData.UTM_Y > 4608000) & (pivGoodData.UTM_Y < 4634000) & (pivGoodData.StationType=='Well')]\n",
    "princpiv.drop_duplicates(subset = ['SampleId'],inplace=True)"
   ]
  },
  {
   "cell_type": "code",
   "execution_count": 136,
   "metadata": {
    "collapsed": false
   },
   "outputs": [],
   "source": [
    "ResOldPrinc = resultsNoND[(resultsNoND.SampleId.isin(princpiv.SampleId))]"
   ]
  },
  {
   "cell_type": "code",
   "execution_count": 137,
   "metadata": {
    "collapsed": true
   },
   "outputs": [],
   "source": [
    "GWStat = Stat[Stat.StationType.isin(['Well','Spring'])]\n",
    "GWRes = results[results.StationId.isin(list(GWStat.StationId))]"
   ]
  },
  {
   "cell_type": "code",
   "execution_count": 138,
   "metadata": {
    "collapsed": true
   },
   "outputs": [],
   "source": [
    "Nitrate = GWRes[GWRes['ParAbb'].isin(['N','NO2','NO3','NH4'])]\n",
    "NitrateStat = GWStat[GWStat.StationId.isin(list(Nitrate.StationId))]"
   ]
  },
  {
   "cell_type": "markdown",
   "metadata": {},
   "source": [
    "# Summarize & Plot Data"
   ]
  },
  {
   "cell_type": "code",
   "execution_count": 139,
   "metadata": {
    "collapsed": false
   },
   "outputs": [],
   "source": [
    "ParrAbbSummary = ResOldPrinc.groupby('ParAbb')['ResValue'].agg({'min':np.min, 'mean':np.mean,\n",
    "                                                                'qrt5':(lambda x: np.percentile(x,q=5)),\n",
    "                                                                'qrt95':(lambda x: np.percentile(x,q=95)),\n",
    "                                                                'range':(lambda x: np.max(x)-np.min(x)),   \n",
    "                                                                'lqrt':(lambda x: np.percentile(x,q=25)),\n",
    "                                                                   'median':np.median, \n",
    "                                                                   'uqrt':(lambda x: np.percentile(x,q=75)), \n",
    "                                                                   'max':np.max, 'std':np.std, \n",
    "                                                                   'cnt':(lambda x: np.count_nonzero(~np.isnan(x)))}).reset_index()"
   ]
  },
  {
   "cell_type": "code",
   "execution_count": 140,
   "metadata": {
    "collapsed": false
   },
   "outputs": [
    {
     "data": {
      "text/html": [
       "<div>\n",
       "<table border=\"1\" class=\"dataframe\">\n",
       "  <thead>\n",
       "    <tr style=\"text-align: right;\">\n",
       "      <th></th>\n",
       "      <th>ParAbb</th>\n",
       "      <th>qrt95</th>\n",
       "      <th>max</th>\n",
       "      <th>uqrt</th>\n",
       "      <th>std</th>\n",
       "      <th>cnt</th>\n",
       "      <th>min</th>\n",
       "      <th>median</th>\n",
       "      <th>range</th>\n",
       "      <th>qrt5</th>\n",
       "      <th>lqrt</th>\n",
       "      <th>mean</th>\n",
       "    </tr>\n",
       "  </thead>\n",
       "  <tbody>\n",
       "    <tr>\n",
       "      <th>0</th>\n",
       "      <td>18O</td>\n",
       "      <td>-16.308000</td>\n",
       "      <td>-16.260000</td>\n",
       "      <td>-16.500000</td>\n",
       "      <td>0.286217</td>\n",
       "      <td>5</td>\n",
       "      <td>-16.940000</td>\n",
       "      <td>-16.740000</td>\n",
       "      <td>0.680000</td>\n",
       "      <td>-16.932000</td>\n",
       "      <td>-16.900000</td>\n",
       "      <td>-16.668000</td>\n",
       "    </tr>\n",
       "    <tr>\n",
       "      <th>1</th>\n",
       "      <td>2H</td>\n",
       "      <td>-126.000000</td>\n",
       "      <td>-126.000000</td>\n",
       "      <td>-126.000000</td>\n",
       "      <td>1.949359</td>\n",
       "      <td>5</td>\n",
       "      <td>-130.000000</td>\n",
       "      <td>-126.000000</td>\n",
       "      <td>4.000000</td>\n",
       "      <td>-129.800000</td>\n",
       "      <td>-129.000000</td>\n",
       "      <td>-127.400000</td>\n",
       "    </tr>\n",
       "    <tr>\n",
       "      <th>2</th>\n",
       "      <td>Ag_diss</td>\n",
       "      <td>0.002000</td>\n",
       "      <td>0.002000</td>\n",
       "      <td>0.002000</td>\n",
       "      <td>0.000000</td>\n",
       "      <td>2</td>\n",
       "      <td>0.002000</td>\n",
       "      <td>0.002000</td>\n",
       "      <td>0.000000</td>\n",
       "      <td>0.002000</td>\n",
       "      <td>0.002000</td>\n",
       "      <td>0.002000</td>\n",
       "    </tr>\n",
       "    <tr>\n",
       "      <th>3</th>\n",
       "      <td>Ag_tot</td>\n",
       "      <td>0.004400</td>\n",
       "      <td>0.010000</td>\n",
       "      <td>0.002000</td>\n",
       "      <td>0.002438</td>\n",
       "      <td>15</td>\n",
       "      <td>-0.000058</td>\n",
       "      <td>0.002000</td>\n",
       "      <td>0.010058</td>\n",
       "      <td>-0.000056</td>\n",
       "      <td>0.000473</td>\n",
       "      <td>0.001785</td>\n",
       "    </tr>\n",
       "    <tr>\n",
       "      <th>4</th>\n",
       "      <td>Al_tot</td>\n",
       "      <td>0.306000</td>\n",
       "      <td>0.480000</td>\n",
       "      <td>0.100000</td>\n",
       "      <td>0.138517</td>\n",
       "      <td>13</td>\n",
       "      <td>-0.012400</td>\n",
       "      <td>0.010000</td>\n",
       "      <td>0.492400</td>\n",
       "      <td>-0.012160</td>\n",
       "      <td>-0.006300</td>\n",
       "      <td>0.070623</td>\n",
       "    </tr>\n",
       "    <tr>\n",
       "      <th>5</th>\n",
       "      <td>As_diss</td>\n",
       "      <td>0.006700</td>\n",
       "      <td>0.007000</td>\n",
       "      <td>0.005500</td>\n",
       "      <td>0.004243</td>\n",
       "      <td>2</td>\n",
       "      <td>0.001000</td>\n",
       "      <td>0.004000</td>\n",
       "      <td>0.006000</td>\n",
       "      <td>0.001300</td>\n",
       "      <td>0.002500</td>\n",
       "      <td>0.004000</td>\n",
       "    </tr>\n",
       "    <tr>\n",
       "      <th>6</th>\n",
       "      <td>As_tot</td>\n",
       "      <td>0.010000</td>\n",
       "      <td>0.023500</td>\n",
       "      <td>0.001725</td>\n",
       "      <td>0.004079</td>\n",
       "      <td>122</td>\n",
       "      <td>0.000000</td>\n",
       "      <td>0.000615</td>\n",
       "      <td>0.023500</td>\n",
       "      <td>0.000000</td>\n",
       "      <td>0.000000</td>\n",
       "      <td>0.002073</td>\n",
       "    </tr>\n",
       "    <tr>\n",
       "      <th>7</th>\n",
       "      <td>B</td>\n",
       "      <td>0.207750</td>\n",
       "      <td>0.800000</td>\n",
       "      <td>0.103750</td>\n",
       "      <td>0.122519</td>\n",
       "      <td>70</td>\n",
       "      <td>0.000000</td>\n",
       "      <td>0.040000</td>\n",
       "      <td>0.800000</td>\n",
       "      <td>0.000053</td>\n",
       "      <td>0.020000</td>\n",
       "      <td>0.082189</td>\n",
       "    </tr>\n",
       "    <tr>\n",
       "      <th>8</th>\n",
       "      <td>Ba</td>\n",
       "      <td>0.194000</td>\n",
       "      <td>0.270000</td>\n",
       "      <td>0.125400</td>\n",
       "      <td>0.075610</td>\n",
       "      <td>33</td>\n",
       "      <td>0.000050</td>\n",
       "      <td>0.050000</td>\n",
       "      <td>0.269950</td>\n",
       "      <td>0.000050</td>\n",
       "      <td>0.000090</td>\n",
       "      <td>0.071357</td>\n",
       "    </tr>\n",
       "    <tr>\n",
       "      <th>9</th>\n",
       "      <td>Be</td>\n",
       "      <td>-0.000012</td>\n",
       "      <td>-0.000012</td>\n",
       "      <td>-0.000012</td>\n",
       "      <td>0.000001</td>\n",
       "      <td>4</td>\n",
       "      <td>-0.000015</td>\n",
       "      <td>-0.000013</td>\n",
       "      <td>0.000003</td>\n",
       "      <td>-0.000015</td>\n",
       "      <td>-0.000013</td>\n",
       "      <td>-0.000013</td>\n",
       "    </tr>\n",
       "    <tr>\n",
       "      <th>10</th>\n",
       "      <td>Br</td>\n",
       "      <td>0.060800</td>\n",
       "      <td>0.072000</td>\n",
       "      <td>0.024000</td>\n",
       "      <td>0.014534</td>\n",
       "      <td>37</td>\n",
       "      <td>0.012000</td>\n",
       "      <td>0.020000</td>\n",
       "      <td>0.060000</td>\n",
       "      <td>0.013000</td>\n",
       "      <td>0.016000</td>\n",
       "      <td>0.024622</td>\n",
       "    </tr>\n",
       "    <tr>\n",
       "      <th>11</th>\n",
       "      <td>CO2</td>\n",
       "      <td>190.000000</td>\n",
       "      <td>234.000000</td>\n",
       "      <td>18.250000</td>\n",
       "      <td>48.196493</td>\n",
       "      <td>180</td>\n",
       "      <td>0.000000</td>\n",
       "      <td>9.000000</td>\n",
       "      <td>234.000000</td>\n",
       "      <td>1.860000</td>\n",
       "      <td>4.950000</td>\n",
       "      <td>24.850556</td>\n",
       "    </tr>\n",
       "    <tr>\n",
       "      <th>12</th>\n",
       "      <td>CO3</td>\n",
       "      <td>2.300000</td>\n",
       "      <td>12.000000</td>\n",
       "      <td>1.000000</td>\n",
       "      <td>1.946735</td>\n",
       "      <td>58</td>\n",
       "      <td>0.000000</td>\n",
       "      <td>0.000000</td>\n",
       "      <td>12.000000</td>\n",
       "      <td>0.000000</td>\n",
       "      <td>0.000000</td>\n",
       "      <td>0.706897</td>\n",
       "    </tr>\n",
       "    <tr>\n",
       "      <th>13</th>\n",
       "      <td>Ca</td>\n",
       "      <td>81.735000</td>\n",
       "      <td>225.000000</td>\n",
       "      <td>65.900000</td>\n",
       "      <td>19.116112</td>\n",
       "      <td>214</td>\n",
       "      <td>23.000000</td>\n",
       "      <td>55.000000</td>\n",
       "      <td>202.000000</td>\n",
       "      <td>37.000000</td>\n",
       "      <td>46.000000</td>\n",
       "      <td>57.149327</td>\n",
       "    </tr>\n",
       "    <tr>\n",
       "      <th>14</th>\n",
       "      <td>Cd_diss</td>\n",
       "      <td>0.001000</td>\n",
       "      <td>0.001000</td>\n",
       "      <td>0.001000</td>\n",
       "      <td>0.000000</td>\n",
       "      <td>3</td>\n",
       "      <td>0.001000</td>\n",
       "      <td>0.001000</td>\n",
       "      <td>0.000000</td>\n",
       "      <td>0.001000</td>\n",
       "      <td>0.001000</td>\n",
       "      <td>0.001000</td>\n",
       "    </tr>\n",
       "    <tr>\n",
       "      <th>15</th>\n",
       "      <td>Cd_tot</td>\n",
       "      <td>0.001000</td>\n",
       "      <td>0.010000</td>\n",
       "      <td>0.001000</td>\n",
       "      <td>0.001987</td>\n",
       "      <td>23</td>\n",
       "      <td>0.000026</td>\n",
       "      <td>0.001000</td>\n",
       "      <td>0.009974</td>\n",
       "      <td>0.000030</td>\n",
       "      <td>0.000103</td>\n",
       "      <td>0.001107</td>\n",
       "    </tr>\n",
       "    <tr>\n",
       "      <th>16</th>\n",
       "      <td>Cl</td>\n",
       "      <td>50.700000</td>\n",
       "      <td>475.000000</td>\n",
       "      <td>15.950000</td>\n",
       "      <td>65.534579</td>\n",
       "      <td>214</td>\n",
       "      <td>0.000000</td>\n",
       "      <td>9.465000</td>\n",
       "      <td>475.000000</td>\n",
       "      <td>3.895000</td>\n",
       "      <td>7.025000</td>\n",
       "      <td>26.257299</td>\n",
       "    </tr>\n",
       "    <tr>\n",
       "      <th>17</th>\n",
       "      <td>Co</td>\n",
       "      <td>0.000079</td>\n",
       "      <td>0.000080</td>\n",
       "      <td>0.000074</td>\n",
       "      <td>0.000015</td>\n",
       "      <td>7</td>\n",
       "      <td>0.000040</td>\n",
       "      <td>0.000062</td>\n",
       "      <td>0.000040</td>\n",
       "      <td>0.000043</td>\n",
       "      <td>0.000051</td>\n",
       "      <td>0.000062</td>\n",
       "    </tr>\n",
       "    <tr>\n",
       "      <th>18</th>\n",
       "      <td>Cond</td>\n",
       "      <td>744.000000</td>\n",
       "      <td>1710.000000</td>\n",
       "      <td>560.750000</td>\n",
       "      <td>197.018454</td>\n",
       "      <td>190</td>\n",
       "      <td>280.000000</td>\n",
       "      <td>495.500000</td>\n",
       "      <td>1430.000000</td>\n",
       "      <td>381.750000</td>\n",
       "      <td>450.500000</td>\n",
       "      <td>541.826316</td>\n",
       "    </tr>\n",
       "    <tr>\n",
       "      <th>19</th>\n",
       "      <td>Cr_VI_diss</td>\n",
       "      <td>0.005000</td>\n",
       "      <td>0.006000</td>\n",
       "      <td>0.003000</td>\n",
       "      <td>0.002046</td>\n",
       "      <td>66</td>\n",
       "      <td>0.000000</td>\n",
       "      <td>0.000000</td>\n",
       "      <td>0.006000</td>\n",
       "      <td>0.000000</td>\n",
       "      <td>0.000000</td>\n",
       "      <td>0.001424</td>\n",
       "    </tr>\n",
       "    <tr>\n",
       "      <th>20</th>\n",
       "      <td>Cr_diss</td>\n",
       "      <td>0.012900</td>\n",
       "      <td>0.030000</td>\n",
       "      <td>0.000954</td>\n",
       "      <td>0.005148</td>\n",
       "      <td>95</td>\n",
       "      <td>-0.000084</td>\n",
       "      <td>0.000000</td>\n",
       "      <td>0.030084</td>\n",
       "      <td>0.000000</td>\n",
       "      <td>0.000000</td>\n",
       "      <td>0.002205</td>\n",
       "    </tr>\n",
       "    <tr>\n",
       "      <th>21</th>\n",
       "      <td>Cu_diss</td>\n",
       "      <td>0.059350</td>\n",
       "      <td>0.470000</td>\n",
       "      <td>0.001400</td>\n",
       "      <td>0.060374</td>\n",
       "      <td>64</td>\n",
       "      <td>0.000000</td>\n",
       "      <td>0.000000</td>\n",
       "      <td>0.470000</td>\n",
       "      <td>0.000000</td>\n",
       "      <td>0.000000</td>\n",
       "      <td>0.013659</td>\n",
       "    </tr>\n",
       "    <tr>\n",
       "      <th>22</th>\n",
       "      <td>Cu_tot</td>\n",
       "      <td>0.176360</td>\n",
       "      <td>1.000000</td>\n",
       "      <td>0.020000</td>\n",
       "      <td>0.182606</td>\n",
       "      <td>36</td>\n",
       "      <td>0.000000</td>\n",
       "      <td>0.004300</td>\n",
       "      <td>1.000000</td>\n",
       "      <td>0.000000</td>\n",
       "      <td>0.000000</td>\n",
       "      <td>0.050635</td>\n",
       "    </tr>\n",
       "    <tr>\n",
       "      <th>23</th>\n",
       "      <td>DO</td>\n",
       "      <td>79.250000</td>\n",
       "      <td>80.000000</td>\n",
       "      <td>67.000000</td>\n",
       "      <td>31.922967</td>\n",
       "      <td>16</td>\n",
       "      <td>0.100000</td>\n",
       "      <td>8.600000</td>\n",
       "      <td>79.900000</td>\n",
       "      <td>0.850000</td>\n",
       "      <td>6.675000</td>\n",
       "      <td>28.837500</td>\n",
       "    </tr>\n",
       "    <tr>\n",
       "      <th>24</th>\n",
       "      <td>F</td>\n",
       "      <td>0.400000</td>\n",
       "      <td>0.900000</td>\n",
       "      <td>0.220000</td>\n",
       "      <td>0.113394</td>\n",
       "      <td>192</td>\n",
       "      <td>0.000000</td>\n",
       "      <td>0.150000</td>\n",
       "      <td>0.900000</td>\n",
       "      <td>0.046500</td>\n",
       "      <td>0.100000</td>\n",
       "      <td>0.176339</td>\n",
       "    </tr>\n",
       "    <tr>\n",
       "      <th>25</th>\n",
       "      <td>Fe_diss</td>\n",
       "      <td>0.150000</td>\n",
       "      <td>0.460000</td>\n",
       "      <td>0.026000</td>\n",
       "      <td>0.095784</td>\n",
       "      <td>26</td>\n",
       "      <td>0.000000</td>\n",
       "      <td>0.010000</td>\n",
       "      <td>0.460000</td>\n",
       "      <td>0.000000</td>\n",
       "      <td>0.000000</td>\n",
       "      <td>0.040654</td>\n",
       "    </tr>\n",
       "    <tr>\n",
       "      <th>26</th>\n",
       "      <td>Fe_tot</td>\n",
       "      <td>0.982000</td>\n",
       "      <td>3.000000</td>\n",
       "      <td>0.161000</td>\n",
       "      <td>0.482084</td>\n",
       "      <td>147</td>\n",
       "      <td>0.000000</td>\n",
       "      <td>0.030000</td>\n",
       "      <td>3.000000</td>\n",
       "      <td>0.000000</td>\n",
       "      <td>0.006800</td>\n",
       "      <td>0.209503</td>\n",
       "    </tr>\n",
       "    <tr>\n",
       "      <th>27</th>\n",
       "      <td>HCO3</td>\n",
       "      <td>380.000000</td>\n",
       "      <td>561.103136</td>\n",
       "      <td>307.000000</td>\n",
       "      <td>58.829430</td>\n",
       "      <td>161</td>\n",
       "      <td>166.000000</td>\n",
       "      <td>266.000000</td>\n",
       "      <td>395.103136</td>\n",
       "      <td>202.000000</td>\n",
       "      <td>245.000000</td>\n",
       "      <td>281.360475</td>\n",
       "    </tr>\n",
       "    <tr>\n",
       "      <th>28</th>\n",
       "      <td>Hg_tot</td>\n",
       "      <td>0.000200</td>\n",
       "      <td>0.000200</td>\n",
       "      <td>0.000200</td>\n",
       "      <td>0.000070</td>\n",
       "      <td>16</td>\n",
       "      <td>0.000013</td>\n",
       "      <td>0.000100</td>\n",
       "      <td>0.000187</td>\n",
       "      <td>0.000015</td>\n",
       "      <td>0.000082</td>\n",
       "      <td>0.000112</td>\n",
       "    </tr>\n",
       "    <tr>\n",
       "      <th>29</th>\n",
       "      <td>K</td>\n",
       "      <td>7.212800</td>\n",
       "      <td>16.203000</td>\n",
       "      <td>2.720000</td>\n",
       "      <td>2.343246</td>\n",
       "      <td>185</td>\n",
       "      <td>0.000000</td>\n",
       "      <td>1.800000</td>\n",
       "      <td>16.203000</td>\n",
       "      <td>0.260000</td>\n",
       "      <td>1.000000</td>\n",
       "      <td>2.444834</td>\n",
       "    </tr>\n",
       "    <tr>\n",
       "      <th>...</th>\n",
       "      <td>...</td>\n",
       "      <td>...</td>\n",
       "      <td>...</td>\n",
       "      <td>...</td>\n",
       "      <td>...</td>\n",
       "      <td>...</td>\n",
       "      <td>...</td>\n",
       "      <td>...</td>\n",
       "      <td>...</td>\n",
       "      <td>...</td>\n",
       "      <td>...</td>\n",
       "      <td>...</td>\n",
       "    </tr>\n",
       "    <tr>\n",
       "      <th>31</th>\n",
       "      <td>Meas_Alk</td>\n",
       "      <td>311.550000</td>\n",
       "      <td>355.000000</td>\n",
       "      <td>253.000000</td>\n",
       "      <td>51.585236</td>\n",
       "      <td>110</td>\n",
       "      <td>0.000000</td>\n",
       "      <td>235.000000</td>\n",
       "      <td>355.000000</td>\n",
       "      <td>174.300000</td>\n",
       "      <td>208.250000</td>\n",
       "      <td>234.990909</td>\n",
       "    </tr>\n",
       "    <tr>\n",
       "      <th>32</th>\n",
       "      <td>Meas_Hardness</td>\n",
       "      <td>334.600000</td>\n",
       "      <td>810.000000</td>\n",
       "      <td>257.000000</td>\n",
       "      <td>136.063049</td>\n",
       "      <td>208</td>\n",
       "      <td>0.000000</td>\n",
       "      <td>200.000000</td>\n",
       "      <td>810.000000</td>\n",
       "      <td>0.000000</td>\n",
       "      <td>0.000000</td>\n",
       "      <td>161.303558</td>\n",
       "    </tr>\n",
       "    <tr>\n",
       "      <th>33</th>\n",
       "      <td>Mg</td>\n",
       "      <td>38.350000</td>\n",
       "      <td>65.066000</td>\n",
       "      <td>28.000000</td>\n",
       "      <td>7.379735</td>\n",
       "      <td>214</td>\n",
       "      <td>9.000000</td>\n",
       "      <td>23.050000</td>\n",
       "      <td>56.066000</td>\n",
       "      <td>17.300000</td>\n",
       "      <td>21.000000</td>\n",
       "      <td>25.359123</td>\n",
       "    </tr>\n",
       "    <tr>\n",
       "      <th>34</th>\n",
       "      <td>Mn_diss</td>\n",
       "      <td>0.010000</td>\n",
       "      <td>0.010000</td>\n",
       "      <td>0.010000</td>\n",
       "      <td>0.000000</td>\n",
       "      <td>2</td>\n",
       "      <td>0.010000</td>\n",
       "      <td>0.010000</td>\n",
       "      <td>0.000000</td>\n",
       "      <td>0.010000</td>\n",
       "      <td>0.010000</td>\n",
       "      <td>0.010000</td>\n",
       "    </tr>\n",
       "    <tr>\n",
       "      <th>35</th>\n",
       "      <td>Mn_tot</td>\n",
       "      <td>0.151200</td>\n",
       "      <td>0.221000</td>\n",
       "      <td>0.060000</td>\n",
       "      <td>0.047480</td>\n",
       "      <td>73</td>\n",
       "      <td>0.000000</td>\n",
       "      <td>0.010000</td>\n",
       "      <td>0.221000</td>\n",
       "      <td>0.000000</td>\n",
       "      <td>0.000153</td>\n",
       "      <td>0.032137</td>\n",
       "    </tr>\n",
       "    <tr>\n",
       "      <th>36</th>\n",
       "      <td>Mo_tot</td>\n",
       "      <td>0.004500</td>\n",
       "      <td>0.010000</td>\n",
       "      <td>0.000771</td>\n",
       "      <td>0.002214</td>\n",
       "      <td>35</td>\n",
       "      <td>0.000342</td>\n",
       "      <td>0.000681</td>\n",
       "      <td>0.009658</td>\n",
       "      <td>0.000410</td>\n",
       "      <td>0.000501</td>\n",
       "      <td>0.001218</td>\n",
       "    </tr>\n",
       "    <tr>\n",
       "      <th>37</th>\n",
       "      <td>N</td>\n",
       "      <td>4.206000</td>\n",
       "      <td>5.780000</td>\n",
       "      <td>1.700000</td>\n",
       "      <td>1.293378</td>\n",
       "      <td>117</td>\n",
       "      <td>0.000000</td>\n",
       "      <td>0.800000</td>\n",
       "      <td>5.780000</td>\n",
       "      <td>0.128000</td>\n",
       "      <td>0.360000</td>\n",
       "      <td>1.241496</td>\n",
       "    </tr>\n",
       "    <tr>\n",
       "      <th>38</th>\n",
       "      <td>NH4</td>\n",
       "      <td>0.476560</td>\n",
       "      <td>2.820720</td>\n",
       "      <td>0.004508</td>\n",
       "      <td>0.360779</td>\n",
       "      <td>67</td>\n",
       "      <td>0.000000</td>\n",
       "      <td>0.000000</td>\n",
       "      <td>2.820720</td>\n",
       "      <td>0.000000</td>\n",
       "      <td>0.000000</td>\n",
       "      <td>0.097984</td>\n",
       "    </tr>\n",
       "    <tr>\n",
       "      <th>39</th>\n",
       "      <td>NO2</td>\n",
       "      <td>1.435545</td>\n",
       "      <td>13.797000</td>\n",
       "      <td>0.000000</td>\n",
       "      <td>1.678028</td>\n",
       "      <td>70</td>\n",
       "      <td>0.000000</td>\n",
       "      <td>0.000000</td>\n",
       "      <td>13.797000</td>\n",
       "      <td>0.000000</td>\n",
       "      <td>0.000000</td>\n",
       "      <td>0.330987</td>\n",
       "    </tr>\n",
       "    <tr>\n",
       "      <th>40</th>\n",
       "      <td>NO3</td>\n",
       "      <td>17.669173</td>\n",
       "      <td>33.645200</td>\n",
       "      <td>4.736890</td>\n",
       "      <td>6.103468</td>\n",
       "      <td>154</td>\n",
       "      <td>0.000000</td>\n",
       "      <td>2.021811</td>\n",
       "      <td>33.645200</td>\n",
       "      <td>0.095989</td>\n",
       "      <td>0.500000</td>\n",
       "      <td>4.392682</td>\n",
       "    </tr>\n",
       "    <tr>\n",
       "      <th>41</th>\n",
       "      <td>Na</td>\n",
       "      <td>52.123000</td>\n",
       "      <td>204.000000</td>\n",
       "      <td>24.000000</td>\n",
       "      <td>28.128634</td>\n",
       "      <td>219</td>\n",
       "      <td>1.000000</td>\n",
       "      <td>11.000000</td>\n",
       "      <td>203.000000</td>\n",
       "      <td>4.000000</td>\n",
       "      <td>6.695000</td>\n",
       "      <td>19.864139</td>\n",
       "    </tr>\n",
       "    <tr>\n",
       "      <th>42</th>\n",
       "      <td>Ni_diss</td>\n",
       "      <td>0.014750</td>\n",
       "      <td>0.015000</td>\n",
       "      <td>0.013750</td>\n",
       "      <td>0.003536</td>\n",
       "      <td>2</td>\n",
       "      <td>0.010000</td>\n",
       "      <td>0.012500</td>\n",
       "      <td>0.005000</td>\n",
       "      <td>0.010250</td>\n",
       "      <td>0.011250</td>\n",
       "      <td>0.012500</td>\n",
       "    </tr>\n",
       "    <tr>\n",
       "      <th>43</th>\n",
       "      <td>Ni_tot</td>\n",
       "      <td>0.024000</td>\n",
       "      <td>0.030000</td>\n",
       "      <td>0.010000</td>\n",
       "      <td>0.009350</td>\n",
       "      <td>13</td>\n",
       "      <td>0.000259</td>\n",
       "      <td>0.001000</td>\n",
       "      <td>0.029741</td>\n",
       "      <td>0.000288</td>\n",
       "      <td>0.000550</td>\n",
       "      <td>0.006533</td>\n",
       "    </tr>\n",
       "    <tr>\n",
       "      <th>44</th>\n",
       "      <td>P</td>\n",
       "      <td>0.450000</td>\n",
       "      <td>0.450000</td>\n",
       "      <td>0.035000</td>\n",
       "      <td>0.187680</td>\n",
       "      <td>15</td>\n",
       "      <td>-0.137299</td>\n",
       "      <td>0.020000</td>\n",
       "      <td>0.587299</td>\n",
       "      <td>-0.100760</td>\n",
       "      <td>0.000400</td>\n",
       "      <td>0.077493</td>\n",
       "    </tr>\n",
       "    <tr>\n",
       "      <th>45</th>\n",
       "      <td>PO4</td>\n",
       "      <td>0.200000</td>\n",
       "      <td>2.340000</td>\n",
       "      <td>0.060500</td>\n",
       "      <td>0.252852</td>\n",
       "      <td>127</td>\n",
       "      <td>0.000000</td>\n",
       "      <td>0.033726</td>\n",
       "      <td>2.340000</td>\n",
       "      <td>0.000000</td>\n",
       "      <td>0.000000</td>\n",
       "      <td>0.085703</td>\n",
       "    </tr>\n",
       "    <tr>\n",
       "      <th>46</th>\n",
       "      <td>Pb_diss</td>\n",
       "      <td>0.010000</td>\n",
       "      <td>0.010000</td>\n",
       "      <td>0.010000</td>\n",
       "      <td>0.002887</td>\n",
       "      <td>3</td>\n",
       "      <td>0.005000</td>\n",
       "      <td>0.010000</td>\n",
       "      <td>0.005000</td>\n",
       "      <td>0.005500</td>\n",
       "      <td>0.007500</td>\n",
       "      <td>0.008333</td>\n",
       "    </tr>\n",
       "    <tr>\n",
       "      <th>47</th>\n",
       "      <td>Pb_tot</td>\n",
       "      <td>0.009400</td>\n",
       "      <td>0.020000</td>\n",
       "      <td>0.000437</td>\n",
       "      <td>0.003977</td>\n",
       "      <td>105</td>\n",
       "      <td>0.000000</td>\n",
       "      <td>0.000000</td>\n",
       "      <td>0.020000</td>\n",
       "      <td>0.000000</td>\n",
       "      <td>0.000000</td>\n",
       "      <td>0.001627</td>\n",
       "    </tr>\n",
       "    <tr>\n",
       "      <th>48</th>\n",
       "      <td>S</td>\n",
       "      <td>12.004999</td>\n",
       "      <td>12.619999</td>\n",
       "      <td>8.934575</td>\n",
       "      <td>3.694064</td>\n",
       "      <td>6</td>\n",
       "      <td>3.530600</td>\n",
       "      <td>5.202349</td>\n",
       "      <td>9.089399</td>\n",
       "      <td>3.673950</td>\n",
       "      <td>4.364600</td>\n",
       "      <td>6.803216</td>\n",
       "    </tr>\n",
       "    <tr>\n",
       "      <th>49</th>\n",
       "      <td>SO4</td>\n",
       "      <td>56.000000</td>\n",
       "      <td>223.000000</td>\n",
       "      <td>24.450000</td>\n",
       "      <td>20.839520</td>\n",
       "      <td>214</td>\n",
       "      <td>0.000000</td>\n",
       "      <td>16.000000</td>\n",
       "      <td>223.000000</td>\n",
       "      <td>2.230000</td>\n",
       "      <td>10.825000</td>\n",
       "      <td>21.039560</td>\n",
       "    </tr>\n",
       "    <tr>\n",
       "      <th>50</th>\n",
       "      <td>Sb</td>\n",
       "      <td>0.000054</td>\n",
       "      <td>0.000055</td>\n",
       "      <td>0.000051</td>\n",
       "      <td>0.000010</td>\n",
       "      <td>2</td>\n",
       "      <td>0.000041</td>\n",
       "      <td>0.000048</td>\n",
       "      <td>0.000014</td>\n",
       "      <td>0.000042</td>\n",
       "      <td>0.000044</td>\n",
       "      <td>0.000048</td>\n",
       "    </tr>\n",
       "    <tr>\n",
       "      <th>51</th>\n",
       "      <td>Se_diss</td>\n",
       "      <td>0.001300</td>\n",
       "      <td>0.001811</td>\n",
       "      <td>0.000310</td>\n",
       "      <td>0.000442</td>\n",
       "      <td>108</td>\n",
       "      <td>0.000000</td>\n",
       "      <td>0.000000</td>\n",
       "      <td>0.001811</td>\n",
       "      <td>0.000000</td>\n",
       "      <td>0.000000</td>\n",
       "      <td>0.000251</td>\n",
       "    </tr>\n",
       "    <tr>\n",
       "      <th>52</th>\n",
       "      <td>Se_tot</td>\n",
       "      <td>0.001000</td>\n",
       "      <td>0.001000</td>\n",
       "      <td>0.001000</td>\n",
       "      <td>0.000278</td>\n",
       "      <td>12</td>\n",
       "      <td>0.000200</td>\n",
       "      <td>0.000500</td>\n",
       "      <td>0.000800</td>\n",
       "      <td>0.000365</td>\n",
       "      <td>0.000500</td>\n",
       "      <td>0.000642</td>\n",
       "    </tr>\n",
       "    <tr>\n",
       "      <th>53</th>\n",
       "      <td>Si</td>\n",
       "      <td>33.000000</td>\n",
       "      <td>60.000000</td>\n",
       "      <td>14.000000</td>\n",
       "      <td>9.023578</td>\n",
       "      <td>196</td>\n",
       "      <td>3.600000</td>\n",
       "      <td>11.000000</td>\n",
       "      <td>56.400000</td>\n",
       "      <td>7.000000</td>\n",
       "      <td>9.022500</td>\n",
       "      <td>14.068214</td>\n",
       "    </tr>\n",
       "    <tr>\n",
       "      <th>54</th>\n",
       "      <td>Sr</td>\n",
       "      <td>0.928000</td>\n",
       "      <td>1.500000</td>\n",
       "      <td>0.455000</td>\n",
       "      <td>0.352514</td>\n",
       "      <td>14</td>\n",
       "      <td>0.110000</td>\n",
       "      <td>0.265500</td>\n",
       "      <td>1.390000</td>\n",
       "      <td>0.162000</td>\n",
       "      <td>0.210000</td>\n",
       "      <td>0.388071</td>\n",
       "    </tr>\n",
       "    <tr>\n",
       "      <th>55</th>\n",
       "      <td>TDS</td>\n",
       "      <td>450.000000</td>\n",
       "      <td>1180.000000</td>\n",
       "      <td>325.000000</td>\n",
       "      <td>121.191670</td>\n",
       "      <td>197</td>\n",
       "      <td>156.000000</td>\n",
       "      <td>284.000000</td>\n",
       "      <td>1024.000000</td>\n",
       "      <td>200.600000</td>\n",
       "      <td>254.000000</td>\n",
       "      <td>308.314721</td>\n",
       "    </tr>\n",
       "    <tr>\n",
       "      <th>56</th>\n",
       "      <td>Temp</td>\n",
       "      <td>20.895000</td>\n",
       "      <td>27.800000</td>\n",
       "      <td>14.900000</td>\n",
       "      <td>3.606608</td>\n",
       "      <td>102</td>\n",
       "      <td>8.000000</td>\n",
       "      <td>12.700000</td>\n",
       "      <td>19.800000</td>\n",
       "      <td>10.000000</td>\n",
       "      <td>11.100000</td>\n",
       "      <td>13.588137</td>\n",
       "    </tr>\n",
       "    <tr>\n",
       "      <th>57</th>\n",
       "      <td>Zn_diss</td>\n",
       "      <td>0.005000</td>\n",
       "      <td>0.005000</td>\n",
       "      <td>0.005000</td>\n",
       "      <td>0.000000</td>\n",
       "      <td>2</td>\n",
       "      <td>0.005000</td>\n",
       "      <td>0.005000</td>\n",
       "      <td>0.000000</td>\n",
       "      <td>0.005000</td>\n",
       "      <td>0.005000</td>\n",
       "      <td>0.005000</td>\n",
       "    </tr>\n",
       "    <tr>\n",
       "      <th>58</th>\n",
       "      <td>Zn_tot</td>\n",
       "      <td>0.290000</td>\n",
       "      <td>1.080000</td>\n",
       "      <td>0.023830</td>\n",
       "      <td>0.181758</td>\n",
       "      <td>115</td>\n",
       "      <td>0.000000</td>\n",
       "      <td>0.010000</td>\n",
       "      <td>1.080000</td>\n",
       "      <td>0.000000</td>\n",
       "      <td>0.000000</td>\n",
       "      <td>0.061918</td>\n",
       "    </tr>\n",
       "    <tr>\n",
       "      <th>59</th>\n",
       "      <td>pH_field</td>\n",
       "      <td>8.200000</td>\n",
       "      <td>8.500000</td>\n",
       "      <td>7.900000</td>\n",
       "      <td>0.390930</td>\n",
       "      <td>176</td>\n",
       "      <td>4.800000</td>\n",
       "      <td>7.650000</td>\n",
       "      <td>3.700000</td>\n",
       "      <td>7.100000</td>\n",
       "      <td>7.400000</td>\n",
       "      <td>7.631136</td>\n",
       "    </tr>\n",
       "    <tr>\n",
       "      <th>60</th>\n",
       "      <td>pH_lab</td>\n",
       "      <td>8.300000</td>\n",
       "      <td>8.800000</td>\n",
       "      <td>7.800000</td>\n",
       "      <td>0.270231</td>\n",
       "      <td>79</td>\n",
       "      <td>7.200000</td>\n",
       "      <td>7.700000</td>\n",
       "      <td>1.600000</td>\n",
       "      <td>7.400000</td>\n",
       "      <td>7.600000</td>\n",
       "      <td>7.745570</td>\n",
       "    </tr>\n",
       "  </tbody>\n",
       "</table>\n",
       "<p>61 rows × 12 columns</p>\n",
       "</div>"
      ],
      "text/plain": [
       "           ParAbb       qrt95          max        uqrt         std  cnt  \\\n",
       "0             18O  -16.308000   -16.260000  -16.500000    0.286217    5   \n",
       "1              2H -126.000000  -126.000000 -126.000000    1.949359    5   \n",
       "2         Ag_diss    0.002000     0.002000    0.002000    0.000000    2   \n",
       "3          Ag_tot    0.004400     0.010000    0.002000    0.002438   15   \n",
       "4          Al_tot    0.306000     0.480000    0.100000    0.138517   13   \n",
       "5         As_diss    0.006700     0.007000    0.005500    0.004243    2   \n",
       "6          As_tot    0.010000     0.023500    0.001725    0.004079  122   \n",
       "7               B    0.207750     0.800000    0.103750    0.122519   70   \n",
       "8              Ba    0.194000     0.270000    0.125400    0.075610   33   \n",
       "9              Be   -0.000012    -0.000012   -0.000012    0.000001    4   \n",
       "10             Br    0.060800     0.072000    0.024000    0.014534   37   \n",
       "11            CO2  190.000000   234.000000   18.250000   48.196493  180   \n",
       "12            CO3    2.300000    12.000000    1.000000    1.946735   58   \n",
       "13             Ca   81.735000   225.000000   65.900000   19.116112  214   \n",
       "14        Cd_diss    0.001000     0.001000    0.001000    0.000000    3   \n",
       "15         Cd_tot    0.001000     0.010000    0.001000    0.001987   23   \n",
       "16             Cl   50.700000   475.000000   15.950000   65.534579  214   \n",
       "17             Co    0.000079     0.000080    0.000074    0.000015    7   \n",
       "18           Cond  744.000000  1710.000000  560.750000  197.018454  190   \n",
       "19     Cr_VI_diss    0.005000     0.006000    0.003000    0.002046   66   \n",
       "20        Cr_diss    0.012900     0.030000    0.000954    0.005148   95   \n",
       "21        Cu_diss    0.059350     0.470000    0.001400    0.060374   64   \n",
       "22         Cu_tot    0.176360     1.000000    0.020000    0.182606   36   \n",
       "23             DO   79.250000    80.000000   67.000000   31.922967   16   \n",
       "24              F    0.400000     0.900000    0.220000    0.113394  192   \n",
       "25        Fe_diss    0.150000     0.460000    0.026000    0.095784   26   \n",
       "26         Fe_tot    0.982000     3.000000    0.161000    0.482084  147   \n",
       "27           HCO3  380.000000   561.103136  307.000000   58.829430  161   \n",
       "28         Hg_tot    0.000200     0.000200    0.000200    0.000070   16   \n",
       "29              K    7.212800    16.203000    2.720000    2.343246  185   \n",
       "..            ...         ...          ...         ...         ...  ...   \n",
       "31       Meas_Alk  311.550000   355.000000  253.000000   51.585236  110   \n",
       "32  Meas_Hardness  334.600000   810.000000  257.000000  136.063049  208   \n",
       "33             Mg   38.350000    65.066000   28.000000    7.379735  214   \n",
       "34        Mn_diss    0.010000     0.010000    0.010000    0.000000    2   \n",
       "35         Mn_tot    0.151200     0.221000    0.060000    0.047480   73   \n",
       "36         Mo_tot    0.004500     0.010000    0.000771    0.002214   35   \n",
       "37              N    4.206000     5.780000    1.700000    1.293378  117   \n",
       "38            NH4    0.476560     2.820720    0.004508    0.360779   67   \n",
       "39            NO2    1.435545    13.797000    0.000000    1.678028   70   \n",
       "40            NO3   17.669173    33.645200    4.736890    6.103468  154   \n",
       "41             Na   52.123000   204.000000   24.000000   28.128634  219   \n",
       "42        Ni_diss    0.014750     0.015000    0.013750    0.003536    2   \n",
       "43         Ni_tot    0.024000     0.030000    0.010000    0.009350   13   \n",
       "44              P    0.450000     0.450000    0.035000    0.187680   15   \n",
       "45            PO4    0.200000     2.340000    0.060500    0.252852  127   \n",
       "46        Pb_diss    0.010000     0.010000    0.010000    0.002887    3   \n",
       "47         Pb_tot    0.009400     0.020000    0.000437    0.003977  105   \n",
       "48              S   12.004999    12.619999    8.934575    3.694064    6   \n",
       "49            SO4   56.000000   223.000000   24.450000   20.839520  214   \n",
       "50             Sb    0.000054     0.000055    0.000051    0.000010    2   \n",
       "51        Se_diss    0.001300     0.001811    0.000310    0.000442  108   \n",
       "52         Se_tot    0.001000     0.001000    0.001000    0.000278   12   \n",
       "53             Si   33.000000    60.000000   14.000000    9.023578  196   \n",
       "54             Sr    0.928000     1.500000    0.455000    0.352514   14   \n",
       "55            TDS  450.000000  1180.000000  325.000000  121.191670  197   \n",
       "56           Temp   20.895000    27.800000   14.900000    3.606608  102   \n",
       "57        Zn_diss    0.005000     0.005000    0.005000    0.000000    2   \n",
       "58         Zn_tot    0.290000     1.080000    0.023830    0.181758  115   \n",
       "59       pH_field    8.200000     8.500000    7.900000    0.390930  176   \n",
       "60         pH_lab    8.300000     8.800000    7.800000    0.270231   79   \n",
       "\n",
       "           min      median        range        qrt5        lqrt        mean  \n",
       "0   -16.940000  -16.740000     0.680000  -16.932000  -16.900000  -16.668000  \n",
       "1  -130.000000 -126.000000     4.000000 -129.800000 -129.000000 -127.400000  \n",
       "2     0.002000    0.002000     0.000000    0.002000    0.002000    0.002000  \n",
       "3    -0.000058    0.002000     0.010058   -0.000056    0.000473    0.001785  \n",
       "4    -0.012400    0.010000     0.492400   -0.012160   -0.006300    0.070623  \n",
       "5     0.001000    0.004000     0.006000    0.001300    0.002500    0.004000  \n",
       "6     0.000000    0.000615     0.023500    0.000000    0.000000    0.002073  \n",
       "7     0.000000    0.040000     0.800000    0.000053    0.020000    0.082189  \n",
       "8     0.000050    0.050000     0.269950    0.000050    0.000090    0.071357  \n",
       "9    -0.000015   -0.000013     0.000003   -0.000015   -0.000013   -0.000013  \n",
       "10    0.012000    0.020000     0.060000    0.013000    0.016000    0.024622  \n",
       "11    0.000000    9.000000   234.000000    1.860000    4.950000   24.850556  \n",
       "12    0.000000    0.000000    12.000000    0.000000    0.000000    0.706897  \n",
       "13   23.000000   55.000000   202.000000   37.000000   46.000000   57.149327  \n",
       "14    0.001000    0.001000     0.000000    0.001000    0.001000    0.001000  \n",
       "15    0.000026    0.001000     0.009974    0.000030    0.000103    0.001107  \n",
       "16    0.000000    9.465000   475.000000    3.895000    7.025000   26.257299  \n",
       "17    0.000040    0.000062     0.000040    0.000043    0.000051    0.000062  \n",
       "18  280.000000  495.500000  1430.000000  381.750000  450.500000  541.826316  \n",
       "19    0.000000    0.000000     0.006000    0.000000    0.000000    0.001424  \n",
       "20   -0.000084    0.000000     0.030084    0.000000    0.000000    0.002205  \n",
       "21    0.000000    0.000000     0.470000    0.000000    0.000000    0.013659  \n",
       "22    0.000000    0.004300     1.000000    0.000000    0.000000    0.050635  \n",
       "23    0.100000    8.600000    79.900000    0.850000    6.675000   28.837500  \n",
       "24    0.000000    0.150000     0.900000    0.046500    0.100000    0.176339  \n",
       "25    0.000000    0.010000     0.460000    0.000000    0.000000    0.040654  \n",
       "26    0.000000    0.030000     3.000000    0.000000    0.006800    0.209503  \n",
       "27  166.000000  266.000000   395.103136  202.000000  245.000000  281.360475  \n",
       "28    0.000013    0.000100     0.000187    0.000015    0.000082    0.000112  \n",
       "29    0.000000    1.800000    16.203000    0.260000    1.000000    2.444834  \n",
       "..         ...         ...          ...         ...         ...         ...  \n",
       "31    0.000000  235.000000   355.000000  174.300000  208.250000  234.990909  \n",
       "32    0.000000  200.000000   810.000000    0.000000    0.000000  161.303558  \n",
       "33    9.000000   23.050000    56.066000   17.300000   21.000000   25.359123  \n",
       "34    0.010000    0.010000     0.000000    0.010000    0.010000    0.010000  \n",
       "35    0.000000    0.010000     0.221000    0.000000    0.000153    0.032137  \n",
       "36    0.000342    0.000681     0.009658    0.000410    0.000501    0.001218  \n",
       "37    0.000000    0.800000     5.780000    0.128000    0.360000    1.241496  \n",
       "38    0.000000    0.000000     2.820720    0.000000    0.000000    0.097984  \n",
       "39    0.000000    0.000000    13.797000    0.000000    0.000000    0.330987  \n",
       "40    0.000000    2.021811    33.645200    0.095989    0.500000    4.392682  \n",
       "41    1.000000   11.000000   203.000000    4.000000    6.695000   19.864139  \n",
       "42    0.010000    0.012500     0.005000    0.010250    0.011250    0.012500  \n",
       "43    0.000259    0.001000     0.029741    0.000288    0.000550    0.006533  \n",
       "44   -0.137299    0.020000     0.587299   -0.100760    0.000400    0.077493  \n",
       "45    0.000000    0.033726     2.340000    0.000000    0.000000    0.085703  \n",
       "46    0.005000    0.010000     0.005000    0.005500    0.007500    0.008333  \n",
       "47    0.000000    0.000000     0.020000    0.000000    0.000000    0.001627  \n",
       "48    3.530600    5.202349     9.089399    3.673950    4.364600    6.803216  \n",
       "49    0.000000   16.000000   223.000000    2.230000   10.825000   21.039560  \n",
       "50    0.000041    0.000048     0.000014    0.000042    0.000044    0.000048  \n",
       "51    0.000000    0.000000     0.001811    0.000000    0.000000    0.000251  \n",
       "52    0.000200    0.000500     0.000800    0.000365    0.000500    0.000642  \n",
       "53    3.600000   11.000000    56.400000    7.000000    9.022500   14.068214  \n",
       "54    0.110000    0.265500     1.390000    0.162000    0.210000    0.388071  \n",
       "55  156.000000  284.000000  1024.000000  200.600000  254.000000  308.314721  \n",
       "56    8.000000   12.700000    19.800000   10.000000   11.100000   13.588137  \n",
       "57    0.005000    0.005000     0.000000    0.005000    0.005000    0.005000  \n",
       "58    0.000000    0.010000     1.080000    0.000000    0.000000    0.061918  \n",
       "59    4.800000    7.650000     3.700000    7.100000    7.400000    7.631136  \n",
       "60    7.200000    7.700000     1.600000    7.400000    7.600000    7.745570  \n",
       "\n",
       "[61 rows x 12 columns]"
      ]
     },
     "execution_count": 140,
     "metadata": {},
     "output_type": "execute_result"
    }
   ],
   "source": [
    "ParrAbbSummary"
   ]
  },
  {
   "cell_type": "code",
   "execution_count": 141,
   "metadata": {
    "collapsed": false
   },
   "outputs": [],
   "source": [
    "manyPars = list(ParrAbbSummary[ParrAbbSummary['cnt'] >= 30]['ParAbb'])"
   ]
  },
  {
   "cell_type": "code",
   "execution_count": 142,
   "metadata": {
    "collapsed": true
   },
   "outputs": [],
   "source": [
    "ResOldPrinc = ResOldPrinc[ResOldPrinc['ParAbb'].isin(manyPars)] \n",
    "summaryStats = ParrAbbSummary[ParrAbbSummary['ParAbb'].isin(manyPars)]"
   ]
  },
  {
   "cell_type": "code",
   "execution_count": 143,
   "metadata": {
    "collapsed": false
   },
   "outputs": [
    {
     "data": {
      "text/html": [
       "<div>\n",
       "<table border=\"1\" class=\"dataframe\">\n",
       "  <thead>\n",
       "    <tr style=\"text-align: right;\">\n",
       "      <th></th>\n",
       "      <th>ParAbb</th>\n",
       "      <th>qrt95</th>\n",
       "      <th>max</th>\n",
       "      <th>uqrt</th>\n",
       "      <th>std</th>\n",
       "      <th>cnt</th>\n",
       "      <th>min</th>\n",
       "      <th>median</th>\n",
       "      <th>range</th>\n",
       "      <th>qrt5</th>\n",
       "      <th>lqrt</th>\n",
       "      <th>mean</th>\n",
       "    </tr>\n",
       "  </thead>\n",
       "  <tbody>\n",
       "    <tr>\n",
       "      <th>6</th>\n",
       "      <td>As_tot</td>\n",
       "      <td>0.010000</td>\n",
       "      <td>0.023500</td>\n",
       "      <td>0.001725</td>\n",
       "      <td>0.004079</td>\n",
       "      <td>122</td>\n",
       "      <td>0.000000</td>\n",
       "      <td>0.000615</td>\n",
       "      <td>0.023500</td>\n",
       "      <td>0.000000</td>\n",
       "      <td>0.000000</td>\n",
       "      <td>0.002073</td>\n",
       "    </tr>\n",
       "    <tr>\n",
       "      <th>7</th>\n",
       "      <td>B</td>\n",
       "      <td>0.207750</td>\n",
       "      <td>0.800000</td>\n",
       "      <td>0.103750</td>\n",
       "      <td>0.122519</td>\n",
       "      <td>70</td>\n",
       "      <td>0.000000</td>\n",
       "      <td>0.040000</td>\n",
       "      <td>0.800000</td>\n",
       "      <td>0.000053</td>\n",
       "      <td>0.020000</td>\n",
       "      <td>0.082189</td>\n",
       "    </tr>\n",
       "    <tr>\n",
       "      <th>8</th>\n",
       "      <td>Ba</td>\n",
       "      <td>0.194000</td>\n",
       "      <td>0.270000</td>\n",
       "      <td>0.125400</td>\n",
       "      <td>0.075610</td>\n",
       "      <td>33</td>\n",
       "      <td>0.000050</td>\n",
       "      <td>0.050000</td>\n",
       "      <td>0.269950</td>\n",
       "      <td>0.000050</td>\n",
       "      <td>0.000090</td>\n",
       "      <td>0.071357</td>\n",
       "    </tr>\n",
       "    <tr>\n",
       "      <th>10</th>\n",
       "      <td>Br</td>\n",
       "      <td>0.060800</td>\n",
       "      <td>0.072000</td>\n",
       "      <td>0.024000</td>\n",
       "      <td>0.014534</td>\n",
       "      <td>37</td>\n",
       "      <td>0.012000</td>\n",
       "      <td>0.020000</td>\n",
       "      <td>0.060000</td>\n",
       "      <td>0.013000</td>\n",
       "      <td>0.016000</td>\n",
       "      <td>0.024622</td>\n",
       "    </tr>\n",
       "    <tr>\n",
       "      <th>11</th>\n",
       "      <td>CO2</td>\n",
       "      <td>190.000000</td>\n",
       "      <td>234.000000</td>\n",
       "      <td>18.250000</td>\n",
       "      <td>48.196493</td>\n",
       "      <td>180</td>\n",
       "      <td>0.000000</td>\n",
       "      <td>9.000000</td>\n",
       "      <td>234.000000</td>\n",
       "      <td>1.860000</td>\n",
       "      <td>4.950000</td>\n",
       "      <td>24.850556</td>\n",
       "    </tr>\n",
       "    <tr>\n",
       "      <th>12</th>\n",
       "      <td>CO3</td>\n",
       "      <td>2.300000</td>\n",
       "      <td>12.000000</td>\n",
       "      <td>1.000000</td>\n",
       "      <td>1.946735</td>\n",
       "      <td>58</td>\n",
       "      <td>0.000000</td>\n",
       "      <td>0.000000</td>\n",
       "      <td>12.000000</td>\n",
       "      <td>0.000000</td>\n",
       "      <td>0.000000</td>\n",
       "      <td>0.706897</td>\n",
       "    </tr>\n",
       "    <tr>\n",
       "      <th>13</th>\n",
       "      <td>Ca</td>\n",
       "      <td>81.735000</td>\n",
       "      <td>225.000000</td>\n",
       "      <td>65.900000</td>\n",
       "      <td>19.116112</td>\n",
       "      <td>214</td>\n",
       "      <td>23.000000</td>\n",
       "      <td>55.000000</td>\n",
       "      <td>202.000000</td>\n",
       "      <td>37.000000</td>\n",
       "      <td>46.000000</td>\n",
       "      <td>57.149327</td>\n",
       "    </tr>\n",
       "    <tr>\n",
       "      <th>16</th>\n",
       "      <td>Cl</td>\n",
       "      <td>50.700000</td>\n",
       "      <td>475.000000</td>\n",
       "      <td>15.950000</td>\n",
       "      <td>65.534579</td>\n",
       "      <td>214</td>\n",
       "      <td>0.000000</td>\n",
       "      <td>9.465000</td>\n",
       "      <td>475.000000</td>\n",
       "      <td>3.895000</td>\n",
       "      <td>7.025000</td>\n",
       "      <td>26.257299</td>\n",
       "    </tr>\n",
       "    <tr>\n",
       "      <th>18</th>\n",
       "      <td>Cond</td>\n",
       "      <td>744.000000</td>\n",
       "      <td>1710.000000</td>\n",
       "      <td>560.750000</td>\n",
       "      <td>197.018454</td>\n",
       "      <td>190</td>\n",
       "      <td>280.000000</td>\n",
       "      <td>495.500000</td>\n",
       "      <td>1430.000000</td>\n",
       "      <td>381.750000</td>\n",
       "      <td>450.500000</td>\n",
       "      <td>541.826316</td>\n",
       "    </tr>\n",
       "    <tr>\n",
       "      <th>19</th>\n",
       "      <td>Cr_VI_diss</td>\n",
       "      <td>0.005000</td>\n",
       "      <td>0.006000</td>\n",
       "      <td>0.003000</td>\n",
       "      <td>0.002046</td>\n",
       "      <td>66</td>\n",
       "      <td>0.000000</td>\n",
       "      <td>0.000000</td>\n",
       "      <td>0.006000</td>\n",
       "      <td>0.000000</td>\n",
       "      <td>0.000000</td>\n",
       "      <td>0.001424</td>\n",
       "    </tr>\n",
       "    <tr>\n",
       "      <th>20</th>\n",
       "      <td>Cr_diss</td>\n",
       "      <td>0.012900</td>\n",
       "      <td>0.030000</td>\n",
       "      <td>0.000954</td>\n",
       "      <td>0.005148</td>\n",
       "      <td>95</td>\n",
       "      <td>-0.000084</td>\n",
       "      <td>0.000000</td>\n",
       "      <td>0.030084</td>\n",
       "      <td>0.000000</td>\n",
       "      <td>0.000000</td>\n",
       "      <td>0.002205</td>\n",
       "    </tr>\n",
       "    <tr>\n",
       "      <th>21</th>\n",
       "      <td>Cu_diss</td>\n",
       "      <td>0.059350</td>\n",
       "      <td>0.470000</td>\n",
       "      <td>0.001400</td>\n",
       "      <td>0.060374</td>\n",
       "      <td>64</td>\n",
       "      <td>0.000000</td>\n",
       "      <td>0.000000</td>\n",
       "      <td>0.470000</td>\n",
       "      <td>0.000000</td>\n",
       "      <td>0.000000</td>\n",
       "      <td>0.013659</td>\n",
       "    </tr>\n",
       "    <tr>\n",
       "      <th>22</th>\n",
       "      <td>Cu_tot</td>\n",
       "      <td>0.176360</td>\n",
       "      <td>1.000000</td>\n",
       "      <td>0.020000</td>\n",
       "      <td>0.182606</td>\n",
       "      <td>36</td>\n",
       "      <td>0.000000</td>\n",
       "      <td>0.004300</td>\n",
       "      <td>1.000000</td>\n",
       "      <td>0.000000</td>\n",
       "      <td>0.000000</td>\n",
       "      <td>0.050635</td>\n",
       "    </tr>\n",
       "    <tr>\n",
       "      <th>24</th>\n",
       "      <td>F</td>\n",
       "      <td>0.400000</td>\n",
       "      <td>0.900000</td>\n",
       "      <td>0.220000</td>\n",
       "      <td>0.113394</td>\n",
       "      <td>192</td>\n",
       "      <td>0.000000</td>\n",
       "      <td>0.150000</td>\n",
       "      <td>0.900000</td>\n",
       "      <td>0.046500</td>\n",
       "      <td>0.100000</td>\n",
       "      <td>0.176339</td>\n",
       "    </tr>\n",
       "    <tr>\n",
       "      <th>26</th>\n",
       "      <td>Fe_tot</td>\n",
       "      <td>0.982000</td>\n",
       "      <td>3.000000</td>\n",
       "      <td>0.161000</td>\n",
       "      <td>0.482084</td>\n",
       "      <td>147</td>\n",
       "      <td>0.000000</td>\n",
       "      <td>0.030000</td>\n",
       "      <td>3.000000</td>\n",
       "      <td>0.000000</td>\n",
       "      <td>0.006800</td>\n",
       "      <td>0.209503</td>\n",
       "    </tr>\n",
       "    <tr>\n",
       "      <th>27</th>\n",
       "      <td>HCO3</td>\n",
       "      <td>380.000000</td>\n",
       "      <td>561.103136</td>\n",
       "      <td>307.000000</td>\n",
       "      <td>58.829430</td>\n",
       "      <td>161</td>\n",
       "      <td>166.000000</td>\n",
       "      <td>266.000000</td>\n",
       "      <td>395.103136</td>\n",
       "      <td>202.000000</td>\n",
       "      <td>245.000000</td>\n",
       "      <td>281.360475</td>\n",
       "    </tr>\n",
       "    <tr>\n",
       "      <th>29</th>\n",
       "      <td>K</td>\n",
       "      <td>7.212800</td>\n",
       "      <td>16.203000</td>\n",
       "      <td>2.720000</td>\n",
       "      <td>2.343246</td>\n",
       "      <td>185</td>\n",
       "      <td>0.000000</td>\n",
       "      <td>1.800000</td>\n",
       "      <td>16.203000</td>\n",
       "      <td>0.260000</td>\n",
       "      <td>1.000000</td>\n",
       "      <td>2.444834</td>\n",
       "    </tr>\n",
       "    <tr>\n",
       "      <th>31</th>\n",
       "      <td>Meas_Alk</td>\n",
       "      <td>311.550000</td>\n",
       "      <td>355.000000</td>\n",
       "      <td>253.000000</td>\n",
       "      <td>51.585236</td>\n",
       "      <td>110</td>\n",
       "      <td>0.000000</td>\n",
       "      <td>235.000000</td>\n",
       "      <td>355.000000</td>\n",
       "      <td>174.300000</td>\n",
       "      <td>208.250000</td>\n",
       "      <td>234.990909</td>\n",
       "    </tr>\n",
       "    <tr>\n",
       "      <th>32</th>\n",
       "      <td>Meas_Hardness</td>\n",
       "      <td>334.600000</td>\n",
       "      <td>810.000000</td>\n",
       "      <td>257.000000</td>\n",
       "      <td>136.063049</td>\n",
       "      <td>208</td>\n",
       "      <td>0.000000</td>\n",
       "      <td>200.000000</td>\n",
       "      <td>810.000000</td>\n",
       "      <td>0.000000</td>\n",
       "      <td>0.000000</td>\n",
       "      <td>161.303558</td>\n",
       "    </tr>\n",
       "    <tr>\n",
       "      <th>33</th>\n",
       "      <td>Mg</td>\n",
       "      <td>38.350000</td>\n",
       "      <td>65.066000</td>\n",
       "      <td>28.000000</td>\n",
       "      <td>7.379735</td>\n",
       "      <td>214</td>\n",
       "      <td>9.000000</td>\n",
       "      <td>23.050000</td>\n",
       "      <td>56.066000</td>\n",
       "      <td>17.300000</td>\n",
       "      <td>21.000000</td>\n",
       "      <td>25.359123</td>\n",
       "    </tr>\n",
       "    <tr>\n",
       "      <th>35</th>\n",
       "      <td>Mn_tot</td>\n",
       "      <td>0.151200</td>\n",
       "      <td>0.221000</td>\n",
       "      <td>0.060000</td>\n",
       "      <td>0.047480</td>\n",
       "      <td>73</td>\n",
       "      <td>0.000000</td>\n",
       "      <td>0.010000</td>\n",
       "      <td>0.221000</td>\n",
       "      <td>0.000000</td>\n",
       "      <td>0.000153</td>\n",
       "      <td>0.032137</td>\n",
       "    </tr>\n",
       "    <tr>\n",
       "      <th>36</th>\n",
       "      <td>Mo_tot</td>\n",
       "      <td>0.004500</td>\n",
       "      <td>0.010000</td>\n",
       "      <td>0.000771</td>\n",
       "      <td>0.002214</td>\n",
       "      <td>35</td>\n",
       "      <td>0.000342</td>\n",
       "      <td>0.000681</td>\n",
       "      <td>0.009658</td>\n",
       "      <td>0.000410</td>\n",
       "      <td>0.000501</td>\n",
       "      <td>0.001218</td>\n",
       "    </tr>\n",
       "    <tr>\n",
       "      <th>37</th>\n",
       "      <td>N</td>\n",
       "      <td>4.206000</td>\n",
       "      <td>5.780000</td>\n",
       "      <td>1.700000</td>\n",
       "      <td>1.293378</td>\n",
       "      <td>117</td>\n",
       "      <td>0.000000</td>\n",
       "      <td>0.800000</td>\n",
       "      <td>5.780000</td>\n",
       "      <td>0.128000</td>\n",
       "      <td>0.360000</td>\n",
       "      <td>1.241496</td>\n",
       "    </tr>\n",
       "    <tr>\n",
       "      <th>38</th>\n",
       "      <td>NH4</td>\n",
       "      <td>0.476560</td>\n",
       "      <td>2.820720</td>\n",
       "      <td>0.004508</td>\n",
       "      <td>0.360779</td>\n",
       "      <td>67</td>\n",
       "      <td>0.000000</td>\n",
       "      <td>0.000000</td>\n",
       "      <td>2.820720</td>\n",
       "      <td>0.000000</td>\n",
       "      <td>0.000000</td>\n",
       "      <td>0.097984</td>\n",
       "    </tr>\n",
       "    <tr>\n",
       "      <th>39</th>\n",
       "      <td>NO2</td>\n",
       "      <td>1.435545</td>\n",
       "      <td>13.797000</td>\n",
       "      <td>0.000000</td>\n",
       "      <td>1.678028</td>\n",
       "      <td>70</td>\n",
       "      <td>0.000000</td>\n",
       "      <td>0.000000</td>\n",
       "      <td>13.797000</td>\n",
       "      <td>0.000000</td>\n",
       "      <td>0.000000</td>\n",
       "      <td>0.330987</td>\n",
       "    </tr>\n",
       "    <tr>\n",
       "      <th>40</th>\n",
       "      <td>NO3</td>\n",
       "      <td>17.669173</td>\n",
       "      <td>33.645200</td>\n",
       "      <td>4.736890</td>\n",
       "      <td>6.103468</td>\n",
       "      <td>154</td>\n",
       "      <td>0.000000</td>\n",
       "      <td>2.021811</td>\n",
       "      <td>33.645200</td>\n",
       "      <td>0.095989</td>\n",
       "      <td>0.500000</td>\n",
       "      <td>4.392682</td>\n",
       "    </tr>\n",
       "    <tr>\n",
       "      <th>41</th>\n",
       "      <td>Na</td>\n",
       "      <td>52.123000</td>\n",
       "      <td>204.000000</td>\n",
       "      <td>24.000000</td>\n",
       "      <td>28.128634</td>\n",
       "      <td>219</td>\n",
       "      <td>1.000000</td>\n",
       "      <td>11.000000</td>\n",
       "      <td>203.000000</td>\n",
       "      <td>4.000000</td>\n",
       "      <td>6.695000</td>\n",
       "      <td>19.864139</td>\n",
       "    </tr>\n",
       "    <tr>\n",
       "      <th>45</th>\n",
       "      <td>PO4</td>\n",
       "      <td>0.200000</td>\n",
       "      <td>2.340000</td>\n",
       "      <td>0.060500</td>\n",
       "      <td>0.252852</td>\n",
       "      <td>127</td>\n",
       "      <td>0.000000</td>\n",
       "      <td>0.033726</td>\n",
       "      <td>2.340000</td>\n",
       "      <td>0.000000</td>\n",
       "      <td>0.000000</td>\n",
       "      <td>0.085703</td>\n",
       "    </tr>\n",
       "    <tr>\n",
       "      <th>47</th>\n",
       "      <td>Pb_tot</td>\n",
       "      <td>0.009400</td>\n",
       "      <td>0.020000</td>\n",
       "      <td>0.000437</td>\n",
       "      <td>0.003977</td>\n",
       "      <td>105</td>\n",
       "      <td>0.000000</td>\n",
       "      <td>0.000000</td>\n",
       "      <td>0.020000</td>\n",
       "      <td>0.000000</td>\n",
       "      <td>0.000000</td>\n",
       "      <td>0.001627</td>\n",
       "    </tr>\n",
       "    <tr>\n",
       "      <th>49</th>\n",
       "      <td>SO4</td>\n",
       "      <td>56.000000</td>\n",
       "      <td>223.000000</td>\n",
       "      <td>24.450000</td>\n",
       "      <td>20.839520</td>\n",
       "      <td>214</td>\n",
       "      <td>0.000000</td>\n",
       "      <td>16.000000</td>\n",
       "      <td>223.000000</td>\n",
       "      <td>2.230000</td>\n",
       "      <td>10.825000</td>\n",
       "      <td>21.039560</td>\n",
       "    </tr>\n",
       "    <tr>\n",
       "      <th>51</th>\n",
       "      <td>Se_diss</td>\n",
       "      <td>0.001300</td>\n",
       "      <td>0.001811</td>\n",
       "      <td>0.000310</td>\n",
       "      <td>0.000442</td>\n",
       "      <td>108</td>\n",
       "      <td>0.000000</td>\n",
       "      <td>0.000000</td>\n",
       "      <td>0.001811</td>\n",
       "      <td>0.000000</td>\n",
       "      <td>0.000000</td>\n",
       "      <td>0.000251</td>\n",
       "    </tr>\n",
       "    <tr>\n",
       "      <th>53</th>\n",
       "      <td>Si</td>\n",
       "      <td>33.000000</td>\n",
       "      <td>60.000000</td>\n",
       "      <td>14.000000</td>\n",
       "      <td>9.023578</td>\n",
       "      <td>196</td>\n",
       "      <td>3.600000</td>\n",
       "      <td>11.000000</td>\n",
       "      <td>56.400000</td>\n",
       "      <td>7.000000</td>\n",
       "      <td>9.022500</td>\n",
       "      <td>14.068214</td>\n",
       "    </tr>\n",
       "    <tr>\n",
       "      <th>55</th>\n",
       "      <td>TDS</td>\n",
       "      <td>450.000000</td>\n",
       "      <td>1180.000000</td>\n",
       "      <td>325.000000</td>\n",
       "      <td>121.191670</td>\n",
       "      <td>197</td>\n",
       "      <td>156.000000</td>\n",
       "      <td>284.000000</td>\n",
       "      <td>1024.000000</td>\n",
       "      <td>200.600000</td>\n",
       "      <td>254.000000</td>\n",
       "      <td>308.314721</td>\n",
       "    </tr>\n",
       "    <tr>\n",
       "      <th>56</th>\n",
       "      <td>Temp</td>\n",
       "      <td>20.895000</td>\n",
       "      <td>27.800000</td>\n",
       "      <td>14.900000</td>\n",
       "      <td>3.606608</td>\n",
       "      <td>102</td>\n",
       "      <td>8.000000</td>\n",
       "      <td>12.700000</td>\n",
       "      <td>19.800000</td>\n",
       "      <td>10.000000</td>\n",
       "      <td>11.100000</td>\n",
       "      <td>13.588137</td>\n",
       "    </tr>\n",
       "    <tr>\n",
       "      <th>58</th>\n",
       "      <td>Zn_tot</td>\n",
       "      <td>0.290000</td>\n",
       "      <td>1.080000</td>\n",
       "      <td>0.023830</td>\n",
       "      <td>0.181758</td>\n",
       "      <td>115</td>\n",
       "      <td>0.000000</td>\n",
       "      <td>0.010000</td>\n",
       "      <td>1.080000</td>\n",
       "      <td>0.000000</td>\n",
       "      <td>0.000000</td>\n",
       "      <td>0.061918</td>\n",
       "    </tr>\n",
       "    <tr>\n",
       "      <th>59</th>\n",
       "      <td>pH_field</td>\n",
       "      <td>8.200000</td>\n",
       "      <td>8.500000</td>\n",
       "      <td>7.900000</td>\n",
       "      <td>0.390930</td>\n",
       "      <td>176</td>\n",
       "      <td>4.800000</td>\n",
       "      <td>7.650000</td>\n",
       "      <td>3.700000</td>\n",
       "      <td>7.100000</td>\n",
       "      <td>7.400000</td>\n",
       "      <td>7.631136</td>\n",
       "    </tr>\n",
       "    <tr>\n",
       "      <th>60</th>\n",
       "      <td>pH_lab</td>\n",
       "      <td>8.300000</td>\n",
       "      <td>8.800000</td>\n",
       "      <td>7.800000</td>\n",
       "      <td>0.270231</td>\n",
       "      <td>79</td>\n",
       "      <td>7.200000</td>\n",
       "      <td>7.700000</td>\n",
       "      <td>1.600000</td>\n",
       "      <td>7.400000</td>\n",
       "      <td>7.600000</td>\n",
       "      <td>7.745570</td>\n",
       "    </tr>\n",
       "  </tbody>\n",
       "</table>\n",
       "</div>"
      ],
      "text/plain": [
       "           ParAbb       qrt95          max        uqrt         std  cnt  \\\n",
       "6          As_tot    0.010000     0.023500    0.001725    0.004079  122   \n",
       "7               B    0.207750     0.800000    0.103750    0.122519   70   \n",
       "8              Ba    0.194000     0.270000    0.125400    0.075610   33   \n",
       "10             Br    0.060800     0.072000    0.024000    0.014534   37   \n",
       "11            CO2  190.000000   234.000000   18.250000   48.196493  180   \n",
       "12            CO3    2.300000    12.000000    1.000000    1.946735   58   \n",
       "13             Ca   81.735000   225.000000   65.900000   19.116112  214   \n",
       "16             Cl   50.700000   475.000000   15.950000   65.534579  214   \n",
       "18           Cond  744.000000  1710.000000  560.750000  197.018454  190   \n",
       "19     Cr_VI_diss    0.005000     0.006000    0.003000    0.002046   66   \n",
       "20        Cr_diss    0.012900     0.030000    0.000954    0.005148   95   \n",
       "21        Cu_diss    0.059350     0.470000    0.001400    0.060374   64   \n",
       "22         Cu_tot    0.176360     1.000000    0.020000    0.182606   36   \n",
       "24              F    0.400000     0.900000    0.220000    0.113394  192   \n",
       "26         Fe_tot    0.982000     3.000000    0.161000    0.482084  147   \n",
       "27           HCO3  380.000000   561.103136  307.000000   58.829430  161   \n",
       "29              K    7.212800    16.203000    2.720000    2.343246  185   \n",
       "31       Meas_Alk  311.550000   355.000000  253.000000   51.585236  110   \n",
       "32  Meas_Hardness  334.600000   810.000000  257.000000  136.063049  208   \n",
       "33             Mg   38.350000    65.066000   28.000000    7.379735  214   \n",
       "35         Mn_tot    0.151200     0.221000    0.060000    0.047480   73   \n",
       "36         Mo_tot    0.004500     0.010000    0.000771    0.002214   35   \n",
       "37              N    4.206000     5.780000    1.700000    1.293378  117   \n",
       "38            NH4    0.476560     2.820720    0.004508    0.360779   67   \n",
       "39            NO2    1.435545    13.797000    0.000000    1.678028   70   \n",
       "40            NO3   17.669173    33.645200    4.736890    6.103468  154   \n",
       "41             Na   52.123000   204.000000   24.000000   28.128634  219   \n",
       "45            PO4    0.200000     2.340000    0.060500    0.252852  127   \n",
       "47         Pb_tot    0.009400     0.020000    0.000437    0.003977  105   \n",
       "49            SO4   56.000000   223.000000   24.450000   20.839520  214   \n",
       "51        Se_diss    0.001300     0.001811    0.000310    0.000442  108   \n",
       "53             Si   33.000000    60.000000   14.000000    9.023578  196   \n",
       "55            TDS  450.000000  1180.000000  325.000000  121.191670  197   \n",
       "56           Temp   20.895000    27.800000   14.900000    3.606608  102   \n",
       "58         Zn_tot    0.290000     1.080000    0.023830    0.181758  115   \n",
       "59       pH_field    8.200000     8.500000    7.900000    0.390930  176   \n",
       "60         pH_lab    8.300000     8.800000    7.800000    0.270231   79   \n",
       "\n",
       "           min      median        range        qrt5        lqrt        mean  \n",
       "6     0.000000    0.000615     0.023500    0.000000    0.000000    0.002073  \n",
       "7     0.000000    0.040000     0.800000    0.000053    0.020000    0.082189  \n",
       "8     0.000050    0.050000     0.269950    0.000050    0.000090    0.071357  \n",
       "10    0.012000    0.020000     0.060000    0.013000    0.016000    0.024622  \n",
       "11    0.000000    9.000000   234.000000    1.860000    4.950000   24.850556  \n",
       "12    0.000000    0.000000    12.000000    0.000000    0.000000    0.706897  \n",
       "13   23.000000   55.000000   202.000000   37.000000   46.000000   57.149327  \n",
       "16    0.000000    9.465000   475.000000    3.895000    7.025000   26.257299  \n",
       "18  280.000000  495.500000  1430.000000  381.750000  450.500000  541.826316  \n",
       "19    0.000000    0.000000     0.006000    0.000000    0.000000    0.001424  \n",
       "20   -0.000084    0.000000     0.030084    0.000000    0.000000    0.002205  \n",
       "21    0.000000    0.000000     0.470000    0.000000    0.000000    0.013659  \n",
       "22    0.000000    0.004300     1.000000    0.000000    0.000000    0.050635  \n",
       "24    0.000000    0.150000     0.900000    0.046500    0.100000    0.176339  \n",
       "26    0.000000    0.030000     3.000000    0.000000    0.006800    0.209503  \n",
       "27  166.000000  266.000000   395.103136  202.000000  245.000000  281.360475  \n",
       "29    0.000000    1.800000    16.203000    0.260000    1.000000    2.444834  \n",
       "31    0.000000  235.000000   355.000000  174.300000  208.250000  234.990909  \n",
       "32    0.000000  200.000000   810.000000    0.000000    0.000000  161.303558  \n",
       "33    9.000000   23.050000    56.066000   17.300000   21.000000   25.359123  \n",
       "35    0.000000    0.010000     0.221000    0.000000    0.000153    0.032137  \n",
       "36    0.000342    0.000681     0.009658    0.000410    0.000501    0.001218  \n",
       "37    0.000000    0.800000     5.780000    0.128000    0.360000    1.241496  \n",
       "38    0.000000    0.000000     2.820720    0.000000    0.000000    0.097984  \n",
       "39    0.000000    0.000000    13.797000    0.000000    0.000000    0.330987  \n",
       "40    0.000000    2.021811    33.645200    0.095989    0.500000    4.392682  \n",
       "41    1.000000   11.000000   203.000000    4.000000    6.695000   19.864139  \n",
       "45    0.000000    0.033726     2.340000    0.000000    0.000000    0.085703  \n",
       "47    0.000000    0.000000     0.020000    0.000000    0.000000    0.001627  \n",
       "49    0.000000   16.000000   223.000000    2.230000   10.825000   21.039560  \n",
       "51    0.000000    0.000000     0.001811    0.000000    0.000000    0.000251  \n",
       "53    3.600000   11.000000    56.400000    7.000000    9.022500   14.068214  \n",
       "55  156.000000  284.000000  1024.000000  200.600000  254.000000  308.314721  \n",
       "56    8.000000   12.700000    19.800000   10.000000   11.100000   13.588137  \n",
       "58    0.000000    0.010000     1.080000    0.000000    0.000000    0.061918  \n",
       "59    4.800000    7.650000     3.700000    7.100000    7.400000    7.631136  \n",
       "60    7.200000    7.700000     1.600000    7.400000    7.600000    7.745570  "
      ]
     },
     "execution_count": 143,
     "metadata": {},
     "output_type": "execute_result"
    }
   ],
   "source": [
    "summaryStats"
   ]
  },
  {
   "cell_type": "code",
   "execution_count": 144,
   "metadata": {
    "collapsed": false
   },
   "outputs": [
    {
     "data": {
      "text/plain": [
       "<matplotlib.figure.Figure at 0x1b576910>"
      ]
     },
     "metadata": {},
     "output_type": "display_data"
    },
    {
     "data": {
      "image/png": "[encoded data removed]",
      "text/plain": [
       "<matplotlib.figure.Figure at 0x1835ac30>"
      ]
     },
     "metadata": {},
     "output_type": "display_data"
    }
   ],
   "source": [
    "from pylab import rcParams\n",
    "rcParams['figure.figsize'] = 15, 10\n",
    "\n",
    "\n",
    "parLabCounts = ParrAbbSummary.reset_index()\n",
    "parLabCounts = parLabCounts.set_index(['ParAbb'])\n",
    "plt.figure()\n",
    "boxres= ResOldPrinc[ResOldPrinc['ParAbb'].isin(['pH_lab','pH_field'])] \n",
    "boxres.boxplot(column='ResValue', by='ParAbb',vert=False)\n",
    "\n",
    "plt.title('Boxplot of Principal Aquifer pH')\n",
    "plt.yticks([1,2],['Field pH (n = %s)'%(parLabCounts.loc['pH_field','cnt']),'Lab pH (n = %s)'%(parLabCounts.loc['pH_lab','cnt'])])\n",
    "plt.xlim(6,9)\n",
    "plt.xticks(np.arange(6,9.25,0.25))\n",
    "plt.xlabel('pH')\n",
    "plt.savefig(rootname+\"pHBoxplot.svg\")\n",
    "plt.savefig(rootname+\"pHBoxplot.pdf\")"
   ]
  },
  {
   "cell_type": "code",
   "execution_count": 145,
   "metadata": {
    "collapsed": false
   },
   "outputs": [
    {
     "data": {
      "text/plain": [
       "<matplotlib.figure.Figure at 0x1b1e8e10>"
      ]
     },
     "metadata": {},
     "output_type": "display_data"
    },
    {
     "data": {
      "image/png": "[encoded data removed]",
      "text/plain": [
       "<matplotlib.figure.Figure at 0x1ae47550>"
      ]
     },
     "metadata": {},
     "output_type": "display_data"
    }
   ],
   "source": [
    "plt.figure()\n",
    "boxres= ResOldPrinc[ResOldPrinc['ParAbb'].isin(['Temp'])] \n",
    "boxres.boxplot(column='ResValue', by='ParAbb',vert=False)\n",
    "\n",
    "plt.title('Boxplot of Principal Aquifer Temperature')\n",
    "plt.yticks([1],['Temperature (deg. C) (n = %s)'%(parLabCounts.loc['Temp','cnt'])])\n",
    "plt.xticks(np.arange(5,30,1))\n",
    "plt.xlabel('Temp. (deg. C)')\n",
    "plt.savefig(rootname+\"pHBoxplot.pdf\")"
   ]
  },
  {
   "cell_type": "code",
   "execution_count": 146,
   "metadata": {
    "collapsed": false
   },
   "outputs": [
    {
     "name": "stderr",
     "output_type": "stream",
     "text": [
      "c:\\python27\\arcgis10.3\\lib\\site-packages\\matplotlib\\__init__.py:872: UserWarning: axes.color_cycle is deprecated and replaced with axes.prop_cycle; please use the latter.\n",
      "  warnings.warn(self.msg_depr % (key, alt_key))\n"
     ]
    },
    {
     "data": {
      "image/png": "[encoded data removed]",
      "text/plain": [
       "<matplotlib.figure.Figure at 0x18e9d370>"
      ]
     },
     "metadata": {},
     "output_type": "display_data"
    }
   ],
   "source": [
    "import seaborn as sns\n",
    "import matplotlib.pyplot as plt\n",
    "sns.set(style=\"whitegrid\")\n",
    "rcParams['figure.figsize'] = 15, 20\n",
    "\n",
    "\n",
    "parLabCounts = ParrAbbSummary.reset_index()\n",
    "parLabCounts = parLabCounts.set_index(['ParAbb'])\n",
    "\n",
    "parlist = ['Mg','Ca','Na','Cl','SO4','HCO3','Si','K','NO3','TDS','N']\n",
    "boxres = ResOldPrinc[ResOldPrinc['ParAbb'].isin(parlist)] \n",
    "plt.figure()\n",
    "sns.violinplot(x=\"ResValue\", y='ParAbb', data=boxres, palette=\"Set3\", scale='width', cut=0)\n",
    "plt.xlabel('mg/L')\n",
    "plt.xlim(0,1200)\n",
    "plt.ylabel('Chemical Constituent')\n",
    "plt.savefig(rootname+'violinMajor.pdf')"
   ]
  },
  {
   "cell_type": "code",
   "execution_count": 147,
   "metadata": {
    "collapsed": false,
    "scrolled": false
   },
   "outputs": [
    {
     "data": {
      "text/plain": [
       "<matplotlib.figure.Figure at 0x235c3f70>"
      ]
     },
     "metadata": {},
     "output_type": "display_data"
    },
    {
     "data": {
      "image/png": "[encoded data removed]",
      "text/plain": [
       "<matplotlib.figure.Figure at 0x234920b0>"
      ]
     },
     "metadata": {},
     "output_type": "display_data"
    },
    {
     "data": {
      "text/plain": [
       "<matplotlib.figure.Figure at 0x2367ed90>"
      ]
     },
     "metadata": {},
     "output_type": "display_data"
    },
    {
     "data": {
      "image/png": "[encoded data removed]",
      "text/plain": [
       "<matplotlib.figure.Figure at 0x2369b0b0>"
      ]
     },
     "metadata": {},
     "output_type": "display_data"
    }
   ],
   "source": [
    "parLabCounts = ParrAbbSummary.reset_index()\n",
    "parLabCounts = parLabCounts.set_index(['ParAbb'])\n",
    "\n",
    "\n",
    "def parboxplot(parlist):\n",
    "    plt.figure()\n",
    "    boxres= ResOldPrinc[ResOldPrinc['ParAbb'].isin(parlist)] \n",
    "    boxres.boxplot(column='ResValue', by='ParAbb',vert=False)\n",
    "    #labs = [str(parlist[i]) + \" (n= %s)\"%(parLabCounts.loc[parlist[i],'cnt']) for i in range(len(parlist))]\n",
    "    #tickloc = [b+1 for b in range(len(parlist))]\n",
    "    #plt.yticks(tickloc,labs)\n",
    "    \n",
    "\n",
    "parlist = ['pH_lab','pH_field']\n",
    "parboxplot(parlist)\n",
    "plt.xlabel('pH')\n",
    "plt.savefig(rootname+'pHBoxplot')\n",
    "\n",
    "parlist = ['Mg','Ca','Na','Cl','SO4','HCO3','Si','K','NO3','TDS','N']\n",
    "parboxplot(parlist)\n",
    "plt.title('Major Ions')\n",
    "plt.xlabel('mg/L')\n",
    "plt.grid(which='both',axis='both')\n",
    "plt.xscale('log')\n",
    "plt.xlim(0.1,1000)\n",
    "\n",
    "plt.savefig(rootname+'MajorIonsBoxplot.pdf')\n",
    "\n",
    "#plt.xlim(0.00001,1000)\n",
    "#plt.xscale('log')"
   ]
  },
  {
   "cell_type": "markdown",
   "metadata": {},
   "source": [
    "# Export data "
   ]
  },
  {
   "cell_type": "code",
   "execution_count": null,
   "metadata": {
    "collapsed": false
   },
   "outputs": [],
   "source": [
    "pipergrps.to_csv(rootname+'avgpiper.csv',index_label='StationId')\n",
    "pivdata.to_csv(rootname+'pivotdata.csv',index_label='OBJECTID')\n",
    "princpiv.to_csv(rootname+'PrincAquiferData.csv',index_label='OBJECTID')\n",
    "pivgrp.to_csv(rootname+'pivgrps.csv',index_label='StationId')"
   ]
  },
  {
   "cell_type": "code",
   "execution_count": null,
   "metadata": {
    "collapsed": true
   },
   "outputs": [],
   "source": [
    "Nitrate.to_csv(rootname+'NitrateResults.csv')\n",
    "NitrateStat.to_csv(rootname+'NitrateStations.csv')"
   ]
  },
  {
   "cell_type": "code",
   "execution_count": null,
   "metadata": {
    "collapsed": true
   },
   "outputs": [],
   "source": [
    "summaryStats.to_csv(rootname+'PrincAquifStats.csv')"
   ]
  },
  {
   "cell_type": "code",
   "execution_count": null,
   "metadata": {
    "collapsed": true
   },
   "outputs": [],
   "source": [
    "summaryStats.to_clipboard()"
   ]
  },
  {
   "cell_type": "code",
   "execution_count": null,
   "metadata": {
    "collapsed": false
   },
   "outputs": [],
   "source": [
    "GWStat.to_csv(rootname+'GWStations.csv',index_label='ObjectID')\n",
    "GWRes.to_csv(rootname+'GWResults.csv',index_label='ObjectID')"
   ]
  },
  {
   "cell_type": "code",
   "execution_count": null,
   "metadata": {
    "collapsed": false,
    "scrolled": true
   },
   "outputs": [],
   "source": [
    "writer = pd.ExcelWriter(rootname + \"combined_out.xlsx\", engine=\"xlsxwriter\")\n",
    "Stat.to_excel(writer, \"stations\", index=False)\n",
    "results.to_excel(writer, \"results\", index=False)\n",
    "GWStat.to_excel(writer, 'GWStations',index=False)\n",
    "GWRes.to_excel(writer, 'GWResults',index=False)\n",
    "pipergrps.to_excel(writer,'avgpiper')\n",
    "pivdata.to_excel(writer,'pivotdata')\n",
    "summaryStats.to_excel(writer,'princaquifstats')\n",
    "writer.save()"
   ]
  },
  {
   "cell_type": "code",
   "execution_count": null,
   "metadata": {
    "collapsed": true
   },
   "outputs": [],
   "source": []
  }
 ],
 "metadata": {
  "kernelspec": {
   "display_name": "Python 2",
   "language": "python",
   "name": "python2"
  },
  "language_info": {
   "codemirror_mode": {
    "name": "ipython",
    "version": 2
   },
   "file_extension": ".py",
   "mimetype": "text/x-python",
   "name": "python",
   "nbconvert_exporter": "python",
   "pygments_lexer": "ipython2",
   "version": "2.7.8"
  }
 },
 "nbformat": 4,
 "nbformat_minor": 0
}
