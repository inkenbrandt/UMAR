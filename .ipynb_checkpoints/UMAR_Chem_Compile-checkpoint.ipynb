{
 "cells": [
  {
   "cell_type": "code",
   "execution_count": 2,
   "metadata": {
    "collapsed": true
   },
   "outputs": [],
   "source": [
    "%matplotlib inline\n",
    "import pandas as pd\n",
    "import numpy as np\n",
    "import matplotlib.pyplot as plt\n",
    "import arcpy"
   ]
  },
  {
   "cell_type": "markdown",
   "metadata": {},
   "source": [
    "#Import and Standardize Data"
   ]
  },
  {
   "cell_type": "code",
   "execution_count": 3,
   "metadata": {
    "collapsed": true
   },
   "outputs": [],
   "source": [
    "#rootname = \"/media/p/5F5B-8FCB/PROJECTS/UMAR/Phase_II/Data/chem/\" #thumb on ubuntu\n",
    "rootname = \"E:\\\\PROJECTS\\\\UMAR\\\\Phase_II\\\\Data\\\\chem\\\\\" #thumb on windows"
   ]
  },
  {
   "cell_type": "code",
   "execution_count": 4,
   "metadata": {
    "collapsed": false
   },
   "outputs": [],
   "source": [
    "WQPResultsFile = rootname + \"result.csv\"\n",
    "WQPStationFile = rootname + \"station.csv\"\n",
    "SDWISFile = rootname + \"SDWIS_Cache.txt\"\n",
    "AGStationsFile = rootname + \"AG_Stations_Cache.csv\"\n",
    "AGResultsFile = rootname + \"AG_byparam.csv\"\n",
    "UGSFile = rootname + \"UGS_Cache.txt\"\n",
    "STORLegStatFile = rootname + \"UT_Cache_sta_001.txt\"\n",
    "STORLegResFile = rootname + \"UT_Cache_res_001.txt\"\n",
    "STORParamFile = rootname + \"parameter.txt\""
   ]
  },
  {
   "cell_type": "markdown",
   "metadata": {},
   "source": [
    "##WQP"
   ]
  },
  {
   "cell_type": "markdown",
   "metadata": {},
   "source": [
    "http://waterqualitydata.us/Station/search?statecode=US%3A49&countycode=US%3A49%3A005&sampleMedia=Water&characteristicType=Information%3BInorganics%2C+Major%2C+Metals%3BInorganics%2C+Major%2C+Non-metals%3BInorganics%2C+Minor%2C+Metals%3BInorganics%2C+Minor%2C+Non-metals%3BNot+Assigned%3BNutrient%3BPhysical%3BStable+Isotopes&mimeType=csv&zip=yes&sorted=no"
   ]
  },
  {
   "cell_type": "markdown",
   "metadata": {},
   "source": [
    "\n",
    "http://waterqualitydata.us/Result/search?statecode=US%3A49&countycode=US%3A49%3A005&sampleMedia=Water&characteristicType=Information%3BInorganics%2C+Major%2C+Metals%3BInorganics%2C+Major%2C+Non-metals%3BInorganics%2C+Minor%2C+Metals%3BInorganics%2C+Minor%2C+Non-metals%3BNot+Assigned%3BNutrient%3BPhysical%3BStable+Isotopes&mimeType=csv&zip=yes&sorted=no"
   ]
  },
  {
   "cell_type": "code",
   "execution_count": 5,
   "metadata": {
    "collapsed": false
   },
   "outputs": [],
   "source": [
    "Rdtypes = {\"OrganizationIdentifier\":np.str_, \"OrganizationFormalName\":np.str_, \"ActivityIdentifier\":np.str_, \n",
    "           \"ActivityStartTime/Time\":np.str_,\n",
    "           \"ActivityTypeCode\":np.str_, \"ActivityMediaName\":np.str_, \"ActivityMediaSubdivisionName\":np.str_, \n",
    "           \"ActivityStartDate\":np.str_, \"ActivityStartTime/Time\":np.str_, \"ActivityStartTime/TimeZoneCode\":np.str_, \n",
    "           \"ActivityEndDate\":np.str_, \"ActivityEndTime/Time\":np.str_, \"ActivityEndTime/TimeZoneCode\":np.str_, \n",
    "           \"ActivityDepthHeightMeasure/MeasureValue\":np.float16, \"ActivityDepthHeightMeasure/MeasureUnitCode\":np.str_, \n",
    "           \"ActivityDepthAltitudeReferencePointText\":np.str_, \"ActivityTopDepthHeightMeasure/MeasureValue\":np.float16, \n",
    "           \"ActivityTopDepthHeightMeasure/MeasureUnitCode\":np.str_, \n",
    "           \"ActivityBottomDepthHeightMeasure/MeasureValue\":np.float16, \n",
    "           \"ActivityBottomDepthHeightMeasure/MeasureUnitCode\":np.str_, \n",
    "           \"ProjectIdentifier\":np.str_, \"ActivityConductingOrganizationText\":np.str_, \n",
    "           \"MonitoringLocationIdentifier\":np.str_, \"ActivityCommentText\":np.str_, \n",
    "           \"SampleAquifer\":np.str_, \"HydrologicCondition\":np.str_, \"HydrologicEvent\":np.str_, \n",
    "           \"SampleCollectionMethod/MethodIdentifier\":np.str_, \"SampleCollectionMethod/MethodIdentifierContext\":np.str_, \n",
    "           \"SampleCollectionMethod/MethodName\":np.str_, \"SampleCollectionEquipmentName\":np.str_, \n",
    "           \"ResultDetectionConditionText\":np.str_, \"CharacteristicName\":np.str_, \"ResultSampleFractionText\":np.str_, \n",
    "           \"ResultMeasureValue\":np.str_, \"ResultMeasure/MeasureUnitCode\":np.str_, \"MeasureQualifierCode\":np.str_, \n",
    "           \"ResultStatusIdentifier\":np.str_, \"StatisticalBaseCode\":np.str_, \"ResultValueTypeName\":np.str_, \n",
    "           \"ResultWeightBasisText\":np.str_, \"ResultTimeBasisText\":np.str_, \"ResultTemperatureBasisText\":np.str_, \n",
    "           \"ResultParticleSizeBasisText\":np.str_, \"PrecisionValue\":np.str_, \"ResultCommentText\":np.str_, \n",
    "           \"USGSPCode\":np.str_, \"ResultDepthHeightMeasure/MeasureValue\":np.float16, \n",
    "           \"ResultDepthHeightMeasure/MeasureUnitCode\":np.str_, \"ResultDepthAltitudeReferencePointText\":np.str_, \n",
    "           \"SubjectTaxonomicName\":np.str_, \"SampleTissueAnatomyName\":np.str_, \n",
    "           \"ResultAnalyticalMethod/MethodIdentifier\":np.str_, \"ResultAnalyticalMethod/MethodIdentifierContext\":np.str_, \n",
    "           \"ResultAnalyticalMethod/MethodName\":np.str_, \"MethodDescriptionText\":np.str_, \"LaboratoryName\":np.str_, \n",
    "           \"AnalysisStartDate\":np.str_, \"ResultLaboratoryCommentText\":np.str_, \n",
    "           \"DetectionQuantitationLimitTypeName\":np.str_, \"DetectionQuantitationLimitMeasure/MeasureValue\":np.str_, \n",
    "           \"DetectionQuantitationLimitMeasure/MeasureUnitCode\":np.str_, \"PreparationStartDate\":np.str_, \n",
    "           \"ProviderName\":np.str_} \n",
    "\n",
    "dt = [6,56,61]"
   ]
  },
  {
   "cell_type": "code",
   "execution_count": 6,
   "metadata": {
    "collapsed": false
   },
   "outputs": [],
   "source": [
    "WQP = pd.read_csv(WQPResultsFile, dtype=Rdtypes, parse_dates=dt)"
   ]
  },
  {
   "cell_type": "code",
   "execution_count": 7,
   "metadata": {
    "collapsed": true
   },
   "outputs": [],
   "source": [
    "ResFieldDict = {\"AnalysisStartDate\":\"AnalysisDate\", \"ResultAnalyticalMethod/MethodIdentifier\":\"AnalytMeth\", \n",
    "                \"ResultAnalyticalMethod/MethodName\":\"AnalytMethId\", \"ResultDetectionConditionText\":\"DetectCond\", \n",
    "                \"ResultLaboratoryCommentText\":\"LabComments\", \"LaboratoryName\":\"LabName\", \n",
    "                \"DetectionQuantitationLimitTypeName\":\"LimitType\", \"DetectionQuantitationLimitMeasure/MeasureValue\":\"MDL\", \n",
    "                \"DetectionQuantitationLimitMeasure/MeasureUnitCode\":\"MDLUnit\", \"MethodDescriptionText\":\"MethodDescript\", \n",
    "                \"OrganizationIdentifier\":\"OrgId\", \"OrganizationFormalName\":\"OrgName\", \"CharacteristicName\":\"Param\", \n",
    "                \"ProjectIdentifier\":\"ProjectId\", \"MeasureQualifierCode\":\"QualCode\", \"ResultCommentText\":\"ResultComment\", \n",
    "                \"ResultStatusIdentifier\":\"ResultStatus\", \"ResultMeasureValue\":\"ResultValue\", \n",
    "                \"ActivityCommentText\":\"SampComment\", \"ActivityDepthHeightMeasure/MeasureValue\":\"SampDepth\", \n",
    "                \"ActivityDepthAltitudeReferencePointText\":\"SampDepthRef\", \n",
    "                \"ActivityDepthHeightMeasure/MeasureUnitCode\":\"SampDepthU\", \"SampleCollectionEquipmentName\":\"SampEquip\", \n",
    "                \"ResultSampleFractionText\":\"SampFrac\", \"ActivityStartDate\":\"SampleDate\", \"ActivityIdentifier\":\"SampleId\", \n",
    "                \"ActivityStartTime/Time\":\"SampleTime\", \"ActivityMediaSubdivisionName\":\"SampMedia\", \n",
    "                \"SampleCollectionMethod/MethodIdentifier\":\"SampMeth\", \"SampleCollectionMethod/MethodName\":\"SampMethName\", \n",
    "                \"ActivityTypeCode\":\"SampType\", \"MonitoringLocationIdentifier\":\"StationId\", \n",
    "                \"ResultMeasure/MeasureUnitCode\":\"Unit\", \"USGSPCode\":\"USGSPCode\",\n",
    "                \"ActivityStartDate\":\"StartDate\",\"ActivityStartTime/Time\":\"StartTime\"} "
   ]
  },
  {
   "cell_type": "code",
   "execution_count": 8,
   "metadata": {
    "collapsed": false
   },
   "outputs": [],
   "source": [
    "WQP.rename(columns=ResFieldDict,inplace=True)"
   ]
  },
  {
   "cell_type": "code",
   "execution_count": 9,
   "metadata": {
    "collapsed": false
   },
   "outputs": [],
   "source": [
    "resdroplist = [\"ActivityBottomDepthHeightMeasure/MeasureUnitCode\", \"ActivityBottomDepthHeightMeasure/MeasureValue\", \n",
    "               \"ActivityConductingOrganizationText\", \"ActivityEndDate\", \"ActivityEndTime/Time\", \n",
    "               \"ActivityEndTime/TimeZoneCode\", \"ActivityMediaName\", \"ActivityStartTime/TimeZoneCode\", \n",
    "               \"ActivityTopDepthHeightMeasure/MeasureUnitCode\", \"ActivityTopDepthHeightMeasure/MeasureValue\", \n",
    "               \"HydrologicCondition\", \"HydrologicEvent\", \"PrecisionValue\", \"PreparationStartDate\", \"ProviderName\", \n",
    "               \"ResultAnalyticalMethod/MethodIdentifierContext\", \"ResultDepthAltitudeReferencePointText\", \n",
    "               \"ResultDepthHeightMeasure/MeasureUnitCode\", \"ResultDepthHeightMeasure/MeasureValue\", \n",
    "               \"ResultParticleSizeBasisText\", \"ResultTemperatureBasisText\", \n",
    "               \"ResultTimeBasisText\", \"ResultValueTypeName\", \"ResultWeightBasisText\", \"SampleAquifer\", \n",
    "               \"SampleCollectionMethod/MethodIdentifierContext\", \"SampleTissueAnatomyName\", \"StatisticalBaseCode\", \n",
    "               \"SubjectTaxonomicName\",\"StartTime\",\"StartDate\",\"StartTime\",\"StartDate\"] "
   ]
  },
  {
   "cell_type": "code",
   "execution_count": 10,
   "metadata": {
    "collapsed": false
   },
   "outputs": [],
   "source": [
    "def datetimefix(x,format):\n",
    "    d = str(x[0]).lstrip().rstrip()[0:10]\n",
    "    t = str(x[1]).lstrip().rstrip()[0:5].zfill(5)\n",
    "    try:\n",
    "        int(d[0:2])\n",
    "    except(ValueError,TypeError,NameError):\n",
    "        return np.nan\n",
    "    try:\n",
    "        int(t[0:2])\n",
    "        int(t[3:5])\n",
    "    except(ValueError,TypeError,NameError):\n",
    "        t = \"00:00\"\n",
    "   \n",
    "    if int(t[0:2])>23:\n",
    "        t = \"00:00\"\n",
    "    elif int(t[3:5])>59:\n",
    "        t = \"00:00\"\n",
    "    else:\n",
    "        t = t[0:2].zfill(2) + \":\" + t[3:5]\n",
    "    return datetime.datetime.strptime(d + \" \" + t, format)\n",
    "    "
   ]
  },
  {
   "cell_type": "code",
   "execution_count": 11,
   "metadata": {
    "collapsed": false
   },
   "outputs": [],
   "source": [
    "WQP[\"SampleDate\"] = WQP[[\"StartDate\",\"StartTime\"]].apply(lambda x: datetimefix(x,\"%Y-%m-%d %H:%M\"),1)"
   ]
  },
  {
   "cell_type": "code",
   "execution_count": 12,
   "metadata": {
    "collapsed": false
   },
   "outputs": [],
   "source": [
    "WQP.drop(resdroplist,inplace=True,axis=1)"
   ]
  },
  {
   "cell_type": "code",
   "execution_count": 13,
   "metadata": {
    "collapsed": false
   },
   "outputs": [],
   "source": [
    "WQP['ResultValue'] = WQP['ResultValue'].convert_objects(convert_numeric=True)\n",
    "WQP['MDL'] = WQP['MDL'].convert_objects(convert_numeric=True)"
   ]
  },
  {
   "cell_type": "code",
   "execution_count": 14,
   "metadata": {
    "collapsed": true
   },
   "outputs": [],
   "source": [
    "WQP['StationId'] = WQP['StationId'].str.replace('_WQX-','-')"
   ]
  },
  {
   "cell_type": "code",
   "execution_count": 15,
   "metadata": {
    "collapsed": false
   },
   "outputs": [],
   "source": [
    "def unitfix(x):\n",
    "    z = str(x).lower()\n",
    "    if z == \"ug/l\":\n",
    "        return \"mg/l\"\n",
    "    elif z == \"mg/l\":\n",
    "        return \"mg/l\"\n",
    "    else:\n",
    "        return x\n",
    "\n",
    "WQP.Unit = WQP.Unit.apply(lambda x: str(x).rstrip(), 1)\n",
    "WQP.ResultValue = WQP[[\"ResultValue\",\"Unit\"]].apply(lambda x: x[0]/1000 if str(x[1]).lower()==\"ug/l\" else x[0], 1)\n",
    "WQP.Unit = WQP.Unit.apply(lambda x: unitfix(x),1)"
   ]
  },
  {
   "cell_type": "code",
   "execution_count": 16,
   "metadata": {
    "collapsed": false
   },
   "outputs": [
    {
     "data": {
      "text/plain": [
       "['Algae, floating mats (severity)',\n",
       " 'Alkalinity',\n",
       " 'Alkalinity, Carbonate as CaCO3',\n",
       " 'Alkalinity, total',\n",
       " 'Aluminum',\n",
       " 'Ammonia and ammonium',\n",
       " 'Ammonia-nitrogen',\n",
       " 'Ammonia-nitrogen as N',\n",
       " 'Ammonium',\n",
       " 'Anion deficit',\n",
       " 'Antimony',\n",
       " 'Arsenic',\n",
       " 'Barium',\n",
       " 'Barometric pressure',\n",
       " 'Beryllium',\n",
       " 'Bicarbonate',\n",
       " 'Biochemical oxygen demand, standard conditions',\n",
       " 'Boron',\n",
       " 'Bromide',\n",
       " 'Cadmium',\n",
       " 'Calcium',\n",
       " 'Calcium carbonate',\n",
       " 'Carbon',\n",
       " 'Carbon dioxide',\n",
       " 'Carbonaceous biochemical oxygen demand, standard conditions',\n",
       " 'Carbonate',\n",
       " 'Carbonate (CO3)',\n",
       " 'Chemical oxygen demand',\n",
       " 'Chloride',\n",
       " 'Chlorine',\n",
       " 'Chromium',\n",
       " 'Chromium(VI)',\n",
       " 'Cobalt',\n",
       " 'Color',\n",
       " 'Conductivity',\n",
       " 'Copper',\n",
       " 'Cymene',\n",
       " 'Depth',\n",
       " 'Depth to water level below land surface',\n",
       " 'Depth, Secchi disk depth',\n",
       " 'Depth, data-logger (ported)',\n",
       " 'Depth, from ground surface to well water level',\n",
       " 'Depth, snow cover',\n",
       " 'Detergent, severity',\n",
       " 'Deuterium/Hydrogen ratio',\n",
       " 'Dichlorobiphenyl',\n",
       " 'Dissolved oxygen (DO)',\n",
       " 'Dissolved oxygen saturation',\n",
       " 'Floating debris, severity',\n",
       " 'Flow',\n",
       " 'Flow rate, instantaneous',\n",
       " 'Fluoride',\n",
       " 'Gage height',\n",
       " 'Gold',\n",
       " 'Gran acid neutralizing capacity',\n",
       " 'Hardness, Ca, Mg',\n",
       " 'Hardness, non-carbonate',\n",
       " 'Height, gage',\n",
       " 'Heptachlorobiphenyl',\n",
       " 'Hydrocarbons',\n",
       " 'Hydrocarbons, volatile',\n",
       " 'Hydrogen',\n",
       " 'Hydrogen ion',\n",
       " 'Hydrogen sulfide',\n",
       " 'Hydroxide',\n",
       " 'Inorganic carbon',\n",
       " 'Inorganic nitrogen (nitrate and nitrite)',\n",
       " 'Inorganic nitrogen (nitrate and nitrite) as N',\n",
       " 'Instream features, est. stream width',\n",
       " 'Iodide',\n",
       " 'Ionic strength',\n",
       " 'Iron',\n",
       " 'Kjeldahl nitrogen',\n",
       " 'Lead',\n",
       " 'Light, transmissivity',\n",
       " 'Lithium',\n",
       " 'MBAS',\n",
       " 'Magnesium',\n",
       " 'Manganese',\n",
       " 'Mercury',\n",
       " 'Molybdenum',\n",
       " 'Nickel',\n",
       " 'Nitrate',\n",
       " 'Nitrate as N',\n",
       " 'Nitrite',\n",
       " 'Nitrogen',\n",
       " 'Nitrogen, mixed forms (NH3), (NH4), organic, (NO2) and (NO3)',\n",
       " 'Odor threshold number',\n",
       " 'Odor, atmospheric',\n",
       " 'Organic Nitrogen',\n",
       " 'Organic anions',\n",
       " 'Organic nitrogen',\n",
       " 'Orthophosphate',\n",
       " 'Orthophosphate as P',\n",
       " 'Oxygen',\n",
       " 'Oxygen-18/Oxygen-16 ratio',\n",
       " 'Pentachlorobiphenyl',\n",
       " 'Phosphate',\n",
       " 'Phosphate-phosphorus',\n",
       " 'Phosphate-phosphorus as P',\n",
       " 'Phosphorus',\n",
       " 'Potassium',\n",
       " 'RBP Stream Velocity',\n",
       " 'Salinity',\n",
       " 'Selenium',\n",
       " 'Settleable solids',\n",
       " 'Silica',\n",
       " 'Silver',\n",
       " 'Sodium',\n",
       " 'Sodium adsorption ratio',\n",
       " 'Sodium plus potassium',\n",
       " 'Sodium, percent total cations',\n",
       " 'Specific conductance',\n",
       " 'Specific gravity',\n",
       " 'Stream flow, instantaneous',\n",
       " 'Stream flow, mean. daily',\n",
       " 'Strontium',\n",
       " 'Sulfate',\n",
       " 'Sulfate as S',\n",
       " 'Sulfate as SO4',\n",
       " 'Sulfur-34/Sulfur-32 ratio',\n",
       " 'Sum of anions',\n",
       " 'Sum of cations',\n",
       " 'Temperature, air',\n",
       " 'Temperature, water',\n",
       " 'Tetrachlorobiphenyl',\n",
       " 'Thallium',\n",
       " 'Total dissolved solids',\n",
       " 'Total fixed solids',\n",
       " 'Total hardness -- SDWA NPDWR',\n",
       " 'Total suspended solids',\n",
       " 'Total volatile solids',\n",
       " 'Trash, Debris, Floatables',\n",
       " 'Trichlorobiphenyl',\n",
       " 'Tritium',\n",
       " 'True color',\n",
       " 'Turbidity',\n",
       " 'Turbidity severity',\n",
       " 'Vanadium',\n",
       " 'Velocity - stream',\n",
       " 'Zinc',\n",
       " 'pH',\n",
       " 'pH, lab']"
      ]
     },
     "execution_count": 16,
     "metadata": {},
     "output_type": "execute_result"
    }
   ],
   "source": [
    "sorted(list(WQP['Param'].unique()))"
   ]
  },
  {
   "cell_type": "code",
   "execution_count": 17,
   "metadata": {
    "collapsed": false
   },
   "outputs": [],
   "source": [
    "def parnorm(x):\n",
    "    p = str(x[0]).rstrip().lstrip().lower()\n",
    "    u = str(x[2]).rstrip().lstrip().lower()\n",
    "    if p == 'nitrate' and u == 'mg/l as n':\n",
    "        return 'Nitrate', x[1]*4.427, 'mg/l'\n",
    "    elif p == 'nitrite' and u == 'mg/l as n':\n",
    "        return 'Nitrite', x[1]*3.285, 'mg/l'\n",
    "    elif p == 'ammonia-nitrogen' or p == 'ammonia-nitrogen as n' or p == 'ammonia and ammonium':\n",
    "        return 'Ammonium', x[1]*1.288, 'mg/l'\n",
    "    elif p == 'ammonium' and u == 'mg/l as n':\n",
    "        return 'Ammonium', x[1]*1.288, 'mg/l'\n",
    "    elif p == 'sulfate as s':\n",
    "        return 'Sulfate', x[1]*2.996, 'mg/l'\n",
    "    elif p in ('phosphate-phosphorus', 'phosphate-phosphorus as p','orthophosphate as p'):\n",
    "        return 'Phosphate', x[1]*3.066, 'mg/l'\n",
    "    elif (p == 'phosphate' or p == 'orthophosphate') and u == 'mg/l as p':\n",
    "        return 'Phosphate', x[1]*3.066, 'mg/l'\n",
    "    elif u == 'ug/l':\n",
    "        return x[0], x[1]/1000, 'mg/l'\n",
    "    else:\n",
    "        return x[0], x[1], str(x[2]).rstrip()\n",
    "\n",
    "WQP['Param'], WQP['ResultValue'], WQP['Unit'] = zip(*WQP[['Param','ResultValue','Unit']].apply(lambda x: parnorm(x),1))"
   ]
  },
  {
   "cell_type": "code",
   "execution_count": 18,
   "metadata": {
    "collapsed": true
   },
   "outputs": [],
   "source": [
    "WQPStat = pd.read_csv(WQPStationFile)"
   ]
  },
  {
   "cell_type": "code",
   "execution_count": 19,
   "metadata": {
    "collapsed": true
   },
   "outputs": [],
   "source": [
    "StatFieldDict = {\"MonitoringLocationIdentifier\":\"StationId\", \"AquiferName\":\"Aquifer\", \"AquiferTypeName\":\"AquiferType\", \n",
    "             \"ConstructionDateText\":\"ConstDate\", \"CountyCode\":\"CountyCode\", \"WellDepthMeasure/MeasureValue\":\"Depth\", \n",
    "             \"WellDepthMeasure/MeasureUnitCode\":\"DepthUnit\", \"VerticalMeasure/MeasureValue\":\"Elev\", \n",
    "             \"VerticalAccuracyMeasure/MeasureValue\":\"ElevAcc\", \"VerticalAccuracyMeasure/MeasureUnitCode\":\"ElevAccUnit\", \n",
    "             \"VerticalCollectionMethodName\":\"ElevMeth\", \"VerticalCoordinateReferenceSystemDatumName\":\"ElevRef\", \n",
    "             \"VerticalMeasure/MeasureUnitCode\":\"ElevUnit\", \"FormationTypeText\":\"FmType\", \n",
    "             \"WellHoleDepthMeasure/MeasureValue\":\"HoleDepth\", \"WellHoleDepthMeasure/MeasureUnitCode\":\"HoleDUnit\", \n",
    "             \"HorizontalAccuracyMeasure/MeasureValue\":\"HorAcc\", \"HorizontalAccuracyMeasure/MeasureUnitCode\":\"HorAccUnit\", \n",
    "             \"HorizontalCollectionMethodName\":\"HorCollMeth\", \"HorizontalCoordinateReferenceSystemDatumName\":\"HorRef\", \n",
    "             \"HUCEightDigitCode\":\"HUC8\", \"LatitudeMeasure\":\"Lat_Y\", \"LongitudeMeasure\":\"Lon_X\", \n",
    "             \"OrganizationIdentifier\":\"OrgId\", \"OrganizationFormalName\":\"OrgName\", \"StateCode\":\"StateCode\", \n",
    "             \"MonitoringLocationDescriptionText\":\"StationComment\", \"MonitoringLocationName\":\"StationName\", \n",
    "             \"MonitoringLocationTypeName\":\"StationType\"} "
   ]
  },
  {
   "cell_type": "code",
   "execution_count": 20,
   "metadata": {
    "collapsed": true
   },
   "outputs": [],
   "source": [
    "WQPStat.rename(columns=StatFieldDict,inplace=True)"
   ]
  },
  {
   "cell_type": "code",
   "execution_count": 21,
   "metadata": {
    "collapsed": true
   },
   "outputs": [],
   "source": [
    "statdroplist = [\"ContributingDrainageAreaMeasure/MeasureUnitCode\", \"ContributingDrainageAreaMeasure/MeasureValue\", \n",
    "                \"DrainageAreaMeasure/MeasureUnitCode\", \"DrainageAreaMeasure/MeasureValue\", \"CountryCode\", \"ProviderName\", \n",
    "                \"SourceMapScaleNumeric\"]\n",
    "WQPStat.drop(statdroplist,inplace=True,axis=1)"
   ]
  },
  {
   "cell_type": "code",
   "execution_count": 22,
   "metadata": {
    "collapsed": true
   },
   "outputs": [],
   "source": [
    "TypeDict = {\"Stream: Canal\":\"Stream\", \"River/Stream\":\"Stream\", \n",
    "            \"Stream: Canal\":\"Stream\", \"Well: Test hole not completed as a well\":\"Well\"}\n",
    "WQPStat.StationType = WQPStat[\"StationType\"].apply(lambda x: TypeDict.get(x,x),1)\n",
    "WQPStat.Elev = WQPStat.Elev.apply(lambda x: np.nan if x==0.0 else round(x,1), 1)"
   ]
  },
  {
   "cell_type": "code",
   "execution_count": 23,
   "metadata": {
    "collapsed": false
   },
   "outputs": [],
   "source": [
    "WQPStat['StationId'] = WQPStat['StationId'].str.replace('_WQX-','-')\n",
    "WQPStat.drop_duplicates(subset=['StationId'],inplace=True)"
   ]
  },
  {
   "cell_type": "markdown",
   "metadata": {},
   "source": [
    "##SDWIS"
   ]
  },
  {
   "cell_type": "markdown",
   "metadata": {},
   "source": [
    "SDWIS data were extracted from the Utah SDWIS database into ArcGIS 10.3.2 using the following SQL query.  NED 10m elevation and UTM coordinates were appended using ArcGIS."
   ]
  },
  {
   "cell_type": "markdown",
   "metadata": {},
   "source": [
    "```SQL\n",
    "SELECT UTV80.TINWSF.EXTERNAL_SYS_NUM AS \"FED_NM\",  UTV80.TINWSF.ST_ASGN_IDENT_CD AS \"ST_ID\",  UTV80.TINWSF.TYPE_CODE,  UTV80.TINWSYS.NAME AS \"SYS_NM\", UTV80.TINWSYS.D_PRIN_CNTY_SVD_NM AS \"COUNTY\", UTV80.TINWSF.NAME AS \"FAC_NM\",  UTV80.TINWSF.TINWSYS_IS_NUMBER AS \"SY_NBR\", UTV80.TINLOC.LATITUDE_MEASURE AS \"Y\",  UTV80.TINLOC.LONGITUDE_MEASURE AS \"X\",  UTV80.TINLOC.VERTICAL_MEASURE AS \"Z\", UTV80.TSASAMPL.COLLLECTION_END_DT AS \"DTE\", UTV80.TSAANLYT.NAME AS \"ANLY_NM\",  UTV80.TSASAR.CONCENTRATION_MSR AS \"CONC_MSR\", UTV80.TSASAR.TSASAR_IS_NUMBER AS \"ID_NUM\",  UTV80.TSASAR.UOM_CODE,   UTV80.TSASAR.DETECTN_LIMIT_NUM AS \"DET_LIM\", UTV80.TSASAR.DETECTN_LIM_UOM_CD AS \"DET_UOM\"  FROM  UTV80.TINWSF  INNER JOIN  UTV80.TINWSYS ON UTV80.TINWSF.TINWSYS_IS_NUMBER = UTV80.TINWSYS.TINWSYS_IS_NUMBER  INNER JOIN  UTV80.TINLOC ON UTV80.TINWSF.TINWSF_IS_NUMBER = UTV80.TINLOC.TINWSF_IS_NUMBER  INNER JOIN  UTV80.TSASMPPT ON UTV80.TINWSF.TINWSF_IS_NUMBER = UTV80.TSASMPPT.TINWSF0IS_NUMBER  INNER JOIN  UTV80.TSASAMPL ON UTV80.TSASMPPT.TSASMPPT_IS_NUMBER = UTV80.TSASAMPL.TSASMPPT_IS_NUMBER  INNER JOIN  UTV80.TSASAR ON UTV80.TSASAMPL.TSASAMPL_IS_NUMBER = UTV80.TSASAR.TSASAMPL_IS_NUMBER  INNER JOIN  UTV80.TSAANLYT ON UTV80.TSASAR.TSAANLYT_IS_NUMBER = UTV80.TSAANLYT.TSAANLYT_IS_NUMBER WHERE  (UTV80.TINWSYS.D_PRIN_CNTY_SVD_NM LIKE '%CACHE COUNTY%')   AND (UTV80.TSAANLYT.NAME LIKE '%NITRATE%' OR UTV80.TSAANLYT.NAME LIKE '%NITRITE%' OR UTV80.TSAANLYT.NAME LIKE '%AMMONI%' OR UTV80.TSAANLYT.NAME LIKE '%SULFATE%' OR UTV80.TSAANLYT.NAME LIKE '%TDS%' OR UTV80.TSAANLYT.NAME LIKE '%SODIUM%' OR UTV80.TSAANLYT.NAME LIKE '%FLUORIDE%' OR UTV80.TSAANLYT.NAME LIKE '%MAGNESIUM%' OR UTV80.TSAANLYT.NAME LIKE '%SELENIUM%' OR  UTV80.TSAANLYT.NAME LIKE '%CALCIUM%' OR UTV80.TSAANLYT.NAME LIKE '%CHLORIDE%' OR UTV80.TSAANLYT.NAME LIKE '%POTASSIUM%' OR UTV80.TSAANLYT.NAME LIKE '%SELENIUM%' OR UTV80.TSAANLYT.NAME LIKE '%SILICA%' OR UTV80.TSAANLYT.NAME LIKE '%IRON %' OR UTV80.TSAANLYT.NAME LIKE '%ALKA %' OR UTV80.TSAANLYT.NAME LIKE '%CONDUCTIVITY%' OR UTV80.TSAANLYT.NAME LIKE '%PH %' OR UTV80.TSAANLYT.NAME LIKE '%TEMP%' OR UTV80.TSAANLYT.NAME LIKE '%ARSENIC%' OR UTV80.TSAANLYT.NAME LIKE '%CARBON%' OR UTV80.TSAANLYT.NAME LIKE '%TRITIUM%' OR UTV80.TSAANLYT.NAME LIKE '%COPPER%' OR UTV80.TSAANLYT.NAME LIKE '%LEAD%' OR UTV80.TSAANLYT.NAME LIKE '%NITROGEN%' OR UTV80.TSAANLYT.NAME LIKE '%PHOSPHATE%' OR UTV80.TSAANLYT.NAME LIKE '%TDS%' OR UTV80.TSAANLYT.NAME LIKE '%ZINC%' OR UTV80.TSAANLYT.NAME LIKE '%IRON%' OR UTV80.TSAANLYT.NAME LIKE '%CHROMIUM%' ) ORDER BY UTV80.TINWSF.ST_ASGN_IDENT_CD\n",
    "```"
   ]
  },
  {
   "cell_type": "code",
   "execution_count": 24,
   "metadata": {
    "collapsed": false
   },
   "outputs": [],
   "source": [
    "SDWIS = pd.read_csv(SDWISFile)\n",
    "\n",
    "def sampid(x):\n",
    "    return \"SDWIS\" + str(x[0]) + str(x[1]) + str(x[2])[:-7]\n",
    "\n",
    "def statid(x):\n",
    "    return \"SDWIS\" + str(x[0]) + str(x[1]) \n",
    "\n",
    "def statnm(x):\n",
    "    return str(str(x[0]) + \" \" + str(x[1])).title()\n",
    "\n",
    "SDWIS[\"StationId\"] = SDWIS[[\"FED_NM\",\"ST_ID\"]].apply(lambda x: statid(x),1)\n",
    "SDWIS[\"StationName\"] = SDWIS[[\"SYS_NM\",\"FAC_NM\"]].apply(lambda x: statnm(x),1)\n",
    "SDWIS[\"SampleId\"] = SDWIS[[\"FED_NM\",\"ST_ID\",\"DTE\"]].apply(lambda x: sampid(x),1)\n",
    "SDWIS[\"OrgId\"] = \"UDDW\"\n",
    "SDWIS[\"OrgName\"] = \"Utah Division of Drinking Water\"\n",
    "SDWIS[\"Elev\"] = SDWIS[\"Z\"].apply(lambda x: round(x*3.2808,1),1)\n",
    "SDWIS[\"Unit\"] = SDWIS[\"UOM_CODE\"].apply(lambda x: str(x).lower(),1)\n",
    "SDWIS[\"MDLUnit\"] = SDWIS[\"DET_UOM\"].apply(lambda x: str(x).lower(),1)\n",
    "SDWIS[\"Param\"] = SDWIS[\"ANLY_NM\"].apply(lambda x: str(x).title().rstrip(),1)"
   ]
  },
  {
   "cell_type": "code",
   "execution_count": 25,
   "metadata": {
    "collapsed": false
   },
   "outputs": [],
   "source": [
    "SDWISFields ={\"DTE\":\"SampleDate\", \"TYPE_CODE\":\"StationType\",\n",
    "              \"CONC_MSR\":\"ResultValue\", \"DET_LIM\":\"MDL\",\n",
    "              \"Y\":\"Lat_Y\", \"X\":\"Lon_X\"}  \n",
    "SDWIS.rename(columns=SDWISFields,inplace=True)"
   ]
  },
  {
   "cell_type": "code",
   "execution_count": 26,
   "metadata": {
    "collapsed": false
   },
   "outputs": [
    {
     "data": {
      "text/plain": [
       "array(['Vinyl Chloride', 'Nitrate', 'Sulfate', 'Fluoride', 'Selenium',\n",
       "       'Tds', 'Chromium', 'Sodium', 'Arsenic', 'Carbon Tetrachloride',\n",
       "       'Nitrite', 'Nitrate-Nitrite', 'Alkalinity, Carbonate',\n",
       "       'Nitrogen-Ammonia As (N)', 'Lead', 'Calcium', 'Chloride',\n",
       "       'Hydroxide As Calcium Carbonate', 'Copper, Free',\n",
       "       'Bicarbonate As Hco3', 'Iron', 'Magnesium', 'Potassium',\n",
       "       'Phosphate, Total', 'Silica', 'Conductivity @ 25 C Umhos/Cm',\n",
       "       'Chromium, Hex', 'Zinc', 'Carbon Dioxide', 'Ph',\n",
       "       'Hardness, Carbonate', 'Iron, Dissolved', 'Tritium',\n",
       "       'Carbon, Total', 'Orthophosphate'], dtype=object)"
      ]
     },
     "execution_count": 26,
     "metadata": {},
     "output_type": "execute_result"
    }
   ],
   "source": [
    "SDWIS['Param'].unique()"
   ]
  },
  {
   "cell_type": "code",
   "execution_count": 27,
   "metadata": {
    "collapsed": false
   },
   "outputs": [
    {
     "data": {
      "text/plain": [
       "array(['nan', 'mg/l     ', '         ', 'umho/cm  ', 'ph       ',\n",
       "       'ug/l     ', 'pci/l    '], dtype=object)"
      ]
     },
     "execution_count": 27,
     "metadata": {},
     "output_type": "execute_result"
    }
   ],
   "source": [
    "SDWIS['Unit'].unique()"
   ]
  },
  {
   "cell_type": "code",
   "execution_count": 28,
   "metadata": {
    "collapsed": false
   },
   "outputs": [
    {
     "name": "stdout",
     "output_type": "stream",
     "text": [
      "['Alkalinity, Carbonate', 'Arsenic', 'Bicarbonate As Hco3', 'Calcium', 'Carbon Dioxide', 'Carbon Tetrachloride', 'Carbon, Total', 'Chloride', 'Chromium', 'Chromium, Hex', 'Conductivity @ 25 C Umhos/Cm', 'Copper, Free', 'Fluoride', 'Hardness, Carbonate', 'Hydroxide As Calcium Carbonate', 'Iron', 'Iron, Dissolved', 'Lead', 'Magnesium', 'Nitrate', 'Nitrate-Nitrite', 'Nitrite', 'Nitrogen-Ammonia As (N)', 'Orthophosphate', 'Ph', 'Phosphate, Total', 'Potassium', 'Selenium', 'Silica', 'Sodium', 'Sulfate', 'Tds', 'Tritium', 'Vinyl Chloride', 'Zinc']\n"
     ]
    }
   ],
   "source": [
    "print sorted(list(SDWIS.Param.unique()))\n",
    "\n",
    "def parnormSDWIS(x):\n",
    "    p = str(x[0]).rstrip().lstrip().lower()\n",
    "    u = str(x[2]).rstrip().lstrip().lower()\n",
    "    if p == 'nitrate':\n",
    "        return 'Nitrate', x[1]*4.427, 'mg/l'\n",
    "    elif p == 'nitrite':\n",
    "        return 'Nitrite', x[1]*3.285, 'mg/l'\n",
    "    elif p == 'nitrogen-ammonia as (n)':\n",
    "        return 'Ammonium', x[1]*1.288, 'mg/l'\n",
    "    elif u == 'ug/l':\n",
    "        return x[0], x[1]/1000, 'mg/l'\n",
    "    else:\n",
    "        return x[0], x[1], str(x[2]).rstrip()\n",
    "    \n",
    "SDWIS['Param'], SDWIS['ResultValue'], SDWIS['Unit'] = zip(*SDWIS[['Param','ResultValue','Unit']].apply(lambda x: parnormSDWIS(x),1))"
   ]
  },
  {
   "cell_type": "code",
   "execution_count": 29,
   "metadata": {
    "collapsed": false
   },
   "outputs": [],
   "source": [
    "SDWIS.drop([\"FED_NM\", \"DET_UOM\", \"UOM_CODE\",\"ANLY_NM\", \"FAC_NM\", \"ST_ID\", \n",
    "            \"SYS_NM\", \"COUNTY\", \"SY_NBR\", \"Z\", \"ID_NUM\"],inplace=True, axis=1)"
   ]
  },
  {
   "cell_type": "code",
   "execution_count": 30,
   "metadata": {
    "collapsed": false
   },
   "outputs": [],
   "source": [
    "SDWISPmatch = {\"Ph\":\"pH\",\"Tds\":\"TDS\",\"Nitrogen-Ammonia As (N)\":\"Nitrogen-Ammonia as (N)\",\n",
    "              \"Hydroxide As Calcium Carbonate\":\"Hydroxide as Calcium Carbonate\",\n",
    "               \"Bicarbonate As Hco3\":\"Bicarbonate as HCO3\"}\n",
    "SDWIS[\"Param\"] = SDWIS[\"Param\"].apply(lambda x: SDWISPmatch.get(x,x))\n",
    "SDWIS[\"StationName\"] = SDWIS[\"StationName\"].apply(lambda x: x.replace(\"Wtp\",\"WTP\"))\n",
    "#SDWIS[\"Unit\"] = SDWIS[\"Unit\"].apply(lambda x: x.rstrip(),1)\n",
    "SDWIS[\"ResultValue\"] = SDWIS[[\"ResultValue\",\"Unit\"]].apply(lambda x: x[0]/1000 if x[1]==\"ug/L\" else x[0], 1)\n",
    "#SDWIS[\"Unit\"] = SDWIS[\"Unit\"].apply(lambda x: unitfix(x),1)"
   ]
  },
  {
   "cell_type": "code",
   "execution_count": 31,
   "metadata": {
    "collapsed": false
   },
   "outputs": [],
   "source": [
    "SDWISType = {\"SP\":\"Spring\",\"WL\":\"Well\",\"TP\":\"Facility Other\",\"IN\":\"Stream\",\"CC\":\"Connection\"}\n",
    "SDWIS.StationType = SDWIS.StationType.apply(lambda x: SDWISType.get(x,x),1)"
   ]
  },
  {
   "cell_type": "markdown",
   "metadata": {},
   "source": [
    "SDWIS facility type code (FacTypeCode): CC, Consecutive_connection;\n",
    "CH, Common_headers; CS, Cistern; CW, Clear_well;\n",
    "DS, Distribution_system_zone; IG, Infiltration_gallery; IN,\n",
    "Intake; NP, Non-piped; OT, Other; PC, Pressure_control;\n",
    "PF, Pump_facility; RC, Roof_catchment; RS, Reservoir; SI,\n",
    "Surface_impoundment; SP, Spring; SS, Sampling_station; ST,\n",
    "Storage; TM, Transmission_main; TP, Treatment_plant; WH,\n",
    "Well_head; WL, Well."
   ]
  },
  {
   "cell_type": "code",
   "execution_count": 32,
   "metadata": {
    "collapsed": false
   },
   "outputs": [
    {
     "data": {
      "text/plain": [
       "['Alkalinity, Carbonate',\n",
       " 'Ammonium',\n",
       " 'Arsenic',\n",
       " 'Bicarbonate as HCO3',\n",
       " 'Calcium',\n",
       " 'Carbon Dioxide',\n",
       " 'Carbon Tetrachloride',\n",
       " 'Carbon, Total',\n",
       " 'Chloride',\n",
       " 'Chromium',\n",
       " 'Chromium, Hex',\n",
       " 'Conductivity @ 25 C Umhos/Cm',\n",
       " 'Copper, Free',\n",
       " 'Fluoride',\n",
       " 'Hardness, Carbonate',\n",
       " 'Hydroxide as Calcium Carbonate',\n",
       " 'Iron',\n",
       " 'Iron, Dissolved',\n",
       " 'Lead',\n",
       " 'Magnesium',\n",
       " 'Nitrate',\n",
       " 'Nitrate-Nitrite',\n",
       " 'Nitrite',\n",
       " 'Orthophosphate',\n",
       " 'Phosphate, Total',\n",
       " 'Potassium',\n",
       " 'Selenium',\n",
       " 'Silica',\n",
       " 'Sodium',\n",
       " 'Sulfate',\n",
       " 'TDS',\n",
       " 'Tritium',\n",
       " 'Vinyl Chloride',\n",
       " 'Zinc',\n",
       " 'pH']"
      ]
     },
     "execution_count": 32,
     "metadata": {},
     "output_type": "execute_result"
    }
   ],
   "source": [
    "sorted(list(SDWIS.Param.unique()))"
   ]
  },
  {
   "cell_type": "code",
   "execution_count": 33,
   "metadata": {
    "collapsed": true
   },
   "outputs": [],
   "source": [
    "SDWISSta = SDWIS.drop([u'SampleDate', u'ResultValue', u'MDL', u'SampleId', u'Unit', u'MDLUnit', u'Param'], axis=1)\n",
    "SDWISSta.drop_duplicates(inplace=True)"
   ]
  },
  {
   "cell_type": "code",
   "execution_count": 34,
   "metadata": {
    "collapsed": false
   },
   "outputs": [],
   "source": [
    "SDWISRes = SDWIS.drop([u'StationType', u'Lat_Y', u'Lon_X', u'StationName', u'Elev'], axis=1)"
   ]
  },
  {
   "cell_type": "markdown",
   "metadata": {},
   "source": [
    "##UDAF"
   ]
  },
  {
   "cell_type": "code",
   "execution_count": 35,
   "metadata": {
    "collapsed": true
   },
   "outputs": [],
   "source": [
    "AGStat = pd.read_csv(AGStationsFile)\n",
    "AGStat[\"StationType\"] = \"Well\"\n",
    "AGStatFields = {\"SITEID\":\"StationId\",\"FINISHEDDE\":\"Depth\",\"POINT_Y\":\"Lat_Y\",\n",
    "                \"POINT_X\":\"Lon_X\",\"ELEV_FT\":\"Elev\",\"ACCURACY\":\"HorAcc\"}\n",
    "AGStat.rename(columns=AGStatFields,inplace=True)"
   ]
  },
  {
   "cell_type": "code",
   "execution_count": 36,
   "metadata": {
    "collapsed": true
   },
   "outputs": [],
   "source": [
    "AGStat.drop([\"OBJECTID_1\", \"OBJECTID\", \"PUB_YR\", \"SAMPLENO\", \"WLDATE\", \"WLDEPTH\"], inplace=True, axis=1)"
   ]
  },
  {
   "cell_type": "code",
   "execution_count": 37,
   "metadata": {
    "collapsed": false
   },
   "outputs": [],
   "source": [
    "AGStat.StationId = AGStat.StationId.apply(lambda x: \"UDAF-\"+str(int(x)).zfill(5),1)"
   ]
  },
  {
   "cell_type": "code",
   "execution_count": 38,
   "metadata": {
    "collapsed": false
   },
   "outputs": [],
   "source": [
    "names = [\"SampleId\",\"ResultValue\", \"ParAbb\", \"Unit\", \"Param\", \"MDL\",\"BelowLim\",\"TestNo\",\n",
    "         \"StationId\",\"SampleDate\",\"SampYear\"]\n",
    "AGRes = pd.read_csv(AGResultsFile, names=names, index_col=10)"
   ]
  },
  {
   "cell_type": "code",
   "execution_count": 39,
   "metadata": {
    "collapsed": true
   },
   "outputs": [],
   "source": [
    "AGRes[\"DetectCond\"] = AGRes[\"BelowLim\"].apply(lambda x: 'Not Detected' if x=='Y' else np.nan,1)"
   ]
  },
  {
   "cell_type": "code",
   "execution_count": 40,
   "metadata": {
    "collapsed": false
   },
   "outputs": [],
   "source": [
    "AGRes.ResultValue = AGRes[[\"BelowLim\",\"ResultValue\"]].apply(lambda x: np.nan if x[0]==\"Y\" or x[1] == 0.0 else x[1], 1)"
   ]
  },
  {
   "cell_type": "code",
   "execution_count": 41,
   "metadata": {
    "collapsed": false
   },
   "outputs": [],
   "source": [
    "def parnormAG(x):\n",
    "    p = str(x[0]).rstrip().lstrip().lower()\n",
    "    u = str(x[2]).rstrip().lstrip().lower()\n",
    "    if p == 'nitrate-n':\n",
    "        return 'Nitrate', x[1]*4.427, 'mg/l'\n",
    "    elif u == 'ug/l':\n",
    "        return x[0], x[1]/1000, 'mg/l'\n",
    "    else:\n",
    "        return x[0], x[1], str(x[2]).rstrip()\n",
    "    \n",
    "AGRes['Param'], AGRes['ResultValue'], AGRes['Unit'] = zip(*AGRes[['Param','ResultValue','Unit']].apply(lambda x: parnormAG(x),1))"
   ]
  },
  {
   "cell_type": "code",
   "execution_count": 42,
   "metadata": {
    "collapsed": false
   },
   "outputs": [
    {
     "data": {
      "text/plain": [
       "array(['mg/L', 'mg/l', 'meq/L', '\\xb0C', '--', 'mS/cm', 'nan'], dtype=object)"
      ]
     },
     "execution_count": 42,
     "metadata": {},
     "output_type": "execute_result"
    }
   ],
   "source": [
    "AGRes.Unit.unique()"
   ]
  },
  {
   "cell_type": "code",
   "execution_count": 43,
   "metadata": {
    "collapsed": false
   },
   "outputs": [],
   "source": [
    "AGRes.dropna(subset=[\"StationId\",\"ResultValue\"], how=\"any\", inplace=True)"
   ]
  },
  {
   "cell_type": "code",
   "execution_count": 44,
   "metadata": {
    "collapsed": false
   },
   "outputs": [],
   "source": [
    "AGRes.StationId = AGRes.StationId.apply(lambda x: \"UDAF-\"+str(int(x)).zfill(5),1)"
   ]
  },
  {
   "cell_type": "code",
   "execution_count": 45,
   "metadata": {
    "collapsed": false
   },
   "outputs": [],
   "source": [
    "AGStAv = list(AGStat.StationId.values)\n",
    "AGRes = AGRes[AGRes.StationId.isin(AGStAv)]"
   ]
  },
  {
   "cell_type": "markdown",
   "metadata": {},
   "source": [
    "##STORET Legacy"
   ]
  },
  {
   "cell_type": "code",
   "execution_count": 109,
   "metadata": {
    "collapsed": false
   },
   "outputs": [],
   "source": [
    "STORLegSta = pd.read_table(STORLegStatFile, skiprows=[1])\n",
    "STORLegRes = pd.read_table(STORLegResFile, skiprows=[1])\n",
    "STORParam = pd.read_table(STORParamFile)"
   ]
  },
  {
   "cell_type": "code",
   "execution_count": 110,
   "metadata": {
    "collapsed": false
   },
   "outputs": [],
   "source": [
    "rescol = list(STORLegRes.columns)\n",
    "j = []\n",
    "for i in rescol:\n",
    "    j.append(i.rstrip(\"\\t\").rstrip().lstrip().replace(\" \",\"\"))\n",
    "resdict = dict(zip(rescol,j))\n",
    "STORLegRes.rename(columns=resdict,inplace=True)\n",
    "\n",
    "statcol = list(STORLegSta.columns)\n",
    "k = []\n",
    "for i in statcol:\n",
    "    k.append(i.rstrip(\"\\t\").rstrip().lstrip().replace(\" \",\"\"))\n",
    "statdict = dict(zip(statcol,k))\n",
    "STORLegSta.rename(columns=statdict,inplace=True)"
   ]
  },
  {
   "cell_type": "code",
   "execution_count": 111,
   "metadata": {
    "collapsed": false
   },
   "outputs": [],
   "source": [
    "STORLegRes[\"SampleDate\"] = STORLegRes[[\"StartDate\",\"StartTime\"]].apply(lambda x: datetimefix(x,\"%Y-%m-%d %H:%M\"),1)\n",
    "STORLegRes = STORLegRes[STORLegRes.SecondaryActivityCategory.isin(['Water',np.nan])]\n",
    "STORParamDict = dict(zip(STORParam['Parameter No.'].values, STORParam['Full Name'].values))\n",
    "STORLegRes.Param = STORLegRes.Param.apply(lambda x: STORParamDict.get(x),1) "
   ]
  },
  {
   "cell_type": "code",
   "execution_count": 112,
   "metadata": {
    "collapsed": true
   },
   "outputs": [],
   "source": [
    "STORResField = {\"Agency\":\"OrgId\",\"AgencyName\":\"OrgName\",\"Station\":\"StationId\",\"SampleDepth\":\"SampDepth\"}\n",
    "STORLegRes.rename(columns=STORResField,inplace=True)"
   ]
  },
  {
   "cell_type": "code",
   "execution_count": 113,
   "metadata": {
    "collapsed": false
   },
   "outputs": [],
   "source": [
    "STORLegRes.drop([\"StateName\", \"CountyName\", \"HUC\", \"EndDate\", \"UMK\", \"CS\", \"ReplicateNumber\",\n",
    "                 \"COMPOSITE_GRAB_NUMBER\",\"CM\",\"PrimaryActivityCategory\",\"PrimaryActivityCategory\",\n",
    "                 \"SecondaryActivityCategory\",\n",
    "                 \"EndTime\", \"StartDate\", \"StartTime\", \"Latitude\", \"Longitude\"],inplace=True,axis=1)"
   ]
  },
  {
   "cell_type": "code",
   "execution_count": 114,
   "metadata": {
    "collapsed": false
   },
   "outputs": [],
   "source": [
    "STORLegRes[\"SampleId\"] = STORLegRes[[\"StationId\",\"SampleDate\"]].apply(lambda x: str(x[0]) + \"-\" + str(x[1]),1 )\n",
    "STORLegRes[\"StationId\"] = STORLegRes[\"StationId\"].apply(lambda x: \"EPALeg-\" + x, 1)"
   ]
  },
  {
   "cell_type": "code",
   "execution_count": 115,
   "metadata": {
    "collapsed": false
   },
   "outputs": [],
   "source": [
    "STORLegRes.Param = STORLegRes.Param.apply(lambda x: str(x).title(),1)"
   ]
  },
  {
   "cell_type": "code",
   "execution_count": 54,
   "metadata": {
    "collapsed": true
   },
   "outputs": [],
   "source": [
    "def parnormSTOR(x):\n",
    "    p = str(x[0]).rstrip().lstrip().lower()\n",
    "    u = str(x[2]).rstrip().lstrip().lower()\n",
    "    if p ==  'nitrate nitrogen, total (mg/L as n)' or p== 'nitrate nitrogen, total':\n",
    "        return 'Nitrate', x[1]*4.427, 'mg/l'\n",
    "    elif p == 'nitrite nitrogen, total (mg/l as n)':\n",
    "        return 'Nitrite', x[1]*3.285, 'mg/l'\n",
    "    elif p == 'nitrogen, ammonia, total (mg/l as n)':\n",
    "        return 'Ammonium', x[1]*1.288, 'mg/l'\n",
    "    elif p == 'sulfate (as s) whole     water, mg/L':\n",
    "        return 'Sulfate', x[1]*2.996, 'mg/l'\n",
    "    elif p in ('phosphorus, dissolved orthophosphate (mg/l as p)'):\n",
    "        return 'Phosphate', x[1]*3.066, 'mg/l'\n",
    "    elif u == 'ug/l':\n",
    "        return x[0], x[1]/1000, 'mg/l'\n",
    "    else:\n",
    "        return x[0], x[1], str(x[2]).rstrip()\n",
    "\n",
    "STORLegRes['Param'], STORLegRes['ResultValue'], STORLegRes['Unit'] = zip(*STORLegRes[['Param','ResultValue','Unit']].apply(lambda x: parnorm(x),1))"
   ]
  },
  {
   "cell_type": "code",
   "execution_count": 53,
   "metadata": {
    "collapsed": false
   },
   "outputs": [],
   "source": [
    "STORKeepers = ['Temperature, Water (Degrees Centigrade)',\n",
    "               'Temperature, Water (Degrees Fahrenheit)', \n",
    "               'Specific Conductance,Field (Umhos/Cm @ 25C)',\n",
    "               'Specific Conductance (Umhos/Cm @ 25C)', \n",
    "               'Sulfate (As S) Whole     Water, Mg/L',\n",
    "               'Oxygen, Dissolved                             Mg/L',\n",
    "               'Oxygen, Dissolved, Percent Of Saturation         %',\n",
    "               'Bod, 5 Day, 20 Deg C                          Mg/L',\n",
    "               'Ph (Standard Units)', 'Ph, Lab, Standard Units                         Su',\n",
    "               'Carbon Dioxide (Mg/L As Co2)', 'Alkalinity,Total,Low Level Gran Analysis     Ueq/L',\n",
    "               'Alkalinity, Total (Mg/L As Caco3)', 'Bicarbonate Ion (Mg/L As Hco3)', 'Carbonate Ion (Mg/L As Co3)',\n",
    "               'Nitrogen, Ammonia, Total (Mg/L As N)', 'Ammonia, Unionzed                      (Mg/L As N)',\n",
    "               'Nitrite Nitrogen, Total (Mg/L As N)', 'Ammonia, Unionized (Calc Fr Temp-Ph-Nh4)  (Mg/L)',\n",
    "               'Nitrate Nitrogen, Total (Mg/L As N)', 'Nitrogen, Kjeldahl, Total, (Mg/L As N)',\n",
    "               'Nitrite Plus Nitrate, Total 1 Det. (Mg/L As N)', 'Phosphorus (P), Water, Total Recoverable      Ug/L',\n",
    "               'Phosphorus, Total (Mg/L As P)', 'Phosphorus, Dissolved Orthophosphate (Mg/L As P)',\n",
    "               'Carbon, Dissolved Organic (Mg/L As C)',\n",
    "               'Carbon, Dissolved Inorganic (Mg/L As C)',\n",
    "               'Hardness, Total (Mg/L As Caco3)', 'Calcium (Mg/L As Caco3)',\n",
    "               'Calcium, Dissolved (Mg/L As Ca)',\n",
    "               'Magnesium, Dissolved (Mg/L As Mg)',\n",
    "               'Sodium, Dissolved (Mg/L As Na)',\n",
    "               'Potassium, Dissolved (Mg/L As K)',\n",
    "               'Chloride, Dissolved In Water           Mg/L',\n",
    "               'Sulfate, Dissolved (Mg/L As So4)',\n",
    "               'Fluoride, Dissolved (Mg/L As F)',\n",
    "               'Silica, Dissolved (Mg/L As Si02)',\n",
    "               'Arsenic, Dissolved  (Ug/L As As)', 'Arsenic, Total (Ug/L As As)',\n",
    "               'Barium, Dissolved (Ug/L As Ba)', 'Barium, Total (Ug/L As Ba)',\n",
    "               'Beryllium, Total (Ug/L As Be)', 'Boron, Dissolved (Ug/L As B)',\n",
    "               'Boron, Total (Ug/L As B)', 'Cadmium, Dissolved (Ug/L As Cd)',\n",
    "               'Cadmium, Total (Ug/L As Cd)', 'Chromium, Dissolved (Ug/L As Cr)',\n",
    "               'Chromium, Hexavalent (Ug/L As Cr)', 'Chromium, Total (Ug/L As Cr)',\n",
    "               'Copper, Dissolved (Ug/L As Cu)', 'Copper, Total (Ug/L As Cu)',\n",
    "               'Iron, Dissolved (Ug/L As Fe)', 'Lead, Dissolved (Ug/L As Pb)',\n",
    "               'Lead, Total (Ug/L As Pb)', 'Manganese, Total (Ug/L As Mn)',\n",
    "               'Manganese, Dissolved (Ug/L As Mn)', 'Thallium, Total (Ug/L As Tl)',\n",
    "               'Nickel, Dissolved (Ug/L As Ni)', 'Nickel, Total (Ug/L As Ni)',\n",
    "               'Silver, Dissolved (Ug/L As Ag)', 'Silver, Total (Ug/L As Ag)',\n",
    "               'Zinc, Dissolved (Ug/L As Zn)', 'Zinc, Total (Ug/L As Zn)',\n",
    "               'Antimony, Total (Ug/L As Sb)', 'Aluminum, Total (Ug/L As Al)',\n",
    "               'Selenium, Dissolved (Ug/L As Se)', 'Selenium, Total (Ug/L As Se)',\n",
    "               'Tritium (1H3),Total (Picocuries/Liter)',\n",
    "               'Hardness, Ca Mg Calculated (Mg/L As Caco3)',\n",
    "               'Chlorine, Total Residual (Mg/L)',\n",
    "               'Residue,Total Filtrable (Dried At 180C),Mg/L',\n",
    "               'Nitrate Nitrogen, Dissolved (Mg/L As No3)', 'Iron (Ug/L As Fe)',\n",
    "               'Phosphorus, Total, As Po4 - Mg/L', 'Mercury, Total  (Ug/L As Hg)']\n",
    "STORLegRes = STORLegRes[STORLegRes.Param.isin(STORKeepers)] "
   ]
  },
  {
   "cell_type": "code",
   "execution_count": 55,
   "metadata": {
    "collapsed": true
   },
   "outputs": [],
   "source": [
    "def parsplit(x,p):\n",
    "    x = str(x).rstrip().lstrip()\n",
    "    if p == \"Un\":\n",
    "        z = -1\n",
    "        x = str(x).replace(\"Mg/L\", \"mg/l\")\n",
    "        x = str(x).replace(\"Ug/L\", \"ug/l\")\n",
    "        x = str(x).replace(\"o\", \"O\")\n",
    "        x = str(x).replace(\"c\", \"C\")\n",
    "        x = str(x).replace(\"TOtal ReCOverable\",\"Total Recoverable\")        \n",
    "        x = str(x).replace(\"UmhOs\", \"umhos\")\n",
    "        x = str(x).replace(\"TOtal\",\"Total\")\n",
    "    elif p== \"Par\":\n",
    "        z = 0\n",
    "        x = str(x).replace(\", Standard Units\",\"\")\n",
    "        x = str(x).replace(\", Unionized\",\"\")\n",
    "        x = str(x).replace(\", Unionzed\",\"\")\n",
    "        x = str(x).replace(\",Low Level Gran Analysis\",\"\")\n",
    "        x = str(x).replace(\" Ion\",\"\")\n",
    "        x = str(x).replace(\",Total\",\", Total\")\n",
    "        if x == \"Ph\" or x == \"Ph, Lab\":\n",
    "            x = str(x).replace(\"Ph\",\"pH\")\n",
    "    if \"(\" in x:\n",
    "        x = str(x).replace(\" As \", \" as \")\n",
    "        return str(x).split(\" (\")[z].rstrip(\")\").rstrip().lstrip()\n",
    "    else:\n",
    "        return str(x).split(\"  \")[z].rstrip().lstrip()\n",
    "\n",
    "def splitmore(x):\n",
    "    if \"NO3\" in x:\n",
    "        return x\n",
    "    elif \" as \" in x:\n",
    "        return x.split(\" as \")[0]\n",
    "    elif x == \"As S) WhOle     Water, mg/l\" or x == \"Dried At 180C),mg/l\" or x==\"PhOsphOrus, Total, As PO4 - mg/l\":\n",
    "        return \"mg/l\"\n",
    "    elif x == \"P), Water, Total Recoverable      ug/l\":\n",
    "        return \"ug/l\"\n",
    "    else:\n",
    "        return x\n",
    "\n",
    "def unitconv(x):\n",
    "    if x[1]==\"ug/l\":\n",
    "        return x[0]/1000\n",
    "    elif x[1]==\"Degrees Fahrenheit\":\n",
    "        return (float(x[0])-32.0)*(5.0/9.0)\n",
    "    else:\n",
    "        return x[0]"
   ]
  },
  {
   "cell_type": "code",
   "execution_count": 56,
   "metadata": {
    "collapsed": false
   },
   "outputs": [
    {
     "data": {
      "text/plain": [
       "array(['Temperature, Water', 'Specific Conductance,Field',\n",
       "       'Specific Conductance', 'Sulfate', 'Oxygen, Dissolved',\n",
       "       'Oxygen, Dissolved, Percent Of Saturation', 'Bod, 5 Day, 20 Deg C',\n",
       "       'Ph', 'Ph, Lab', 'Carbon Dioxide', 'Alkalinity, Total',\n",
       "       'Bicarbonate', 'Carbonate', 'Nitrogen, Ammonia, Total', 'Ammonia',\n",
       "       'Nitrite Nitrogen, Total', 'Nitrate Nitrogen, Total',\n",
       "       'Nitrogen, Kjeldahl, Total,', 'Nitrite Plus Nitrate, Total 1 Det.',\n",
       "       'Phosphorus', 'Phosphorus, Total',\n",
       "       'Phosphorus, Dissolved Orthophosphate', 'Carbon, Dissolved Organic',\n",
       "       'Carbon, Dissolved Inorganic', 'Hardness, Total', 'Calcium',\n",
       "       'Calcium, Dissolved', 'Magnesium, Dissolved', 'Sodium, Dissolved',\n",
       "       'Potassium, Dissolved', 'Chloride, Dissolved In Water',\n",
       "       'Sulfate, Dissolved', 'Fluoride, Dissolved', 'Silica, Dissolved',\n",
       "       'Arsenic, Dissolved', 'Arsenic, Total', 'Barium, Dissolved',\n",
       "       'Barium, Total', 'Beryllium, Total', 'Boron, Dissolved',\n",
       "       'Boron, Total', 'Cadmium, Dissolved', 'Cadmium, Total',\n",
       "       'Chromium, Dissolved', 'Chromium, Hexavalent', 'Chromium, Total',\n",
       "       'Copper, Dissolved', 'Copper, Total', 'Iron, Dissolved',\n",
       "       'Lead, Dissolved', 'Lead, Total', 'Manganese, Total',\n",
       "       'Manganese, Dissolved', 'Thallium, Total', 'Nickel, Dissolved',\n",
       "       'Nickel, Total', 'Silver, Dissolved', 'Silver, Total',\n",
       "       'Zinc, Dissolved', 'Zinc, Total', 'Antimony, Total',\n",
       "       'Aluminum, Total', 'Selenium, Dissolved', 'Selenium, Total',\n",
       "       'Tritium', 'Hardness, Ca Mg Calculated', 'Chlorine, Total Residual',\n",
       "       'Residue, Total Filtrable', 'Nitrate Nitrogen, Dissolved', 'Iron',\n",
       "       'Phosphorus, Total, As Po4 - Mg/L', 'Mercury, Total'], dtype=object)"
      ]
     },
     "execution_count": 56,
     "metadata": {},
     "output_type": "execute_result"
    }
   ],
   "source": [
    "STORLegRes[\"Unit\"] = STORLegRes[\"Param\"].apply(lambda x: parsplit(x,\"Un\"), 1)\n",
    "STORLegRes[\"Param\"] = STORLegRes[\"Param\"].apply(lambda x: parsplit(x,\"Par\"), 1)\n",
    "STORLegRes[\"Unit\"] = STORLegRes[\"Unit\"].apply(lambda x: splitmore(x), 1)\n",
    "#STORLegRes[\"ResultValue\"] = STORLegRes[[\"ResultValue\",\"Unit\"]].apply(lambda x: unitconv(x), 1)\n",
    "#STORLegRes[\"Unit\"] = STORLegRes[\"Unit\"].apply(lambda x: \"mg/l\" if x==\"ug/l\" else x, 1)\n",
    "#STORLegRes[\"Unit\"] = STORLegRes[\"Unit\"].apply(lambda x: \"Degrees Centigrade\" if x==\"Degrees Fahrenheit\" else x, 1)"
   ]
  },
  {
   "cell_type": "code",
   "execution_count": 57,
   "metadata": {
    "collapsed": false
   },
   "outputs": [],
   "source": [
    "STORStaField = {\"Agency\":\"OrgId\",\"AgencyName\":\"OrgName\",\"Station\":\"StationId\", \"DepthUnits\":\"DepthUnit\",\n",
    "                \"Latitude\":\"Lat_Y\", \"Longitude\":\"Lon_X\", \"HUC\":\"HUC8\", \"StationDepth\":\"Depth\"}\n",
    "STORLegSta.rename(columns=STORStaField,inplace=True)"
   ]
  },
  {
   "cell_type": "code",
   "execution_count": 58,
   "metadata": {
    "collapsed": false
   },
   "outputs": [
    {
     "data": {
      "text/plain": [
       "Index([u'OrgId', u'StationId', u'StationName', u'OrgName', u'StateName',\n",
       "       u'CountyName', u'Lat_Y', u'Lon_X', u'HUC8', u'RchmileSegment',\n",
       "       u'MilesUpReach', u'Rchonoff', u'Rchname', u'StationAlias',\n",
       "       u'StationType', u'Depth', u'DepthUnit', u'S', u'G', u'Description'],\n",
       "      dtype='object')"
      ]
     },
     "execution_count": 58,
     "metadata": {},
     "output_type": "execute_result"
    }
   ],
   "source": [
    "STORLegSta.columns"
   ]
  },
  {
   "cell_type": "code",
   "execution_count": 59,
   "metadata": {
    "collapsed": false
   },
   "outputs": [],
   "source": [
    "STORLegSta.drop([\"RchmileSegment\", \"MilesUpReach\", \"Rchonoff\", \"Description\", \"G\", \"S\", \"StationAlias\",\n",
    "                 \"Rchname\", \"StateName\", \"CountyName\"], inplace=True, axis=1)"
   ]
  },
  {
   "cell_type": "code",
   "execution_count": 60,
   "metadata": {
    "collapsed": false
   },
   "outputs": [],
   "source": [
    "STORLegSta.StationType = STORLegSta.StationType.apply(lambda x: str(x).rstrip(\" \").strip(\"/SUPPLY\").split(\"/\")[-1].title(),1)"
   ]
  },
  {
   "cell_type": "code",
   "execution_count": 61,
   "metadata": {
    "collapsed": true
   },
   "outputs": [],
   "source": [
    "LegTypeDict = {\"We\":\"Well\"}\n",
    "STORLegSta.StationType = STORLegSta.StationType.apply(lambda x: LegTypeDict.get(x,x),1)"
   ]
  },
  {
   "cell_type": "code",
   "execution_count": 62,
   "metadata": {
    "collapsed": false
   },
   "outputs": [],
   "source": [
    "STORLegSta.StationId = STORLegSta[\"StationId\"].apply(lambda x: \"EPALeg-\" + x, 1)"
   ]
  },
  {
   "cell_type": "markdown",
   "metadata": {},
   "source": [
    "##UGS Data"
   ]
  },
  {
   "cell_type": "code",
   "execution_count": 117,
   "metadata": {
    "collapsed": true
   },
   "outputs": [],
   "source": [
    "UGSfield = pd.read_excel(fielddata,\"FieldChem\")\n",
    "UGSNO3 = pd.read_excel(fielddata,\"Nitrate\")"
   ]
  },
  {
   "cell_type": "code",
   "execution_count": 63,
   "metadata": {
    "collapsed": false
   },
   "outputs": [],
   "source": [
    "UGS = pd.read_csv(UGSFile, engine=\"python\")\n",
    "UGS[\"StationId\"] = UGS[\"SITE\"].apply(lambda x:\"UGS-\"+str(x).zfill(4),1) "
   ]
  },
  {
   "cell_type": "code",
   "execution_count": 64,
   "metadata": {
    "collapsed": true
   },
   "outputs": [],
   "source": [
    "UGSSta = UGS.drop([u'OBJECTID_1',u'SITE', u'TDS', u'Temp', u'Cond', u'CO2', u'HCO3', \n",
    "                  u'CO3',u'Na', u'pH', u'Ca', u'SO4', u'NO3', u'As_', u'Cl', u'K',\n",
    "                  u'Mg', u'Hard', u'NH4'], axis=1)"
   ]
  },
  {
   "cell_type": "code",
   "execution_count": 65,
   "metadata": {
    "collapsed": false
   },
   "outputs": [],
   "source": [
    "UGSRe = UGS.drop([u'OBJECTID_1',u'SITE',u'StationType', u'Geology', u'Elev', u'Lat_Y', u'Lon_X', u'StationName', \n",
    "                  u'OrgId', u'WRNUM', u'SITE', u'UTM_X', u'UTM_Y', u'Depth_ft'], axis=1)"
   ]
  },
  {
   "cell_type": "code",
   "execution_count": 66,
   "metadata": {
    "collapsed": true
   },
   "outputs": [],
   "source": [
    "UGSRe[\"SampleId\"] = UGSRe.index"
   ]
  },
  {
   "cell_type": "code",
   "execution_count": 67,
   "metadata": {
    "collapsed": false
   },
   "outputs": [],
   "source": [
    "UGSRe.reset_index(inplace=True)\n",
    "UGSRe.set_index([\"StationId\",\"SampleId\"], inplace=True)"
   ]
  },
  {
   "cell_type": "code",
   "execution_count": 68,
   "metadata": {
    "collapsed": false
   },
   "outputs": [],
   "source": [
    "UGSRe.drop(UGSRe.columns[0],inplace=True,axis=1)"
   ]
  },
  {
   "cell_type": "code",
   "execution_count": 69,
   "metadata": {
    "collapsed": false
   },
   "outputs": [],
   "source": [
    "UGSStack = UGSRe.stack().to_frame()\n",
    "UGSStack.columns = [\"ResultValue\"]"
   ]
  },
  {
   "cell_type": "code",
   "execution_count": 70,
   "metadata": {
    "collapsed": true
   },
   "outputs": [],
   "source": [
    "UGSStack.reset_index(inplace=True)"
   ]
  },
  {
   "cell_type": "code",
   "execution_count": 71,
   "metadata": {
    "collapsed": false
   },
   "outputs": [],
   "source": [
    "UGSStack.columns=[\"StationId\",\"SampleId\",\"Param\",\"ResultValue\"]"
   ]
  },
  {
   "cell_type": "code",
   "execution_count": 72,
   "metadata": {
    "collapsed": false
   },
   "outputs": [],
   "source": [
    "def unitcon(x):\n",
    "    if x==\"pH\":\n",
    "        return \"\"\n",
    "    elif x==\"Temp\":\n",
    "        return \"C\"\n",
    "    elif x==\"Cond\":\n",
    "        return \"uS/cm\"\n",
    "    else:\n",
    "        return \"mg/l\"\n",
    "    \n",
    "UGSStack[\"Unit\"] = UGSStack[\"Param\"].apply(lambda x: unitcon(x),1)\n",
    "UGSStack[\"ParAbb\"] = UGSStack[\"Param\"]\n",
    "UGSStack[\"OrgId\"] = \"UGS\"\n",
    "UGSStack[\"OrgName\"] = \"Utah Geological Survey\""
   ]
  },
  {
   "cell_type": "markdown",
   "metadata": {},
   "source": [
    "##State Lab"
   ]
  },
  {
   "cell_type": "code",
   "execution_count": 88,
   "metadata": {
    "collapsed": true
   },
   "outputs": [],
   "source": [
    "fielddata = rootname + \"FieldData.xlsx\"\n",
    "statelabresults0 = rootname + \"utgs1402.txt\"\n",
    "statelabresults1 = rootname + \"utgs1403.txt\"\n",
    "statelabresults2 = rootname + \"utgs1501.txt\"\n",
    "statelabstations = rootname + \"UtahStateLabStations.xlsx\""
   ]
  },
  {
   "cell_type": "code",
   "execution_count": 79,
   "metadata": {
    "collapsed": false
   },
   "outputs": [
    {
     "data": {
      "text/plain": [
       "Index([u'OrgId', u'OrgName', u'StationId', u'StationName', u'StationType',\n",
       "       u'StationComment', u'HUC8', u'Lat_Y', u'Lon_X', u'HorAcc',\n",
       "       u'HorAccUnit', u'HorCollMeth', u'HorRef', u'Elev', u'ElevUnit',\n",
       "       u'ElevAcc', u'ElevAccUnit', u'ElevMeth', u'ElevRef', u'StateCode',\n",
       "       u'CountyCode', u'Aquifer', u'FmType', u'AquiferType', u'ConstDate',\n",
       "       u'Depth', u'DepthUnit', u'HoleDepth', u'HoleDUnit'],\n",
       "      dtype='object')"
      ]
     },
     "execution_count": 79,
     "metadata": {},
     "output_type": "execute_result"
    }
   ],
   "source": [
    "WQPStat.columns"
   ]
  },
  {
   "cell_type": "code",
   "execution_count": 96,
   "metadata": {
    "collapsed": false
   },
   "outputs": [],
   "source": [
    "SLSampMatch = pd.read_excel(fielddata,\"StateLabMatch\")\n",
    "SLStations = pd.read_excel(fielddata,\"Stations\")\n",
    "SLStat = pd.merge(SLSampMatch, SLStations, on='StationId', how='left')"
   ]
  },
  {
   "cell_type": "code",
   "execution_count": 90,
   "metadata": {
    "collapsed": false
   },
   "outputs": [
    {
     "name": "stderr",
     "output_type": "stream",
     "text": [
      "Skipping line 11: expected 43 fields, saw 44\n",
      "Skipping line 19: expected 43 fields, saw 44\n",
      "Skipping line 238: expected 43 fields, saw 44\n",
      "Skipping line 857: expected 43 fields, saw 44\n",
      "\n",
      "Skipping line 726: expected 43 fields, saw 44\n",
      "Skipping line 745: expected 43 fields, saw 44\n",
      "Skipping line 1467: expected 43 fields, saw 44\n",
      "Skipping line 1487: expected 43 fields, saw 44\n",
      "Skipping line 1507: expected 43 fields, saw 44\n",
      "Skipping line 1527: expected 43 fields, saw 44\n",
      "\n"
     ]
    }
   ],
   "source": [
    "SL0 = pd.read_table(statelabresults0, sep=\"\\t\", lineterminator=\"\\n\", error_bad_lines=False)\n",
    "SL0 = SL0[SL0['Collector']=='PI']\n",
    "SL1 = pd.read_table(statelabresults1, sep=\"\\t\", lineterminator=\"\\n\", error_bad_lines=False)\n",
    "SL1 = SL1[SL1['Collector']=='PI']\n",
    "SL2 = pd.read_table(statelabresults2, sep=\"\\t\", lineterminator=\"\\n\", error_bad_lines=False)\n",
    "SL2 = SL2[SL2['Collector']=='PI']"
   ]
  },
  {
   "cell_type": "code",
   "execution_count": 91,
   "metadata": {
    "collapsed": true
   },
   "outputs": [],
   "source": [
    "SL = pd.concat([SL0,SL1,SL2])"
   ]
  },
  {
   "cell_type": "code",
   "execution_count": 92,
   "metadata": {
    "collapsed": false
   },
   "outputs": [],
   "source": [
    "\n",
    "SL[\"OrgId\"] = \"UGS\"\n",
    "SL[\"OrgName\"] = \"Utah Geological Survey\"\n",
    "SL['DetectCond'] = SL['Problem#Identifier'].apply(lambda x: 'Not Detected' if str(x).rstrip()=='<' else np.nan,1)\n",
    "SL['SampleDate'] = SL[['Sample#Date','Sample#Time']].apply(lambda x: datetimefix(x,\"%m/%d/%y %H:%M\"),1)\n",
    "SLHead = {'Sample#Number':'SampleId', 'Param#Description':'Param', 'Result#Value':'ResultValue','Units':'Unit', \n",
    "          'Lower#Report#Limit':'MDL','Method#ID':'SampMeth','Analysis#Date':'AnalysisDate'}\n",
    "SL.rename(columns=SLHead,inplace=True)"
   ]
  },
  {
   "cell_type": "code",
   "execution_count": 93,
   "metadata": {
    "collapsed": false
   },
   "outputs": [],
   "source": [
    "SL.drop([u'Lab#Code', u'Station#ID', u'Source#Code', u'Sample#Date',\n",
    "       u'Sample#Time', u'Sample#Type', u'Cost#Code', u'Billing#Code',\n",
    "       u'Agency#Bill#Code', u'Trip#ID', u'Sample#Description', u'Collector',\n",
    "       u'Sample#Recieved#Date', u'Chain#of#Custody#Ind.', u'Replicate#Number',\n",
    "       u'Sample#Comment', u'Method#Number', u'Method#Agency',\n",
    "       u'Method#Description', u'Param#Number', u'CAS#Number',\n",
    "       u'Matrix#Number', u'Matrix#Description', u'Preparation#Date',\n",
    "       u'Problem#Identifier', u'Result#Code', \n",
    "       u'Upper#Quant#Limit', u'Method#Detect#Limit',\n",
    "       u'Confidence#Limit', u'%#Confidence#Limit',u'Dilution#Factor',\n",
    "       u'Batch#Number',u'Comment#Number', u'Comment#Text'], inplace=True, axis=1)"
   ]
  },
  {
   "cell_type": "code",
   "execution_count": 94,
   "metadata": {
    "collapsed": false
   },
   "outputs": [
    {
     "data": {
      "text/plain": [
       "Index([u'AnalysisDate', u'Comment#Number.1', u'Comment#Text.1', u'MDL',\n",
       "       u'SampMeth', u'Param', u'ResultValue', u'SampleId', u'Unit', u'OrgId',\n",
       "       u'OrgName', u'DetectCond', u'SampleDate'],\n",
       "      dtype='object')"
      ]
     },
     "execution_count": 94,
     "metadata": {},
     "output_type": "execute_result"
    }
   ],
   "source": [
    "SL.columns"
   ]
  },
  {
   "cell_type": "code",
   "execution_count": 97,
   "metadata": {
    "collapsed": false
   },
   "outputs": [],
   "source": [
    "SLRes = pd.merge(SL, SLStat, on='SampleId', how='left')"
   ]
  },
  {
   "cell_type": "code",
   "execution_count": 99,
   "metadata": {
    "collapsed": false
   },
   "outputs": [],
   "source": [
    "SLRes.drop([u'StationName', u'Elev', u'Lat_Y', u'Lon_X', u'Depth', \n",
    "            u'DepthUnit',  u'ScreenDepth', u'WIN', u'Diameter', u'WL', u'WLDate', u'ScreenBottom'], inplace=True, axis=1)"
   ]
  },
  {
   "cell_type": "code",
   "execution_count": 100,
   "metadata": {
    "collapsed": true
   },
   "outputs": [],
   "source": [
    "SLStat.drop(['SampleId'],inplace=True, axis=1)\n",
    "SLStat.drop_duplicates(inplace=True)"
   ]
  },
  {
   "cell_type": "code",
   "execution_count": 101,
   "metadata": {
    "collapsed": false
   },
   "outputs": [
    {
     "data": {
      "text/plain": [
       "array(['umhos/cm', 'mg/l', 'ntu', 'units', 'ug/l', 'pc/l', 'ccu', 'T.O.N.'], dtype=object)"
      ]
     },
     "execution_count": 101,
     "metadata": {},
     "output_type": "execute_result"
    }
   ],
   "source": [
    "SLRes.Unit.unique()"
   ]
  },
  {
   "cell_type": "code",
   "execution_count": 107,
   "metadata": {
    "collapsed": false
   },
   "outputs": [],
   "source": [
    "def SLparnorm(x):\n",
    "    p = str(x[0]).rstrip().lstrip().lower()\n",
    "    u = str(x[2]).rstrip().lstrip().lower()\n",
    "    if p == 'nitrate nitrogen, total (mg/l as n)':\n",
    "        return 'Nitrate', x[1]*4.427, 'mg/l'\n",
    "    elif p == 'nitrite nitrogen, total (mg/l as n)':\n",
    "        return 'Nitrite', x[1]*3.285, 'mg/l'\n",
    "    elif p == 'ammonia as n':\n",
    "        return 'Ammonium', x[1]*1.288, 'mg/l'\n",
    "    elif p == 'sulfate (as s) whole     water, mg/L':\n",
    "        return 'Sulfate', x[1]*2.996, 'mg/l'\n",
    "    elif p in ('phosphate, tot. dig. (as p)', 'phosphate-phosphorus as p','orthophosphate as p'):\n",
    "        return 'Phosphate', x[1]*3.066, 'mg/l'\n",
    "    elif u == 'ug/l':\n",
    "        return x[0], x[1]/1000, 'mg/l'\n",
    "    else:\n",
    "        return x[0], x[1], str(x[2]).rstrip()\n",
    "    \n",
    "SLRes['Param'], SLRes['ResultValue'], SLRes['Unit'] = zip(*SLRes[['Param','ResultValue','Unit']].apply(lambda x: parnorm(x),1))"
   ]
  },
  {
   "cell_type": "code",
   "execution_count": 105,
   "metadata": {
    "collapsed": false
   },
   "outputs": [
    {
     "data": {
      "text/plain": [
       "['Alpha, gross',\n",
       " 'Aluminum',\n",
       " 'Ammonia as N',\n",
       " 'Antimony',\n",
       " 'Arsenic',\n",
       " 'Barium',\n",
       " 'Beryllium',\n",
       " 'Beta, gross',\n",
       " 'Bicarbonate',\n",
       " 'Boron',\n",
       " 'Bromide',\n",
       " 'Cadmium',\n",
       " 'Calcium',\n",
       " 'Carbon Dioxide',\n",
       " 'Carbonate',\n",
       " 'Chloride',\n",
       " 'Chromium',\n",
       " 'Color',\n",
       " 'Copper',\n",
       " 'Corrosivity',\n",
       " 'Cyanide',\n",
       " 'Fluoride',\n",
       " 'Hardness (from D-CA and D-MG)',\n",
       " 'Hydroxide',\n",
       " 'Iron',\n",
       " 'Lead',\n",
       " 'Magnesium',\n",
       " 'Manganese',\n",
       " 'Mercury',\n",
       " 'Nickel',\n",
       " 'Nitrate + Nitrite as N',\n",
       " 'Odor',\n",
       " 'Phosphate, Tot. Dig. (as P)',\n",
       " 'Potassium',\n",
       " 'Radium 228',\n",
       " 'Selenium',\n",
       " 'Silica D/SIO2',\n",
       " 'Silver',\n",
       " 'Sodium',\n",
       " 'Sp. Cond.',\n",
       " 'Sulfate',\n",
       " 'Surfactant/MBAS',\n",
       " 'T. Alk/CaCO3',\n",
       " 'T. Sus. Solids',\n",
       " 'TDS @ 180 C',\n",
       " 'Thallium',\n",
       " 'Total Organic Carbon',\n",
       " 'Turbidity',\n",
       " 'Uranium 238',\n",
       " 'Zinc',\n",
       " 'pH']"
      ]
     },
     "execution_count": 105,
     "metadata": {},
     "output_type": "execute_result"
    }
   ],
   "source": [
    "sorted(list(SLRes.Param.unique()))"
   ]
  },
  {
   "cell_type": "markdown",
   "metadata": {},
   "source": [
    "#Combine Data"
   ]
  },
  {
   "cell_type": "code",
   "execution_count": 73,
   "metadata": {
    "collapsed": false
   },
   "outputs": [],
   "source": [
    "Res = pd.concat([STORLegRes,AGRes,SDWISRes,WQP,UGSStack,SLRes,UGSField,UGSNO3])"
   ]
  },
  {
   "cell_type": "code",
   "execution_count": 74,
   "metadata": {
    "collapsed": false
   },
   "outputs": [
    {
     "data": {
      "text/plain": [
       "435947"
      ]
     },
     "execution_count": 74,
     "metadata": {},
     "output_type": "execute_result"
    }
   ],
   "source": [
    "Res = Res[~Res[\"Unit\"].isin(['ueq/L','Ueq/L','ueq/l','tons/ac ft','tons/day','meq/L'])]\n",
    "Res = Res[~Res[\"Param\"].isin([\"Heptachlorobiphenyl\", \"Hydrocarbons\", \"Hydroxide\", \"Ionic strength\",\n",
    "                              \"Floating debris, severity\", \"Carbon Tetrachloride\", \"Trichlorobiphenyl\",\n",
    "                              \"Vinyl Chloride\", \"True color\", \"Color\", \"Trash, Debris, Floatables\",\n",
    "                              \"Total volatile solids\", \"Temperature, air\", \"Residue, Total Filtrable\",\n",
    "                              \"Pentachlorobiphenyl\", \"Odor threshold number\", \"Odor, atmospheric\",\n",
    "                              \"Instream features, est. stream width\", \"Hydroxide\", \n",
    "                              \"Light, transmissivity\",\"Algae, floating mats (severity)\"])]\n",
    "len(Res)"
   ]
  },
  {
   "cell_type": "code",
   "execution_count": 75,
   "metadata": {
    "collapsed": false
   },
   "outputs": [],
   "source": [
    "Res[[\"Param\",\"Unit\",\"USGSPCode\"]].drop_duplicates(subset=[\"Param\",\"Unit\"]).sort([\"Param\"]).to_clipboard()"
   ]
  },
  {
   "cell_type": "code",
   "execution_count": null,
   "metadata": {
    "collapsed": true
   },
   "outputs": [],
   "source": [
    "Stat = pd.concat([STORLegSta,AGStat, SDWISSta, WQPStat, SLStat])"
   ]
  },
  {
   "cell_type": "code",
   "execution_count": null,
   "metadata": {
    "collapsed": false
   },
   "outputs": [],
   "source": [
    "parmatch = pd.read_excel(rootname + \"Aquachem.xlsx\")"
   ]
  },
  {
   "cell_type": "code",
   "execution_count": null,
   "metadata": {
    "collapsed": false
   },
   "outputs": [],
   "source": [
    "parmatch.columns"
   ]
  },
  {
   "cell_type": "code",
   "execution_count": null,
   "metadata": {
    "collapsed": false
   },
   "outputs": [],
   "source": [
    "parmatchdict = dict(zip(parmatch.Param.values, parmatch.ParrAbb.values))\n",
    "Res[\"ParAbb\"] = Res[[\"ParAbb\",\"Param\"]].apply(lambda x: parmatchdict.get(x[1],x[0]),1)"
   ]
  },
  {
   "cell_type": "code",
   "execution_count": null,
   "metadata": {
    "collapsed": false
   },
   "outputs": [],
   "source": [
    "results = Res.dropna(subset=[\"StationId\",\"Param\",\"SampleId\"], how=\"any\")"
   ]
  },
  {
   "cell_type": "code",
   "execution_count": null,
   "metadata": {
    "collapsed": false
   },
   "outputs": [],
   "source": [
    "Stat[\"StationName\"] = Stat[\"StationName\"].apply(lambda x: str(x).strip().lstrip().rstrip(),1)\n",
    "results[\"Unit\"] = results[[\"ParAbb\",\"Unit\"]].apply(lambda x: \"C\" if x[0]==\"Temp\" else x[1],1)\n",
    "results[\"Unit\"] = results[[\"ParAbb\",\"Unit\"]].apply(lambda x: \"umhos/cm\" if x[0]==\"Cond\" else x[1],1)\n",
    "results[\"Unit\"] = results[[\"ParAbb\",\"Unit\"]].apply(lambda x: \"\" if x[0]==\"pH\" else x[1],1)"
   ]
  },
  {
   "cell_type": "code",
   "execution_count": null,
   "metadata": {
    "collapsed": false
   },
   "outputs": [],
   "source": [
    "results.drop([\"AnalysisDate\",\"AnalytMeth\",\"SampType\",\"AnalytMethId\", \"BelowLim\", \"StationName\",\n",
    "              \"MethodDescript\", \"LabComments\", \"LabName\", \"LimitType\", \"ProjectId\", \"QualCode\",\n",
    "              \"OrgName\",\"R\", \"ResultComment\",\"ResultStatus\",\"SampComment\", \"SampEquip\", \n",
    "              \"SampDepthRef\", \"SampDepthU\",\"SampDepth\",\"SampType\", \"USGSPCode\",\n",
    "              \"SampMeth\", \"SampMethName\",\"SampYear\",\"TestNo\"],inplace=True,axis=1)"
   ]
  },
  {
   "cell_type": "code",
   "execution_count": null,
   "metadata": {
    "collapsed": true
   },
   "outputs": [],
   "source": [
    "def estsize(df):\n",
    "    return df.values.nbytes + df.index.nbytes + df.columns.nbytes"
   ]
  },
  {
   "cell_type": "code",
   "execution_count": null,
   "metadata": {
    "collapsed": false
   },
   "outputs": [],
   "source": [
    "(str(round(estsize(results)/1E6,2))+\" MB\")\n",
    "#(str(round(estsize(Stat)/1E6,2))+\" MB\")"
   ]
  },
  {
   "cell_type": "code",
   "execution_count": null,
   "metadata": {
    "collapsed": true
   },
   "outputs": [],
   "source": [
    "GWStat = Stat[Stat['StationType'].isin(['Spring','Well'])]\n",
    "GWStatList = list(GWStat.StationId.unique())"
   ]
  },
  {
   "cell_type": "code",
   "execution_count": null,
   "metadata": {
    "collapsed": false
   },
   "outputs": [],
   "source": [
    "NDs = {'Not Detected':'<', 'Present Above Quantification Limit':'<', 'ND             ':'<', '*Present >QL   ':'>',\n",
    "       'Present Below Quantification Limit':'<', '*Non-detect    ':'<', 'Detected Not Quantified':'<', \n",
    "       'Systematic Contamination':'<'}\n",
    "results.DetectCond = results.DetectCond.apply(lambda x: NDs.get(x,np.nan),1) "
   ]
  },
  {
   "cell_type": "code",
   "execution_count": null,
   "metadata": {
    "collapsed": false
   },
   "outputs": [],
   "source": [
    "GWResNoND = results[(results['StationId'].isin(GWStatList)) & (~results['DetectCond'].isin(['<','>']))]"
   ]
  },
  {
   "cell_type": "code",
   "execution_count": null,
   "metadata": {
    "collapsed": false
   },
   "outputs": [],
   "source": [
    "def is_nan(x): \n",
    "    try: \n",
    "        return math.isnan(x) \n",
    "    except: \n",
    "        return False \n",
    "\n",
    "def detected(x):\n",
    "    if x[1]=='<' and np.isfinite(x[0]):\n",
    "        return x[1]+str(x[0])       \n",
    "    elif x[1]=='<' and np.isfinite(x[2]):\n",
    "        if str(x[3]).rstrip().lower() == 'ug/l':\n",
    "            return x[1]+str(x[2]/1000)\n",
    "        else:\n",
    "            return x[1]+str(x[2])\n",
    "    else:\n",
    "        return x[0]\n",
    "\n",
    "results.ResultValue = results[['ResultValue','DetectCond','MDL','MDLUnit']].apply(lambda x: detected(x),1)"
   ]
  },
  {
   "cell_type": "code",
   "execution_count": null,
   "metadata": {
    "collapsed": false
   },
   "outputs": [],
   "source": [
    "GWRes = results[results['StationId'].isin(GWStatList)]\n"
   ]
  },
  {
   "cell_type": "code",
   "execution_count": null,
   "metadata": {
    "collapsed": false
   },
   "outputs": [],
   "source": [
    "GWRes.drop_duplicates(subset = ['SampleId','ParAbb'],inplace=True)\n",
    "GWResNoND.drop_duplicates(subset = ['SampleId','ParAbb'],inplace=True)"
   ]
  },
  {
   "cell_type": "markdown",
   "metadata": {
    "collapsed": true
   },
   "source": [
    "#Pivot Data"
   ]
  },
  {
   "cell_type": "code",
   "execution_count": null,
   "metadata": {
    "collapsed": false
   },
   "outputs": [],
   "source": [
    "datap = GWRes.pivot(index='SampleId', columns='ParAbb', values='ResultValue')\n",
    "datapND = GWResNoND.pivot(index='SampleId', columns='ParAbb', values='ResultValue')"
   ]
  },
  {
   "cell_type": "code",
   "execution_count": null,
   "metadata": {
    "collapsed": false
   },
   "outputs": [],
   "source": [
    "datap.dropna(subset=['SO4','Cond','Temp','TDS','pH_field'],how='all',inplace=True)\n",
    "datap.drop(datap.columns[[0]], axis=1, inplace=True)\n",
    "datapND.dropna(subset=['SO4','Cond','Temp','TDS','pH_field'],how='all',inplace=True)\n",
    "datapND.drop(datapND.columns[[0]], axis=1, inplace=True)"
   ]
  },
  {
   "cell_type": "code",
   "execution_count": null,
   "metadata": {
    "collapsed": false
   },
   "outputs": [],
   "source": [
    "resdrop = [ 'DetectCond',\n",
    "             'MDL', 'MDLUnit',\n",
    "             'OrgId', 'Param',\n",
    "             'ResultValue', 'SampFrac',\n",
    "             'SampMedia', \n",
    "             'Unit', 'ParAbb']\n",
    "resPivot = GWRes.drop(resdrop, axis=1)"
   ]
  },
  {
   "cell_type": "code",
   "execution_count": null,
   "metadata": {
    "collapsed": true
   },
   "outputs": [],
   "source": [
    "datapiv = pd.merge(datap, resPivot, left_index=True, right_on='SampleId',how='left')\n",
    "datapivND = pd.merge(datapND, resPivot, left_index=True, right_on='SampleId',how='left')"
   ]
  },
  {
   "cell_type": "code",
   "execution_count": null,
   "metadata": {
    "collapsed": false
   },
   "outputs": [],
   "source": [
    "pivStats = GWStat.drop(['Aquifer', 'ConstDate', 'Depth', 'DepthUnit','AquiferType', 'OrgName', 'HorCollMeth',\n",
    "                         'HoleDUnit', 'HoleDepth', 'HUC8', 'HorAccUnit',\n",
    "                         'ElevUnit', 'ElevRef', 'ElevAcc', 'ElevMeth','CountyCode', 'ElevAccUnit',\n",
    "                         'HorAcc', 'StateCode', 'HorRef',\n",
    "                         'OrgId', 'StationComment', 'StationName'], axis=1)"
   ]
  },
  {
   "cell_type": "code",
   "execution_count": null,
   "metadata": {
    "collapsed": true
   },
   "outputs": [],
   "source": [
    "pivStats.reset_index(inplace=True)\n",
    "pivStats.set_index(\"StationId\",inplace=True)"
   ]
  },
  {
   "cell_type": "code",
   "execution_count": null,
   "metadata": {
    "collapsed": true
   },
   "outputs": [],
   "source": [
    "datapiv.drop_duplicates(inplace=True)\n",
    "datapivND.drop_duplicates(inplace=True)"
   ]
  },
  {
   "cell_type": "code",
   "execution_count": null,
   "metadata": {
    "collapsed": false
   },
   "outputs": [],
   "source": [
    "pivdata = pd.merge(datapiv, pivStats, left_on=\"StationId\", right_index=True, how='left')\n",
    "pivdataND = pd.merge(datapivND, pivStats, left_on=\"StationId\", right_index=True, how='left')"
   ]
  },
  {
   "cell_type": "code",
   "execution_count": null,
   "metadata": {
    "collapsed": false
   },
   "outputs": [],
   "source": [
    "pivdata.drop_duplicates(inplace=True)\n",
    "pivdataND.drop_duplicates(inplace=True)"
   ]
  },
  {
   "cell_type": "code",
   "execution_count": null,
   "metadata": {
    "collapsed": false
   },
   "outputs": [],
   "source": [
    "piperdata = pivdata.dropna(subset = ['Ca','Na','Cl','Mg','SO4'],how='any')\n",
    "piperdataND = pivdataND.dropna(subset = ['Ca','Na','Cl','Mg','SO4'],how='any')"
   ]
  },
  {
   "cell_type": "code",
   "execution_count": null,
   "metadata": {
    "collapsed": false
   },
   "outputs": [],
   "source": [
    "piperdata.drop_duplicates(subset=['SampleId'],inplace=True)\n",
    "piperdataND.drop_duplicates(subset=['SampleId'],inplace=True)"
   ]
  },
  {
   "cell_type": "code",
   "execution_count": null,
   "metadata": {
    "collapsed": false
   },
   "outputs": [],
   "source": [
    "(str(round(estsize(piperdata)/1E6,2))+\" MB\")"
   ]
  },
  {
   "cell_type": "code",
   "execution_count": null,
   "metadata": {
    "collapsed": false
   },
   "outputs": [],
   "source": [
    "GWStat.drop(['Aquifer','AquiferType','CountyCode','DepthUnit','ElevAcc','ElevAccUnit',\n",
    "             'ElevMeth','ElevRef','ElevUnit','HoleDUnit','HorAcc','HorAccUnit','HorCollMeth',\n",
    "            'HorRef','StateCode'],inplace=True)"
   ]
  },
  {
   "cell_type": "code",
   "execution_count": null,
   "metadata": {
    "collapsed": false
   },
   "outputs": [],
   "source": [
    "from pyproj import Proj, transform\n",
    "\n",
    "#df[\"A1\"], df[\"A2\"] = zip(*df[\"a\"].map(calculate))\n",
    "\n",
    "def proj(x):\n",
    "    inProj = Proj(init='epsg:4326') #WGS84\n",
    "    outProj = Proj(init='epsg:2152') #NAD83(CSRS98) / UTM zone 12N\n",
    "    x2,y2 = transform(inProj,outProj,x[0],x[1])\n",
    "    return x2, y2\n",
    "\n",
    "GWStat['UTM_X'], GWStat['UTM_Y'] = zip(*GWStat[['Lon_X','Lat_Y']].apply(lambda x: proj(x),1))\n",
    "piperdata['UTM_X'], piperdata['UTM_Y'] = zip(*piperdata[['Lon_X','Lat_Y']].apply(lambda x: proj(x),1))"
   ]
  },
  {
   "cell_type": "code",
   "execution_count": null,
   "metadata": {
    "collapsed": false
   },
   "outputs": [],
   "source": [
    "pipergrps = piperdataND.groupby(['StationId'], squeeze=True).median()\n",
    "pipergrps.drop(pipergrps.columns[[0]], axis=1, inplace=True)"
   ]
  },
  {
   "cell_type": "code",
   "execution_count": null,
   "metadata": {
    "collapsed": false
   },
   "outputs": [],
   "source": [
    "pipergrps"
   ]
  },
  {
   "cell_type": "code",
   "execution_count": null,
   "metadata": {
    "collapsed": false
   },
   "outputs": [],
   "source": [
    "pipergrps.to_csv(rootname+'avgpiper.csv')\n",
    "piperdata.to_csv(rootname+'piper.csv',index=False)\n",
    "GWStat.to_csv(rootname+'GWStations.csv',index=False)\n",
    "GWRes.to_csv(rootname+'GWResults.csv',index=False)"
   ]
  },
  {
   "cell_type": "code",
   "execution_count": null,
   "metadata": {
    "collapsed": false,
    "scrolled": true
   },
   "outputs": [],
   "source": [
    "writer = pd.ExcelWriter(rootname + \"combined_out.xlsx\", engine=\"xlsxwriter\")\n",
    "Stat.to_excel(writer, \"stations\", index=False)\n",
    "results.to_excel(writer, \"results\", index=False)\n",
    "piperdata.to_excel(writer, \"piperpivot\")\n",
    "writer.save()"
   ]
  },
  {
   "cell_type": "code",
   "execution_count": null,
   "metadata": {
    "collapsed": false
   },
   "outputs": [],
   "source": [
    "sorted(list(results.Param.unique()))"
   ]
  },
  {
   "cell_type": "code",
   "execution_count": null,
   "metadata": {
    "collapsed": false
   },
   "outputs": [],
   "source": [
    "Nres = results[results['Param'].isin( ['Nitrate', 'Nitrate Nitrogen, Dissolved', 'Nitrate Nitrogen, Total', \n",
    "                               'Nitrate-N', 'Nitrate-Nitrite', 'Nitrite Plus Nitrate, Total 1 Det.',\n",
    "                               'Nitrogen',  'Nitrogen, mixed forms (NH3), (NH4), organic, (NO2) and (NO3)'])]\n",
    "idx = Nres.groupby(['StationId'])['SampleDate'].transform(max) == Nres['SampleDate']\n",
    "Nnew = Nres[idx]\n",
    "Nnew = Nnew.groupby('StationId')['ResultValue'].mean()"
   ]
  },
  {
   "cell_type": "code",
   "execution_count": null,
   "metadata": {
    "collapsed": false
   },
   "outputs": [],
   "source": [
    "Nmed = Nres.groupby(['StationId'])['ResultValue'].median()"
   ]
  },
  {
   "cell_type": "code",
   "execution_count": null,
   "metadata": {
    "collapsed": false
   },
   "outputs": [],
   "source": [
    "Nres.sort(['ResultValue'],ascending=False)"
   ]
  },
  {
   "cell_type": "code",
   "execution_count": null,
   "metadata": {
    "collapsed": true
   },
   "outputs": [],
   "source": [
    "SO4res = results[results['Param'].isin( ['Sulfate', 'Sulfate as SO4', 'Sulfate, Dissolved'])]\n",
    "idx = SO4res.groupby(['StationId'])['SampleDate'].transform(max) == SO4res['SampleDate']\n",
    "SO4new = SO4res[idx]"
   ]
  },
  {
   "cell_type": "code",
   "execution_count": null,
   "metadata": {
    "collapsed": true
   },
   "outputs": [],
   "source": [
    "DOres = results[results['Param'].isin( [ 'Oxygen', 'Oxygen, Dissolved','Dissolved oxygen (DO)',])]\n",
    "idx = DOres.groupby(['StationId'])['SampleDate'].transform(max) == DOres['SampleDate']\n",
    "DOnew = DOres[idx]"
   ]
  },
  {
   "cell_type": "code",
   "execution_count": null,
   "metadata": {
    "collapsed": false
   },
   "outputs": [],
   "source": [
    "Stat.columns"
   ]
  },
  {
   "cell_type": "code",
   "execution_count": null,
   "metadata": {
    "collapsed": true
   },
   "outputs": [],
   "source": []
  }
 ],
 "metadata": {
  "kernelspec": {
   "display_name": "Python 2",
   "language": "python",
   "name": "python2"
  },
  "language_info": {
   "codemirror_mode": {
    "name": "ipython",
    "version": 2
   },
   "file_extension": ".py",
   "mimetype": "text/x-python",
   "name": "python",
   "nbconvert_exporter": "python",
   "pygments_lexer": "ipython2",
   "version": "2.7.8"
  }
 },
 "nbformat": 4,
 "nbformat_minor": 0
}
