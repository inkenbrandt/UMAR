{
 "cells": [
  {
   "cell_type": "code",
   "execution_count": 1,
   "metadata": {
    "collapsed": true
   },
   "outputs": [],
   "source": [
    "%matplotlib inline\n",
    "import pandas as pd\n",
    "import urllib2\n",
    "from pyproj import Proj, transform\n",
    "import xmltodict\n",
    "import numpy as np\n",
    "from datetime import datetime, date, timedelta\n",
    "import mechanize\n",
    "import matplotlib.pyplot as plt\n",
    "from matplotlib.backends.backend_pdf import PdfPages"
   ]
  },
  {
   "cell_type": "markdown",
   "metadata": {},
   "source": [
    "#Functions"
   ]
  },
  {
   "cell_type": "code",
   "execution_count": 2,
   "metadata": {
    "collapsed": true
   },
   "outputs": [],
   "source": [
    "def getelev(x):\n",
    "    '''\n",
    "    Input\n",
    "    x[0] = UTM X\n",
    "    x[1] = UTM Y\n",
    "    \n",
    "    Output\n",
    "    Elevation\n",
    "    '''\n",
    "    elev = \"http://ned.usgs.gov/epqs/pqs.php?x=\"+str(x[0])+\"&y=\"+str(x[1])+\"&units=Meters&output=xml\"\n",
    "    response = urllib2.urlopen(elev)\n",
    "    html = response.read()\n",
    "    d = xmltodict.parse(html)\n",
    "    return float(d['USGS_Elevation_Point_Query_Service']['Elevation_Query']['Elevation'])"
   ]
  },
  {
   "cell_type": "code",
   "execution_count": 3,
   "metadata": {
    "collapsed": true
   },
   "outputs": [],
   "source": [
    "def getwlelev(x):\n",
    "    return x[1] - (x[0]/3.2808)"
   ]
  },
  {
   "cell_type": "code",
   "execution_count": 4,
   "metadata": {
    "collapsed": true
   },
   "outputs": [],
   "source": [
    "def qqq(x):\n",
    "    x.rstrip().lstrip()\n",
    "    j = x.split(' ')\n",
    "    a = j[0][:1]\n",
    "    b = j[0][1:]\n",
    "    c = j[1][:1]\n",
    "    d = j[1][1:]\n",
    "    e = [a,b,c,d,j[2],j[3],j[4],j[5],j[6]]\n",
    "    \n",
    "    NS = int(e[1].replace(',',''))\n",
    "    EW = int(e[3].replace(',',''))\n",
    "    qc = e[4]\n",
    "    d1 = e[0]\n",
    "    d2 = e[2]\n",
    "    dic1 = {'NE':'a','NW':'b','SW':'c','SE':'d'}\n",
    "    qcdDict = {'E4S':'d','E4N':'a','N4E':'a','N4W':'b','W4N':'b','W4S':'c','S4W':'c','S4E':'d'}\n",
    "    dic2 = {'a':'b','b':'a','c':'d','d':'c'}\n",
    "    dic3 = {'a':'d','b':'c','c':'b','d':'a'}\n",
    "    dic4 = {'a':'c','b':'d','c':'a','d':'b'}\n",
    "    if qc[-1]=='4':\n",
    "        if qc[0]=='N' or qc[0]=='S':\n",
    "            qcd = qc+d2\n",
    "        elif qc[0]=='E' or qc[0]=='W':\n",
    "            qcd = qc+d1\n",
    "        q1 = qcdDict.get(qcd,'x')\n",
    "    elif qc in ('NE','NW','SW','SE'):\n",
    "        q1 = dic1.get(qc)\n",
    "    else:\n",
    "        print \"invalid quarter\"\n",
    "        q1 = 'X'\n",
    "    if NS < 1320:\n",
    "        if EW <1320:\n",
    "            q2 = q1\n",
    "        elif EW >1320:\n",
    "            qd2 = {'a':'b','b':'a','c':'d','d':'c'}\n",
    "            q2 = dic2.get(q1,'x')\n",
    "    elif NS > 1320:\n",
    "        if EW <1320:\n",
    "            q2 = dic3.get(q1,'x')\n",
    "        elif EW >1320:\n",
    "            q2 = dic4.get(q1,'x')\n",
    "    else:\n",
    "        q2 = 'X'\n",
    "\n",
    "    if NS < 660 or (NS > 1320 and NS < 1980):\n",
    "        if (EW < 660) or (EW > 1320 and EW < 1980):\n",
    "            q3 = q1\n",
    "        elif (EW > 660 and EW < 1320) or (EW > 1980 and EW < 2640):\n",
    "            q3 = dic2.get(q1,'x')\n",
    "    elif (NS > 660 and NS < 1320) or (NS > 1980 and NS < 2640):\n",
    "        if (EW < 660) or (EW > 1320 and EW < 1980):\n",
    "            q3 = dic3.get(q1,'x')\n",
    "        elif (EW > 660 and EW < 1320) or (EW > 1980 and EW < 2640):\n",
    "            q3 = dic4.get(q1,'x')\n",
    "    else:\n",
    "        q3 = 'X'\n",
    "    Tn = e[6][:-1].rjust(2)\n",
    "    Rn = e[7][:-1].rjust(2)\n",
    "    Sec = e[5].rjust(2)\n",
    "    TRd = e[6][-1]+e[7][-1]\n",
    "    TR = dic1.get(TRd).upper()\n",
    "    CAD = '('+TR+'-'+Tn+'-'+Rn+')'+Sec+q1+q2+q3+'-1'\n",
    "    return CAD "
   ]
  },
  {
   "cell_type": "code",
   "execution_count": 5,
   "metadata": {
    "collapsed": false
   },
   "outputs": [],
   "source": [
    "def proj(x):\n",
    "    inProj = Proj(init='epsg:4326') #WGS84\n",
    "    outProj = Proj(init='epsg:2152') #NAD83(CSRS98) / UTM zone 12N\n",
    "    x2,y2 = transform(inProj,outProj,x[0],x[1])\n",
    "    return x2, y2\n",
    "\n",
    "def projy(x):\n",
    "    inProj = Proj(init='epsg:4326') #WGS84\n",
    "    outProj = Proj(init='epsg:2152') #NAD83(CSRS98) / UTM zone 12N\n",
    "    x2,y2 = transform(inProj,outProj,x[0],x[1])\n",
    "    return y2\n",
    "\n",
    "def projx(x):\n",
    "    inProj = Proj(init='epsg:4326') #WGS84\n",
    "    outProj = Proj(init='epsg:2152') #NAD83(CSRS98) / UTM zone 12N\n",
    "    x2,y2 = transform(inProj,outProj,x[0],x[1])\n",
    "    return x2"
   ]
  },
  {
   "cell_type": "code",
   "execution_count": 7,
   "metadata": {
    "collapsed": false
   },
   "outputs": [],
   "source": [
    "def revproj(x):\n",
    "    outProj = Proj(init='epsg:4326') #WGS84\n",
    "    inProj = Proj(init='epsg:2152') #NAD83(CSRS98) / UTM zone 12N\n",
    "    x2,y2 = transform(inProj,outProj,x[0],x[1])\n",
    "    return x2, y2\n",
    "\n",
    "def revprojy(x):\n",
    "    outProj = Proj(init='epsg:4326') #WGS84\n",
    "    inProj = Proj(init='epsg:2152') #NAD83(CSRS98) / UTM zone 12N\n",
    "    x2,y2 = transform(inProj,outProj,x[0],x[1])\n",
    "    return y2\n",
    "\n",
    "def revprojx(x):\n",
    "    outProj = Proj(init='epsg:4326') #WGS84\n",
    "    inProj = Proj(init='epsg:2152') #NAD83(CSRS98) / UTM zone 12N\n",
    "    x2,y2 = transform(inProj,outProj,x[0],x[1])\n",
    "    return x2"
   ]
  },
  {
   "cell_type": "code",
   "execution_count": 8,
   "metadata": {
    "collapsed": true
   },
   "outputs": [],
   "source": [
    "def getwellinfo(x):\n",
    "    request = mechanize.Request(\"http://maps.waterrights.utah.gov/asp/location.asp\")\n",
    "    response = mechanize.urlopen(request)\n",
    "    forms = mechanize.ParseResponse(response, backwards_compat=False)\n",
    "    response.close()\n",
    "    form = forms[0]\n",
    "    form[\"UTMx\"]= str(x[0])\n",
    "    form[\"UTMy\"]= str(x[1])\n",
    "    form[\"datumutm\"]=[\"NAD83\"]\n",
    "    desc =  mechanize.urlopen(form.click()).read()\n",
    "    try:\n",
    "        PLSS, CAD = getPLSS(desc)\n",
    "    except(ValueError):\n",
    "        PLSS, CAD = np.nan, np.nan\n",
    "    return PLSS, CAD\n",
    "\n",
    "def getwellPLSS(x):\n",
    "    request = mechanize.Request(\"http://maps.waterrights.utah.gov/asp/location.asp\")\n",
    "    response = mechanize.urlopen(request)\n",
    "    forms = mechanize.ParseResponse(response, backwards_compat=False)\n",
    "    response.close()\n",
    "    form = forms[0]\n",
    "    form[\"UTMx\"]= str(x[0])\n",
    "    form[\"UTMy\"]= str(x[1])\n",
    "    form[\"datumutm\"]=[\"NAD83\"]\n",
    "    desc =  mechanize.urlopen(form.click()).read()\n",
    "    try:\n",
    "        PLSS, CAD = getPLSS(desc)\n",
    "    except(ValueError):\n",
    "        PLSS, CAD = np.nan, np.nan\n",
    "    return PLSS\n",
    "\n",
    "def getwellCAD(x):\n",
    "    request = mechanize.Request(\"http://maps.waterrights.utah.gov/asp/location.asp\")\n",
    "    response = mechanize.urlopen(request)\n",
    "    forms = mechanize.ParseResponse(response, backwards_compat=False)\n",
    "    response.close()\n",
    "    form = forms[0]\n",
    "    form[\"UTMx\"]= str(x[0])\n",
    "    form[\"UTMy\"]= str(x[1])\n",
    "    form[\"datumutm\"]=[\"NAD83\"]\n",
    "    desc =  mechanize.urlopen(form.click()).read()\n",
    "    try:\n",
    "        PLSS, CAD = getPLSS(desc)\n",
    "    except(ValueError):\n",
    "        PLSS, CAD = np.nan, np.nan\n",
    "    return PLSS"
   ]
  },
  {
   "cell_type": "code",
   "execution_count": 9,
   "metadata": {
    "collapsed": true
   },
   "outputs": [],
   "source": [
    "def winmatch(x):\n",
    "    request = mechanize.Request(\"http://waterrights.utah.gov/wellinfo/wellsearch.asp\")\n",
    "    response = mechanize.urlopen(request)\n",
    "    forms = mechanize.ParseResponse(response, backwards_compat=False)\n",
    "    response.close()\n",
    "    form = forms[0] \n",
    "    #print form\n",
    "    form[\"mainoption\"]=[\"radius\"]\n",
    "    form[\"SearchRadius\"]=\"2000\"\n",
    "    form[\"option\"]=[\"UTM\"]\n",
    "    form[\"xUTM\"]=str(x[0])\n",
    "    form[\"yUTM\"]=str(x[1])\n",
    "\n",
    "    win =  mechanize.urlopen(form.click()).read()\n",
    "    winbeg = win.find('WIN=')\n",
    "    if winbeg == -1:\n",
    "        return np.nan, np.nan, np.nan, np.nan, np.nan, np.nan, np.nan \n",
    "    else:\n",
    "        wintabeg=win.find('<table',win.find('<table')+5)\n",
    "        wintaend=win.find('</table>')\n",
    "        winmatches = pd.read_html(win[wintabeg:wintaend], header=0, skiprows=0)\n",
    "        winmatches = winmatches[0]\n",
    "        winDic = {u'WRNUM/Appl. No.':'WRNUM',u'Distance From Point (ft)':'DIST',u'Diameter':'Diam',u'Depth':'TD',\n",
    "          u'Drilled Date':'DrillDate',u'Location(link to Log)':'Locatio',u'WIN':'WIN',u'Geologic Log':'Log'}\n",
    "        winmatches.rename(columns=winDic,inplace=True)\n",
    "        return winmatches.ix[0,0], winmatches.ix[0,1], winmatches.ix[0,2], winmatches.ix[0,3], winmatches.ix[0,4], winmatches.ix[0,5], int(winmatches.ix[0,6])"
   ]
  },
  {
   "cell_type": "code",
   "execution_count": 16,
   "metadata": {
    "collapsed": true
   },
   "outputs": [],
   "source": [
    "def unitassign(x):\n",
    "    clay = x[0]\n",
    "    silt = x[1]\n",
    "    sand = x[2]\n",
    "    gravel = x[3]\n",
    "    cobbles = x[4]\n",
    "    boulders = x[5]\n",
    "    hardpan = x[6]\n",
    "    conglomerate = x[7]\n",
    "    bedrock = x[8]\n",
    "    other = x[9]\n",
    "    unitlist = [clay,silt,sand,gravel,cobbles,boulders, hardpan,conglomerate,bedrock,other]\n",
    "    unitindex = ['clay','silt','sand','gravel','cobbles','boulders', 'hardpan','conglomerate','bedrock','other']\n",
    "    unitsum = np.sum(unitlist)\n",
    "    j =str(\"\")\n",
    "    for i in range(len(unitlist)):\n",
    "        if unitlist[i] == 1:\n",
    "            if len(j)==0:\n",
    "                j = unitindex[i]\n",
    "            else:\n",
    "                j = j + \"-\" + unitindex[i]\n",
    "    return j    \n",
    "        \n",
    "        "
   ]
  },
  {
   "cell_type": "markdown",
   "metadata": {},
   "source": [
    "#Analysis"
   ]
  },
  {
   "cell_type": "code",
   "execution_count": 26,
   "metadata": {
    "collapsed": true
   },
   "outputs": [],
   "source": [
    "logroot = \"E:\\\\PROJECTS\\\\UMAR\\\\Data\\\\WELL_LOGS\\\\\"\n",
    "logfile = logroot + \"well_logs_v2.xlsx\""
   ]
  },
  {
   "cell_type": "code",
   "execution_count": 27,
   "metadata": {
    "collapsed": false
   },
   "outputs": [],
   "source": [
    "local = pd.read_excel(logfile,\"wells_in_AOR\")"
   ]
  },
  {
   "cell_type": "code",
   "execution_count": 28,
   "metadata": {
    "collapsed": false
   },
   "outputs": [],
   "source": [
    "lith = pd.read_excel(logfile,\"Appendix\")\n",
    "casing = pd.read_excel(logfile,\"casing\")\n",
    "screen = pd.read_excel(logfile,\"Screen\")"
   ]
  },
  {
   "cell_type": "code",
   "execution_count": 29,
   "metadata": {
    "collapsed": false
   },
   "outputs": [],
   "source": [
    "local['lonX'] = local[['POINT_X','POINT_Y']].apply(lambda x: revprojx(x),1)\n",
    "local['latY'] =local[['POINT_X','POINT_Y']].apply(lambda x: revprojy(x),1)"
   ]
  },
  {
   "cell_type": "code",
   "execution_count": 30,
   "metadata": {
    "collapsed": true
   },
   "outputs": [],
   "source": [
    "local['elev_m'] = local[['lonX','latY']].apply(lambda x: getelev(x),1)"
   ]
  },
  {
   "cell_type": "code",
   "execution_count": 31,
   "metadata": {
    "collapsed": true
   },
   "outputs": [],
   "source": [
    "local['WRNUM2'] = local[['POINT_X','POINT_Y']].apply(lambda x: winmatch(x)[0],1)\n",
    "local['Dist'] = local[['POINT_X','POINT_Y']].apply(lambda x: winmatch(x)[1],1)\n",
    "local['Diameter'] = local[['POINT_X','POINT_Y']].apply(lambda x: winmatch(x)[2],1)\n",
    "local['DepthWR'] = local[['POINT_X','POINT_Y']].apply(lambda x: winmatch(x)[3],1)\n",
    "local['DrillDate'] = local[['POINT_X','POINT_Y']].apply(lambda x: winmatch(x)[4],1)\n",
    "local['Loc']= local[['POINT_X','POINT_Y']].apply(lambda x: winmatch(x)[5],1)\n",
    "local['WIN2'] = local[['POINT_X','POINT_Y']].apply(lambda x: winmatch(x)[6],1)"
   ]
  },
  {
   "cell_type": "code",
   "execution_count": 32,
   "metadata": {
    "collapsed": false
   },
   "outputs": [],
   "source": [
    "lith = pd.merge(lith, local, on='WIN', how='left')\n",
    "lith['from_elevm'] = lith[['ftFROM','elev_m']].apply(lambda x: getwlelev(x),1)\n",
    "lith['to_elevm'] = lith[['ftto','elev_m']].apply(lambda x: getwlelev(x),1)\n",
    "lith.drop([u'TYPE', u'PRIORITY', u'USES', u'CFS', u'ACFT', u'Dist', u'DrillDate', u'Loc', u'ftNS',u'ftEW', u'Quad', \n",
    "           u'Section', u'T', u'R', u'OWNER', u'SOURCE', u'Link'], inplace=True, axis=1)"
   ]
  },
  {
   "cell_type": "code",
   "execution_count": 33,
   "metadata": {
    "collapsed": true
   },
   "outputs": [],
   "source": [
    "screen = pd.merge(screen, local, on='WIN', how='left')\n",
    "screen['from_elevm'] = screen[['ftFROM','elev_m']].apply(lambda x: getwlelev(x),1)\n",
    "screen['to_elevm'] = screen[['ftto','elev_m']].apply(lambda x: getwlelev(x),1)\n",
    "screen.drop([u'TYPE', u'PRIORITY', u'USES', u'CFS', u'ACFT', u'Dist', u'DrillDate', u'Loc', u'ftNS',u'ftEW', u'Quad', \n",
    "           u'Section', u'T', u'R', u'OWNER', u'SOURCE', u'Link'], inplace=True, axis=1)"
   ]
  },
  {
   "cell_type": "code",
   "execution_count": 34,
   "metadata": {
    "collapsed": false
   },
   "outputs": [],
   "source": [
    "casing = pd.merge(casing, local, on='WIN', how='left')\n",
    "casing['from_elevm'] = casing[['ftFROM','elev_m']].apply(lambda x: getwlelev(x),1)\n",
    "casing['to_elevm'] = casing[['ftto','elev_m']].apply(lambda x: getwlelev(x),1)\n",
    "casing.drop([u'TYPE', u'PRIORITY', u'USES', u'CFS', u'ACFT', u'Dist', u'DrillDate', u'Loc', u'ftNS',u'ftEW', u'Quad', \n",
    "           u'Section', u'T', u'R', u'OWNER', u'SOURCE', u'Link'], inplace=True, axis=1)"
   ]
  },
  {
   "cell_type": "code",
   "execution_count": 35,
   "metadata": {
    "collapsed": false
   },
   "outputs": [],
   "source": [
    "lith.fillna(0, inplace=True)"
   ]
  },
  {
   "cell_type": "code",
   "execution_count": 36,
   "metadata": {
    "collapsed": true
   },
   "outputs": [],
   "source": [
    "lith.units = lith[['clay','silt','sand','gravel','cobbles','boulders', 'hardpan','conglomerate','bedrock','other']].apply(lambda x: unitassign(x),1)"
   ]
  },
  {
   "cell_type": "code",
   "execution_count": 37,
   "metadata": {
    "collapsed": false
   },
   "outputs": [],
   "source": [
    "consdict = {'other':'other', 'boulders':'gravel', 'sand-gravel-cobbles':'sand-gravel',\n",
    "            'sand-gravel-cobbles-boulders':'sand-gravel', 'clay-boulders':'clay-gravel', \n",
    "            'clay-gravel-boulders':'clay-gravel', 'gravel-conglomerate':'conglomerate', 'cobbles':'gravel',\n",
    "            'gravel-cobbles':'gravel', 'gravel-boulders':'gravel', 'clay-gravel-cobbles-boulders':'clay-gravel', \n",
    "            'gravel-cobbles-boulders':'gravel', 'clay-cobbles-boulders':'clay-gravel', \n",
    "            'clay-cobbles':'clay-gravel','clay-sand-gravel-cobbles':'clay-gravel', \n",
    "            'clay-hardpan':'hardpan', 'cobbles-boulders':'gravel', 'clay-gravel-cobbles':'clay-gravel', \n",
    "            'clay-conglomerate':'conglomerate', 'clay-silt-sand-gravel-conglomerate':'conglomerate', \n",
    "            'sand-gravel-boulders':'sand-gravel','sand-boulders':'sand-gravel','clay-silt-gravel':'clay-gravel',\n",
    "           'clay-silt-sand':'clay-sand','clay-silt':'clay-sand','clay-sand-gravel':'clay-gravel',\n",
    "           'silt-sand':'sand','clay-silt-gravel-cobbles':'clay-gravel','silt-sand-gravel':'sand-gravel'}\n",
    "lith['unitssimp'] = lith.units.apply(lambda x:consdict.get(x,x),1)"
   ]
  },
  {
   "cell_type": "code",
   "execution_count": 42,
   "metadata": {
    "collapsed": false
   },
   "outputs": [
    {
     "data": {
      "text/plain": [
       "Index([         u'WIN',       u'ftFROM',         u'ftto',  u'ftthickness',\n",
       "              u'water',     u'highperm',      u'lowperm',         u'clay',\n",
       "               u'silt',         u'sand',       u'gravel',      u'cobbles',\n",
       "           u'boulders',      u'hardpan', u'conglomerate',      u'bedrock',\n",
       "              u'other',     u'comments',      u'highlow',     u'descript',\n",
       "              u'WRNUM',          u'DWS',      u'Sampled',         u'Diam',\n",
       "              u'Depth',      u'POINT_X',      u'POINT_Y',         u'lonX',\n",
       "               u'latY',       u'elev_m',       u'WRNUM2',     u'Diameter',\n",
       "            u'DepthWR',         u'WIN2',   u'from_elevm',     u'to_elevm',\n",
       "          u'unitssimp'],\n",
       "      dtype='object')"
      ]
     },
     "execution_count": 42,
     "metadata": {},
     "output_type": "execute_result"
    }
   ],
   "source": [
    "lith.columns"
   ]
  },
  {
   "cell_type": "code",
   "execution_count": 43,
   "metadata": {
    "collapsed": false
   },
   "outputs": [
    {
     "data": {
      "text/plain": [
       "0                     overburden\n",
       "8                     overburden\n",
       "41                             0\n",
       "62                       topsoil\n",
       "212                      topsoil\n",
       "218                      topsoil\n",
       "242                      topsoil\n",
       "282                      topsoil\n",
       "322                      topsoil\n",
       "350                      topsoil\n",
       "362                      topsoil\n",
       "390                      topsoil\n",
       "402                      topsoil\n",
       "420                      topsoil\n",
       "429                      topsoil\n",
       "438                      topsoil\n",
       "459                      topsoil\n",
       "516                         Soil\n",
       "524                         Soil\n",
       "595                      Topsoil\n",
       "596                      Topsoil\n",
       "662                   Soil black\n",
       "678                         soil\n",
       "704                Old curb well\n",
       "708       Brown broken limestone\n",
       "709       Brown broken limestone\n",
       "710         Brown hard limestone\n",
       "711       Brown broken limestone\n",
       "712    Grey-brown hard limestone\n",
       "713       Brown broken limestone\n",
       "714    Grey-brown hard limestone\n",
       "715         Brown hard limestone\n",
       "716                      Topsoil\n",
       "721                         soil\n",
       "773                sediment rock\n",
       "774                  shale black\n",
       "775                         soil\n",
       "778     Cemented rock and gravel\n",
       "803                      Topsoil\n",
       "816                      Topsoil\n",
       "822                      Topsoil\n",
       "858                      Topsoil\n",
       "891                         soil\n",
       "896                      Topsoil\n",
       "926                      Topsoil\n",
       "929                         Soil\n",
       "931                         soil\n",
       "976                         Soil\n",
       "Name: comments, dtype: object"
      ]
     },
     "execution_count": 43,
     "metadata": {},
     "output_type": "execute_result"
    }
   ],
   "source": [
    "lith[lith['unitssimp']=='other']['comments']\n",
    "\n",
    "def otherassign(x):\n",
    "    if x[0] == 'other' or x[0]=='':\n",
    "        if x[1].lower().find('soil') >-1:\n",
    "            return 'soil'\n",
    "        elif x[1].lower().find('overburden') >-1:\n",
    "            return 'soil'\n",
    "        elif x[1]\n",
    "        elif x[1].lower().find('limestone') >-1:\n",
    "            return 'limestone'\n",
    "        "
   ]
  },
  {
   "cell_type": "code",
   "execution_count": 38,
   "metadata": {
    "collapsed": false
   },
   "outputs": [],
   "source": [
    "writer = pd.ExcelWriter(logroot+'AOR_well_attributes.xlsx')\n",
    "local.to_excel(writer,'local', index=False)\n",
    "casing.to_excel(writer,'casing', index=False)\n",
    "screen.to_excel(writer,'screen', index=False)\n",
    "lith.to_excel(writer,'lith', index=False)\n",
    "writer.save()"
   ]
  },
  {
   "cell_type": "code",
   "execution_count": null,
   "metadata": {
    "collapsed": false
   },
   "outputs": [],
   "source": [
    "lith.groupby(['WIN','unitssimp'])['ftthickness'].sum()"
   ]
  }
 ],
 "metadata": {
  "kernelspec": {
   "display_name": "Python 2",
   "language": "python",
   "name": "python2"
  },
  "language_info": {
   "codemirror_mode": {
    "name": "ipython",
    "version": 2
   },
   "file_extension": ".py",
   "mimetype": "text/x-python",
   "name": "python",
   "nbconvert_exporter": "python",
   "pygments_lexer": "ipython2",
   "version": "2.7.8"
  }
 },
 "nbformat": 4,
 "nbformat_minor": 0
}
