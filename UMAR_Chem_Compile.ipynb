{
 "cells": [
  {
   "cell_type": "code",
   "execution_count": 1,
   "metadata": {
    "collapsed": true
   },
   "outputs": [],
   "source": [
    "%matplotlib inline\n",
    "import pandas as pd\n",
    "import numpy as np\n",
    "import matplotlib.pyplot as plt\n",
    "import arcpy\n",
    "import urllib2\n",
    "from pyproj import Proj, transform\n",
    "import xmltodict\n",
    "import mechanize"
   ]
  },
  {
   "cell_type": "markdown",
   "metadata": {},
   "source": [
    "#Import and Standardize Data"
   ]
  },
  {
   "cell_type": "code",
   "execution_count": 2,
   "metadata": {
    "collapsed": true
   },
   "outputs": [],
   "source": [
    "#rootname = \"/media/p/5F5B-8FCB/PROJECTS/UMAR/Phase_II/Data/chem/\" #thumb on ubuntu\n",
    "rootname = \"E:\\\\PROJECTS\\\\UMAR\\\\Phase_II\\\\Data\\\\chem\\\\\" #thumb on windows"
   ]
  },
  {
   "cell_type": "code",
   "execution_count": 3,
   "metadata": {
    "collapsed": false
   },
   "outputs": [],
   "source": [
    "WQPResultsFile = rootname + \"result.csv\"\n",
    "WQPStationFile = rootname + \"station.csv\"\n",
    "SDWISFile = rootname + \"SDWIS_Cache.txt\"\n",
    "AGStationsFile = rootname + \"AG_Stations_Cache.csv\"\n",
    "AGResultsFile = rootname + \"AG_byparam.csv\"\n",
    "UGSFile = rootname + \"UGS_Cache.txt\"\n",
    "STORLegStatFile = rootname + \"UT_Cache_sta_001.txt\"\n",
    "STORLegResFile = rootname + \"UT_Cache_res_001.txt\"\n",
    "STORParamFile = rootname + \"parameter.txt\""
   ]
  },
  {
   "cell_type": "code",
   "execution_count": 4,
   "metadata": {
    "collapsed": true
   },
   "outputs": [],
   "source": [
    "fielddata = rootname + \"FieldData.xlsx\"\n",
    "statelabresults0 = rootname + \"utgs1402.txt\"\n",
    "statelabresults1 = rootname + \"utgs1403.txt\"\n",
    "statelabresults2 = rootname + \"utgs1501.txt\"\n",
    "statelabstations = rootname + \"UtahStateLabStations.xlsx\""
   ]
  },
  {
   "cell_type": "markdown",
   "metadata": {},
   "source": [
    "##WQP"
   ]
  },
  {
   "cell_type": "markdown",
   "metadata": {},
   "source": [
    "http://waterqualitydata.us/Station/search?statecode=US%3A49&countycode=US%3A49%3A005&sampleMedia=Water&characteristicType=Information%3BInorganics%2C+Major%2C+Metals%3BInorganics%2C+Major%2C+Non-metals%3BInorganics%2C+Minor%2C+Metals%3BInorganics%2C+Minor%2C+Non-metals%3BNot+Assigned%3BNutrient%3BPhysical%3BStable+Isotopes&mimeType=csv&zip=yes&sorted=no"
   ]
  },
  {
   "cell_type": "markdown",
   "metadata": {},
   "source": [
    "\n",
    "http://waterqualitydata.us/Result/search?statecode=US%3A49&countycode=US%3A49%3A005&sampleMedia=Water&characteristicType=Information%3BInorganics%2C+Major%2C+Metals%3BInorganics%2C+Major%2C+Non-metals%3BInorganics%2C+Minor%2C+Metals%3BInorganics%2C+Minor%2C+Non-metals%3BNot+Assigned%3BNutrient%3BPhysical%3BStable+Isotopes&mimeType=csv&zip=yes&sorted=no"
   ]
  },
  {
   "cell_type": "code",
   "execution_count": 5,
   "metadata": {
    "collapsed": false
   },
   "outputs": [],
   "source": [
    "Rdtypes = {\"OrganizationIdentifier\":np.str_, \"OrganizationFormalName\":np.str_, \"ActivityIdentifier\":np.str_, \n",
    "           \"ActivityStartTime/Time\":np.str_,\n",
    "           \"ActivityTypeCode\":np.str_, \"ActivityMediaName\":np.str_, \"ActivityMediaSubdivisionName\":np.str_, \n",
    "           \"ActivityStartDate\":np.str_, \"ActivityStartTime/Time\":np.str_, \"ActivityStartTime/TimeZoneCode\":np.str_, \n",
    "           \"ActivityEndDate\":np.str_, \"ActivityEndTime/Time\":np.str_, \"ActivityEndTime/TimeZoneCode\":np.str_, \n",
    "           \"ActivityDepthHeightMeasure/MeasureValue\":np.float16, \"ActivityDepthHeightMeasure/MeasureUnitCode\":np.str_, \n",
    "           \"ActivityDepthAltitudeReferencePointText\":np.str_, \"ActivityTopDepthHeightMeasure/MeasureValue\":np.float16, \n",
    "           \"ActivityTopDepthHeightMeasure/MeasureUnitCode\":np.str_, \n",
    "           \"ActivityBottomDepthHeightMeasure/MeasureValue\":np.float16, \n",
    "           \"ActivityBottomDepthHeightMeasure/MeasureUnitCode\":np.str_, \n",
    "           \"ProjectIdentifier\":np.str_, \"ActivityConductingOrganizationText\":np.str_, \n",
    "           \"MonitoringLocationIdentifier\":np.str_, \"ActivityCommentText\":np.str_, \n",
    "           \"SampleAquifer\":np.str_, \"HydrologicCondition\":np.str_, \"HydrologicEvent\":np.str_, \n",
    "           \"SampleCollectionMethod/MethodIdentifier\":np.str_, \"SampleCollectionMethod/MethodIdentifierContext\":np.str_, \n",
    "           \"SampleCollectionMethod/MethodName\":np.str_, \"SampleCollectionEquipmentName\":np.str_, \n",
    "           \"ResultDetectionConditionText\":np.str_, \"CharacteristicName\":np.str_, \"ResultSampleFractionText\":np.str_, \n",
    "           \"ResultMeasureValue\":np.str_, \"ResultMeasure/MeasureUnitCode\":np.str_, \"MeasureQualifierCode\":np.str_, \n",
    "           \"ResultStatusIdentifier\":np.str_, \"StatisticalBaseCode\":np.str_, \"ResultValueTypeName\":np.str_, \n",
    "           \"ResultWeightBasisText\":np.str_, \"ResultTimeBasisText\":np.str_, \"ResultTemperatureBasisText\":np.str_, \n",
    "           \"ResultParticleSizeBasisText\":np.str_, \"PrecisionValue\":np.str_, \"ResultCommentText\":np.str_, \n",
    "           \"USGSPCode\":np.str_, \"ResultDepthHeightMeasure/MeasureValue\":np.float16, \n",
    "           \"ResultDepthHeightMeasure/MeasureUnitCode\":np.str_, \"ResultDepthAltitudeReferencePointText\":np.str_, \n",
    "           \"SubjectTaxonomicName\":np.str_, \"SampleTissueAnatomyName\":np.str_, \n",
    "           \"ResultAnalyticalMethod/MethodIdentifier\":np.str_, \"ResultAnalyticalMethod/MethodIdentifierContext\":np.str_, \n",
    "           \"ResultAnalyticalMethod/MethodName\":np.str_, \"MethodDescriptionText\":np.str_, \"LaboratoryName\":np.str_, \n",
    "           \"AnalysisStartDate\":np.str_, \"ResultLaboratoryCommentText\":np.str_, \n",
    "           \"DetectionQuantitationLimitTypeName\":np.str_, \"DetectionQuantitationLimitMeasure/MeasureValue\":np.str_, \n",
    "           \"DetectionQuantitationLimitMeasure/MeasureUnitCode\":np.str_, \"PreparationStartDate\":np.str_, \n",
    "           \"ProviderName\":np.str_} \n",
    "\n",
    "dt = [6,56,61]"
   ]
  },
  {
   "cell_type": "code",
   "execution_count": 6,
   "metadata": {
    "collapsed": false
   },
   "outputs": [],
   "source": [
    "WQP = pd.read_csv(WQPResultsFile, dtype=Rdtypes, parse_dates=dt)"
   ]
  },
  {
   "cell_type": "code",
   "execution_count": 7,
   "metadata": {
    "collapsed": true
   },
   "outputs": [],
   "source": [
    "ResFieldDict = {\"AnalysisStartDate\":\"AnalysisDate\", \"ResultAnalyticalMethod/MethodIdentifier\":\"AnalytMeth\", \n",
    "                \"ResultAnalyticalMethod/MethodName\":\"AnalytMethId\", \"ResultDetectionConditionText\":\"DetectCond\", \n",
    "                \"ResultLaboratoryCommentText\":\"LabComments\", \"LaboratoryName\":\"LabName\", \n",
    "                \"DetectionQuantitationLimitTypeName\":\"LimitType\", \"DetectionQuantitationLimitMeasure/MeasureValue\":\"MDL\", \n",
    "                \"DetectionQuantitationLimitMeasure/MeasureUnitCode\":\"MDLUnit\", \"MethodDescriptionText\":\"MethodDescript\", \n",
    "                \"OrganizationIdentifier\":\"OrgId\", \"OrganizationFormalName\":\"OrgName\", \"CharacteristicName\":\"Param\", \n",
    "                \"ProjectIdentifier\":\"ProjectId\", \"MeasureQualifierCode\":\"QualCode\", \"ResultCommentText\":\"ResultComment\", \n",
    "                \"ResultStatusIdentifier\":\"ResultStatus\", \"ResultMeasureValue\":\"ResultValue\", \n",
    "                \"ActivityCommentText\":\"SampComment\", \"ActivityDepthHeightMeasure/MeasureValue\":\"SampDepth\", \n",
    "                \"ActivityDepthAltitudeReferencePointText\":\"SampDepthRef\", \n",
    "                \"ActivityDepthHeightMeasure/MeasureUnitCode\":\"SampDepthU\", \"SampleCollectionEquipmentName\":\"SampEquip\", \n",
    "                \"ResultSampleFractionText\":\"SampFrac\", \"ActivityStartDate\":\"SampleDate\", \"ActivityIdentifier\":\"SampleId\", \n",
    "                \"ActivityStartTime/Time\":\"SampleTime\", \"ActivityMediaSubdivisionName\":\"SampMedia\", \n",
    "                \"SampleCollectionMethod/MethodIdentifier\":\"SampMeth\", \"SampleCollectionMethod/MethodName\":\"SampMethName\", \n",
    "                \"ActivityTypeCode\":\"SampType\", \"MonitoringLocationIdentifier\":\"StationId\", \n",
    "                \"ResultMeasure/MeasureUnitCode\":\"Unit\", \"USGSPCode\":\"USGSPCode\",\n",
    "                \"ActivityStartDate\":\"StartDate\",\"ActivityStartTime/Time\":\"StartTime\"} "
   ]
  },
  {
   "cell_type": "code",
   "execution_count": 8,
   "metadata": {
    "collapsed": false
   },
   "outputs": [],
   "source": [
    "WQP.rename(columns=ResFieldDict,inplace=True)"
   ]
  },
  {
   "cell_type": "code",
   "execution_count": 9,
   "metadata": {
    "collapsed": false
   },
   "outputs": [],
   "source": [
    "resdroplist = [\"ActivityBottomDepthHeightMeasure/MeasureUnitCode\", \"ActivityBottomDepthHeightMeasure/MeasureValue\", \n",
    "               \"ActivityConductingOrganizationText\", \"ActivityEndDate\", \"ActivityEndTime/Time\", \n",
    "               \"ActivityEndTime/TimeZoneCode\", \"ActivityMediaName\", \"ActivityStartTime/TimeZoneCode\", \n",
    "               \"ActivityTopDepthHeightMeasure/MeasureUnitCode\", \"ActivityTopDepthHeightMeasure/MeasureValue\", \n",
    "               \"HydrologicCondition\", \"HydrologicEvent\", \"PrecisionValue\", \"PreparationStartDate\", \"ProviderName\", \n",
    "               \"ResultAnalyticalMethod/MethodIdentifierContext\", \"ResultDepthAltitudeReferencePointText\", \n",
    "               \"ResultDepthHeightMeasure/MeasureUnitCode\", \"ResultDepthHeightMeasure/MeasureValue\", \n",
    "               \"ResultParticleSizeBasisText\", \"ResultTemperatureBasisText\", \n",
    "               \"ResultTimeBasisText\", \"ResultValueTypeName\", \"ResultWeightBasisText\", \"SampleAquifer\", \n",
    "               \"SampleCollectionMethod/MethodIdentifierContext\", \"SampleTissueAnatomyName\", \"StatisticalBaseCode\", \n",
    "               \"SubjectTaxonomicName\",\"StartTime\",\"StartDate\",\"StartTime\",\"StartDate\"] "
   ]
  },
  {
   "cell_type": "code",
   "execution_count": 10,
   "metadata": {
    "collapsed": false
   },
   "outputs": [],
   "source": [
    "def datetimefix(x,format):\n",
    "    d = str(x[0]).lstrip().rstrip()[0:10]\n",
    "    t = str(x[1]).lstrip().rstrip()[0:5].zfill(5)\n",
    "    try:\n",
    "        int(d[0:2])\n",
    "    except(ValueError,TypeError,NameError):\n",
    "        return np.nan\n",
    "    try:\n",
    "        int(t[0:2])\n",
    "        int(t[3:5])\n",
    "    except(ValueError,TypeError,NameError):\n",
    "        t = \"00:00\"\n",
    "   \n",
    "    if int(t[0:2])>23:\n",
    "        t = \"00:00\"\n",
    "    elif int(t[3:5])>59:\n",
    "        t = \"00:00\"\n",
    "    else:\n",
    "        t = t[0:2].zfill(2) + \":\" + t[3:5]\n",
    "    return datetime.datetime.strptime(d + \" \" + t, format)\n",
    "    "
   ]
  },
  {
   "cell_type": "code",
   "execution_count": 11,
   "metadata": {
    "collapsed": false
   },
   "outputs": [],
   "source": [
    "WQP[\"SampleDate\"] = WQP[[\"StartDate\",\"StartTime\"]].apply(lambda x: datetimefix(x,\"%Y-%m-%d %H:%M\"),1)"
   ]
  },
  {
   "cell_type": "code",
   "execution_count": 12,
   "metadata": {
    "collapsed": false
   },
   "outputs": [],
   "source": [
    "WQP.drop(resdroplist,inplace=True,axis=1)"
   ]
  },
  {
   "cell_type": "code",
   "execution_count": 13,
   "metadata": {
    "collapsed": false
   },
   "outputs": [],
   "source": [
    "WQP['ResultValue'] = WQP['ResultValue'].convert_objects(convert_numeric=True)\n",
    "WQP['MDL'] = WQP['MDL'].convert_objects(convert_numeric=True)"
   ]
  },
  {
   "cell_type": "code",
   "execution_count": 14,
   "metadata": {
    "collapsed": true
   },
   "outputs": [],
   "source": [
    "WQP['StationId'] = WQP['StationId'].str.replace('_WQX-','-')"
   ]
  },
  {
   "cell_type": "code",
   "execution_count": 15,
   "metadata": {
    "collapsed": false
   },
   "outputs": [],
   "source": [
    "def unitfix(x):\n",
    "    z = str(x).lower()\n",
    "    if z == \"ug/l\":\n",
    "        return \"mg/l\"\n",
    "    elif z == \"mg/l\":\n",
    "        return \"mg/l\"\n",
    "    else:\n",
    "        return x\n",
    "\n",
    "WQP.Unit = WQP.Unit.apply(lambda x: str(x).rstrip(), 1)\n",
    "WQP.ResultValue = WQP[[\"ResultValue\",\"Unit\"]].apply(lambda x: x[0]/1000 if str(x[1]).lower()==\"ug/l\" else x[0], 1)\n",
    "WQP.Unit = WQP.Unit.apply(lambda x: unitfix(x),1)"
   ]
  },
  {
   "cell_type": "code",
   "execution_count": 16,
   "metadata": {
    "collapsed": false
   },
   "outputs": [],
   "source": [
    "def parnorm(x):\n",
    "    p = str(x[0]).rstrip().lstrip().lower()\n",
    "    u = str(x[2]).rstrip().lstrip().lower()\n",
    "    if p == 'nitrate' and u == 'mg/l as n':\n",
    "        return 'Nitrate', x[1]*4.427, 'mg/l'\n",
    "    elif p == 'nitrite' and u == 'mg/l as n':\n",
    "        return 'Nitrite', x[1]*3.285, 'mg/l'\n",
    "    elif p == 'ammonia-nitrogen' or p == 'ammonia-nitrogen as n' or p == 'ammonia and ammonium':\n",
    "        return 'Ammonium', x[1]*1.288, 'mg/l'\n",
    "    elif p == 'ammonium' and u == 'mg/l as n':\n",
    "        return 'Ammonium', x[1]*1.288, 'mg/l'\n",
    "    elif p == 'sulfate as s':\n",
    "        return 'Sulfate', x[1]*2.996, 'mg/l'\n",
    "    elif p in ('phosphate-phosphorus', 'phosphate-phosphorus as p','orthophosphate as p'):\n",
    "        return 'Phosphate', x[1]*3.066, 'mg/l'\n",
    "    elif (p == 'phosphate' or p == 'orthophosphate') and u == 'mg/l as p':\n",
    "        return 'Phosphate', x[1]*3.066, 'mg/l'\n",
    "    elif u == 'ug/l':\n",
    "        return x[0], x[1]/1000, 'mg/l'\n",
    "    else:\n",
    "        return x[0], x[1], str(x[2]).rstrip()\n",
    "\n",
    "WQP['Param'], WQP['ResultValue'], WQP['Unit'] = zip(*WQP[['Param','ResultValue','Unit']].apply(lambda x: parnorm(x),1))"
   ]
  },
  {
   "cell_type": "code",
   "execution_count": 17,
   "metadata": {
    "collapsed": true
   },
   "outputs": [],
   "source": [
    "WQPStat = pd.read_csv(WQPStationFile)"
   ]
  },
  {
   "cell_type": "code",
   "execution_count": 18,
   "metadata": {
    "collapsed": true
   },
   "outputs": [],
   "source": [
    "StatFieldDict = {\"MonitoringLocationIdentifier\":\"StationId\", \"AquiferName\":\"Aquifer\", \"AquiferTypeName\":\"AquiferType\", \n",
    "             \"ConstructionDateText\":\"ConstDate\", \"CountyCode\":\"CountyCode\", \"WellDepthMeasure/MeasureValue\":\"Depth\", \n",
    "             \"WellDepthMeasure/MeasureUnitCode\":\"DepthUnit\", \"VerticalMeasure/MeasureValue\":\"Elev\", \n",
    "             \"VerticalAccuracyMeasure/MeasureValue\":\"ElevAcc\", \"VerticalAccuracyMeasure/MeasureUnitCode\":\"ElevAccUnit\", \n",
    "             \"VerticalCollectionMethodName\":\"ElevMeth\", \"VerticalCoordinateReferenceSystemDatumName\":\"ElevRef\", \n",
    "             \"VerticalMeasure/MeasureUnitCode\":\"ElevUnit\", \"FormationTypeText\":\"FmType\", \n",
    "             \"WellHoleDepthMeasure/MeasureValue\":\"HoleDepth\", \"WellHoleDepthMeasure/MeasureUnitCode\":\"HoleDUnit\", \n",
    "             \"HorizontalAccuracyMeasure/MeasureValue\":\"HorAcc\", \"HorizontalAccuracyMeasure/MeasureUnitCode\":\"HorAccUnit\", \n",
    "             \"HorizontalCollectionMethodName\":\"HorCollMeth\", \"HorizontalCoordinateReferenceSystemDatumName\":\"HorRef\", \n",
    "             \"HUCEightDigitCode\":\"HUC8\", \"LatitudeMeasure\":\"Lat_Y\", \"LongitudeMeasure\":\"Lon_X\", \n",
    "             \"OrganizationIdentifier\":\"OrgId\", \"OrganizationFormalName\":\"OrgName\", \"StateCode\":\"StateCode\", \n",
    "             \"MonitoringLocationDescriptionText\":\"StationComment\", \"MonitoringLocationName\":\"StationName\", \n",
    "             \"MonitoringLocationTypeName\":\"StationType\"} "
   ]
  },
  {
   "cell_type": "code",
   "execution_count": 19,
   "metadata": {
    "collapsed": true
   },
   "outputs": [],
   "source": [
    "WQPStat.rename(columns=StatFieldDict,inplace=True)"
   ]
  },
  {
   "cell_type": "code",
   "execution_count": 20,
   "metadata": {
    "collapsed": true
   },
   "outputs": [],
   "source": [
    "statdroplist = [\"ContributingDrainageAreaMeasure/MeasureUnitCode\", \"ContributingDrainageAreaMeasure/MeasureValue\", \n",
    "                \"DrainageAreaMeasure/MeasureUnitCode\", \"DrainageAreaMeasure/MeasureValue\", \"CountryCode\", \"ProviderName\", \n",
    "                \"SourceMapScaleNumeric\"]\n",
    "WQPStat.drop(statdroplist,inplace=True,axis=1)"
   ]
  },
  {
   "cell_type": "code",
   "execution_count": 21,
   "metadata": {
    "collapsed": true
   },
   "outputs": [],
   "source": [
    "TypeDict = {\"Stream: Canal\":\"Stream\", \"River/Stream\":\"Stream\", \n",
    "            \"Stream: Canal\":\"Stream\", \"Well: Test hole not completed as a well\":\"Well\"}\n",
    "WQPStat.StationType = WQPStat[\"StationType\"].apply(lambda x: TypeDict.get(x,x),1)\n",
    "WQPStat.Elev = WQPStat.Elev.apply(lambda x: np.nan if x==0.0 else round(x,1), 1)"
   ]
  },
  {
   "cell_type": "code",
   "execution_count": 22,
   "metadata": {
    "collapsed": false
   },
   "outputs": [],
   "source": [
    "WQPStat['StationId'] = WQPStat['StationId'].str.replace('_WQX-','-')\n",
    "WQPStat.drop_duplicates(subset=['StationId'],inplace=True)"
   ]
  },
  {
   "cell_type": "markdown",
   "metadata": {},
   "source": [
    "##SDWIS"
   ]
  },
  {
   "cell_type": "markdown",
   "metadata": {},
   "source": [
    "SDWIS data were extracted from the Utah SDWIS database into ArcGIS 10.3.2 using the following SQL query.  NED 10m elevation and UTM coordinates were appended using ArcGIS."
   ]
  },
  {
   "cell_type": "markdown",
   "metadata": {},
   "source": [
    "```SQL\n",
    "SELECT UTV80.TINWSF.EXTERNAL_SYS_NUM AS \"FED_NM\",  UTV80.TINWSF.ST_ASGN_IDENT_CD AS \"ST_ID\",  UTV80.TINWSF.TYPE_CODE,  UTV80.TINWSYS.NAME AS \"SYS_NM\", UTV80.TINWSYS.D_PRIN_CNTY_SVD_NM AS \"COUNTY\", UTV80.TINWSF.NAME AS \"FAC_NM\",  UTV80.TINWSF.TINWSYS_IS_NUMBER AS \"SY_NBR\", UTV80.TINLOC.LATITUDE_MEASURE AS \"Y\",  UTV80.TINLOC.LONGITUDE_MEASURE AS \"X\",  UTV80.TINLOC.VERTICAL_MEASURE AS \"Z\", UTV80.TSASAMPL.COLLLECTION_END_DT AS \"DTE\", UTV80.TSAANLYT.NAME AS \"ANLY_NM\",  UTV80.TSASAR.CONCENTRATION_MSR AS \"CONC_MSR\", UTV80.TSASAR.TSASAR_IS_NUMBER AS \"ID_NUM\",  UTV80.TSASAR.UOM_CODE,   UTV80.TSASAR.DETECTN_LIMIT_NUM AS \"DET_LIM\", UTV80.TSASAR.DETECTN_LIM_UOM_CD AS \"DET_UOM\"  FROM  UTV80.TINWSF  INNER JOIN  UTV80.TINWSYS ON UTV80.TINWSF.TINWSYS_IS_NUMBER = UTV80.TINWSYS.TINWSYS_IS_NUMBER  INNER JOIN  UTV80.TINLOC ON UTV80.TINWSF.TINWSF_IS_NUMBER = UTV80.TINLOC.TINWSF_IS_NUMBER  INNER JOIN  UTV80.TSASMPPT ON UTV80.TINWSF.TINWSF_IS_NUMBER = UTV80.TSASMPPT.TINWSF0IS_NUMBER  INNER JOIN  UTV80.TSASAMPL ON UTV80.TSASMPPT.TSASMPPT_IS_NUMBER = UTV80.TSASAMPL.TSASMPPT_IS_NUMBER  INNER JOIN  UTV80.TSASAR ON UTV80.TSASAMPL.TSASAMPL_IS_NUMBER = UTV80.TSASAR.TSASAMPL_IS_NUMBER  INNER JOIN  UTV80.TSAANLYT ON UTV80.TSASAR.TSAANLYT_IS_NUMBER = UTV80.TSAANLYT.TSAANLYT_IS_NUMBER WHERE  (UTV80.TINWSYS.D_PRIN_CNTY_SVD_NM LIKE '%CACHE COUNTY%')   AND (UTV80.TSAANLYT.NAME LIKE '%NITRATE%' OR UTV80.TSAANLYT.NAME LIKE '%NITRITE%' OR UTV80.TSAANLYT.NAME LIKE '%AMMONI%' OR UTV80.TSAANLYT.NAME LIKE '%SULFATE%' OR UTV80.TSAANLYT.NAME LIKE '%TDS%' OR UTV80.TSAANLYT.NAME LIKE '%SODIUM%' OR UTV80.TSAANLYT.NAME LIKE '%FLUORIDE%' OR UTV80.TSAANLYT.NAME LIKE '%MAGNESIUM%' OR UTV80.TSAANLYT.NAME LIKE '%SELENIUM%' OR  UTV80.TSAANLYT.NAME LIKE '%CALCIUM%' OR UTV80.TSAANLYT.NAME LIKE '%CHLORIDE%' OR UTV80.TSAANLYT.NAME LIKE '%POTASSIUM%' OR UTV80.TSAANLYT.NAME LIKE '%SELENIUM%' OR UTV80.TSAANLYT.NAME LIKE '%SILICA%' OR UTV80.TSAANLYT.NAME LIKE '%IRON %' OR UTV80.TSAANLYT.NAME LIKE '%ALKA %' OR UTV80.TSAANLYT.NAME LIKE '%CONDUCTIVITY%' OR UTV80.TSAANLYT.NAME LIKE '%PH %' OR UTV80.TSAANLYT.NAME LIKE '%TEMP%' OR UTV80.TSAANLYT.NAME LIKE '%ARSENIC%' OR UTV80.TSAANLYT.NAME LIKE '%CARBON%' OR UTV80.TSAANLYT.NAME LIKE '%TRITIUM%' OR UTV80.TSAANLYT.NAME LIKE '%COPPER%' OR UTV80.TSAANLYT.NAME LIKE '%LEAD%' OR UTV80.TSAANLYT.NAME LIKE '%NITROGEN%' OR UTV80.TSAANLYT.NAME LIKE '%PHOSPHATE%' OR UTV80.TSAANLYT.NAME LIKE '%TDS%' OR UTV80.TSAANLYT.NAME LIKE '%ZINC%' OR UTV80.TSAANLYT.NAME LIKE '%IRON%' OR UTV80.TSAANLYT.NAME LIKE '%CHROMIUM%' ) ORDER BY UTV80.TINWSF.ST_ASGN_IDENT_CD\n",
    "```"
   ]
  },
  {
   "cell_type": "code",
   "execution_count": 23,
   "metadata": {
    "collapsed": false
   },
   "outputs": [],
   "source": [
    "SDWIS = pd.read_csv(SDWISFile)\n",
    "\n",
    "def sampid(x):\n",
    "    return \"SDWIS\" + str(x[0]) + str(x[1]) + str(x[2])[:-7]\n",
    "\n",
    "def statid(x):\n",
    "    return \"SDWIS\" + str(x[0]) + str(x[1]) \n",
    "\n",
    "def statnm(x):\n",
    "    return str(str(x[0]) + \" \" + str(x[1])).title()\n",
    "\n",
    "SDWIS[\"StationId\"] = SDWIS[[\"FED_NM\",\"ST_ID\"]].apply(lambda x: statid(x),1)\n",
    "SDWIS[\"StationName\"] = SDWIS[[\"SYS_NM\",\"FAC_NM\"]].apply(lambda x: statnm(x),1)\n",
    "SDWIS[\"SampleId\"] = SDWIS[[\"FED_NM\",\"ST_ID\",\"DTE\"]].apply(lambda x: sampid(x),1)\n",
    "SDWIS[\"OrgId\"] = \"UDDW\"\n",
    "SDWIS[\"OrgName\"] = \"Utah Division of Drinking Water\"\n",
    "SDWIS[\"Elev\"] = SDWIS[\"Z\"].apply(lambda x: round(x*3.2808,1),1)\n",
    "SDWIS[\"Unit\"] = SDWIS[\"UOM_CODE\"].apply(lambda x: str(x).lower(),1)\n",
    "SDWIS[\"MDLUnit\"] = SDWIS[\"DET_UOM\"].apply(lambda x: str(x).lower(),1)\n",
    "SDWIS[\"Param\"] = SDWIS[\"ANLY_NM\"].apply(lambda x: str(x).title().rstrip(),1)"
   ]
  },
  {
   "cell_type": "code",
   "execution_count": 24,
   "metadata": {
    "collapsed": false
   },
   "outputs": [],
   "source": [
    "SDWISFields ={\"DTE\":\"SampleDate\", \"TYPE_CODE\":\"StationType\",\n",
    "              \"CONC_MSR\":\"ResultValue\", \"DET_LIM\":\"MDL\",\n",
    "              \"Y\":\"Lat_Y\", \"X\":\"Lon_X\"}  \n",
    "SDWIS.rename(columns=SDWISFields,inplace=True)"
   ]
  },
  {
   "cell_type": "code",
   "execution_count": 25,
   "metadata": {
    "collapsed": false
   },
   "outputs": [
    {
     "name": "stdout",
     "output_type": "stream",
     "text": [
      "['Alkalinity, Carbonate', 'Arsenic', 'Bicarbonate As Hco3', 'Calcium', 'Carbon Dioxide', 'Carbon Tetrachloride', 'Carbon, Total', 'Chloride', 'Chromium', 'Chromium, Hex', 'Conductivity @ 25 C Umhos/Cm', 'Copper, Free', 'Fluoride', 'Hardness, Carbonate', 'Hydroxide As Calcium Carbonate', 'Iron', 'Iron, Dissolved', 'Lead', 'Magnesium', 'Nitrate', 'Nitrate-Nitrite', 'Nitrite', 'Nitrogen-Ammonia As (N)', 'Orthophosphate', 'Ph', 'Phosphate, Total', 'Potassium', 'Selenium', 'Silica', 'Sodium', 'Sulfate', 'Tds', 'Tritium', 'Vinyl Chloride', 'Zinc']\n"
     ]
    }
   ],
   "source": [
    "print sorted(list(SDWIS.Param.unique()))\n",
    "\n",
    "def parnormSDWIS(x):\n",
    "    p = str(x[0]).rstrip().lstrip().lower()\n",
    "    u = str(x[2]).rstrip().lstrip().lower()\n",
    "    if p == 'nitrate':\n",
    "        return 'Nitrate', x[1]*4.427, 'mg/l'\n",
    "    elif p == 'nitrite':\n",
    "        return 'Nitrite', x[1]*3.285, 'mg/l'\n",
    "    elif p == 'nitrogen-ammonia as (n)':\n",
    "        return 'Ammonium', x[1]*1.288, 'mg/l'\n",
    "    elif u == 'ug/l':\n",
    "        return x[0], x[1]/1000, 'mg/l'\n",
    "    else:\n",
    "        return x[0], x[1], str(x[2]).rstrip()\n",
    "    \n",
    "SDWIS['Param'], SDWIS['ResultValue'], SDWIS['Unit'] = zip(*SDWIS[['Param','ResultValue','Unit']].apply(lambda x: parnormSDWIS(x),1))"
   ]
  },
  {
   "cell_type": "code",
   "execution_count": 26,
   "metadata": {
    "collapsed": false
   },
   "outputs": [],
   "source": [
    "SDWIS.drop([\"FED_NM\", \"DET_UOM\", \"UOM_CODE\",\"ANLY_NM\", \"FAC_NM\", \"ST_ID\", \n",
    "            \"SYS_NM\", \"COUNTY\", \"SY_NBR\", \"Z\", \"ID_NUM\"],inplace=True, axis=1)"
   ]
  },
  {
   "cell_type": "code",
   "execution_count": 27,
   "metadata": {
    "collapsed": false
   },
   "outputs": [],
   "source": [
    "SDWISPmatch = {\"Ph\":\"pH\",\"Tds\":\"TDS\",\"Nitrogen-Ammonia As (N)\":\"Nitrogen-Ammonia as (N)\",\n",
    "              \"Hydroxide As Calcium Carbonate\":\"Hydroxide as Calcium Carbonate\",\n",
    "               \"Bicarbonate As Hco3\":\"Bicarbonate as HCO3\"}\n",
    "SDWIS[\"Param\"] = SDWIS[\"Param\"].apply(lambda x: SDWISPmatch.get(x,x))\n",
    "SDWIS[\"StationName\"] = SDWIS[\"StationName\"].apply(lambda x: x.replace(\"Wtp\",\"WTP\"))\n",
    "#SDWIS[\"Unit\"] = SDWIS[\"Unit\"].apply(lambda x: x.rstrip(),1)\n",
    "SDWIS[\"ResultValue\"] = SDWIS[[\"ResultValue\",\"Unit\"]].apply(lambda x: x[0]/1000 if x[1]==\"ug/L\" else x[0], 1)\n",
    "#SDWIS[\"Unit\"] = SDWIS[\"Unit\"].apply(lambda x: unitfix(x),1)"
   ]
  },
  {
   "cell_type": "code",
   "execution_count": 28,
   "metadata": {
    "collapsed": false
   },
   "outputs": [],
   "source": [
    "SDWISType = {\"SP\":\"Spring\",\"WL\":\"Well\",\"TP\":\"Facility Other\",\"IN\":\"Stream\",\"CC\":\"Connection\"}\n",
    "SDWIS.StationType = SDWIS.StationType.apply(lambda x: SDWISType.get(x,x),1)"
   ]
  },
  {
   "cell_type": "markdown",
   "metadata": {},
   "source": [
    "SDWIS facility type code (FacTypeCode): CC, Consecutive_connection;\n",
    "CH, Common_headers; CS, Cistern; CW, Clear_well;\n",
    "DS, Distribution_system_zone; IG, Infiltration_gallery; IN,\n",
    "Intake; NP, Non-piped; OT, Other; PC, Pressure_control;\n",
    "PF, Pump_facility; RC, Roof_catchment; RS, Reservoir; SI,\n",
    "Surface_impoundment; SP, Spring; SS, Sampling_station; ST,\n",
    "Storage; TM, Transmission_main; TP, Treatment_plant; WH,\n",
    "Well_head; WL, Well."
   ]
  },
  {
   "cell_type": "code",
   "execution_count": 29,
   "metadata": {
    "collapsed": true
   },
   "outputs": [],
   "source": [
    "SDWISSta = SDWIS.drop([u'SampleDate', u'ResultValue', u'MDL', u'SampleId', u'Unit', u'MDLUnit', u'Param'], axis=1)\n",
    "SDWISSta.drop_duplicates(inplace=True)"
   ]
  },
  {
   "cell_type": "code",
   "execution_count": 30,
   "metadata": {
    "collapsed": false
   },
   "outputs": [],
   "source": [
    "SDWISRes = SDWIS.drop([u'StationType', u'Lat_Y', u'Lon_X', u'StationName', u'Elev'], axis=1)"
   ]
  },
  {
   "cell_type": "markdown",
   "metadata": {},
   "source": [
    "##UDAF"
   ]
  },
  {
   "cell_type": "code",
   "execution_count": 31,
   "metadata": {
    "collapsed": true
   },
   "outputs": [],
   "source": [
    "AGStat = pd.read_csv(AGStationsFile)\n",
    "AGStat[\"StationType\"] = \"Well\"\n",
    "AGStatFields = {\"SITEID\":\"StationId\",\"FINISHEDDE\":\"Depth\",\"POINT_Y\":\"Lat_Y\",\n",
    "                \"POINT_X\":\"Lon_X\",\"ELEV_FT\":\"Elev\",\"ACCURACY\":\"HorAcc\"}\n",
    "AGStat.rename(columns=AGStatFields,inplace=True)"
   ]
  },
  {
   "cell_type": "code",
   "execution_count": 32,
   "metadata": {
    "collapsed": true
   },
   "outputs": [],
   "source": [
    "AGStat.drop([\"OBJECTID_1\", \"OBJECTID\", \"PUB_YR\", \"SAMPLENO\", \"WLDATE\", \"WLDEPTH\"], inplace=True, axis=1)"
   ]
  },
  {
   "cell_type": "code",
   "execution_count": 33,
   "metadata": {
    "collapsed": false
   },
   "outputs": [],
   "source": [
    "AGStat.StationId = AGStat.StationId.apply(lambda x: \"UDAF-\"+str(int(x)).zfill(5),1)"
   ]
  },
  {
   "cell_type": "code",
   "execution_count": 34,
   "metadata": {
    "collapsed": false
   },
   "outputs": [],
   "source": [
    "names = [\"SampleId\",\"ResultValue\", \"ParAbb\", \"Unit\", \"Param\", \"MDL\",\"BelowLim\",\"TestNo\",\n",
    "         \"StationId\",\"SampleDate\",\"SampYear\"]\n",
    "AGRes = pd.read_csv(AGResultsFile, names=names, index_col=10)"
   ]
  },
  {
   "cell_type": "code",
   "execution_count": 35,
   "metadata": {
    "collapsed": true
   },
   "outputs": [],
   "source": [
    "AGRes[\"DetectCond\"] = AGRes[\"BelowLim\"].apply(lambda x: 'Not Detected' if x=='Y' else np.nan,1)"
   ]
  },
  {
   "cell_type": "code",
   "execution_count": 36,
   "metadata": {
    "collapsed": false
   },
   "outputs": [],
   "source": [
    "AGRes.ResultValue = AGRes[[\"BelowLim\",\"ResultValue\"]].apply(lambda x: np.nan if x[0]==\"Y\" or x[1] == 0.0 else x[1], 1)"
   ]
  },
  {
   "cell_type": "code",
   "execution_count": 37,
   "metadata": {
    "collapsed": false
   },
   "outputs": [],
   "source": [
    "def parnormAG(x):\n",
    "    p = str(x[0]).rstrip().lstrip().lower()\n",
    "    u = str(x[2]).rstrip().lstrip().lower()\n",
    "    if p == 'nitrate-n':\n",
    "        return 'Nitrate', x[1]*4.427, 'mg/l'\n",
    "    elif u == 'ug/l':\n",
    "        return x[0], x[1]/1000, 'mg/l'\n",
    "    else:\n",
    "        return x[0], x[1], str(x[2]).rstrip()\n",
    "    \n",
    "AGRes['Param'], AGRes['ResultValue'], AGRes['Unit'] = zip(*AGRes[['Param','ResultValue','Unit']].apply(lambda x: parnormAG(x),1))"
   ]
  },
  {
   "cell_type": "code",
   "execution_count": 38,
   "metadata": {
    "collapsed": false
   },
   "outputs": [
    {
     "data": {
      "text/plain": [
       "array(['mg/L', 'mg/l', 'meq/L', '\\xb0C', '--', 'mS/cm', 'nan'], dtype=object)"
      ]
     },
     "execution_count": 38,
     "metadata": {},
     "output_type": "execute_result"
    }
   ],
   "source": [
    "AGRes.Unit.unique()"
   ]
  },
  {
   "cell_type": "code",
   "execution_count": 39,
   "metadata": {
    "collapsed": false
   },
   "outputs": [],
   "source": [
    "AGRes.dropna(subset=[\"StationId\",\"ResultValue\"], how=\"any\", inplace=True)"
   ]
  },
  {
   "cell_type": "code",
   "execution_count": 40,
   "metadata": {
    "collapsed": false
   },
   "outputs": [],
   "source": [
    "AGRes.StationId = AGRes.StationId.apply(lambda x: \"UDAF-\"+str(int(x)).zfill(5),1)"
   ]
  },
  {
   "cell_type": "code",
   "execution_count": 41,
   "metadata": {
    "collapsed": false
   },
   "outputs": [],
   "source": [
    "AGStAv = list(AGStat.StationId.values)\n",
    "AGRes = AGRes[AGRes.StationId.isin(AGStAv)]"
   ]
  },
  {
   "cell_type": "code",
   "execution_count": 42,
   "metadata": {
    "collapsed": true
   },
   "outputs": [],
   "source": [
    "AGStat['OrgId']='UDAF'"
   ]
  },
  {
   "cell_type": "markdown",
   "metadata": {},
   "source": [
    "##STORET Legacy"
   ]
  },
  {
   "cell_type": "code",
   "execution_count": 43,
   "metadata": {
    "collapsed": false
   },
   "outputs": [],
   "source": [
    "STORLegSta = pd.read_table(STORLegStatFile, skiprows=[1])\n",
    "STORLegRes = pd.read_table(STORLegResFile, skiprows=[1])\n",
    "STORParam = pd.read_table(STORParamFile)"
   ]
  },
  {
   "cell_type": "code",
   "execution_count": 44,
   "metadata": {
    "collapsed": false
   },
   "outputs": [],
   "source": [
    "rescol = list(STORLegRes.columns)\n",
    "j = []\n",
    "for i in rescol:\n",
    "    j.append(i.rstrip(\"\\t\").rstrip().lstrip().replace(\" \",\"\"))\n",
    "resdict = dict(zip(rescol,j))\n",
    "STORLegRes.rename(columns=resdict,inplace=True)\n",
    "\n",
    "statcol = list(STORLegSta.columns)\n",
    "k = []\n",
    "for i in statcol:\n",
    "    k.append(i.rstrip(\"\\t\").rstrip().lstrip().replace(\" \",\"\"))\n",
    "statdict = dict(zip(statcol,k))\n",
    "STORLegSta.rename(columns=statdict,inplace=True)"
   ]
  },
  {
   "cell_type": "code",
   "execution_count": 45,
   "metadata": {
    "collapsed": false
   },
   "outputs": [],
   "source": [
    "STORLegRes[\"SampleDate\"] = STORLegRes[[\"StartDate\",\"StartTime\"]].apply(lambda x: datetimefix(x,\"%Y-%m-%d %H:%M\"),1)\n",
    "STORLegRes = STORLegRes[STORLegRes.SecondaryActivityCategory.isin(['Water',np.nan])]\n",
    "STORParamDict = dict(zip(STORParam['Parameter No.'].values, STORParam['Full Name'].values))\n",
    "STORLegRes.Param = STORLegRes.Param.apply(lambda x: STORParamDict.get(x),1) "
   ]
  },
  {
   "cell_type": "code",
   "execution_count": 46,
   "metadata": {
    "collapsed": true
   },
   "outputs": [],
   "source": [
    "STORResField = {\"Agency\":\"OrgId\",\"AgencyName\":\"OrgName\",\"Station\":\"StationId\",\"SampleDepth\":\"SampDepth\"}\n",
    "STORLegRes.rename(columns=STORResField,inplace=True)"
   ]
  },
  {
   "cell_type": "code",
   "execution_count": 47,
   "metadata": {
    "collapsed": false
   },
   "outputs": [],
   "source": [
    "STORLegRes.drop([\"StateName\", \"CountyName\", \"HUC\", \"EndDate\", \"UMK\", \"CS\", \"ReplicateNumber\",\n",
    "                 \"COMPOSITE_GRAB_NUMBER\",\"CM\",\"PrimaryActivityCategory\",\"PrimaryActivityCategory\",\n",
    "                 \"SecondaryActivityCategory\",\n",
    "                 \"EndTime\", \"StartDate\", \"StartTime\", \"Latitude\", \"Longitude\"],inplace=True,axis=1)"
   ]
  },
  {
   "cell_type": "code",
   "execution_count": 48,
   "metadata": {
    "collapsed": false
   },
   "outputs": [],
   "source": [
    "STORLegRes[\"SampleId\"] = STORLegRes[[\"StationId\",\"SampleDate\"]].apply(lambda x: str(x[0]) + \"-\" + str(x[1]),1 )\n",
    "STORLegRes[\"StationId\"] = STORLegRes[\"StationId\"].apply(lambda x: \"EPALeg-\" + x, 1)"
   ]
  },
  {
   "cell_type": "code",
   "execution_count": 49,
   "metadata": {
    "collapsed": false
   },
   "outputs": [],
   "source": [
    "STORLegRes.Param = STORLegRes.Param.apply(lambda x: str(x).title(),1)"
   ]
  },
  {
   "cell_type": "code",
   "execution_count": 50,
   "metadata": {
    "collapsed": false
   },
   "outputs": [
    {
     "data": {
      "text/plain": [
       "Index([u'OrgId', u'StationId', u'StationName', u'OrgName', u'ResultValue',\n",
       "       u'R', u'Param', u'SampDepth', u'SampleDate', u'SampleId'],\n",
       "      dtype='object')"
      ]
     },
     "execution_count": 50,
     "metadata": {},
     "output_type": "execute_result"
    }
   ],
   "source": [
    "STORLegRes.columns"
   ]
  },
  {
   "cell_type": "code",
   "execution_count": 51,
   "metadata": {
    "collapsed": false
   },
   "outputs": [],
   "source": [
    "def parnormSTOR(x):\n",
    "    p = str(x[0]).rstrip().lstrip().lower()\n",
    "    if p ==  'nitrate nitrogen, total (mg/L as n)' or p== 'nitrate nitrogen, total':\n",
    "        return 'Nitrate', x[1]*4.427, 'mg/l'\n",
    "    elif p == 'nitrite nitrogen, total (mg/l as n)':\n",
    "        return 'Nitrite', x[1]*3.285, 'mg/l'\n",
    "    elif p == 'nitrogen, ammonia, total (mg/l as n)':\n",
    "        return 'Ammonium', x[1]*1.288, 'mg/l'\n",
    "    elif p == 'sulfate (as s) whole     water, mg/L':\n",
    "        return 'Sulfate', x[1]*2.996, 'mg/l'\n",
    "    elif p in ('phosphorus, dissolved orthophosphate (mg/l as p)'):\n",
    "        return 'Phosphate', x[1]*3.066, 'mg/l'\n",
    "    else:\n",
    "        return x[0], x[1], np.nan\n",
    "\n",
    "STORLegRes['Param'], STORLegRes['ResultValue'], STORLegRes['Unit'] = zip(*STORLegRes[['Param','ResultValue']].apply(lambda x: parnormSTOR(x),1))"
   ]
  },
  {
   "cell_type": "code",
   "execution_count": 52,
   "metadata": {
    "collapsed": false
   },
   "outputs": [],
   "source": [
    "STORKeepers = ['Temperature, Water (Degrees Centigrade)',\n",
    "               'Temperature, Water (Degrees Fahrenheit)', \n",
    "               'Specific Conductance,Field (Umhos/Cm @ 25C)',\n",
    "               'Specific Conductance (Umhos/Cm @ 25C)', \n",
    "               'Sulfate (As S) Whole     Water, Mg/L',\n",
    "               'Oxygen, Dissolved                             Mg/L',\n",
    "               'Oxygen, Dissolved, Percent Of Saturation         %',\n",
    "               'Bod, 5 Day, 20 Deg C                          Mg/L',\n",
    "               'Ph (Standard Units)', 'Ph, Lab, Standard Units                         Su',\n",
    "               'Carbon Dioxide (Mg/L As Co2)', 'Alkalinity,Total,Low Level Gran Analysis     Ueq/L',\n",
    "               'Alkalinity, Total (Mg/L As Caco3)', 'Bicarbonate Ion (Mg/L As Hco3)', 'Carbonate Ion (Mg/L As Co3)',\n",
    "               'Nitrogen, Ammonia, Total (Mg/L As N)', 'Ammonia, Unionzed                      (Mg/L As N)',\n",
    "               'Nitrite Nitrogen, Total (Mg/L As N)', 'Ammonia, Unionized (Calc Fr Temp-Ph-Nh4)  (Mg/L)',\n",
    "               'Nitrate Nitrogen, Total (Mg/L As N)', 'Nitrogen, Kjeldahl, Total, (Mg/L As N)',\n",
    "               'Nitrite Plus Nitrate, Total 1 Det. (Mg/L As N)', 'Phosphorus (P), Water, Total Recoverable      Ug/L',\n",
    "               'Phosphorus, Total (Mg/L As P)', 'Phosphorus, Dissolved Orthophosphate (Mg/L As P)',\n",
    "               'Carbon, Dissolved Organic (Mg/L As C)',\n",
    "               'Carbon, Dissolved Inorganic (Mg/L As C)',\n",
    "               'Hardness, Total (Mg/L As Caco3)', 'Calcium (Mg/L As Caco3)',\n",
    "               'Calcium, Dissolved (Mg/L As Ca)',\n",
    "               'Magnesium, Dissolved (Mg/L As Mg)',\n",
    "               'Sodium, Dissolved (Mg/L As Na)',\n",
    "               'Potassium, Dissolved (Mg/L As K)',\n",
    "               'Chloride, Dissolved In Water           Mg/L',\n",
    "               'Sulfate, Dissolved (Mg/L As So4)',\n",
    "               'Fluoride, Dissolved (Mg/L As F)',\n",
    "               'Silica, Dissolved (Mg/L As Si02)',\n",
    "               'Arsenic, Dissolved  (Ug/L As As)', 'Arsenic, Total (Ug/L As As)',\n",
    "               'Barium, Dissolved (Ug/L As Ba)', 'Barium, Total (Ug/L As Ba)',\n",
    "               'Beryllium, Total (Ug/L As Be)', 'Boron, Dissolved (Ug/L As B)',\n",
    "               'Boron, Total (Ug/L As B)', 'Cadmium, Dissolved (Ug/L As Cd)',\n",
    "               'Cadmium, Total (Ug/L As Cd)', 'Chromium, Dissolved (Ug/L As Cr)',\n",
    "               'Chromium, Hexavalent (Ug/L As Cr)', 'Chromium, Total (Ug/L As Cr)',\n",
    "               'Copper, Dissolved (Ug/L As Cu)', 'Copper, Total (Ug/L As Cu)',\n",
    "               'Iron, Dissolved (Ug/L As Fe)', 'Lead, Dissolved (Ug/L As Pb)',\n",
    "               'Lead, Total (Ug/L As Pb)', 'Manganese, Total (Ug/L As Mn)',\n",
    "               'Manganese, Dissolved (Ug/L As Mn)', 'Thallium, Total (Ug/L As Tl)',\n",
    "               'Nickel, Dissolved (Ug/L As Ni)', 'Nickel, Total (Ug/L As Ni)',\n",
    "               'Silver, Dissolved (Ug/L As Ag)', 'Silver, Total (Ug/L As Ag)',\n",
    "               'Zinc, Dissolved (Ug/L As Zn)', 'Zinc, Total (Ug/L As Zn)',\n",
    "               'Antimony, Total (Ug/L As Sb)', 'Aluminum, Total (Ug/L As Al)',\n",
    "               'Selenium, Dissolved (Ug/L As Se)', 'Selenium, Total (Ug/L As Se)',\n",
    "               'Tritium (1H3),Total (Picocuries/Liter)',\n",
    "               'Hardness, Ca Mg Calculated (Mg/L As Caco3)',\n",
    "               'Chlorine, Total Residual (Mg/L)',\n",
    "               'Residue,Total Filtrable (Dried At 180C),Mg/L',\n",
    "               'Nitrate Nitrogen, Dissolved (Mg/L As No3)', 'Iron (Ug/L As Fe)',\n",
    "               'Phosphorus, Total, As Po4 - Mg/L', 'Mercury, Total  (Ug/L As Hg)']\n",
    "STORLegRes = STORLegRes[STORLegRes.Param.isin(STORKeepers)] "
   ]
  },
  {
   "cell_type": "code",
   "execution_count": 53,
   "metadata": {
    "collapsed": true
   },
   "outputs": [],
   "source": [
    "def parsplit(x,p):\n",
    "    x = str(x).rstrip().lstrip()\n",
    "    if p == \"Un\":\n",
    "        z = -1\n",
    "        x = str(x).replace(\"Mg/L\", \"mg/l\")\n",
    "        x = str(x).replace(\"Ug/L\", \"ug/l\")\n",
    "        x = str(x).replace(\"o\", \"O\")\n",
    "        x = str(x).replace(\"c\", \"C\")\n",
    "        x = str(x).replace(\"TOtal ReCOverable\",\"Total Recoverable\")        \n",
    "        x = str(x).replace(\"UmhOs\", \"umhos\")\n",
    "        x = str(x).replace(\"TOtal\",\"Total\")\n",
    "    elif p== \"Par\":\n",
    "        z = 0\n",
    "        x = str(x).replace(\", Standard Units\",\"\")\n",
    "        x = str(x).replace(\", Unionized\",\"\")\n",
    "        x = str(x).replace(\", Unionzed\",\"\")\n",
    "        x = str(x).replace(\",Low Level Gran Analysis\",\"\")\n",
    "        x = str(x).replace(\" Ion\",\"\")\n",
    "        x = str(x).replace(\",Total\",\", Total\")\n",
    "        if x == \"Ph\" or x == \"Ph, Lab\":\n",
    "            x = str(x).replace(\"Ph\",\"pH\")\n",
    "    if \"(\" in x:\n",
    "        x = str(x).replace(\" As \", \" as \")\n",
    "        return str(x).split(\" (\")[z].rstrip(\")\").rstrip().lstrip()\n",
    "    else:\n",
    "        return str(x).split(\"  \")[z].rstrip().lstrip()\n",
    "\n",
    "def splitmore(x):\n",
    "    if \"NO3\" in x:\n",
    "        return x\n",
    "    elif \" as \" in x:\n",
    "        return x.split(\" as \")[0]\n",
    "    elif x == \"As S) WhOle     Water, mg/l\" or x == \"Dried At 180C),mg/l\" or x==\"PhOsphOrus, Total, As PO4 - mg/l\":\n",
    "        return \"mg/l\"\n",
    "    elif x == \"P), Water, Total Recoverable      ug/l\":\n",
    "        return \"ug/l\"\n",
    "    else:\n",
    "        return x\n",
    "\n",
    "def unitconv(x):\n",
    "    if x[1]==\"ug/l\":\n",
    "        return x[0]/1000\n",
    "    elif x[1]==\"Degrees Fahrenheit\":\n",
    "        return (float(x[0])-32.0)*(5.0/9.0)\n",
    "    else:\n",
    "        return x[0]"
   ]
  },
  {
   "cell_type": "code",
   "execution_count": 54,
   "metadata": {
    "collapsed": false
   },
   "outputs": [],
   "source": [
    "STORLegRes[\"Unit\"] = STORLegRes[\"Param\"].apply(lambda x: parsplit(x,\"Un\"), 1)\n",
    "STORLegRes[\"Param\"] = STORLegRes[\"Param\"].apply(lambda x: parsplit(x,\"Par\"), 1)\n",
    "STORLegRes[\"Unit\"] = STORLegRes[\"Unit\"].apply(lambda x: splitmore(x), 1)\n",
    "STORLegRes[\"ResultValue\"] = STORLegRes[[\"ResultValue\",\"Unit\"]].apply(lambda x: unitconv(x), 1)\n",
    "STORLegRes[\"Unit\"] = STORLegRes[\"Unit\"].apply(lambda x: \"mg/l\" if x==\"ug/l\" else x, 1)\n",
    "STORLegRes[\"Unit\"] = STORLegRes[\"Unit\"].apply(lambda x: \"Degrees Centigrade\" if x==\"Degrees Fahrenheit\" else x, 1)"
   ]
  },
  {
   "cell_type": "code",
   "execution_count": 55,
   "metadata": {
    "collapsed": false
   },
   "outputs": [],
   "source": [
    "STORStaField = {\"Agency\":\"OrgId\",\"AgencyName\":\"OrgName\",\"Station\":\"StationId\", \"DepthUnits\":\"DepthUnit\",\n",
    "                \"Latitude\":\"Lat_Y\", \"Longitude\":\"Lon_X\", \"HUC\":\"HUC8\", \"StationDepth\":\"Depth\"}\n",
    "STORLegSta.rename(columns=STORStaField,inplace=True)"
   ]
  },
  {
   "cell_type": "code",
   "execution_count": 56,
   "metadata": {
    "collapsed": false
   },
   "outputs": [
    {
     "data": {
      "text/plain": [
       "Index([u'OrgId', u'StationId', u'StationName', u'OrgName', u'StateName',\n",
       "       u'CountyName', u'Lat_Y', u'Lon_X', u'HUC8', u'RchmileSegment',\n",
       "       u'MilesUpReach', u'Rchonoff', u'Rchname', u'StationAlias',\n",
       "       u'StationType', u'Depth', u'DepthUnit', u'S', u'G', u'Description'],\n",
       "      dtype='object')"
      ]
     },
     "execution_count": 56,
     "metadata": {},
     "output_type": "execute_result"
    }
   ],
   "source": [
    "STORLegSta.columns"
   ]
  },
  {
   "cell_type": "code",
   "execution_count": 57,
   "metadata": {
    "collapsed": false
   },
   "outputs": [],
   "source": [
    "STORLegSta.drop([\"RchmileSegment\", \"MilesUpReach\", \"Rchonoff\", \"Description\", \"G\", \"S\", \"StationAlias\",\n",
    "                 \"Rchname\", \"StateName\", \"CountyName\"], inplace=True, axis=1)"
   ]
  },
  {
   "cell_type": "code",
   "execution_count": 58,
   "metadata": {
    "collapsed": false
   },
   "outputs": [],
   "source": [
    "STORLegSta.StationType = STORLegSta.StationType.apply(lambda x: str(x).rstrip(\" \").strip(\"/SUPPLY\").split(\"/\")[-1].title(),1)"
   ]
  },
  {
   "cell_type": "code",
   "execution_count": 59,
   "metadata": {
    "collapsed": true
   },
   "outputs": [],
   "source": [
    "LegTypeDict = {\"We\":\"Well\"}\n",
    "STORLegSta.StationType = STORLegSta.StationType.apply(lambda x: LegTypeDict.get(x,x),1)"
   ]
  },
  {
   "cell_type": "code",
   "execution_count": 60,
   "metadata": {
    "collapsed": false
   },
   "outputs": [],
   "source": [
    "STORLegSta.StationId = STORLegSta[\"StationId\"].apply(lambda x: \"EPALeg-\" + x, 1)"
   ]
  },
  {
   "cell_type": "markdown",
   "metadata": {},
   "source": [
    "##UGS Data"
   ]
  },
  {
   "cell_type": "code",
   "execution_count": 61,
   "metadata": {
    "collapsed": false
   },
   "outputs": [],
   "source": [
    "UGSfield = pd.read_excel(fielddata,\"FieldChem\")\n",
    "UGSNO3 = pd.read_excel(fielddata,\"Nitrate\")"
   ]
  },
  {
   "cell_type": "code",
   "execution_count": 62,
   "metadata": {
    "collapsed": false
   },
   "outputs": [],
   "source": [
    "UGS = pd.read_csv(UGSFile, engine=\"python\")\n",
    "UGS[\"StationId\"] = UGS[\"SITE\"].apply(lambda x:\"UGS-\"+str(x).zfill(4),1) "
   ]
  },
  {
   "cell_type": "code",
   "execution_count": 63,
   "metadata": {
    "collapsed": true
   },
   "outputs": [],
   "source": [
    "UGSSta = UGS.drop([u'OBJECTID_1',u'SITE', u'TDS', u'Temp', u'Cond', u'CO2', u'HCO3', \n",
    "                  u'CO3',u'Na', u'pH', u'Ca', u'SO4', u'NO3', u'As_', u'Cl', u'K',\n",
    "                  u'Mg', u'Hard', u'NH4'], axis=1)"
   ]
  },
  {
   "cell_type": "code",
   "execution_count": 64,
   "metadata": {
    "collapsed": false
   },
   "outputs": [],
   "source": [
    "UGSRe = UGS.drop([u'OBJECTID_1',u'SITE',u'StationType', u'Geology', u'Elev', u'Lat_Y', u'Lon_X', u'StationName', \n",
    "                  u'OrgId', u'WRNUM', u'SITE', u'UTM_X', u'UTM_Y', u'Depth_ft'], axis=1)"
   ]
  },
  {
   "cell_type": "code",
   "execution_count": 65,
   "metadata": {
    "collapsed": true
   },
   "outputs": [],
   "source": [
    "UGSRe[\"SampleId\"] = UGSRe.index"
   ]
  },
  {
   "cell_type": "code",
   "execution_count": 66,
   "metadata": {
    "collapsed": false
   },
   "outputs": [],
   "source": [
    "UGSRe.reset_index(inplace=True)\n",
    "UGSRe.set_index([\"StationId\",\"SampleId\"], inplace=True)"
   ]
  },
  {
   "cell_type": "code",
   "execution_count": 67,
   "metadata": {
    "collapsed": false
   },
   "outputs": [],
   "source": [
    "UGSRe.drop(UGSRe.columns[0],inplace=True,axis=1)"
   ]
  },
  {
   "cell_type": "code",
   "execution_count": 68,
   "metadata": {
    "collapsed": false
   },
   "outputs": [],
   "source": [
    "UGSStack = UGSRe.stack().to_frame()\n",
    "UGSStack.columns = [\"ResultValue\"]"
   ]
  },
  {
   "cell_type": "code",
   "execution_count": 69,
   "metadata": {
    "collapsed": true
   },
   "outputs": [],
   "source": [
    "UGSStack.reset_index(inplace=True)"
   ]
  },
  {
   "cell_type": "code",
   "execution_count": 70,
   "metadata": {
    "collapsed": false
   },
   "outputs": [],
   "source": [
    "UGSStack.columns=[\"StationId\",\"SampleId\",\"Param\",\"ResultValue\"]"
   ]
  },
  {
   "cell_type": "code",
   "execution_count": 71,
   "metadata": {
    "collapsed": false
   },
   "outputs": [],
   "source": [
    "def unitcon(x):\n",
    "    if x==\"pH\":\n",
    "        return \"\"\n",
    "    elif x==\"Temp\":\n",
    "        return \"C\"\n",
    "    elif x==\"Cond\":\n",
    "        return \"uS/cm\"\n",
    "    else:\n",
    "        return \"mg/l\"\n",
    "    \n",
    "UGSStack[\"Unit\"] = UGSStack[\"Param\"].apply(lambda x: unitcon(x),1)\n",
    "UGSStack[\"ParAbb\"] = UGSStack[\"Param\"]\n",
    "UGSStack[\"OrgId\"] = \"UGS\"\n",
    "UGSStack[\"OrgName\"] = \"Utah Geological Survey\"\n",
    "UGSStack[\"ResultValue\"] = UGSStack[['Param','ResultValue']].apply(lambda x: x[1]*1.288 if x[0]=='Ammonia as N' else x[1],1)\n",
    "UGSStack[\"Param\"] = UGSStack['Param'].apply(lambda x: 'Ammonia' if x=='Ammonia as N' else x, 1)\n",
    "UGSStack[\"ResultValue\"] = UGSStack[['Param','ResultValue']].apply(lambda x: x[1]*3.066 if x[0]=='Phosphate, Tot. Dig. (as P)' else x[1],1)\n",
    "UGSStack[\"Param\"] = UGSStack['Param'].apply(lambda x: 'Phosphate' if x=='Phosphate, Tot. Dig. (as P)' else x, 1)"
   ]
  },
  {
   "cell_type": "markdown",
   "metadata": {},
   "source": [
    "##State Lab"
   ]
  },
  {
   "cell_type": "code",
   "execution_count": 74,
   "metadata": {
    "collapsed": false
   },
   "outputs": [],
   "source": [
    "SLSampMatch = pd.read_excel(fielddata,\"StateLabMatch\")\n",
    "SLStations = pd.read_excel(fielddata,\"Stations\")\n",
    "SLStat = pd.merge(SLSampMatch, SLStations, on='StationId', how='left')\n",
    "#SLStat.reset_index(inplace=True)"
   ]
  },
  {
   "cell_type": "code",
   "execution_count": 75,
   "metadata": {
    "collapsed": false
   },
   "outputs": [
    {
     "name": "stderr",
     "output_type": "stream",
     "text": [
      "Skipping line 11: expected 43 fields, saw 44\n",
      "Skipping line 19: expected 43 fields, saw 44\n",
      "Skipping line 238: expected 43 fields, saw 44\n",
      "Skipping line 857: expected 43 fields, saw 44\n",
      "\n",
      "Skipping line 726: expected 43 fields, saw 44\n",
      "Skipping line 745: expected 43 fields, saw 44\n",
      "Skipping line 1467: expected 43 fields, saw 44\n",
      "Skipping line 1487: expected 43 fields, saw 44\n",
      "Skipping line 1507: expected 43 fields, saw 44\n",
      "Skipping line 1527: expected 43 fields, saw 44\n",
      "\n"
     ]
    }
   ],
   "source": [
    "SL0 = pd.read_table(statelabresults0, sep=\"\\t\", lineterminator=\"\\n\", error_bad_lines=False)\n",
    "SL0 = SL0[SL0['Collector']=='PI']\n",
    "SL1 = pd.read_table(statelabresults1, sep=\"\\t\", lineterminator=\"\\n\", error_bad_lines=False)\n",
    "SL1 = SL1[SL1['Collector']=='PI']\n",
    "SL2 = pd.read_table(statelabresults2, sep=\"\\t\", lineterminator=\"\\n\", error_bad_lines=False)\n",
    "SL2 = SL2[SL2['Collector']=='PI']"
   ]
  },
  {
   "cell_type": "code",
   "execution_count": 76,
   "metadata": {
    "collapsed": true
   },
   "outputs": [],
   "source": [
    "SL = pd.concat([SL0,SL1,SL2])"
   ]
  },
  {
   "cell_type": "code",
   "execution_count": 77,
   "metadata": {
    "collapsed": false
   },
   "outputs": [],
   "source": [
    "SL[\"OrgId\"] = \"UGS\"\n",
    "SL[\"OrgName\"] = \"Utah Geological Survey\"\n",
    "SL['DetectCond'] = SL['Problem#Identifier'].apply(lambda x: 'Not Detected' if str(x).rstrip()=='<' else np.nan,1)\n",
    "SL['SampleDate'] = SL[['Sample#Date','Sample#Time']].apply(lambda x: datetimefix(x,\"%m/%d/%y %H:%M\"),1)\n",
    "SLHead = {'Sample#Number':'SampleId', 'Param#Description':'Param', 'Result#Value':'ResultValue','Units':'Unit', \n",
    "          'Lower#Report#Limit':'MDL','Method#ID':'SampMeth','Analysis#Date':'AnalysisDate'}\n",
    "SL.rename(columns=SLHead,inplace=True)"
   ]
  },
  {
   "cell_type": "code",
   "execution_count": 78,
   "metadata": {
    "collapsed": false
   },
   "outputs": [],
   "source": [
    "SL.drop([u'Lab#Code', u'Station#ID', u'Source#Code', u'Sample#Date',\n",
    "       u'Sample#Time', u'Sample#Type', u'Cost#Code', u'Billing#Code',\n",
    "       u'Agency#Bill#Code', u'Trip#ID', u'Sample#Description', u'Collector',\n",
    "       u'Sample#Recieved#Date', u'Chain#of#Custody#Ind.', u'Replicate#Number',\n",
    "       u'Sample#Comment', u'Method#Number', u'Method#Agency',\n",
    "       u'Method#Description', u'Param#Number', u'CAS#Number',\n",
    "       u'Matrix#Number', u'Matrix#Description', u'Preparation#Date',\n",
    "       u'Problem#Identifier', u'Result#Code', \n",
    "       u'Upper#Quant#Limit', u'Method#Detect#Limit',\n",
    "       u'Confidence#Limit', u'%#Confidence#Limit',u'Dilution#Factor',\n",
    "       u'Batch#Number',u'Comment#Number', u'Comment#Text'], inplace=True, axis=1)"
   ]
  },
  {
   "cell_type": "code",
   "execution_count": 79,
   "metadata": {
    "collapsed": false
   },
   "outputs": [
    {
     "data": {
      "text/plain": [
       "Index([u'AnalysisDate', u'Comment#Number.1', u'Comment#Text.1', u'MDL',\n",
       "       u'SampMeth', u'Param', u'ResultValue', u'SampleId', u'Unit', u'OrgId',\n",
       "       u'OrgName', u'DetectCond', u'SampleDate'],\n",
       "      dtype='object')"
      ]
     },
     "execution_count": 79,
     "metadata": {},
     "output_type": "execute_result"
    }
   ],
   "source": [
    "SL.columns"
   ]
  },
  {
   "cell_type": "code",
   "execution_count": 80,
   "metadata": {
    "collapsed": false
   },
   "outputs": [],
   "source": [
    "SLRes = pd.merge(SL, SLStat, on='SampleId', how='left')"
   ]
  },
  {
   "cell_type": "code",
   "execution_count": 81,
   "metadata": {
    "collapsed": false
   },
   "outputs": [],
   "source": [
    "SLRes.drop([u'StationName', u'Elev', u'Lat_Y', u'Lon_X', u'Depth', \n",
    "            u'DepthUnit',  u'ScreenDepth', u'WIN', u'Diameter', u'WL', u'WLDate', u'ScreenBottom'], inplace=True, axis=1)"
   ]
  },
  {
   "cell_type": "code",
   "execution_count": 82,
   "metadata": {
    "collapsed": true
   },
   "outputs": [],
   "source": [
    "SLStat.drop(['SampleId'],inplace=True, axis=1)\n",
    "SLStat.drop_duplicates(inplace=True)"
   ]
  },
  {
   "cell_type": "code",
   "execution_count": 83,
   "metadata": {
    "collapsed": false
   },
   "outputs": [],
   "source": [
    "def SLparnorm(x):\n",
    "    p = str(x[0]).rstrip().lstrip().lower()\n",
    "    u = str(x[2]).rstrip().lstrip().lower()\n",
    "    if p == 'nitrate nitrogen, total (mg/l as n)':\n",
    "        return 'Nitrate', x[1]*4.427, 'mg/l'\n",
    "    elif p == 'nitrite nitrogen, total (mg/l as n)':\n",
    "        return 'Nitrite', x[1]*3.285, 'mg/l'\n",
    "    elif p == 'ammonia as n':\n",
    "        return 'Ammonium', x[1]*1.288, 'mg/l'\n",
    "    elif p == 'sulfate (as s) whole     water, mg/L':\n",
    "        return 'Sulfate', x[1]*2.996, 'mg/l'\n",
    "    elif p in ('phosphate, tot. dig. (as p)', 'phosphate-phosphorus as p','orthophosphate as p'):\n",
    "        return 'Phosphate', x[1]*3.066, 'mg/l'\n",
    "    elif u == 'ug/l':\n",
    "        return x[0], x[1]/1000, 'mg/l'\n",
    "    else:\n",
    "        return x[0], x[1], str(x[2]).rstrip()\n",
    "\n",
    "def MDLfix(x):\n",
    "    u = str(x[1]).rstrip().lstrip().lower()\n",
    "    if np.isfinite(x[2]):\n",
    "        return x[0]\n",
    "    elif u=='ug/l':\n",
    "        return x[0]/1000\n",
    "    else:\n",
    "        return x[0]\n",
    "\n",
    "\n",
    "SLRes['MDL'] = SLRes[['MDL','Unit','ResultValue']].apply(lambda x: MDLfix(x),1)\n",
    "SLRes['Param'], SLRes['ResultValue'], SLRes['Unit'] = zip(*SLRes[['Param','ResultValue','Unit']].apply(lambda x: parnorm(x),1))"
   ]
  },
  {
   "cell_type": "markdown",
   "metadata": {},
   "source": [
    "#Combine Data"
   ]
  },
  {
   "cell_type": "code",
   "execution_count": 84,
   "metadata": {
    "collapsed": false
   },
   "outputs": [],
   "source": [
    "Res = pd.concat([STORLegRes,AGRes,SDWISRes,WQP,UGSStack,SLRes,UGSfield,UGSNO3])"
   ]
  },
  {
   "cell_type": "code",
   "execution_count": 85,
   "metadata": {
    "collapsed": false
   },
   "outputs": [
    {
     "data": {
      "text/plain": [
       "436447"
      ]
     },
     "execution_count": 85,
     "metadata": {},
     "output_type": "execute_result"
    }
   ],
   "source": [
    "Res = Res[~Res[\"Unit\"].isin(['ueq/L','Ueq/L','ueq/l','tons/ac ft','tons/day','meq/L'])]\n",
    "Res = Res[~Res[\"Param\"].isin([\"Heptachlorobiphenyl\", \"Hydrocarbons\", \"Hydroxide\", \"Ionic strength\",\n",
    "                              \"Floating debris, severity\", \"Carbon Tetrachloride\", \"Trichlorobiphenyl\",\n",
    "                              \"Vinyl Chloride\", \"True color\", \"Color\", \"Trash, Debris, Floatables\",\n",
    "                              \"Total volatile solids\", \"Temperature, air\", \"Residue, Total Filtrable\",\n",
    "                              \"Pentachlorobiphenyl\", \"Odor threshold number\", \"Odor, atmospheric\",\n",
    "                              \"Instream features, est. stream width\", \"Hydroxide\", \n",
    "                              \"Light, transmissivity\",\"Algae, floating mats (severity)\"])]\n",
    "len(Res)"
   ]
  },
  {
   "cell_type": "code",
   "execution_count": 86,
   "metadata": {
    "collapsed": false
   },
   "outputs": [],
   "source": [
    "Res[[\"Param\",\"Unit\",\"USGSPCode\"]].drop_duplicates(subset=[\"Param\",\"Unit\"]).sort([\"Param\"]).to_clipboard()"
   ]
  },
  {
   "cell_type": "code",
   "execution_count": 87,
   "metadata": {
    "collapsed": true
   },
   "outputs": [],
   "source": [
    "Stat = pd.concat([STORLegSta, AGStat, SDWISSta, WQPStat, SLStat, UGSSta])"
   ]
  },
  {
   "cell_type": "code",
   "execution_count": 88,
   "metadata": {
    "collapsed": false
   },
   "outputs": [],
   "source": [
    "parmatch = pd.read_excel(rootname + \"Aquachem.xlsx\")"
   ]
  },
  {
   "cell_type": "code",
   "execution_count": 89,
   "metadata": {
    "collapsed": false
   },
   "outputs": [
    {
     "data": {
      "text/plain": [
       "Index([u'Param', u'Unit', u'ParrAbb'], dtype='object')"
      ]
     },
     "execution_count": 89,
     "metadata": {},
     "output_type": "execute_result"
    }
   ],
   "source": [
    "parmatch.columns"
   ]
  },
  {
   "cell_type": "code",
   "execution_count": 90,
   "metadata": {
    "collapsed": false
   },
   "outputs": [],
   "source": [
    "parmatchdict = dict(zip(parmatch.Param.values, parmatch.ParrAbb.values))\n",
    "Res[\"ParAbb\"] = Res[[\"ParAbb\",\"Param\"]].apply(lambda x: parmatchdict.get(x[1],x[0]),1)"
   ]
  },
  {
   "cell_type": "code",
   "execution_count": 91,
   "metadata": {
    "collapsed": false
   },
   "outputs": [],
   "source": [
    "results = Res.dropna(subset=[\"StationId\",\"Param\",\"SampleId\"], how=\"any\")"
   ]
  },
  {
   "cell_type": "code",
   "execution_count": 92,
   "metadata": {
    "collapsed": false
   },
   "outputs": [
    {
     "name": "stderr",
     "output_type": "stream",
     "text": [
      "C:\\Python27\\ArcGIS10.3\\lib\\site-packages\\IPython\\kernel\\__main__.py:2: SettingWithCopyWarning: \n",
      "A value is trying to be set on a copy of a slice from a DataFrame.\n",
      "Try using .loc[row_indexer,col_indexer] = value instead\n",
      "\n",
      "See the the caveats in the documentation: http://pandas.pydata.org/pandas-docs/stable/indexing.html#indexing-view-versus-copy\n",
      "  from IPython.kernel.zmq import kernelapp as app\n",
      "C:\\Python27\\ArcGIS10.3\\lib\\site-packages\\IPython\\kernel\\__main__.py:3: SettingWithCopyWarning: \n",
      "A value is trying to be set on a copy of a slice from a DataFrame.\n",
      "Try using .loc[row_indexer,col_indexer] = value instead\n",
      "\n",
      "See the the caveats in the documentation: http://pandas.pydata.org/pandas-docs/stable/indexing.html#indexing-view-versus-copy\n",
      "  app.launch_new_instance()\n",
      "C:\\Python27\\ArcGIS10.3\\lib\\site-packages\\IPython\\kernel\\__main__.py:4: SettingWithCopyWarning: \n",
      "A value is trying to be set on a copy of a slice from a DataFrame.\n",
      "Try using .loc[row_indexer,col_indexer] = value instead\n",
      "\n",
      "See the the caveats in the documentation: http://pandas.pydata.org/pandas-docs/stable/indexing.html#indexing-view-versus-copy\n"
     ]
    }
   ],
   "source": [
    "Stat[\"StationName\"] = Stat[\"StationName\"].apply(lambda x: str(x).strip().lstrip().rstrip(),1)\n",
    "results[\"Unit\"] = results[[\"ParAbb\",\"Unit\"]].apply(lambda x: \"C\" if x[0]==\"Temp\" else x[1],1)\n",
    "results[\"Unit\"] = results[[\"ParAbb\",\"Unit\"]].apply(lambda x: \"umhos/cm\" if x[0]==\"Cond\" else x[1],1)\n",
    "results[\"Unit\"] = results[[\"ParAbb\",\"Unit\"]].apply(lambda x: \"\" if x[0]==\"pH\" else x[1],1)"
   ]
  },
  {
   "cell_type": "code",
   "execution_count": 93,
   "metadata": {
    "collapsed": false
   },
   "outputs": [
    {
     "name": "stderr",
     "output_type": "stream",
     "text": [
      "C:\\Python27\\ArcGIS10.3\\lib\\site-packages\\IPython\\kernel\\__main__.py:5: SettingWithCopyWarning: \n",
      "A value is trying to be set on a copy of a slice from a DataFrame\n",
      "\n",
      "See the the caveats in the documentation: http://pandas.pydata.org/pandas-docs/stable/indexing.html#indexing-view-versus-copy\n"
     ]
    }
   ],
   "source": [
    "results.drop([\"AnalysisDate\",\"AnalytMeth\",\"SampType\",\"AnalytMethId\", \"BelowLim\", \"StationName\",\n",
    "              \"MethodDescript\", \"LabComments\", \"LabName\", \"LimitType\", \"ProjectId\", \"QualCode\",\n",
    "              \"OrgName\",\"R\", \"ResultComment\",\"ResultStatus\",\"SampComment\", \"SampEquip\", \n",
    "              \"SampDepthRef\", \"SampDepthU\",\"SampDepth\",\"SampType\", \"USGSPCode\",\n",
    "              \"SampMeth\", \"SampMethName\",\"SampYear\",\"TestNo\"],inplace=True,axis=1)"
   ]
  },
  {
   "cell_type": "code",
   "execution_count": 94,
   "metadata": {
    "collapsed": false
   },
   "outputs": [
    {
     "data": {
      "text/plain": [
       "Index([u'Comment#Number.1',   u'Comment#Text.1',       u'DetectCond',\n",
       "                    u'MDL',          u'MDLUnit',            u'OrgId',\n",
       "                 u'ParAbb',            u'Param',      u'ResultValue',\n",
       "               u'SampFrac',        u'SampMedia',       u'SampleDate',\n",
       "               u'SampleId',        u'StationId',      u'StationType',\n",
       "                   u'Unit'],\n",
       "      dtype='object')"
      ]
     },
     "execution_count": 94,
     "metadata": {},
     "output_type": "execute_result"
    }
   ],
   "source": [
    "results.columns"
   ]
  },
  {
   "cell_type": "code",
   "execution_count": 95,
   "metadata": {
    "collapsed": false
   },
   "outputs": [
    {
     "name": "stderr",
     "output_type": "stream",
     "text": [
      "C:\\Python27\\ArcGIS10.3\\lib\\site-packages\\pandas\\util\\decorators.py:88: SettingWithCopyWarning: \n",
      "A value is trying to be set on a copy of a slice from a DataFrame\n",
      "\n",
      "See the the caveats in the documentation: http://pandas.pydata.org/pandas-docs/stable/indexing.html#indexing-view-versus-copy\n",
      "  return func(*args, **kwargs)\n",
      "C:\\Python27\\ArcGIS10.3\\lib\\site-packages\\pandas\\core\\frame.py:2915: SettingWithCopyWarning: \n",
      "A value is trying to be set on a copy of a slice from a DataFrame\n",
      "\n",
      "See the the caveats in the documentation: http://pandas.pydata.org/pandas-docs/stable/indexing.html#indexing-view-versus-copy\n",
      "  inplace=inplace, kind=kind, na_position=na_position)\n"
     ]
    }
   ],
   "source": [
    "aquc = results[[\"Param\",\"OrgId\",\"Unit\",\"ParAbb\"]]\n",
    "aquc.drop_duplicates([\"Param\",\"Unit\"],inplace=True)\n",
    "aquc.sort([\"Param\"],inplace=True)\n",
    "aquc.to_clipboard()"
   ]
  },
  {
   "cell_type": "code",
   "execution_count": 96,
   "metadata": {
    "collapsed": true
   },
   "outputs": [],
   "source": [
    "def estsize(df):\n",
    "    return df.values.nbytes + df.index.nbytes + df.columns.nbytes"
   ]
  },
  {
   "cell_type": "code",
   "execution_count": 97,
   "metadata": {
    "collapsed": false
   },
   "outputs": [
    {
     "data": {
      "text/plain": [
       "'31.41 MB'"
      ]
     },
     "execution_count": 97,
     "metadata": {},
     "output_type": "execute_result"
    }
   ],
   "source": [
    "(str(round(estsize(results)/1E6,2))+\" MB\")\n",
    "#(str(round(estsize(Stat)/1E6,2))+\" MB\")"
   ]
  },
  {
   "cell_type": "code",
   "execution_count": 98,
   "metadata": {
    "collapsed": true
   },
   "outputs": [],
   "source": [
    "GWStat = Stat[Stat['StationType'].isin(['Spring','Well'])]\n",
    "GWStatList = list(GWStat.StationId.unique())"
   ]
  },
  {
   "cell_type": "code",
   "execution_count": 99,
   "metadata": {
    "collapsed": false
   },
   "outputs": [
    {
     "name": "stderr",
     "output_type": "stream",
     "text": [
      "C:\\Python27\\ArcGIS10.3\\lib\\site-packages\\pandas\\core\\generic.py:2177: SettingWithCopyWarning: \n",
      "A value is trying to be set on a copy of a slice from a DataFrame.\n",
      "Try using .loc[row_indexer,col_indexer] = value instead\n",
      "\n",
      "See the the caveats in the documentation: http://pandas.pydata.org/pandas-docs/stable/indexing.html#indexing-view-versus-copy\n",
      "  self[name] = value\n"
     ]
    }
   ],
   "source": [
    "NDs = {'Not Detected':'<', 'Present Above Quantification Limit':'<', 'ND             ':'<', '*Present >QL   ':'>',\n",
    "       'Present Below Quantification Limit':'<', '*Non-detect    ':'<', 'Detected Not Quantified':'<', \n",
    "       'Systematic Contamination':'<'}\n",
    "results.DetectCond = results.DetectCond.apply(lambda x: NDs.get(x,np.nan),1) "
   ]
  },
  {
   "cell_type": "code",
   "execution_count": 100,
   "metadata": {
    "collapsed": false
   },
   "outputs": [],
   "source": [
    "GWResNoND = results[(results['StationId'].isin(GWStatList))] \n",
    "GWResNoND = GWResNoND[(~GWResNoND['DetectCond'].isin(['<','>']))]"
   ]
  },
  {
   "cell_type": "code",
   "execution_count": 101,
   "metadata": {
    "collapsed": false
   },
   "outputs": [],
   "source": [
    "def is_nan(x): \n",
    "    try: \n",
    "        return math.isnan(x) \n",
    "    except: \n",
    "        return False \n",
    "\n",
    "def detected(x):\n",
    "    if x[1]=='<' and np.isfinite(x[0]):\n",
    "        return x[1]+str(x[0])       \n",
    "    elif x[1]=='<' and np.isfinite(x[2]):\n",
    "        if str(x[3]).rstrip().lower() == 'ug/l':\n",
    "            return x[1]+str(x[2]/1000)\n",
    "        else:\n",
    "            return x[1]+str(x[2])\n",
    "    else:\n",
    "        return x[0]\n",
    "\n",
    "results.ResultValue = results[['ResultValue','DetectCond','MDL','MDLUnit']].apply(lambda x: detected(x),1)"
   ]
  },
  {
   "cell_type": "code",
   "execution_count": 148,
   "metadata": {
    "collapsed": false
   },
   "outputs": [],
   "source": [
    "GWRes = results[results['StationId'].isin(GWStatList)]\n"
   ]
  },
  {
   "cell_type": "code",
   "execution_count": 149,
   "metadata": {
    "collapsed": false
   },
   "outputs": [],
   "source": [
    "GWRes.drop_duplicates(subset = ['SampleId','ParAbb'],inplace=True)\n",
    "GWResNoND.drop_duplicates(subset = ['SampleId','ParAbb'],inplace=True)"
   ]
  },
  {
   "cell_type": "markdown",
   "metadata": {
    "collapsed": true
   },
   "source": [
    "#Pivot Data"
   ]
  },
  {
   "cell_type": "code",
   "execution_count": 104,
   "metadata": {
    "collapsed": false
   },
   "outputs": [],
   "source": [
    "datap = GWRes.pivot(index='SampleId', columns='ParAbb', values='ResultValue')\n",
    "datapND = GWResNoND.pivot(index='SampleId', columns='ParAbb', values='ResultValue')"
   ]
  },
  {
   "cell_type": "code",
   "execution_count": 105,
   "metadata": {
    "collapsed": false
   },
   "outputs": [],
   "source": [
    "datap.dropna(subset=['SO4','Cond','Temp','TDS','pH_field'],how='all',inplace=True)\n",
    "datap.drop(datap.columns[[0]], axis=1, inplace=True)\n",
    "datapND.dropna(subset=['SO4','Cond','Temp','TDS','pH_field'],how='all',inplace=True)\n",
    "datapND.drop(datapND.columns[[0]], axis=1, inplace=True)"
   ]
  },
  {
   "cell_type": "code",
   "execution_count": 106,
   "metadata": {
    "collapsed": false
   },
   "outputs": [],
   "source": [
    "resdrop = [ 'DetectCond',\n",
    "             'MDL', 'MDLUnit',\n",
    "             'OrgId', 'Param',\n",
    "             'ResultValue', 'SampFrac',\n",
    "             'SampMedia', \n",
    "             'Unit', 'ParAbb']\n",
    "resPivot = GWRes.drop(resdrop, axis=1)"
   ]
  },
  {
   "cell_type": "code",
   "execution_count": 107,
   "metadata": {
    "collapsed": true
   },
   "outputs": [],
   "source": [
    "datapiv = pd.merge(datap, resPivot, left_index=True, right_on='SampleId',how='left')\n",
    "datapivND = pd.merge(datapND, resPivot, left_index=True, right_on='SampleId',how='left')"
   ]
  },
  {
   "cell_type": "code",
   "execution_count": 108,
   "metadata": {
    "collapsed": false
   },
   "outputs": [],
   "source": [
    "pivStats = GWStat.drop(['Aquifer', 'ConstDate', 'Depth', 'DepthUnit','AquiferType', 'OrgName', 'HorCollMeth',\n",
    "                         'HoleDUnit', 'HoleDepth', 'HUC8', 'HorAccUnit',\n",
    "                         'ElevUnit', 'ElevRef', 'ElevAcc', 'ElevMeth','CountyCode', 'ElevAccUnit',\n",
    "                         'HorAcc', 'StateCode', 'HorRef',\n",
    "                         'OrgId', 'StationComment', 'StationName'], axis=1)"
   ]
  },
  {
   "cell_type": "code",
   "execution_count": 109,
   "metadata": {
    "collapsed": true
   },
   "outputs": [],
   "source": [
    "pivStats.reset_index(inplace=True)\n",
    "pivStats.set_index(\"StationId\",inplace=True)"
   ]
  },
  {
   "cell_type": "code",
   "execution_count": 110,
   "metadata": {
    "collapsed": true
   },
   "outputs": [],
   "source": [
    "datapiv.drop_duplicates(inplace=True)\n",
    "datapivND.drop_duplicates(inplace=True)"
   ]
  },
  {
   "cell_type": "code",
   "execution_count": 111,
   "metadata": {
    "collapsed": false
   },
   "outputs": [],
   "source": [
    "pivdata = pd.merge(datapiv, pivStats, left_on=\"StationId\", right_index=True, how='left')\n",
    "pivdataND = pd.merge(datapivND, pivStats, left_on=\"StationId\", right_index=True, how='left')"
   ]
  },
  {
   "cell_type": "code",
   "execution_count": 112,
   "metadata": {
    "collapsed": false
   },
   "outputs": [],
   "source": [
    "pivdata.drop_duplicates(inplace=True)\n",
    "pivdataND.drop_duplicates(inplace=True)"
   ]
  },
  {
   "cell_type": "code",
   "execution_count": 113,
   "metadata": {
    "collapsed": false
   },
   "outputs": [],
   "source": [
    "piperdata = pivdata.dropna(subset = ['Ca','Na','Cl','Mg','SO4'],how='any')\n",
    "piperdataND = pivdataND.dropna(subset = ['Ca','Na','Cl','Mg','SO4'],how='any')"
   ]
  },
  {
   "cell_type": "code",
   "execution_count": 114,
   "metadata": {
    "collapsed": false
   },
   "outputs": [],
   "source": [
    "piperdata.drop_duplicates(subset=['SampleId'],inplace=True)\n",
    "piperdataND.drop_duplicates(subset=['SampleId'],inplace=True)"
   ]
  },
  {
   "cell_type": "code",
   "execution_count": 115,
   "metadata": {
    "collapsed": false
   },
   "outputs": [
    {
     "data": {
      "text/plain": [
       "'0.4 MB'"
      ]
     },
     "execution_count": 115,
     "metadata": {},
     "output_type": "execute_result"
    }
   ],
   "source": [
    "(str(round(estsize(piperdata)/1E6,2))+\" MB\")"
   ]
  },
  {
   "cell_type": "code",
   "execution_count": 116,
   "metadata": {
    "collapsed": false
   },
   "outputs": [
    {
     "name": "stderr",
     "output_type": "stream",
     "text": [
      "C:\\Python27\\ArcGIS10.3\\lib\\site-packages\\IPython\\kernel\\__main__.py:3: SettingWithCopyWarning: \n",
      "A value is trying to be set on a copy of a slice from a DataFrame\n",
      "\n",
      "See the the caveats in the documentation: http://pandas.pydata.org/pandas-docs/stable/indexing.html#indexing-view-versus-copy\n",
      "  app.launch_new_instance()\n"
     ]
    }
   ],
   "source": [
    "GWStat.drop(['Aquifer','AquiferType','CountyCode','DepthUnit','ElevAcc','ElevAccUnit',\n",
    "             'ElevMeth','ElevRef','ElevUnit','HoleDUnit','HorAcc','HorAccUnit','HorCollMeth',\n",
    "            'HorRef','StateCode'],inplace=True)"
   ]
  },
  {
   "cell_type": "code",
   "execution_count": 117,
   "metadata": {
    "collapsed": false
   },
   "outputs": [
    {
     "name": "stderr",
     "output_type": "stream",
     "text": [
      "C:\\Python27\\ArcGIS10.3\\lib\\site-packages\\IPython\\kernel\\__main__.py:7: SettingWithCopyWarning: \n",
      "A value is trying to be set on a copy of a slice from a DataFrame.\n",
      "Try using .loc[row_indexer,col_indexer] = value instead\n",
      "\n",
      "See the the caveats in the documentation: http://pandas.pydata.org/pandas-docs/stable/indexing.html#indexing-view-versus-copy\n",
      "C:\\Python27\\ArcGIS10.3\\lib\\site-packages\\IPython\\kernel\\__main__.py:8: SettingWithCopyWarning: \n",
      "A value is trying to be set on a copy of a slice from a DataFrame.\n",
      "Try using .loc[row_indexer,col_indexer] = value instead\n",
      "\n",
      "See the the caveats in the documentation: http://pandas.pydata.org/pandas-docs/stable/indexing.html#indexing-view-versus-copy\n"
     ]
    }
   ],
   "source": [
    "def proj(x):\n",
    "    inProj = Proj(init='epsg:4326') #WGS84\n",
    "    outProj = Proj(init='epsg:2152') #NAD83(CSRS98) / UTM zone 12N\n",
    "    x2,y2 = transform(inProj,outProj,x[0],x[1])\n",
    "    return x2, y2\n",
    "\n",
    "GWStat['UTM_X'], GWStat['UTM_Y'] = zip(*GWStat[['Lon_X','Lat_Y']].apply(lambda x: proj(x),1))\n",
    "piperdata['UTM_X'], piperdata['UTM_Y'] = zip(*piperdata[['Lon_X','Lat_Y']].apply(lambda x: proj(x),1))"
   ]
  },
  {
   "cell_type": "code",
   "execution_count": 118,
   "metadata": {
    "collapsed": false
   },
   "outputs": [
    {
     "name": "stderr",
     "output_type": "stream",
     "text": [
      "C:\\Python27\\ArcGIS10.3\\lib\\site-packages\\IPython\\kernel\\__main__.py:8: SettingWithCopyWarning: \n",
      "A value is trying to be set on a copy of a slice from a DataFrame.\n",
      "Try using .loc[row_indexer,col_indexer] = value instead\n",
      "\n",
      "See the the caveats in the documentation: http://pandas.pydata.org/pandas-docs/stable/indexing.html#indexing-view-versus-copy\n"
     ]
    }
   ],
   "source": [
    "def getelev(x):\n",
    "    elev = \"http://ned.usgs.gov/epqs/pqs.php?x=\"+str(x[0])+\"&y=\"+str(x[1])+\"&units=Meters&output=xml\"\n",
    "    response = urllib2.urlopen(elev)\n",
    "    html = response.read()\n",
    "    d = xmltodict.parse(html)\n",
    "    return float(d['USGS_Elevation_Point_Query_Service']['Elevation_Query']['Elevation'])\n",
    "\n",
    "GWStat['Elev'] = GWStat[['Lon_X','Lat_Y']].apply(lambda x: getelev(x),1)"
   ]
  },
  {
   "cell_type": "code",
   "execution_count": 119,
   "metadata": {
    "collapsed": true
   },
   "outputs": [],
   "source": [
    "def winmatch(x):\n",
    "    request = mechanize.Request(\"http://waterrights.utah.gov/wellinfo/wellsearch.asp\")\n",
    "    response = mechanize.urlopen(request)\n",
    "    forms = mechanize.ParseResponse(response, backwards_compat=False)\n",
    "    response.close()\n",
    "    form = forms[0] \n",
    "    #print form\n",
    "    form[\"mainoption\"]=[\"radius\"]\n",
    "    form[\"SearchRadius\"]=\"2000\"\n",
    "    form[\"option\"]=[\"UTM\"]\n",
    "    form[\"xUTM\"]=str(x[0])\n",
    "    form[\"yUTM\"]=str(x[1])\n",
    "    if np.isfinite(x[2]):\n",
    "        form[\"DateRange\"]=[\"on\"]\n",
    "        form[\"edtDrillBef\"]=str(int(str(x[2])[:4])+5)\n",
    "        form[\"edtDrillAft\"]=str(int(str(x[2])[:4])-5)\n",
    "        #print str(int(str(x[2])[:4]))\n",
    "    if np.isfinite(x[3]):\n",
    "        form[\"DepthRange\"]=[\"on\"]\n",
    "        form[\"edtDrillBel\"]=str(int(x[3])-10)\n",
    "        form[\"edtDrillAbo\"]=str(int(x[3])+30)\n",
    "        #print str(str(int(x[3])))\n",
    "    win =  mechanize.urlopen(form.click()).read()\n",
    "    winbeg = win.find('WIN=')\n",
    "    if winbeg == -1:\n",
    "        return np.nan, np.nan, np.nan, np.nan, np.nan, np.nan, np.nan \n",
    "    else:\n",
    "        wintabeg=win.find('<table',win.find('<table')+5)\n",
    "        wintaend=win.find('</table>')\n",
    "        winmatches = pd.read_html(win[wintabeg:wintaend], header=0, skiprows=0)\n",
    "        winmatches = winmatches[0]\n",
    "        winDic = {u'WRNUM/Appl. No.':'WRNUM',u'Distance From Point (ft)':'DIST',u'Diameter':'Diam',u'Depth':'TD',\n",
    "          u'Drilled Date':'DrillDate',u'Location(link to Log)':'Locatio',u'WIN':'WIN',u'Geologic Log':'Log'}\n",
    "        winmatches.rename(columns=winDic,inplace=True)\n",
    "        return winmatches.ix[0,0], winmatches.ix[0,1], winmatches.ix[0,2], winmatches.ix[0,3], winmatches.ix[0,4], winmatches.ix[0,5], int(winmatches.ix[0,6])"
   ]
  },
  {
   "cell_type": "code",
   "execution_count": 120,
   "metadata": {
    "collapsed": false
   },
   "outputs": [],
   "source": [
    "GWStat.ScreenDepth = GWStat[['ScreenDepth','SCREENDEPT']].apply(lambda x: x[0] if np.isfinite(x[0]) else x[1],1)"
   ]
  },
  {
   "cell_type": "code",
   "execution_count": 121,
   "metadata": {
    "collapsed": true
   },
   "outputs": [],
   "source": [
    "GWStat.drop_duplicates(['StationId'],inplace=True)"
   ]
  },
  {
   "cell_type": "code",
   "execution_count": 122,
   "metadata": {
    "collapsed": false
   },
   "outputs": [
    {
     "data": {
      "text/plain": [
       "Index([       u'Aquifer',    u'AquiferType',      u'ConstDate',\n",
       "           u'CountyCode',          u'Depth',      u'DepthUnit',\n",
       "             u'Depth_ft',       u'Diameter',           u'Elev',\n",
       "              u'ElevAcc',    u'ElevAccUnit',       u'ElevMeth',\n",
       "              u'ElevRef',       u'ElevUnit',         u'FmType',\n",
       "              u'Geology',           u'HUC8',      u'HoleDUnit',\n",
       "            u'HoleDepth',         u'HorAcc',     u'HorAccUnit',\n",
       "          u'HorCollMeth',         u'HorRef',          u'Lat_Y',\n",
       "                u'Lon_X',          u'OrgId',        u'OrgName',\n",
       "           u'SCREENDEPT',   u'ScreenBottom',    u'ScreenDepth',\n",
       "            u'StateCode', u'StationComment',      u'StationId',\n",
       "          u'StationName',    u'StationType',          u'UTM_X',\n",
       "                u'UTM_Y',            u'WIN',             u'WL',\n",
       "               u'WLDate',          u'WRNUM'],\n",
       "      dtype='object')"
      ]
     },
     "execution_count": 122,
     "metadata": {},
     "output_type": "execute_result"
    }
   ],
   "source": [
    "GWStat.columns"
   ]
  },
  {
   "cell_type": "code",
   "execution_count": 123,
   "metadata": {
    "collapsed": false
   },
   "outputs": [
    {
     "name": "stderr",
     "output_type": "stream",
     "text": [
      "C:\\Python27\\ArcGIS10.3\\lib\\site-packages\\IPython\\kernel\\__main__.py:3: SettingWithCopyWarning: \n",
      "A value is trying to be set on a copy of a slice from a DataFrame\n",
      "\n",
      "See the the caveats in the documentation: http://pandas.pydata.org/pandas-docs/stable/indexing.html#indexing-view-versus-copy\n",
      "  app.launch_new_instance()\n"
     ]
    }
   ],
   "source": [
    "GWStat.drop([u'Aquifer', u'AquiferType', u'CountyCode',u'ElevAcc', u'ElevAccUnit', u'ElevMeth',\n",
    "             u'ElevRef', u'ElevUnit',u'Geology', u'HUC8', u'HoleDUnit', u'SCREENDEPT',\n",
    "             u'HorAcc', u'HorAccUnit', u'HorCollMeth', u'HorRef'], inplace=True, axis=1)"
   ]
  },
  {
   "cell_type": "code",
   "execution_count": 124,
   "metadata": {
    "collapsed": false
   },
   "outputs": [
    {
     "name": "stderr",
     "output_type": "stream",
     "text": [
      "C:\\Python27\\ArcGIS10.3\\lib\\site-packages\\IPython\\kernel\\__main__.py:1: SettingWithCopyWarning: \n",
      "A value is trying to be set on a copy of a slice from a DataFrame.\n",
      "Try using .loc[row_indexer,col_indexer] = value instead\n",
      "\n",
      "See the the caveats in the documentation: http://pandas.pydata.org/pandas-docs/stable/indexing.html#indexing-view-versus-copy\n",
      "  if __name__ == '__main__':\n"
     ]
    }
   ],
   "source": [
    "GWStat['WRNUM2'], GWStat['Dist'], GWStat['Diam'], GWStat['DepthWR'], GWStat['DrillDate'], GWStat['Loc'], GWStat['WIN'] = zip(*GWStat[['UTM_X','UTM_Y','ConstDate','Depth']].apply(lambda x: winmatch(x),1))"
   ]
  },
  {
   "cell_type": "code",
   "execution_count": 125,
   "metadata": {
    "collapsed": false
   },
   "outputs": [],
   "source": [
    "pipergrps = piperdataND.groupby(['StationId'], squeeze=True).median()\n",
    "pipergrps.drop(pipergrps.columns[[0]], axis=1, inplace=True)"
   ]
  },
  {
   "cell_type": "code",
   "execution_count": 126,
   "metadata": {
    "collapsed": false
   },
   "outputs": [],
   "source": [
    "GWStat.to_csv(rootname+'GWStations.csv',index_label='objid')"
   ]
  },
  {
   "cell_type": "code",
   "execution_count": 127,
   "metadata": {
    "collapsed": false
   },
   "outputs": [],
   "source": [
    "pipergrps.to_csv(rootname+'avgpiper.csv',index_label='objid')\n",
    "piperdata.to_csv(rootname+'piper.csv',index_label='objid')\n",
    "\n",
    "GWRes.to_csv(rootname+'GWResults.csv',index_label='objid')"
   ]
  },
  {
   "cell_type": "code",
   "execution_count": 128,
   "metadata": {
    "collapsed": false
   },
   "outputs": [
    {
     "data": {
      "text/html": [
       "<div>\n",
       "<table border=\"1\" class=\"dataframe\">\n",
       "  <thead>\n",
       "    <tr style=\"text-align: right;\">\n",
       "      <th>ParAbb</th>\n",
       "      <th>2H</th>\n",
       "      <th>Ag_diss</th>\n",
       "      <th>Ag_tot</th>\n",
       "      <th>Al_tot</th>\n",
       "      <th>As_</th>\n",
       "      <th>As_diss</th>\n",
       "      <th>As_tot</th>\n",
       "      <th>B</th>\n",
       "      <th>Ba</th>\n",
       "      <th>Be</th>\n",
       "      <th>...</th>\n",
       "      <th>Geology</th>\n",
       "      <th>Lat_Y</th>\n",
       "      <th>Lon_X</th>\n",
       "      <th>SCREENDEPT</th>\n",
       "      <th>ScreenBottom</th>\n",
       "      <th>ScreenDepth</th>\n",
       "      <th>UTM_X</th>\n",
       "      <th>UTM_Y</th>\n",
       "      <th>WIN</th>\n",
       "      <th>WL</th>\n",
       "    </tr>\n",
       "    <tr>\n",
       "      <th>StationId</th>\n",
       "      <th></th>\n",
       "      <th></th>\n",
       "      <th></th>\n",
       "      <th></th>\n",
       "      <th></th>\n",
       "      <th></th>\n",
       "      <th></th>\n",
       "      <th></th>\n",
       "      <th></th>\n",
       "      <th></th>\n",
       "      <th></th>\n",
       "      <th></th>\n",
       "      <th></th>\n",
       "      <th></th>\n",
       "      <th></th>\n",
       "      <th></th>\n",
       "      <th></th>\n",
       "      <th></th>\n",
       "      <th></th>\n",
       "      <th></th>\n",
       "      <th></th>\n",
       "    </tr>\n",
       "  </thead>\n",
       "  <tbody>\n",
       "    <tr>\n",
       "      <th>414024111481101</th>\n",
       "      <td>NaN</td>\n",
       "      <td>NaN</td>\n",
       "      <td>NaN</td>\n",
       "      <td>NaN</td>\n",
       "      <td>NaN</td>\n",
       "      <td>NaN</td>\n",
       "      <td>NaN</td>\n",
       "      <td>NaN</td>\n",
       "      <td>NaN</td>\n",
       "      <td>NaN</td>\n",
       "      <td>...</td>\n",
       "      <td>NaN</td>\n",
       "      <td>41.672975</td>\n",
       "      <td>-111.803943</td>\n",
       "      <td>NaN</td>\n",
       "      <td>NaN</td>\n",
       "      <td>NaN</td>\n",
       "      <td>NaN</td>\n",
       "      <td>NaN</td>\n",
       "      <td>NaN</td>\n",
       "      <td>NaN</td>\n",
       "    </tr>\n",
       "    <tr>\n",
       "      <th>414115111490301</th>\n",
       "      <td>NaN</td>\n",
       "      <td>NaN</td>\n",
       "      <td>NaN</td>\n",
       "      <td>NaN</td>\n",
       "      <td>NaN</td>\n",
       "      <td>NaN</td>\n",
       "      <td>NaN</td>\n",
       "      <td>0.0377</td>\n",
       "      <td>0.175445</td>\n",
       "      <td>NaN</td>\n",
       "      <td>...</td>\n",
       "      <td>NaN</td>\n",
       "      <td>41.687671</td>\n",
       "      <td>-111.818130</td>\n",
       "      <td>NaN</td>\n",
       "      <td>369</td>\n",
       "      <td>269</td>\n",
       "      <td>NaN</td>\n",
       "      <td>NaN</td>\n",
       "      <td>2722</td>\n",
       "      <td>180</td>\n",
       "    </tr>\n",
       "    <tr>\n",
       "      <th>414143111495501</th>\n",
       "      <td>NaN</td>\n",
       "      <td>NaN</td>\n",
       "      <td>NaN</td>\n",
       "      <td>NaN</td>\n",
       "      <td>NaN</td>\n",
       "      <td>NaN</td>\n",
       "      <td>NaN</td>\n",
       "      <td>NaN</td>\n",
       "      <td>NaN</td>\n",
       "      <td>NaN</td>\n",
       "      <td>...</td>\n",
       "      <td>NaN</td>\n",
       "      <td>41.695106</td>\n",
       "      <td>-111.832618</td>\n",
       "      <td>NaN</td>\n",
       "      <td>230</td>\n",
       "      <td>195</td>\n",
       "      <td>NaN</td>\n",
       "      <td>NaN</td>\n",
       "      <td>437364</td>\n",
       "      <td>17</td>\n",
       "    </tr>\n",
       "    <tr>\n",
       "      <th>414213111493101</th>\n",
       "      <td>NaN</td>\n",
       "      <td>NaN</td>\n",
       "      <td>NaN</td>\n",
       "      <td>NaN</td>\n",
       "      <td>NaN</td>\n",
       "      <td>NaN</td>\n",
       "      <td>NaN</td>\n",
       "      <td>NaN</td>\n",
       "      <td>0.130800</td>\n",
       "      <td>NaN</td>\n",
       "      <td>...</td>\n",
       "      <td>NaN</td>\n",
       "      <td>41.703693</td>\n",
       "      <td>-111.826497</td>\n",
       "      <td>NaN</td>\n",
       "      <td>215</td>\n",
       "      <td>180</td>\n",
       "      <td>NaN</td>\n",
       "      <td>NaN</td>\n",
       "      <td>2815</td>\n",
       "      <td>41</td>\n",
       "    </tr>\n",
       "    <tr>\n",
       "      <th>EPALeg-0300101</th>\n",
       "      <td>NaN</td>\n",
       "      <td>NaN</td>\n",
       "      <td>0.002</td>\n",
       "      <td>NaN</td>\n",
       "      <td>NaN</td>\n",
       "      <td>NaN</td>\n",
       "      <td>0.00100</td>\n",
       "      <td>0.0550</td>\n",
       "      <td>0.000050</td>\n",
       "      <td>NaN</td>\n",
       "      <td>...</td>\n",
       "      <td>NaN</td>\n",
       "      <td>41.642083</td>\n",
       "      <td>-111.819028</td>\n",
       "      <td>NaN</td>\n",
       "      <td>NaN</td>\n",
       "      <td>NaN</td>\n",
       "      <td>NaN</td>\n",
       "      <td>NaN</td>\n",
       "      <td>NaN</td>\n",
       "      <td>NaN</td>\n",
       "    </tr>\n",
       "    <tr>\n",
       "      <th>EPALeg-0300102</th>\n",
       "      <td>NaN</td>\n",
       "      <td>NaN</td>\n",
       "      <td>0.002</td>\n",
       "      <td>NaN</td>\n",
       "      <td>NaN</td>\n",
       "      <td>NaN</td>\n",
       "      <td>0.00100</td>\n",
       "      <td>0.0500</td>\n",
       "      <td>0.000075</td>\n",
       "      <td>NaN</td>\n",
       "      <td>...</td>\n",
       "      <td>NaN</td>\n",
       "      <td>41.642778</td>\n",
       "      <td>-111.818333</td>\n",
       "      <td>NaN</td>\n",
       "      <td>NaN</td>\n",
       "      <td>NaN</td>\n",
       "      <td>NaN</td>\n",
       "      <td>NaN</td>\n",
       "      <td>NaN</td>\n",
       "      <td>NaN</td>\n",
       "    </tr>\n",
       "    <tr>\n",
       "      <th>EPALeg-0300103</th>\n",
       "      <td>NaN</td>\n",
       "      <td>NaN</td>\n",
       "      <td>0.002</td>\n",
       "      <td>NaN</td>\n",
       "      <td>NaN</td>\n",
       "      <td>NaN</td>\n",
       "      <td>0.00050</td>\n",
       "      <td>0.0550</td>\n",
       "      <td>0.000090</td>\n",
       "      <td>NaN</td>\n",
       "      <td>...</td>\n",
       "      <td>NaN</td>\n",
       "      <td>41.641389</td>\n",
       "      <td>-111.817917</td>\n",
       "      <td>NaN</td>\n",
       "      <td>NaN</td>\n",
       "      <td>NaN</td>\n",
       "      <td>NaN</td>\n",
       "      <td>NaN</td>\n",
       "      <td>NaN</td>\n",
       "      <td>NaN</td>\n",
       "    </tr>\n",
       "    <tr>\n",
       "      <th>EPALeg-0300104</th>\n",
       "      <td>NaN</td>\n",
       "      <td>NaN</td>\n",
       "      <td>0.002</td>\n",
       "      <td>NaN</td>\n",
       "      <td>NaN</td>\n",
       "      <td>0.0003</td>\n",
       "      <td>0.00050</td>\n",
       "      <td>0.0100</td>\n",
       "      <td>0.025025</td>\n",
       "      <td>NaN</td>\n",
       "      <td>...</td>\n",
       "      <td>NaN</td>\n",
       "      <td>41.658611</td>\n",
       "      <td>-111.831528</td>\n",
       "      <td>NaN</td>\n",
       "      <td>NaN</td>\n",
       "      <td>NaN</td>\n",
       "      <td>NaN</td>\n",
       "      <td>NaN</td>\n",
       "      <td>NaN</td>\n",
       "      <td>NaN</td>\n",
       "    </tr>\n",
       "    <tr>\n",
       "      <th>EPALeg-0300201</th>\n",
       "      <td>NaN</td>\n",
       "      <td>NaN</td>\n",
       "      <td>NaN</td>\n",
       "      <td>NaN</td>\n",
       "      <td>NaN</td>\n",
       "      <td>NaN</td>\n",
       "      <td>NaN</td>\n",
       "      <td>0.0100</td>\n",
       "      <td>0.050000</td>\n",
       "      <td>NaN</td>\n",
       "      <td>...</td>\n",
       "      <td>NaN</td>\n",
       "      <td>41.854722</td>\n",
       "      <td>-111.862500</td>\n",
       "      <td>NaN</td>\n",
       "      <td>NaN</td>\n",
       "      <td>NaN</td>\n",
       "      <td>NaN</td>\n",
       "      <td>NaN</td>\n",
       "      <td>NaN</td>\n",
       "      <td>NaN</td>\n",
       "    </tr>\n",
       "    <tr>\n",
       "      <th>EPALeg-0300204</th>\n",
       "      <td>NaN</td>\n",
       "      <td>NaN</td>\n",
       "      <td>NaN</td>\n",
       "      <td>NaN</td>\n",
       "      <td>NaN</td>\n",
       "      <td>NaN</td>\n",
       "      <td>NaN</td>\n",
       "      <td>0.0100</td>\n",
       "      <td>0.030000</td>\n",
       "      <td>NaN</td>\n",
       "      <td>...</td>\n",
       "      <td>NaN</td>\n",
       "      <td>41.855556</td>\n",
       "      <td>-111.862500</td>\n",
       "      <td>NaN</td>\n",
       "      <td>NaN</td>\n",
       "      <td>NaN</td>\n",
       "      <td>NaN</td>\n",
       "      <td>NaN</td>\n",
       "      <td>NaN</td>\n",
       "      <td>NaN</td>\n",
       "    </tr>\n",
       "    <tr>\n",
       "      <th>EPALeg-0300401</th>\n",
       "      <td>NaN</td>\n",
       "      <td>NaN</td>\n",
       "      <td>0.010</td>\n",
       "      <td>NaN</td>\n",
       "      <td>NaN</td>\n",
       "      <td>NaN</td>\n",
       "      <td>0.00100</td>\n",
       "      <td>0.0100</td>\n",
       "      <td>0.000050</td>\n",
       "      <td>NaN</td>\n",
       "      <td>...</td>\n",
       "      <td>NaN</td>\n",
       "      <td>41.960278</td>\n",
       "      <td>-112.093889</td>\n",
       "      <td>NaN</td>\n",
       "      <td>NaN</td>\n",
       "      <td>NaN</td>\n",
       "      <td>NaN</td>\n",
       "      <td>NaN</td>\n",
       "      <td>NaN</td>\n",
       "      <td>NaN</td>\n",
       "    </tr>\n",
       "    <tr>\n",
       "      <th>EPALeg-0300403</th>\n",
       "      <td>NaN</td>\n",
       "      <td>NaN</td>\n",
       "      <td>NaN</td>\n",
       "      <td>NaN</td>\n",
       "      <td>NaN</td>\n",
       "      <td>NaN</td>\n",
       "      <td>NaN</td>\n",
       "      <td>0.1300</td>\n",
       "      <td>0.036000</td>\n",
       "      <td>NaN</td>\n",
       "      <td>...</td>\n",
       "      <td>NaN</td>\n",
       "      <td>41.946667</td>\n",
       "      <td>-112.083056</td>\n",
       "      <td>NaN</td>\n",
       "      <td>NaN</td>\n",
       "      <td>NaN</td>\n",
       "      <td>NaN</td>\n",
       "      <td>NaN</td>\n",
       "      <td>NaN</td>\n",
       "      <td>NaN</td>\n",
       "    </tr>\n",
       "    <tr>\n",
       "      <th>EPALeg-0300404</th>\n",
       "      <td>NaN</td>\n",
       "      <td>NaN</td>\n",
       "      <td>0.006</td>\n",
       "      <td>NaN</td>\n",
       "      <td>NaN</td>\n",
       "      <td>NaN</td>\n",
       "      <td>0.00150</td>\n",
       "      <td>0.0400</td>\n",
       "      <td>0.000055</td>\n",
       "      <td>NaN</td>\n",
       "      <td>...</td>\n",
       "      <td>NaN</td>\n",
       "      <td>41.934444</td>\n",
       "      <td>-112.074167</td>\n",
       "      <td>NaN</td>\n",
       "      <td>NaN</td>\n",
       "      <td>NaN</td>\n",
       "      <td>NaN</td>\n",
       "      <td>NaN</td>\n",
       "      <td>NaN</td>\n",
       "      <td>NaN</td>\n",
       "    </tr>\n",
       "    <tr>\n",
       "      <th>EPALeg-0300405</th>\n",
       "      <td>NaN</td>\n",
       "      <td>NaN</td>\n",
       "      <td>0.002</td>\n",
       "      <td>NaN</td>\n",
       "      <td>NaN</td>\n",
       "      <td>NaN</td>\n",
       "      <td>0.00125</td>\n",
       "      <td>0.0500</td>\n",
       "      <td>0.000050</td>\n",
       "      <td>NaN</td>\n",
       "      <td>...</td>\n",
       "      <td>NaN</td>\n",
       "      <td>41.919444</td>\n",
       "      <td>-112.071667</td>\n",
       "      <td>NaN</td>\n",
       "      <td>NaN</td>\n",
       "      <td>NaN</td>\n",
       "      <td>NaN</td>\n",
       "      <td>NaN</td>\n",
       "      <td>NaN</td>\n",
       "      <td>NaN</td>\n",
       "    </tr>\n",
       "    <tr>\n",
       "      <th>EPALeg-0300501</th>\n",
       "      <td>NaN</td>\n",
       "      <td>NaN</td>\n",
       "      <td>0.002</td>\n",
       "      <td>NaN</td>\n",
       "      <td>NaN</td>\n",
       "      <td>NaN</td>\n",
       "      <td>0.01300</td>\n",
       "      <td>0.2625</td>\n",
       "      <td>0.000050</td>\n",
       "      <td>NaN</td>\n",
       "      <td>...</td>\n",
       "      <td>NaN</td>\n",
       "      <td>41.953056</td>\n",
       "      <td>-111.984167</td>\n",
       "      <td>NaN</td>\n",
       "      <td>NaN</td>\n",
       "      <td>NaN</td>\n",
       "      <td>NaN</td>\n",
       "      <td>NaN</td>\n",
       "      <td>NaN</td>\n",
       "      <td>NaN</td>\n",
       "    </tr>\n",
       "    <tr>\n",
       "      <th>EPALeg-0300502</th>\n",
       "      <td>NaN</td>\n",
       "      <td>NaN</td>\n",
       "      <td>0.005</td>\n",
       "      <td>NaN</td>\n",
       "      <td>NaN</td>\n",
       "      <td>NaN</td>\n",
       "      <td>0.00700</td>\n",
       "      <td>0.0475</td>\n",
       "      <td>0.000095</td>\n",
       "      <td>NaN</td>\n",
       "      <td>...</td>\n",
       "      <td>NaN</td>\n",
       "      <td>41.965556</td>\n",
       "      <td>-111.990556</td>\n",
       "      <td>NaN</td>\n",
       "      <td>NaN</td>\n",
       "      <td>NaN</td>\n",
       "      <td>NaN</td>\n",
       "      <td>NaN</td>\n",
       "      <td>NaN</td>\n",
       "      <td>NaN</td>\n",
       "    </tr>\n",
       "    <tr>\n",
       "      <th>EPALeg-0300503</th>\n",
       "      <td>NaN</td>\n",
       "      <td>0.001</td>\n",
       "      <td>0.002</td>\n",
       "      <td>NaN</td>\n",
       "      <td>NaN</td>\n",
       "      <td>0.0010</td>\n",
       "      <td>0.00500</td>\n",
       "      <td>0.2350</td>\n",
       "      <td>0.000105</td>\n",
       "      <td>NaN</td>\n",
       "      <td>...</td>\n",
       "      <td>NaN</td>\n",
       "      <td>41.953889</td>\n",
       "      <td>-111.974722</td>\n",
       "      <td>NaN</td>\n",
       "      <td>NaN</td>\n",
       "      <td>NaN</td>\n",
       "      <td>NaN</td>\n",
       "      <td>NaN</td>\n",
       "      <td>NaN</td>\n",
       "      <td>NaN</td>\n",
       "    </tr>\n",
       "    <tr>\n",
       "      <th>EPALeg-0300701</th>\n",
       "      <td>NaN</td>\n",
       "      <td>0.004</td>\n",
       "      <td>0.002</td>\n",
       "      <td>NaN</td>\n",
       "      <td>NaN</td>\n",
       "      <td>0.0010</td>\n",
       "      <td>0.00500</td>\n",
       "      <td>0.0795</td>\n",
       "      <td>0.005005</td>\n",
       "      <td>NaN</td>\n",
       "      <td>...</td>\n",
       "      <td>NaN</td>\n",
       "      <td>41.859167</td>\n",
       "      <td>-111.732778</td>\n",
       "      <td>NaN</td>\n",
       "      <td>NaN</td>\n",
       "      <td>NaN</td>\n",
       "      <td>NaN</td>\n",
       "      <td>NaN</td>\n",
       "      <td>NaN</td>\n",
       "      <td>NaN</td>\n",
       "    </tr>\n",
       "    <tr>\n",
       "      <th>EPALeg-0300702</th>\n",
       "      <td>NaN</td>\n",
       "      <td>NaN</td>\n",
       "      <td>0.002</td>\n",
       "      <td>NaN</td>\n",
       "      <td>NaN</td>\n",
       "      <td>NaN</td>\n",
       "      <td>0.00060</td>\n",
       "      <td>0.1375</td>\n",
       "      <td>0.000090</td>\n",
       "      <td>NaN</td>\n",
       "      <td>...</td>\n",
       "      <td>NaN</td>\n",
       "      <td>41.805833</td>\n",
       "      <td>-111.819444</td>\n",
       "      <td>NaN</td>\n",
       "      <td>NaN</td>\n",
       "      <td>NaN</td>\n",
       "      <td>NaN</td>\n",
       "      <td>NaN</td>\n",
       "      <td>NaN</td>\n",
       "      <td>NaN</td>\n",
       "    </tr>\n",
       "    <tr>\n",
       "      <th>EPALeg-0300801</th>\n",
       "      <td>NaN</td>\n",
       "      <td>0.002</td>\n",
       "      <td>0.002</td>\n",
       "      <td>NaN</td>\n",
       "      <td>NaN</td>\n",
       "      <td>0.0010</td>\n",
       "      <td>0.00100</td>\n",
       "      <td>0.0500</td>\n",
       "      <td>0.025010</td>\n",
       "      <td>NaN</td>\n",
       "      <td>...</td>\n",
       "      <td>NaN</td>\n",
       "      <td>41.625278</td>\n",
       "      <td>-111.675417</td>\n",
       "      <td>NaN</td>\n",
       "      <td>NaN</td>\n",
       "      <td>NaN</td>\n",
       "      <td>NaN</td>\n",
       "      <td>NaN</td>\n",
       "      <td>NaN</td>\n",
       "      <td>NaN</td>\n",
       "    </tr>\n",
       "    <tr>\n",
       "      <th>EPALeg-0300802</th>\n",
       "      <td>NaN</td>\n",
       "      <td>NaN</td>\n",
       "      <td>0.005</td>\n",
       "      <td>NaN</td>\n",
       "      <td>NaN</td>\n",
       "      <td>NaN</td>\n",
       "      <td>NaN</td>\n",
       "      <td>0.1000</td>\n",
       "      <td>NaN</td>\n",
       "      <td>NaN</td>\n",
       "      <td>...</td>\n",
       "      <td>NaN</td>\n",
       "      <td>41.618889</td>\n",
       "      <td>-111.680556</td>\n",
       "      <td>NaN</td>\n",
       "      <td>NaN</td>\n",
       "      <td>NaN</td>\n",
       "      <td>NaN</td>\n",
       "      <td>NaN</td>\n",
       "      <td>NaN</td>\n",
       "      <td>NaN</td>\n",
       "    </tr>\n",
       "    <tr>\n",
       "      <th>EPALeg-0300803</th>\n",
       "      <td>NaN</td>\n",
       "      <td>0.002</td>\n",
       "      <td>0.002</td>\n",
       "      <td>NaN</td>\n",
       "      <td>NaN</td>\n",
       "      <td>0.0010</td>\n",
       "      <td>0.00350</td>\n",
       "      <td>0.0950</td>\n",
       "      <td>0.000080</td>\n",
       "      <td>NaN</td>\n",
       "      <td>...</td>\n",
       "      <td>NaN</td>\n",
       "      <td>41.634167</td>\n",
       "      <td>-111.832778</td>\n",
       "      <td>NaN</td>\n",
       "      <td>NaN</td>\n",
       "      <td>NaN</td>\n",
       "      <td>NaN</td>\n",
       "      <td>NaN</td>\n",
       "      <td>NaN</td>\n",
       "      <td>NaN</td>\n",
       "    </tr>\n",
       "    <tr>\n",
       "      <th>EPALeg-0300804</th>\n",
       "      <td>NaN</td>\n",
       "      <td>0.002</td>\n",
       "      <td>0.002</td>\n",
       "      <td>NaN</td>\n",
       "      <td>NaN</td>\n",
       "      <td>0.0070</td>\n",
       "      <td>0.00250</td>\n",
       "      <td>0.1175</td>\n",
       "      <td>0.000070</td>\n",
       "      <td>NaN</td>\n",
       "      <td>...</td>\n",
       "      <td>NaN</td>\n",
       "      <td>41.627222</td>\n",
       "      <td>-111.831111</td>\n",
       "      <td>NaN</td>\n",
       "      <td>NaN</td>\n",
       "      <td>NaN</td>\n",
       "      <td>NaN</td>\n",
       "      <td>NaN</td>\n",
       "      <td>NaN</td>\n",
       "      <td>NaN</td>\n",
       "    </tr>\n",
       "    <tr>\n",
       "      <th>EPALeg-0300805</th>\n",
       "      <td>NaN</td>\n",
       "      <td>NaN</td>\n",
       "      <td>0.002</td>\n",
       "      <td>NaN</td>\n",
       "      <td>NaN</td>\n",
       "      <td>NaN</td>\n",
       "      <td>0.00075</td>\n",
       "      <td>NaN</td>\n",
       "      <td>0.000045</td>\n",
       "      <td>NaN</td>\n",
       "      <td>...</td>\n",
       "      <td>NaN</td>\n",
       "      <td>41.624167</td>\n",
       "      <td>-111.733056</td>\n",
       "      <td>NaN</td>\n",
       "      <td>NaN</td>\n",
       "      <td>NaN</td>\n",
       "      <td>NaN</td>\n",
       "      <td>NaN</td>\n",
       "      <td>NaN</td>\n",
       "      <td>NaN</td>\n",
       "    </tr>\n",
       "    <tr>\n",
       "      <th>EPALeg-0300806</th>\n",
       "      <td>NaN</td>\n",
       "      <td>NaN</td>\n",
       "      <td>0.002</td>\n",
       "      <td>NaN</td>\n",
       "      <td>NaN</td>\n",
       "      <td>NaN</td>\n",
       "      <td>0.00275</td>\n",
       "      <td>NaN</td>\n",
       "      <td>0.000045</td>\n",
       "      <td>NaN</td>\n",
       "      <td>...</td>\n",
       "      <td>NaN</td>\n",
       "      <td>41.612778</td>\n",
       "      <td>-111.754444</td>\n",
       "      <td>NaN</td>\n",
       "      <td>NaN</td>\n",
       "      <td>NaN</td>\n",
       "      <td>NaN</td>\n",
       "      <td>NaN</td>\n",
       "      <td>NaN</td>\n",
       "      <td>NaN</td>\n",
       "    </tr>\n",
       "    <tr>\n",
       "      <th>EPALeg-0300901</th>\n",
       "      <td>NaN</td>\n",
       "      <td>NaN</td>\n",
       "      <td>0.002</td>\n",
       "      <td>NaN</td>\n",
       "      <td>NaN</td>\n",
       "      <td>NaN</td>\n",
       "      <td>0.00100</td>\n",
       "      <td>0.0500</td>\n",
       "      <td>0.000050</td>\n",
       "      <td>NaN</td>\n",
       "      <td>...</td>\n",
       "      <td>NaN</td>\n",
       "      <td>42.004444</td>\n",
       "      <td>-111.793056</td>\n",
       "      <td>NaN</td>\n",
       "      <td>NaN</td>\n",
       "      <td>NaN</td>\n",
       "      <td>NaN</td>\n",
       "      <td>NaN</td>\n",
       "      <td>NaN</td>\n",
       "      <td>NaN</td>\n",
       "    </tr>\n",
       "    <tr>\n",
       "      <th>EPALeg-0300902</th>\n",
       "      <td>NaN</td>\n",
       "      <td>NaN</td>\n",
       "      <td>0.002</td>\n",
       "      <td>NaN</td>\n",
       "      <td>NaN</td>\n",
       "      <td>NaN</td>\n",
       "      <td>0.00050</td>\n",
       "      <td>0.0500</td>\n",
       "      <td>0.000050</td>\n",
       "      <td>NaN</td>\n",
       "      <td>...</td>\n",
       "      <td>NaN</td>\n",
       "      <td>41.958889</td>\n",
       "      <td>-111.794167</td>\n",
       "      <td>NaN</td>\n",
       "      <td>NaN</td>\n",
       "      <td>NaN</td>\n",
       "      <td>NaN</td>\n",
       "      <td>NaN</td>\n",
       "      <td>NaN</td>\n",
       "      <td>NaN</td>\n",
       "    </tr>\n",
       "    <tr>\n",
       "      <th>EPALeg-0300903</th>\n",
       "      <td>NaN</td>\n",
       "      <td>NaN</td>\n",
       "      <td>0.002</td>\n",
       "      <td>NaN</td>\n",
       "      <td>NaN</td>\n",
       "      <td>NaN</td>\n",
       "      <td>0.00050</td>\n",
       "      <td>0.0975</td>\n",
       "      <td>0.000055</td>\n",
       "      <td>NaN</td>\n",
       "      <td>...</td>\n",
       "      <td>NaN</td>\n",
       "      <td>41.964028</td>\n",
       "      <td>-111.805556</td>\n",
       "      <td>NaN</td>\n",
       "      <td>NaN</td>\n",
       "      <td>NaN</td>\n",
       "      <td>NaN</td>\n",
       "      <td>NaN</td>\n",
       "      <td>NaN</td>\n",
       "      <td>NaN</td>\n",
       "    </tr>\n",
       "    <tr>\n",
       "      <th>EPALeg-0301001</th>\n",
       "      <td>NaN</td>\n",
       "      <td>NaN</td>\n",
       "      <td>0.001</td>\n",
       "      <td>NaN</td>\n",
       "      <td>NaN</td>\n",
       "      <td>NaN</td>\n",
       "      <td>0.00100</td>\n",
       "      <td>0.0100</td>\n",
       "      <td>0.000030</td>\n",
       "      <td>NaN</td>\n",
       "      <td>...</td>\n",
       "      <td>NaN</td>\n",
       "      <td>41.758611</td>\n",
       "      <td>-111.823889</td>\n",
       "      <td>NaN</td>\n",
       "      <td>NaN</td>\n",
       "      <td>NaN</td>\n",
       "      <td>NaN</td>\n",
       "      <td>NaN</td>\n",
       "      <td>NaN</td>\n",
       "      <td>NaN</td>\n",
       "    </tr>\n",
       "    <tr>\n",
       "      <th>EPALeg-0301002</th>\n",
       "      <td>NaN</td>\n",
       "      <td>0.001</td>\n",
       "      <td>NaN</td>\n",
       "      <td>NaN</td>\n",
       "      <td>NaN</td>\n",
       "      <td>0.0010</td>\n",
       "      <td>NaN</td>\n",
       "      <td>0.0010</td>\n",
       "      <td>0.070000</td>\n",
       "      <td>NaN</td>\n",
       "      <td>...</td>\n",
       "      <td>NaN</td>\n",
       "      <td>41.738472</td>\n",
       "      <td>-111.812222</td>\n",
       "      <td>NaN</td>\n",
       "      <td>NaN</td>\n",
       "      <td>NaN</td>\n",
       "      <td>NaN</td>\n",
       "      <td>NaN</td>\n",
       "      <td>NaN</td>\n",
       "      <td>NaN</td>\n",
       "    </tr>\n",
       "    <tr>\n",
       "      <th>...</th>\n",
       "      <td>...</td>\n",
       "      <td>...</td>\n",
       "      <td>...</td>\n",
       "      <td>...</td>\n",
       "      <td>...</td>\n",
       "      <td>...</td>\n",
       "      <td>...</td>\n",
       "      <td>...</td>\n",
       "      <td>...</td>\n",
       "      <td>...</td>\n",
       "      <td>...</td>\n",
       "      <td>...</td>\n",
       "      <td>...</td>\n",
       "      <td>...</td>\n",
       "      <td>...</td>\n",
       "      <td>...</td>\n",
       "      <td>...</td>\n",
       "      <td>...</td>\n",
       "      <td>...</td>\n",
       "      <td>...</td>\n",
       "      <td>...</td>\n",
       "    </tr>\n",
       "    <tr>\n",
       "      <th>USGS-415521112024001</th>\n",
       "      <td>NaN</td>\n",
       "      <td>NaN</td>\n",
       "      <td>NaN</td>\n",
       "      <td>NaN</td>\n",
       "      <td>NaN</td>\n",
       "      <td>NaN</td>\n",
       "      <td>NaN</td>\n",
       "      <td>0.0500</td>\n",
       "      <td>NaN</td>\n",
       "      <td>NaN</td>\n",
       "      <td>...</td>\n",
       "      <td>NaN</td>\n",
       "      <td>41.922426</td>\n",
       "      <td>-112.045231</td>\n",
       "      <td>NaN</td>\n",
       "      <td>NaN</td>\n",
       "      <td>NaN</td>\n",
       "      <td>NaN</td>\n",
       "      <td>NaN</td>\n",
       "      <td>NaN</td>\n",
       "      <td>NaN</td>\n",
       "    </tr>\n",
       "    <tr>\n",
       "      <th>USGS-415522111474701</th>\n",
       "      <td>NaN</td>\n",
       "      <td>NaN</td>\n",
       "      <td>NaN</td>\n",
       "      <td>NaN</td>\n",
       "      <td>NaN</td>\n",
       "      <td>NaN</td>\n",
       "      <td>NaN</td>\n",
       "      <td>0.0400</td>\n",
       "      <td>NaN</td>\n",
       "      <td>NaN</td>\n",
       "      <td>...</td>\n",
       "      <td>NaN</td>\n",
       "      <td>41.922706</td>\n",
       "      <td>-111.797168</td>\n",
       "      <td>NaN</td>\n",
       "      <td>NaN</td>\n",
       "      <td>NaN</td>\n",
       "      <td>NaN</td>\n",
       "      <td>NaN</td>\n",
       "      <td>NaN</td>\n",
       "      <td>NaN</td>\n",
       "    </tr>\n",
       "    <tr>\n",
       "      <th>USGS-415541111484901</th>\n",
       "      <td>NaN</td>\n",
       "      <td>NaN</td>\n",
       "      <td>NaN</td>\n",
       "      <td>NaN</td>\n",
       "      <td>NaN</td>\n",
       "      <td>NaN</td>\n",
       "      <td>0.01000</td>\n",
       "      <td>NaN</td>\n",
       "      <td>0.160000</td>\n",
       "      <td>NaN</td>\n",
       "      <td>...</td>\n",
       "      <td>NaN</td>\n",
       "      <td>41.927983</td>\n",
       "      <td>-111.814391</td>\n",
       "      <td>NaN</td>\n",
       "      <td>NaN</td>\n",
       "      <td>NaN</td>\n",
       "      <td>NaN</td>\n",
       "      <td>NaN</td>\n",
       "      <td>NaN</td>\n",
       "      <td>NaN</td>\n",
       "    </tr>\n",
       "    <tr>\n",
       "      <th>USGS-415553111462601</th>\n",
       "      <td>NaN</td>\n",
       "      <td>NaN</td>\n",
       "      <td>NaN</td>\n",
       "      <td>NaN</td>\n",
       "      <td>NaN</td>\n",
       "      <td>NaN</td>\n",
       "      <td>NaN</td>\n",
       "      <td>0.0300</td>\n",
       "      <td>NaN</td>\n",
       "      <td>NaN</td>\n",
       "      <td>...</td>\n",
       "      <td>NaN</td>\n",
       "      <td>41.931317</td>\n",
       "      <td>-111.774667</td>\n",
       "      <td>NaN</td>\n",
       "      <td>NaN</td>\n",
       "      <td>NaN</td>\n",
       "      <td>NaN</td>\n",
       "      <td>NaN</td>\n",
       "      <td>NaN</td>\n",
       "      <td>NaN</td>\n",
       "    </tr>\n",
       "    <tr>\n",
       "      <th>USGS-415638111493601</th>\n",
       "      <td>NaN</td>\n",
       "      <td>NaN</td>\n",
       "      <td>NaN</td>\n",
       "      <td>NaN</td>\n",
       "      <td>NaN</td>\n",
       "      <td>NaN</td>\n",
       "      <td>NaN</td>\n",
       "      <td>NaN</td>\n",
       "      <td>NaN</td>\n",
       "      <td>NaN</td>\n",
       "      <td>...</td>\n",
       "      <td>NaN</td>\n",
       "      <td>41.943816</td>\n",
       "      <td>-111.827447</td>\n",
       "      <td>NaN</td>\n",
       "      <td>NaN</td>\n",
       "      <td>NaN</td>\n",
       "      <td>NaN</td>\n",
       "      <td>NaN</td>\n",
       "      <td>NaN</td>\n",
       "      <td>NaN</td>\n",
       "    </tr>\n",
       "    <tr>\n",
       "      <th>USGS-415649111494201</th>\n",
       "      <td>NaN</td>\n",
       "      <td>NaN</td>\n",
       "      <td>NaN</td>\n",
       "      <td>NaN</td>\n",
       "      <td>NaN</td>\n",
       "      <td>NaN</td>\n",
       "      <td>NaN</td>\n",
       "      <td>NaN</td>\n",
       "      <td>0.056000</td>\n",
       "      <td>NaN</td>\n",
       "      <td>...</td>\n",
       "      <td>NaN</td>\n",
       "      <td>41.946872</td>\n",
       "      <td>-111.829114</td>\n",
       "      <td>NaN</td>\n",
       "      <td>NaN</td>\n",
       "      <td>NaN</td>\n",
       "      <td>NaN</td>\n",
       "      <td>NaN</td>\n",
       "      <td>NaN</td>\n",
       "      <td>NaN</td>\n",
       "    </tr>\n",
       "    <tr>\n",
       "      <th>USGS-415653111485401</th>\n",
       "      <td>NaN</td>\n",
       "      <td>NaN</td>\n",
       "      <td>NaN</td>\n",
       "      <td>NaN</td>\n",
       "      <td>NaN</td>\n",
       "      <td>NaN</td>\n",
       "      <td>0.00023</td>\n",
       "      <td>NaN</td>\n",
       "      <td>NaN</td>\n",
       "      <td>NaN</td>\n",
       "      <td>...</td>\n",
       "      <td>NaN</td>\n",
       "      <td>41.947983</td>\n",
       "      <td>-111.815780</td>\n",
       "      <td>NaN</td>\n",
       "      <td>NaN</td>\n",
       "      <td>NaN</td>\n",
       "      <td>NaN</td>\n",
       "      <td>NaN</td>\n",
       "      <td>NaN</td>\n",
       "      <td>NaN</td>\n",
       "    </tr>\n",
       "    <tr>\n",
       "      <th>USGS-415713111582701</th>\n",
       "      <td>NaN</td>\n",
       "      <td>NaN</td>\n",
       "      <td>NaN</td>\n",
       "      <td>NaN</td>\n",
       "      <td>NaN</td>\n",
       "      <td>NaN</td>\n",
       "      <td>NaN</td>\n",
       "      <td>0.2700</td>\n",
       "      <td>NaN</td>\n",
       "      <td>NaN</td>\n",
       "      <td>...</td>\n",
       "      <td>NaN</td>\n",
       "      <td>41.953537</td>\n",
       "      <td>-111.974952</td>\n",
       "      <td>NaN</td>\n",
       "      <td>NaN</td>\n",
       "      <td>NaN</td>\n",
       "      <td>NaN</td>\n",
       "      <td>NaN</td>\n",
       "      <td>NaN</td>\n",
       "      <td>NaN</td>\n",
       "    </tr>\n",
       "    <tr>\n",
       "      <th>USGS-415713111582702</th>\n",
       "      <td>NaN</td>\n",
       "      <td>NaN</td>\n",
       "      <td>NaN</td>\n",
       "      <td>NaN</td>\n",
       "      <td>NaN</td>\n",
       "      <td>NaN</td>\n",
       "      <td>NaN</td>\n",
       "      <td>NaN</td>\n",
       "      <td>0.140000</td>\n",
       "      <td>NaN</td>\n",
       "      <td>...</td>\n",
       "      <td>NaN</td>\n",
       "      <td>41.953537</td>\n",
       "      <td>-111.974952</td>\n",
       "      <td>NaN</td>\n",
       "      <td>NaN</td>\n",
       "      <td>NaN</td>\n",
       "      <td>NaN</td>\n",
       "      <td>NaN</td>\n",
       "      <td>NaN</td>\n",
       "      <td>NaN</td>\n",
       "    </tr>\n",
       "    <tr>\n",
       "      <th>USGS-415723111493101</th>\n",
       "      <td>NaN</td>\n",
       "      <td>NaN</td>\n",
       "      <td>NaN</td>\n",
       "      <td>NaN</td>\n",
       "      <td>NaN</td>\n",
       "      <td>NaN</td>\n",
       "      <td>NaN</td>\n",
       "      <td>NaN</td>\n",
       "      <td>NaN</td>\n",
       "      <td>NaN</td>\n",
       "      <td>...</td>\n",
       "      <td>NaN</td>\n",
       "      <td>41.956316</td>\n",
       "      <td>-111.826058</td>\n",
       "      <td>NaN</td>\n",
       "      <td>NaN</td>\n",
       "      <td>NaN</td>\n",
       "      <td>NaN</td>\n",
       "      <td>NaN</td>\n",
       "      <td>NaN</td>\n",
       "      <td>NaN</td>\n",
       "    </tr>\n",
       "    <tr>\n",
       "      <th>USGS-415823111472201</th>\n",
       "      <td>NaN</td>\n",
       "      <td>NaN</td>\n",
       "      <td>NaN</td>\n",
       "      <td>0.64</td>\n",
       "      <td>NaN</td>\n",
       "      <td>NaN</td>\n",
       "      <td>NaN</td>\n",
       "      <td>0.0000</td>\n",
       "      <td>NaN</td>\n",
       "      <td>NaN</td>\n",
       "      <td>...</td>\n",
       "      <td>NaN</td>\n",
       "      <td>41.972983</td>\n",
       "      <td>-111.790224</td>\n",
       "      <td>NaN</td>\n",
       "      <td>NaN</td>\n",
       "      <td>NaN</td>\n",
       "      <td>NaN</td>\n",
       "      <td>NaN</td>\n",
       "      <td>NaN</td>\n",
       "      <td>NaN</td>\n",
       "    </tr>\n",
       "    <tr>\n",
       "      <th>USGS-415828111460001</th>\n",
       "      <td>NaN</td>\n",
       "      <td>NaN</td>\n",
       "      <td>NaN</td>\n",
       "      <td>NaN</td>\n",
       "      <td>NaN</td>\n",
       "      <td>NaN</td>\n",
       "      <td>NaN</td>\n",
       "      <td>NaN</td>\n",
       "      <td>NaN</td>\n",
       "      <td>NaN</td>\n",
       "      <td>...</td>\n",
       "      <td>NaN</td>\n",
       "      <td>41.974372</td>\n",
       "      <td>-111.767445</td>\n",
       "      <td>NaN</td>\n",
       "      <td>NaN</td>\n",
       "      <td>NaN</td>\n",
       "      <td>NaN</td>\n",
       "      <td>NaN</td>\n",
       "      <td>NaN</td>\n",
       "      <td>NaN</td>\n",
       "    </tr>\n",
       "    <tr>\n",
       "      <th>USGS-415835111582601</th>\n",
       "      <td>NaN</td>\n",
       "      <td>NaN</td>\n",
       "      <td>NaN</td>\n",
       "      <td>NaN</td>\n",
       "      <td>NaN</td>\n",
       "      <td>NaN</td>\n",
       "      <td>NaN</td>\n",
       "      <td>0.0400</td>\n",
       "      <td>NaN</td>\n",
       "      <td>NaN</td>\n",
       "      <td>...</td>\n",
       "      <td>NaN</td>\n",
       "      <td>41.976314</td>\n",
       "      <td>-111.974674</td>\n",
       "      <td>NaN</td>\n",
       "      <td>NaN</td>\n",
       "      <td>NaN</td>\n",
       "      <td>NaN</td>\n",
       "      <td>NaN</td>\n",
       "      <td>NaN</td>\n",
       "      <td>NaN</td>\n",
       "    </tr>\n",
       "    <tr>\n",
       "      <th>USGS-415836111464701</th>\n",
       "      <td>NaN</td>\n",
       "      <td>NaN</td>\n",
       "      <td>NaN</td>\n",
       "      <td>0.00</td>\n",
       "      <td>NaN</td>\n",
       "      <td>NaN</td>\n",
       "      <td>NaN</td>\n",
       "      <td>0.0550</td>\n",
       "      <td>NaN</td>\n",
       "      <td>NaN</td>\n",
       "      <td>...</td>\n",
       "      <td>NaN</td>\n",
       "      <td>41.976594</td>\n",
       "      <td>-111.780501</td>\n",
       "      <td>NaN</td>\n",
       "      <td>NaN</td>\n",
       "      <td>NaN</td>\n",
       "      <td>NaN</td>\n",
       "      <td>NaN</td>\n",
       "      <td>NaN</td>\n",
       "      <td>NaN</td>\n",
       "    </tr>\n",
       "    <tr>\n",
       "      <th>USGS-415837111534101</th>\n",
       "      <td>NaN</td>\n",
       "      <td>NaN</td>\n",
       "      <td>NaN</td>\n",
       "      <td>NaN</td>\n",
       "      <td>NaN</td>\n",
       "      <td>NaN</td>\n",
       "      <td>NaN</td>\n",
       "      <td>NaN</td>\n",
       "      <td>NaN</td>\n",
       "      <td>NaN</td>\n",
       "      <td>...</td>\n",
       "      <td>NaN</td>\n",
       "      <td>41.976871</td>\n",
       "      <td>-111.895505</td>\n",
       "      <td>NaN</td>\n",
       "      <td>NaN</td>\n",
       "      <td>NaN</td>\n",
       "      <td>NaN</td>\n",
       "      <td>NaN</td>\n",
       "      <td>NaN</td>\n",
       "      <td>NaN</td>\n",
       "    </tr>\n",
       "    <tr>\n",
       "      <th>USGS-415925111534901</th>\n",
       "      <td>NaN</td>\n",
       "      <td>NaN</td>\n",
       "      <td>NaN</td>\n",
       "      <td>NaN</td>\n",
       "      <td>NaN</td>\n",
       "      <td>NaN</td>\n",
       "      <td>NaN</td>\n",
       "      <td>0.1500</td>\n",
       "      <td>NaN</td>\n",
       "      <td>NaN</td>\n",
       "      <td>...</td>\n",
       "      <td>NaN</td>\n",
       "      <td>41.990204</td>\n",
       "      <td>-111.897728</td>\n",
       "      <td>NaN</td>\n",
       "      <td>NaN</td>\n",
       "      <td>NaN</td>\n",
       "      <td>NaN</td>\n",
       "      <td>NaN</td>\n",
       "      <td>NaN</td>\n",
       "      <td>NaN</td>\n",
       "    </tr>\n",
       "    <tr>\n",
       "      <th>USGS-415932111565801</th>\n",
       "      <td>NaN</td>\n",
       "      <td>NaN</td>\n",
       "      <td>NaN</td>\n",
       "      <td>0.10</td>\n",
       "      <td>NaN</td>\n",
       "      <td>NaN</td>\n",
       "      <td>NaN</td>\n",
       "      <td>0.1400</td>\n",
       "      <td>NaN</td>\n",
       "      <td>NaN</td>\n",
       "      <td>...</td>\n",
       "      <td>NaN</td>\n",
       "      <td>41.992147</td>\n",
       "      <td>-111.950229</td>\n",
       "      <td>NaN</td>\n",
       "      <td>NaN</td>\n",
       "      <td>NaN</td>\n",
       "      <td>NaN</td>\n",
       "      <td>NaN</td>\n",
       "      <td>NaN</td>\n",
       "      <td>NaN</td>\n",
       "    </tr>\n",
       "    <tr>\n",
       "      <th>UT412207111464701</th>\n",
       "      <td>NaN</td>\n",
       "      <td>NaN</td>\n",
       "      <td>NaN</td>\n",
       "      <td>NaN</td>\n",
       "      <td>NaN</td>\n",
       "      <td>NaN</td>\n",
       "      <td>NaN</td>\n",
       "      <td>NaN</td>\n",
       "      <td>NaN</td>\n",
       "      <td>NaN</td>\n",
       "      <td>...</td>\n",
       "      <td>NaN</td>\n",
       "      <td>41.368633</td>\n",
       "      <td>-111.763014</td>\n",
       "      <td>NaN</td>\n",
       "      <td>NaN</td>\n",
       "      <td>NaN</td>\n",
       "      <td>NaN</td>\n",
       "      <td>NaN</td>\n",
       "      <td>NaN</td>\n",
       "      <td>NaN</td>\n",
       "    </tr>\n",
       "    <tr>\n",
       "      <th>UT412349111463801</th>\n",
       "      <td>NaN</td>\n",
       "      <td>NaN</td>\n",
       "      <td>NaN</td>\n",
       "      <td>NaN</td>\n",
       "      <td>NaN</td>\n",
       "      <td>NaN</td>\n",
       "      <td>NaN</td>\n",
       "      <td>NaN</td>\n",
       "      <td>NaN</td>\n",
       "      <td>NaN</td>\n",
       "      <td>...</td>\n",
       "      <td>NaN</td>\n",
       "      <td>41.380182</td>\n",
       "      <td>-111.760683</td>\n",
       "      <td>NaN</td>\n",
       "      <td>NaN</td>\n",
       "      <td>NaN</td>\n",
       "      <td>NaN</td>\n",
       "      <td>NaN</td>\n",
       "      <td>NaN</td>\n",
       "      <td>NaN</td>\n",
       "    </tr>\n",
       "    <tr>\n",
       "      <th>UT412358111464401</th>\n",
       "      <td>NaN</td>\n",
       "      <td>NaN</td>\n",
       "      <td>NaN</td>\n",
       "      <td>NaN</td>\n",
       "      <td>NaN</td>\n",
       "      <td>NaN</td>\n",
       "      <td>NaN</td>\n",
       "      <td>NaN</td>\n",
       "      <td>NaN</td>\n",
       "      <td>NaN</td>\n",
       "      <td>...</td>\n",
       "      <td>NaN</td>\n",
       "      <td>41.382892</td>\n",
       "      <td>-111.762323</td>\n",
       "      <td>NaN</td>\n",
       "      <td>NaN</td>\n",
       "      <td>NaN</td>\n",
       "      <td>NaN</td>\n",
       "      <td>NaN</td>\n",
       "      <td>NaN</td>\n",
       "      <td>NaN</td>\n",
       "    </tr>\n",
       "    <tr>\n",
       "      <th>UT412415111430101</th>\n",
       "      <td>NaN</td>\n",
       "      <td>NaN</td>\n",
       "      <td>NaN</td>\n",
       "      <td>NaN</td>\n",
       "      <td>NaN</td>\n",
       "      <td>NaN</td>\n",
       "      <td>NaN</td>\n",
       "      <td>NaN</td>\n",
       "      <td>NaN</td>\n",
       "      <td>NaN</td>\n",
       "      <td>...</td>\n",
       "      <td>NaN</td>\n",
       "      <td>41.404140</td>\n",
       "      <td>-111.716962</td>\n",
       "      <td>NaN</td>\n",
       "      <td>NaN</td>\n",
       "      <td>NaN</td>\n",
       "      <td>NaN</td>\n",
       "      <td>NaN</td>\n",
       "      <td>NaN</td>\n",
       "      <td>NaN</td>\n",
       "    </tr>\n",
       "    <tr>\n",
       "      <th>UT412443111451601</th>\n",
       "      <td>NaN</td>\n",
       "      <td>NaN</td>\n",
       "      <td>NaN</td>\n",
       "      <td>NaN</td>\n",
       "      <td>NaN</td>\n",
       "      <td>NaN</td>\n",
       "      <td>NaN</td>\n",
       "      <td>NaN</td>\n",
       "      <td>NaN</td>\n",
       "      <td>NaN</td>\n",
       "      <td>...</td>\n",
       "      <td>NaN</td>\n",
       "      <td>41.395199</td>\n",
       "      <td>-111.754413</td>\n",
       "      <td>NaN</td>\n",
       "      <td>NaN</td>\n",
       "      <td>NaN</td>\n",
       "      <td>NaN</td>\n",
       "      <td>NaN</td>\n",
       "      <td>NaN</td>\n",
       "      <td>NaN</td>\n",
       "    </tr>\n",
       "    <tr>\n",
       "      <th>UT412516111454001</th>\n",
       "      <td>NaN</td>\n",
       "      <td>NaN</td>\n",
       "      <td>NaN</td>\n",
       "      <td>NaN</td>\n",
       "      <td>NaN</td>\n",
       "      <td>NaN</td>\n",
       "      <td>NaN</td>\n",
       "      <td>NaN</td>\n",
       "      <td>NaN</td>\n",
       "      <td>NaN</td>\n",
       "      <td>...</td>\n",
       "      <td>NaN</td>\n",
       "      <td>41.421071</td>\n",
       "      <td>-111.744373</td>\n",
       "      <td>NaN</td>\n",
       "      <td>NaN</td>\n",
       "      <td>NaN</td>\n",
       "      <td>NaN</td>\n",
       "      <td>NaN</td>\n",
       "      <td>NaN</td>\n",
       "      <td>NaN</td>\n",
       "    </tr>\n",
       "    <tr>\n",
       "      <th>UT414023111484101</th>\n",
       "      <td>NaN</td>\n",
       "      <td>NaN</td>\n",
       "      <td>NaN</td>\n",
       "      <td>NaN</td>\n",
       "      <td>NaN</td>\n",
       "      <td>NaN</td>\n",
       "      <td>NaN</td>\n",
       "      <td>NaN</td>\n",
       "      <td>NaN</td>\n",
       "      <td>NaN</td>\n",
       "      <td>...</td>\n",
       "      <td>NaN</td>\n",
       "      <td>41.688021</td>\n",
       "      <td>-111.811269</td>\n",
       "      <td>NaN</td>\n",
       "      <td>450</td>\n",
       "      <td>450</td>\n",
       "      <td>NaN</td>\n",
       "      <td>NaN</td>\n",
       "      <td>436207</td>\n",
       "      <td>315</td>\n",
       "    </tr>\n",
       "    <tr>\n",
       "      <th>UTAHDWQ-4904010</th>\n",
       "      <td>NaN</td>\n",
       "      <td>NaN</td>\n",
       "      <td>NaN</td>\n",
       "      <td>NaN</td>\n",
       "      <td>NaN</td>\n",
       "      <td>NaN</td>\n",
       "      <td>NaN</td>\n",
       "      <td>NaN</td>\n",
       "      <td>NaN</td>\n",
       "      <td>NaN</td>\n",
       "      <td>...</td>\n",
       "      <td>NaN</td>\n",
       "      <td>41.674833</td>\n",
       "      <td>-111.858472</td>\n",
       "      <td>NaN</td>\n",
       "      <td>NaN</td>\n",
       "      <td>NaN</td>\n",
       "      <td>NaN</td>\n",
       "      <td>NaN</td>\n",
       "      <td>NaN</td>\n",
       "      <td>NaN</td>\n",
       "    </tr>\n",
       "    <tr>\n",
       "      <th>UTAHDWQ-4904020</th>\n",
       "      <td>NaN</td>\n",
       "      <td>NaN</td>\n",
       "      <td>NaN</td>\n",
       "      <td>NaN</td>\n",
       "      <td>NaN</td>\n",
       "      <td>NaN</td>\n",
       "      <td>NaN</td>\n",
       "      <td>NaN</td>\n",
       "      <td>NaN</td>\n",
       "      <td>NaN</td>\n",
       "      <td>...</td>\n",
       "      <td>NaN</td>\n",
       "      <td>41.677583</td>\n",
       "      <td>-111.876222</td>\n",
       "      <td>NaN</td>\n",
       "      <td>NaN</td>\n",
       "      <td>NaN</td>\n",
       "      <td>NaN</td>\n",
       "      <td>NaN</td>\n",
       "      <td>NaN</td>\n",
       "      <td>NaN</td>\n",
       "    </tr>\n",
       "    <tr>\n",
       "      <th>UTAHDWQ-4904030</th>\n",
       "      <td>NaN</td>\n",
       "      <td>NaN</td>\n",
       "      <td>NaN</td>\n",
       "      <td>NaN</td>\n",
       "      <td>NaN</td>\n",
       "      <td>NaN</td>\n",
       "      <td>NaN</td>\n",
       "      <td>NaN</td>\n",
       "      <td>NaN</td>\n",
       "      <td>NaN</td>\n",
       "      <td>...</td>\n",
       "      <td>NaN</td>\n",
       "      <td>41.689694</td>\n",
       "      <td>-111.862167</td>\n",
       "      <td>NaN</td>\n",
       "      <td>NaN</td>\n",
       "      <td>NaN</td>\n",
       "      <td>NaN</td>\n",
       "      <td>NaN</td>\n",
       "      <td>NaN</td>\n",
       "      <td>NaN</td>\n",
       "    </tr>\n",
       "    <tr>\n",
       "      <th>UTAHDWQ-4904040</th>\n",
       "      <td>NaN</td>\n",
       "      <td>NaN</td>\n",
       "      <td>NaN</td>\n",
       "      <td>NaN</td>\n",
       "      <td>NaN</td>\n",
       "      <td>NaN</td>\n",
       "      <td>NaN</td>\n",
       "      <td>NaN</td>\n",
       "      <td>NaN</td>\n",
       "      <td>NaN</td>\n",
       "      <td>...</td>\n",
       "      <td>NaN</td>\n",
       "      <td>41.698889</td>\n",
       "      <td>-111.863944</td>\n",
       "      <td>NaN</td>\n",
       "      <td>NaN</td>\n",
       "      <td>NaN</td>\n",
       "      <td>NaN</td>\n",
       "      <td>NaN</td>\n",
       "      <td>NaN</td>\n",
       "      <td>NaN</td>\n",
       "    </tr>\n",
       "    <tr>\n",
       "      <th>UTAHDWQ-4904050</th>\n",
       "      <td>NaN</td>\n",
       "      <td>NaN</td>\n",
       "      <td>NaN</td>\n",
       "      <td>NaN</td>\n",
       "      <td>NaN</td>\n",
       "      <td>NaN</td>\n",
       "      <td>NaN</td>\n",
       "      <td>NaN</td>\n",
       "      <td>NaN</td>\n",
       "      <td>NaN</td>\n",
       "      <td>...</td>\n",
       "      <td>NaN</td>\n",
       "      <td>41.692528</td>\n",
       "      <td>-111.881667</td>\n",
       "      <td>NaN</td>\n",
       "      <td>NaN</td>\n",
       "      <td>NaN</td>\n",
       "      <td>NaN</td>\n",
       "      <td>NaN</td>\n",
       "      <td>NaN</td>\n",
       "      <td>NaN</td>\n",
       "    </tr>\n",
       "    <tr>\n",
       "      <th>UTAHDWQ-4904060</th>\n",
       "      <td>NaN</td>\n",
       "      <td>NaN</td>\n",
       "      <td>NaN</td>\n",
       "      <td>NaN</td>\n",
       "      <td>NaN</td>\n",
       "      <td>NaN</td>\n",
       "      <td>NaN</td>\n",
       "      <td>NaN</td>\n",
       "      <td>NaN</td>\n",
       "      <td>NaN</td>\n",
       "      <td>...</td>\n",
       "      <td>NaN</td>\n",
       "      <td>41.678111</td>\n",
       "      <td>-111.890833</td>\n",
       "      <td>NaN</td>\n",
       "      <td>NaN</td>\n",
       "      <td>NaN</td>\n",
       "      <td>NaN</td>\n",
       "      <td>NaN</td>\n",
       "      <td>NaN</td>\n",
       "      <td>NaN</td>\n",
       "    </tr>\n",
       "  </tbody>\n",
       "</table>\n",
       "<p>502 rows × 81 columns</p>\n",
       "</div>"
      ],
      "text/plain": [
       "ParAbb                  2H  Ag_diss  Ag_tot  Al_tot  As_  As_diss   As_tot  \\\n",
       "StationId                                                                    \n",
       "414024111481101        NaN      NaN     NaN     NaN  NaN      NaN      NaN   \n",
       "414115111490301        NaN      NaN     NaN     NaN  NaN      NaN      NaN   \n",
       "414143111495501        NaN      NaN     NaN     NaN  NaN      NaN      NaN   \n",
       "414213111493101        NaN      NaN     NaN     NaN  NaN      NaN      NaN   \n",
       "EPALeg-0300101         NaN      NaN   0.002     NaN  NaN      NaN  0.00100   \n",
       "EPALeg-0300102         NaN      NaN   0.002     NaN  NaN      NaN  0.00100   \n",
       "EPALeg-0300103         NaN      NaN   0.002     NaN  NaN      NaN  0.00050   \n",
       "EPALeg-0300104         NaN      NaN   0.002     NaN  NaN   0.0003  0.00050   \n",
       "EPALeg-0300201         NaN      NaN     NaN     NaN  NaN      NaN      NaN   \n",
       "EPALeg-0300204         NaN      NaN     NaN     NaN  NaN      NaN      NaN   \n",
       "EPALeg-0300401         NaN      NaN   0.010     NaN  NaN      NaN  0.00100   \n",
       "EPALeg-0300403         NaN      NaN     NaN     NaN  NaN      NaN      NaN   \n",
       "EPALeg-0300404         NaN      NaN   0.006     NaN  NaN      NaN  0.00150   \n",
       "EPALeg-0300405         NaN      NaN   0.002     NaN  NaN      NaN  0.00125   \n",
       "EPALeg-0300501         NaN      NaN   0.002     NaN  NaN      NaN  0.01300   \n",
       "EPALeg-0300502         NaN      NaN   0.005     NaN  NaN      NaN  0.00700   \n",
       "EPALeg-0300503         NaN    0.001   0.002     NaN  NaN   0.0010  0.00500   \n",
       "EPALeg-0300701         NaN    0.004   0.002     NaN  NaN   0.0010  0.00500   \n",
       "EPALeg-0300702         NaN      NaN   0.002     NaN  NaN      NaN  0.00060   \n",
       "EPALeg-0300801         NaN    0.002   0.002     NaN  NaN   0.0010  0.00100   \n",
       "EPALeg-0300802         NaN      NaN   0.005     NaN  NaN      NaN      NaN   \n",
       "EPALeg-0300803         NaN    0.002   0.002     NaN  NaN   0.0010  0.00350   \n",
       "EPALeg-0300804         NaN    0.002   0.002     NaN  NaN   0.0070  0.00250   \n",
       "EPALeg-0300805         NaN      NaN   0.002     NaN  NaN      NaN  0.00075   \n",
       "EPALeg-0300806         NaN      NaN   0.002     NaN  NaN      NaN  0.00275   \n",
       "EPALeg-0300901         NaN      NaN   0.002     NaN  NaN      NaN  0.00100   \n",
       "EPALeg-0300902         NaN      NaN   0.002     NaN  NaN      NaN  0.00050   \n",
       "EPALeg-0300903         NaN      NaN   0.002     NaN  NaN      NaN  0.00050   \n",
       "EPALeg-0301001         NaN      NaN   0.001     NaN  NaN      NaN  0.00100   \n",
       "EPALeg-0301002         NaN    0.001     NaN     NaN  NaN   0.0010      NaN   \n",
       "...                     ..      ...     ...     ...  ...      ...      ...   \n",
       "USGS-415521112024001   NaN      NaN     NaN     NaN  NaN      NaN      NaN   \n",
       "USGS-415522111474701   NaN      NaN     NaN     NaN  NaN      NaN      NaN   \n",
       "USGS-415541111484901   NaN      NaN     NaN     NaN  NaN      NaN  0.01000   \n",
       "USGS-415553111462601   NaN      NaN     NaN     NaN  NaN      NaN      NaN   \n",
       "USGS-415638111493601   NaN      NaN     NaN     NaN  NaN      NaN      NaN   \n",
       "USGS-415649111494201   NaN      NaN     NaN     NaN  NaN      NaN      NaN   \n",
       "USGS-415653111485401   NaN      NaN     NaN     NaN  NaN      NaN  0.00023   \n",
       "USGS-415713111582701   NaN      NaN     NaN     NaN  NaN      NaN      NaN   \n",
       "USGS-415713111582702   NaN      NaN     NaN     NaN  NaN      NaN      NaN   \n",
       "USGS-415723111493101   NaN      NaN     NaN     NaN  NaN      NaN      NaN   \n",
       "USGS-415823111472201   NaN      NaN     NaN    0.64  NaN      NaN      NaN   \n",
       "USGS-415828111460001   NaN      NaN     NaN     NaN  NaN      NaN      NaN   \n",
       "USGS-415835111582601   NaN      NaN     NaN     NaN  NaN      NaN      NaN   \n",
       "USGS-415836111464701   NaN      NaN     NaN    0.00  NaN      NaN      NaN   \n",
       "USGS-415837111534101   NaN      NaN     NaN     NaN  NaN      NaN      NaN   \n",
       "USGS-415925111534901   NaN      NaN     NaN     NaN  NaN      NaN      NaN   \n",
       "USGS-415932111565801   NaN      NaN     NaN    0.10  NaN      NaN      NaN   \n",
       "UT412207111464701      NaN      NaN     NaN     NaN  NaN      NaN      NaN   \n",
       "UT412349111463801      NaN      NaN     NaN     NaN  NaN      NaN      NaN   \n",
       "UT412358111464401      NaN      NaN     NaN     NaN  NaN      NaN      NaN   \n",
       "UT412415111430101      NaN      NaN     NaN     NaN  NaN      NaN      NaN   \n",
       "UT412443111451601      NaN      NaN     NaN     NaN  NaN      NaN      NaN   \n",
       "UT412516111454001      NaN      NaN     NaN     NaN  NaN      NaN      NaN   \n",
       "UT414023111484101      NaN      NaN     NaN     NaN  NaN      NaN      NaN   \n",
       "UTAHDWQ-4904010        NaN      NaN     NaN     NaN  NaN      NaN      NaN   \n",
       "UTAHDWQ-4904020        NaN      NaN     NaN     NaN  NaN      NaN      NaN   \n",
       "UTAHDWQ-4904030        NaN      NaN     NaN     NaN  NaN      NaN      NaN   \n",
       "UTAHDWQ-4904040        NaN      NaN     NaN     NaN  NaN      NaN      NaN   \n",
       "UTAHDWQ-4904050        NaN      NaN     NaN     NaN  NaN      NaN      NaN   \n",
       "UTAHDWQ-4904060        NaN      NaN     NaN     NaN  NaN      NaN      NaN   \n",
       "\n",
       "ParAbb                       B        Ba  Be ...   Geology      Lat_Y  \\\n",
       "StationId                                    ...                        \n",
       "414024111481101            NaN       NaN NaN ...       NaN  41.672975   \n",
       "414115111490301         0.0377  0.175445 NaN ...       NaN  41.687671   \n",
       "414143111495501            NaN       NaN NaN ...       NaN  41.695106   \n",
       "414213111493101            NaN  0.130800 NaN ...       NaN  41.703693   \n",
       "EPALeg-0300101          0.0550  0.000050 NaN ...       NaN  41.642083   \n",
       "EPALeg-0300102          0.0500  0.000075 NaN ...       NaN  41.642778   \n",
       "EPALeg-0300103          0.0550  0.000090 NaN ...       NaN  41.641389   \n",
       "EPALeg-0300104          0.0100  0.025025 NaN ...       NaN  41.658611   \n",
       "EPALeg-0300201          0.0100  0.050000 NaN ...       NaN  41.854722   \n",
       "EPALeg-0300204          0.0100  0.030000 NaN ...       NaN  41.855556   \n",
       "EPALeg-0300401          0.0100  0.000050 NaN ...       NaN  41.960278   \n",
       "EPALeg-0300403          0.1300  0.036000 NaN ...       NaN  41.946667   \n",
       "EPALeg-0300404          0.0400  0.000055 NaN ...       NaN  41.934444   \n",
       "EPALeg-0300405          0.0500  0.000050 NaN ...       NaN  41.919444   \n",
       "EPALeg-0300501          0.2625  0.000050 NaN ...       NaN  41.953056   \n",
       "EPALeg-0300502          0.0475  0.000095 NaN ...       NaN  41.965556   \n",
       "EPALeg-0300503          0.2350  0.000105 NaN ...       NaN  41.953889   \n",
       "EPALeg-0300701          0.0795  0.005005 NaN ...       NaN  41.859167   \n",
       "EPALeg-0300702          0.1375  0.000090 NaN ...       NaN  41.805833   \n",
       "EPALeg-0300801          0.0500  0.025010 NaN ...       NaN  41.625278   \n",
       "EPALeg-0300802          0.1000       NaN NaN ...       NaN  41.618889   \n",
       "EPALeg-0300803          0.0950  0.000080 NaN ...       NaN  41.634167   \n",
       "EPALeg-0300804          0.1175  0.000070 NaN ...       NaN  41.627222   \n",
       "EPALeg-0300805             NaN  0.000045 NaN ...       NaN  41.624167   \n",
       "EPALeg-0300806             NaN  0.000045 NaN ...       NaN  41.612778   \n",
       "EPALeg-0300901          0.0500  0.000050 NaN ...       NaN  42.004444   \n",
       "EPALeg-0300902          0.0500  0.000050 NaN ...       NaN  41.958889   \n",
       "EPALeg-0300903          0.0975  0.000055 NaN ...       NaN  41.964028   \n",
       "EPALeg-0301001          0.0100  0.000030 NaN ...       NaN  41.758611   \n",
       "EPALeg-0301002          0.0010  0.070000 NaN ...       NaN  41.738472   \n",
       "...                        ...       ...  .. ...       ...        ...   \n",
       "USGS-415521112024001    0.0500       NaN NaN ...       NaN  41.922426   \n",
       "USGS-415522111474701    0.0400       NaN NaN ...       NaN  41.922706   \n",
       "USGS-415541111484901       NaN  0.160000 NaN ...       NaN  41.927983   \n",
       "USGS-415553111462601    0.0300       NaN NaN ...       NaN  41.931317   \n",
       "USGS-415638111493601       NaN       NaN NaN ...       NaN  41.943816   \n",
       "USGS-415649111494201       NaN  0.056000 NaN ...       NaN  41.946872   \n",
       "USGS-415653111485401       NaN       NaN NaN ...       NaN  41.947983   \n",
       "USGS-415713111582701    0.2700       NaN NaN ...       NaN  41.953537   \n",
       "USGS-415713111582702       NaN  0.140000 NaN ...       NaN  41.953537   \n",
       "USGS-415723111493101       NaN       NaN NaN ...       NaN  41.956316   \n",
       "USGS-415823111472201    0.0000       NaN NaN ...       NaN  41.972983   \n",
       "USGS-415828111460001       NaN       NaN NaN ...       NaN  41.974372   \n",
       "USGS-415835111582601    0.0400       NaN NaN ...       NaN  41.976314   \n",
       "USGS-415836111464701    0.0550       NaN NaN ...       NaN  41.976594   \n",
       "USGS-415837111534101       NaN       NaN NaN ...       NaN  41.976871   \n",
       "USGS-415925111534901    0.1500       NaN NaN ...       NaN  41.990204   \n",
       "USGS-415932111565801    0.1400       NaN NaN ...       NaN  41.992147   \n",
       "UT412207111464701          NaN       NaN NaN ...       NaN  41.368633   \n",
       "UT412349111463801          NaN       NaN NaN ...       NaN  41.380182   \n",
       "UT412358111464401          NaN       NaN NaN ...       NaN  41.382892   \n",
       "UT412415111430101          NaN       NaN NaN ...       NaN  41.404140   \n",
       "UT412443111451601          NaN       NaN NaN ...       NaN  41.395199   \n",
       "UT412516111454001          NaN       NaN NaN ...       NaN  41.421071   \n",
       "UT414023111484101          NaN       NaN NaN ...       NaN  41.688021   \n",
       "UTAHDWQ-4904010            NaN       NaN NaN ...       NaN  41.674833   \n",
       "UTAHDWQ-4904020            NaN       NaN NaN ...       NaN  41.677583   \n",
       "UTAHDWQ-4904030            NaN       NaN NaN ...       NaN  41.689694   \n",
       "UTAHDWQ-4904040            NaN       NaN NaN ...       NaN  41.698889   \n",
       "UTAHDWQ-4904050            NaN       NaN NaN ...       NaN  41.692528   \n",
       "UTAHDWQ-4904060            NaN       NaN NaN ...       NaN  41.678111   \n",
       "\n",
       "ParAbb                       Lon_X  SCREENDEPT  ScreenBottom  ScreenDepth  \\\n",
       "StationId                                                                   \n",
       "414024111481101        -111.803943         NaN           NaN          NaN   \n",
       "414115111490301        -111.818130         NaN           369          269   \n",
       "414143111495501        -111.832618         NaN           230          195   \n",
       "414213111493101        -111.826497         NaN           215          180   \n",
       "EPALeg-0300101         -111.819028         NaN           NaN          NaN   \n",
       "EPALeg-0300102         -111.818333         NaN           NaN          NaN   \n",
       "EPALeg-0300103         -111.817917         NaN           NaN          NaN   \n",
       "EPALeg-0300104         -111.831528         NaN           NaN          NaN   \n",
       "EPALeg-0300201         -111.862500         NaN           NaN          NaN   \n",
       "EPALeg-0300204         -111.862500         NaN           NaN          NaN   \n",
       "EPALeg-0300401         -112.093889         NaN           NaN          NaN   \n",
       "EPALeg-0300403         -112.083056         NaN           NaN          NaN   \n",
       "EPALeg-0300404         -112.074167         NaN           NaN          NaN   \n",
       "EPALeg-0300405         -112.071667         NaN           NaN          NaN   \n",
       "EPALeg-0300501         -111.984167         NaN           NaN          NaN   \n",
       "EPALeg-0300502         -111.990556         NaN           NaN          NaN   \n",
       "EPALeg-0300503         -111.974722         NaN           NaN          NaN   \n",
       "EPALeg-0300701         -111.732778         NaN           NaN          NaN   \n",
       "EPALeg-0300702         -111.819444         NaN           NaN          NaN   \n",
       "EPALeg-0300801         -111.675417         NaN           NaN          NaN   \n",
       "EPALeg-0300802         -111.680556         NaN           NaN          NaN   \n",
       "EPALeg-0300803         -111.832778         NaN           NaN          NaN   \n",
       "EPALeg-0300804         -111.831111         NaN           NaN          NaN   \n",
       "EPALeg-0300805         -111.733056         NaN           NaN          NaN   \n",
       "EPALeg-0300806         -111.754444         NaN           NaN          NaN   \n",
       "EPALeg-0300901         -111.793056         NaN           NaN          NaN   \n",
       "EPALeg-0300902         -111.794167         NaN           NaN          NaN   \n",
       "EPALeg-0300903         -111.805556         NaN           NaN          NaN   \n",
       "EPALeg-0301001         -111.823889         NaN           NaN          NaN   \n",
       "EPALeg-0301002         -111.812222         NaN           NaN          NaN   \n",
       "...                            ...         ...           ...          ...   \n",
       "USGS-415521112024001   -112.045231         NaN           NaN          NaN   \n",
       "USGS-415522111474701   -111.797168         NaN           NaN          NaN   \n",
       "USGS-415541111484901   -111.814391         NaN           NaN          NaN   \n",
       "USGS-415553111462601   -111.774667         NaN           NaN          NaN   \n",
       "USGS-415638111493601   -111.827447         NaN           NaN          NaN   \n",
       "USGS-415649111494201   -111.829114         NaN           NaN          NaN   \n",
       "USGS-415653111485401   -111.815780         NaN           NaN          NaN   \n",
       "USGS-415713111582701   -111.974952         NaN           NaN          NaN   \n",
       "USGS-415713111582702   -111.974952         NaN           NaN          NaN   \n",
       "USGS-415723111493101   -111.826058         NaN           NaN          NaN   \n",
       "USGS-415823111472201   -111.790224         NaN           NaN          NaN   \n",
       "USGS-415828111460001   -111.767445         NaN           NaN          NaN   \n",
       "USGS-415835111582601   -111.974674         NaN           NaN          NaN   \n",
       "USGS-415836111464701   -111.780501         NaN           NaN          NaN   \n",
       "USGS-415837111534101   -111.895505         NaN           NaN          NaN   \n",
       "USGS-415925111534901   -111.897728         NaN           NaN          NaN   \n",
       "USGS-415932111565801   -111.950229         NaN           NaN          NaN   \n",
       "UT412207111464701      -111.763014         NaN           NaN          NaN   \n",
       "UT412349111463801      -111.760683         NaN           NaN          NaN   \n",
       "UT412358111464401      -111.762323         NaN           NaN          NaN   \n",
       "UT412415111430101      -111.716962         NaN           NaN          NaN   \n",
       "UT412443111451601      -111.754413         NaN           NaN          NaN   \n",
       "UT412516111454001      -111.744373         NaN           NaN          NaN   \n",
       "UT414023111484101      -111.811269         NaN           450          450   \n",
       "UTAHDWQ-4904010        -111.858472         NaN           NaN          NaN   \n",
       "UTAHDWQ-4904020        -111.876222         NaN           NaN          NaN   \n",
       "UTAHDWQ-4904030        -111.862167         NaN           NaN          NaN   \n",
       "UTAHDWQ-4904040        -111.863944         NaN           NaN          NaN   \n",
       "UTAHDWQ-4904050        -111.881667         NaN           NaN          NaN   \n",
       "UTAHDWQ-4904060        -111.890833         NaN           NaN          NaN   \n",
       "\n",
       "ParAbb                  UTM_X  UTM_Y     WIN   WL  \n",
       "StationId                                          \n",
       "414024111481101           NaN    NaN     NaN  NaN  \n",
       "414115111490301           NaN    NaN    2722  180  \n",
       "414143111495501           NaN    NaN  437364   17  \n",
       "414213111493101           NaN    NaN    2815   41  \n",
       "EPALeg-0300101            NaN    NaN     NaN  NaN  \n",
       "EPALeg-0300102            NaN    NaN     NaN  NaN  \n",
       "EPALeg-0300103            NaN    NaN     NaN  NaN  \n",
       "EPALeg-0300104            NaN    NaN     NaN  NaN  \n",
       "EPALeg-0300201            NaN    NaN     NaN  NaN  \n",
       "EPALeg-0300204            NaN    NaN     NaN  NaN  \n",
       "EPALeg-0300401            NaN    NaN     NaN  NaN  \n",
       "EPALeg-0300403            NaN    NaN     NaN  NaN  \n",
       "EPALeg-0300404            NaN    NaN     NaN  NaN  \n",
       "EPALeg-0300405            NaN    NaN     NaN  NaN  \n",
       "EPALeg-0300501            NaN    NaN     NaN  NaN  \n",
       "EPALeg-0300502            NaN    NaN     NaN  NaN  \n",
       "EPALeg-0300503            NaN    NaN     NaN  NaN  \n",
       "EPALeg-0300701            NaN    NaN     NaN  NaN  \n",
       "EPALeg-0300702            NaN    NaN     NaN  NaN  \n",
       "EPALeg-0300801            NaN    NaN     NaN  NaN  \n",
       "EPALeg-0300802            NaN    NaN     NaN  NaN  \n",
       "EPALeg-0300803            NaN    NaN     NaN  NaN  \n",
       "EPALeg-0300804            NaN    NaN     NaN  NaN  \n",
       "EPALeg-0300805            NaN    NaN     NaN  NaN  \n",
       "EPALeg-0300806            NaN    NaN     NaN  NaN  \n",
       "EPALeg-0300901            NaN    NaN     NaN  NaN  \n",
       "EPALeg-0300902            NaN    NaN     NaN  NaN  \n",
       "EPALeg-0300903            NaN    NaN     NaN  NaN  \n",
       "EPALeg-0301001            NaN    NaN     NaN  NaN  \n",
       "EPALeg-0301002            NaN    NaN     NaN  NaN  \n",
       "...                       ...    ...     ...  ...  \n",
       "USGS-415521112024001      NaN    NaN     NaN  NaN  \n",
       "USGS-415522111474701      NaN    NaN     NaN  NaN  \n",
       "USGS-415541111484901      NaN    NaN     NaN  NaN  \n",
       "USGS-415553111462601      NaN    NaN     NaN  NaN  \n",
       "USGS-415638111493601      NaN    NaN     NaN  NaN  \n",
       "USGS-415649111494201      NaN    NaN     NaN  NaN  \n",
       "USGS-415653111485401      NaN    NaN     NaN  NaN  \n",
       "USGS-415713111582701      NaN    NaN     NaN  NaN  \n",
       "USGS-415713111582702      NaN    NaN     NaN  NaN  \n",
       "USGS-415723111493101      NaN    NaN     NaN  NaN  \n",
       "USGS-415823111472201      NaN    NaN     NaN  NaN  \n",
       "USGS-415828111460001      NaN    NaN     NaN  NaN  \n",
       "USGS-415835111582601      NaN    NaN     NaN  NaN  \n",
       "USGS-415836111464701      NaN    NaN     NaN  NaN  \n",
       "USGS-415837111534101      NaN    NaN     NaN  NaN  \n",
       "USGS-415925111534901      NaN    NaN     NaN  NaN  \n",
       "USGS-415932111565801      NaN    NaN     NaN  NaN  \n",
       "UT412207111464701         NaN    NaN     NaN  NaN  \n",
       "UT412349111463801         NaN    NaN     NaN  NaN  \n",
       "UT412358111464401         NaN    NaN     NaN  NaN  \n",
       "UT412415111430101         NaN    NaN     NaN  NaN  \n",
       "UT412443111451601         NaN    NaN     NaN  NaN  \n",
       "UT412516111454001         NaN    NaN     NaN  NaN  \n",
       "UT414023111484101         NaN    NaN  436207  315  \n",
       "UTAHDWQ-4904010           NaN    NaN     NaN  NaN  \n",
       "UTAHDWQ-4904020           NaN    NaN     NaN  NaN  \n",
       "UTAHDWQ-4904030           NaN    NaN     NaN  NaN  \n",
       "UTAHDWQ-4904040           NaN    NaN     NaN  NaN  \n",
       "UTAHDWQ-4904050           NaN    NaN     NaN  NaN  \n",
       "UTAHDWQ-4904060           NaN    NaN     NaN  NaN  \n",
       "\n",
       "[502 rows x 81 columns]"
      ]
     },
     "execution_count": 128,
     "metadata": {},
     "output_type": "execute_result"
    }
   ],
   "source": [
    "pipergrps"
   ]
  },
  {
   "cell_type": "code",
   "execution_count": 129,
   "metadata": {
    "collapsed": false,
    "scrolled": true
   },
   "outputs": [],
   "source": [
    "writer = pd.ExcelWriter(rootname + \"combined_out.xlsx\", engine=\"xlsxwriter\")\n",
    "Stat.to_excel(writer, \"stations\", index=False)\n",
    "results.to_excel(writer, \"results\", index=False)\n",
    "GWStat.to_excel(writer, 'GWStations',index=False)\n",
    "GWRes.to_excel(writer, 'GWResults',index=False)\n",
    "piperdata.to_excel(writer, \"piperpivot\")\n",
    "writer.save()"
   ]
  },
  {
   "cell_type": "code",
   "execution_count": 130,
   "metadata": {
    "collapsed": false
   },
   "outputs": [
    {
     "data": {
      "text/plain": [
       "['Alkalinity',\n",
       " 'Alkalinity, Carbonate',\n",
       " 'Alkalinity, Carbonate as CaCO3',\n",
       " 'Alkalinity, Total',\n",
       " 'Alpha, gross',\n",
       " 'Aluminum',\n",
       " 'Aluminum, Total',\n",
       " 'Ammonia',\n",
       " 'Ammonia as N',\n",
       " 'Ammonium',\n",
       " 'Antimony',\n",
       " 'Antimony, Total',\n",
       " 'Arsenic',\n",
       " 'Arsenic, Dissolved',\n",
       " 'Arsenic, Total',\n",
       " 'As_',\n",
       " 'Barium',\n",
       " 'Barium, Dissolved',\n",
       " 'Barium, Total',\n",
       " 'Barometric pressure',\n",
       " 'Berylium',\n",
       " 'Beryllium',\n",
       " 'Beryllium, Total',\n",
       " 'Beta, gross',\n",
       " 'Bicarbonate',\n",
       " 'Bicarbonate as HCO3',\n",
       " 'Biochemical oxygen demand, standard conditions',\n",
       " 'Bod, 5 Day, 20 Deg C',\n",
       " 'Boron',\n",
       " 'Boron, Dissolved',\n",
       " 'Boron, Total',\n",
       " 'Bromide',\n",
       " 'CO2',\n",
       " 'CO3',\n",
       " 'Ca',\n",
       " 'Cadmium',\n",
       " 'Cadmium, Dissolved',\n",
       " 'Cadmium, Total',\n",
       " 'Calcium',\n",
       " 'Calcium carbonate',\n",
       " 'Calcium, Dissolved',\n",
       " 'Carbon',\n",
       " 'Carbon Dioxide',\n",
       " 'Carbon dioxide',\n",
       " 'Carbon, Dissolved Inorganic',\n",
       " 'Carbon, Dissolved Organic',\n",
       " 'Carbon, Total',\n",
       " 'Carbonaceous biochemical oxygen demand, standard conditions',\n",
       " 'Carbonate',\n",
       " 'Carbonate (CO3)',\n",
       " 'Chemical oxygen demand',\n",
       " 'Chloride',\n",
       " 'Chloride, Dissolved In Water',\n",
       " 'Chlorine',\n",
       " 'Chlorine, Total Residual',\n",
       " 'Chromium',\n",
       " 'Chromium(VI)',\n",
       " 'Chromium, Dissolved',\n",
       " 'Chromium, Hex',\n",
       " 'Chromium, Hexavalent',\n",
       " 'Chromium, Total',\n",
       " 'Cl',\n",
       " 'Cobalt',\n",
       " 'Cond',\n",
       " 'Conductivity',\n",
       " 'Conductivity @ 25 C Umhos/Cm',\n",
       " 'Copper',\n",
       " 'Copper, Dissolved',\n",
       " 'Copper, Free',\n",
       " 'Copper, Total',\n",
       " 'Corrosivity',\n",
       " 'Cyanide',\n",
       " 'Cymene',\n",
       " 'Depth',\n",
       " 'Depth to water level below land surface',\n",
       " 'Depth, Secchi disk depth',\n",
       " 'Depth, data-logger (ported)',\n",
       " 'Depth, from ground surface to well water level',\n",
       " 'Depth, snow cover',\n",
       " 'Detergent, severity',\n",
       " 'Deuterium/Hydrogen ratio',\n",
       " 'Dichlorobiphenyl',\n",
       " 'Dissolved oxygen (DO)',\n",
       " 'Dissolved oxygen saturation',\n",
       " 'Electrical Conductivity',\n",
       " 'Flouride',\n",
       " 'Flow',\n",
       " 'Flow rate, instantaneous',\n",
       " 'Fluoride',\n",
       " 'Fluoride, Dissolved',\n",
       " 'Gage height',\n",
       " 'Gold',\n",
       " 'HCO3',\n",
       " 'Hard',\n",
       " 'Hardness',\n",
       " 'Hardness (from D-CA and D-MG)',\n",
       " 'Hardness, Ca Mg Calculated',\n",
       " 'Hardness, Ca, Mg',\n",
       " 'Hardness, Carbonate',\n",
       " 'Hardness, Total',\n",
       " 'Hardness, non-carbonate',\n",
       " 'Height, gage',\n",
       " 'Hydrocarbons, volatile',\n",
       " 'Hydrogen ion',\n",
       " 'Hydrogen sulfide',\n",
       " 'Hydroxide as Calcium Carbonate',\n",
       " 'Inorganic carbon',\n",
       " 'Inorganic nitrogen (nitrate and nitrite)',\n",
       " 'Inorganic nitrogen (nitrate and nitrite) as N',\n",
       " 'Iodide',\n",
       " 'Iron',\n",
       " 'Iron, Dissolved',\n",
       " 'K',\n",
       " 'Kjeldahl nitrogen',\n",
       " 'Lead',\n",
       " 'Lead, Dissolved',\n",
       " 'Lead, Total',\n",
       " 'Lithium',\n",
       " 'MBAS',\n",
       " 'Magnesium',\n",
       " 'Magnesium, Dissolved',\n",
       " 'Manganese',\n",
       " 'Manganese, Dissolved',\n",
       " 'Manganese, Total',\n",
       " 'Mercury',\n",
       " 'Mercury, Total',\n",
       " 'Mg',\n",
       " 'Molybdenum',\n",
       " 'NH4',\n",
       " 'NO3',\n",
       " 'Na',\n",
       " 'Nickel',\n",
       " 'Nickel, Dissolved',\n",
       " 'Nickel, Total',\n",
       " 'Nitrate',\n",
       " 'Nitrate + Nitrite as N',\n",
       " 'Nitrate Nitrogen, Dissolved',\n",
       " 'Nitrate Nitrogen, Total',\n",
       " u'Nitrate+Nitrite',\n",
       " 'Nitrate-Nitrite',\n",
       " 'Nitrite',\n",
       " 'Nitrite Plus Nitrate, Total 1 Det.',\n",
       " 'Nitrogen',\n",
       " 'Nitrogen, Kjeldahl, Total,',\n",
       " 'Nitrogen, mixed forms (NH3), (NH4), organic, (NO2) and (NO3)',\n",
       " 'Odor',\n",
       " 'Organic Nitrogen',\n",
       " 'Organic nitrogen',\n",
       " 'Orthophosphate',\n",
       " 'Oxygen',\n",
       " 'Oxygen, Dissolved',\n",
       " 'Oxygen, Dissolved, Percent Of Saturation',\n",
       " 'Oxygen-18/Oxygen-16 ratio',\n",
       " 'Ph',\n",
       " 'Ph, Lab',\n",
       " 'Phosphate',\n",
       " 'Phosphate, Tot. Dig. (as P)',\n",
       " 'Phosphate, Total',\n",
       " 'Phosphorus',\n",
       " 'Phosphorus, Total',\n",
       " 'Phosphorus, Total, As Po4 - Mg/L',\n",
       " 'Potassium',\n",
       " 'Potassium, Dissolved',\n",
       " 'RBP Stream Velocity',\n",
       " 'Radium 228',\n",
       " 'SO4',\n",
       " 'Salinity',\n",
       " 'Selenium',\n",
       " 'Selenium, Dissolved',\n",
       " 'Selenium, Total',\n",
       " 'Settleable solids',\n",
       " 'Silica',\n",
       " 'Silica D/SIO2',\n",
       " 'Silica, Dissolved',\n",
       " 'Silicon',\n",
       " 'Silver',\n",
       " 'Silver, Dissolved',\n",
       " 'Silver, Total',\n",
       " 'Sodium',\n",
       " 'Sodium adsorption ratio',\n",
       " 'Sodium plus potassium',\n",
       " 'Sodium, Dissolved',\n",
       " 'Sodium, percent total cations',\n",
       " 'Sp. Cond.',\n",
       " 'Specific Conductance',\n",
       " 'Specific Conductance,Field',\n",
       " 'Specific conductance',\n",
       " 'Specific gravity',\n",
       " 'Stream flow, instantaneous',\n",
       " 'Stream flow, mean. daily',\n",
       " 'Strontium',\n",
       " 'Sulfate',\n",
       " 'Sulfate as SO4',\n",
       " 'Sulfate, Dissolved',\n",
       " 'Sulfur',\n",
       " 'Sulfur-34/Sulfur-32 ratio',\n",
       " 'Sum of anions',\n",
       " 'Sum of cations',\n",
       " 'Surfactant/MBAS',\n",
       " 'T. Alk/CaCO3',\n",
       " 'T. Sus. Solids',\n",
       " 'TDS',\n",
       " 'TDS @ 180 C',\n",
       " 'Temp',\n",
       " 'Temperature',\n",
       " 'Temperature, Water',\n",
       " 'Temperature, water',\n",
       " 'Tetrachlorobiphenyl',\n",
       " 'Thallium',\n",
       " 'Thallium, Total',\n",
       " 'Total Dissolved Solids',\n",
       " 'Total Organic Carbon',\n",
       " 'Total dissolved solids',\n",
       " 'Total fixed solids',\n",
       " 'Total hardness -- SDWA NPDWR',\n",
       " 'Total suspended solids',\n",
       " 'Tritium',\n",
       " 'Turbidity',\n",
       " 'Turbidity severity',\n",
       " 'Uranium 238',\n",
       " 'Vanadium',\n",
       " 'Velocity - stream',\n",
       " 'Zinc',\n",
       " 'Zinc, Dissolved',\n",
       " 'Zinc, Total',\n",
       " 'pH',\n",
       " 'pH, lab']"
      ]
     },
     "execution_count": 130,
     "metadata": {},
     "output_type": "execute_result"
    }
   ],
   "source": [
    "sorted(list(results.Param.unique()))"
   ]
  },
  {
   "cell_type": "code",
   "execution_count": 169,
   "metadata": {
    "collapsed": false
   },
   "outputs": [
    {
     "data": {
      "text/plain": [
       "['SDWIS3117.0WS004', u'414115111490301', 'USGS-414115111490301']"
      ]
     },
     "execution_count": 169,
     "metadata": {},
     "output_type": "execute_result"
    }
   ],
   "source": [
    "GWSTID = list(GWStat[GWStat['StationName'].str.contains('Glenrid')].StationId.values)\n",
    "GWSTID.append('USGS-414115111490301')\n",
    "GWSTID"
   ]
  },
  {
   "cell_type": "code",
   "execution_count": 170,
   "metadata": {
    "collapsed": true
   },
   "outputs": [],
   "source": [
    "Nitrate = GWRes[GWRes['ParAbb'].isin(['N','NO2','NO3','NH4'])]"
   ]
  },
  {
   "cell_type": "code",
   "execution_count": 171,
   "metadata": {
    "collapsed": false
   },
   "outputs": [
    {
     "ename": "TypeError",
     "evalue": "Empty 'DataFrame': no numeric data to plot",
     "output_type": "error",
     "traceback": [
      "\u001b[1;31m---------------------------------------------------------------------------\u001b[0m",
      "\u001b[1;31mTypeError\u001b[0m                                 Traceback (most recent call last)",
      "\u001b[1;32m<ipython-input-171-457a5fba2014>\u001b[0m in \u001b[0;36m<module>\u001b[1;34m()\u001b[0m\n\u001b[1;32m----> 1\u001b[1;33m \u001b[0mNitrate\u001b[0m\u001b[1;33m[\u001b[0m\u001b[0mNitrate\u001b[0m\u001b[1;33m[\u001b[0m\u001b[1;34m'StationId'\u001b[0m\u001b[1;33m]\u001b[0m\u001b[1;33m.\u001b[0m\u001b[0misin\u001b[0m\u001b[1;33m(\u001b[0m\u001b[0mGWSTID\u001b[0m\u001b[1;33m)\u001b[0m\u001b[1;33m]\u001b[0m\u001b[1;33m[\u001b[0m\u001b[1;34m'ResultValue'\u001b[0m\u001b[1;33m]\u001b[0m\u001b[1;33m.\u001b[0m\u001b[0mplot\u001b[0m\u001b[1;33m(\u001b[0m\u001b[1;33m)\u001b[0m\u001b[1;33m\u001b[0m\u001b[0m\n\u001b[0m",
      "\u001b[1;32mC:\\Python27\\ArcGIS10.3\\lib\\site-packages\\pandas\\tools\\plotting.pyc\u001b[0m in \u001b[0;36mplot_series\u001b[1;34m(data, kind, ax, figsize, use_index, title, grid, legend, style, logx, logy, loglog, xticks, yticks, xlim, ylim, rot, fontsize, colormap, table, yerr, xerr, label, secondary_y, **kwds)\u001b[0m\n\u001b[0;32m   2517\u001b[0m                  \u001b[0myerr\u001b[0m\u001b[1;33m=\u001b[0m\u001b[0myerr\u001b[0m\u001b[1;33m,\u001b[0m \u001b[0mxerr\u001b[0m\u001b[1;33m=\u001b[0m\u001b[0mxerr\u001b[0m\u001b[1;33m,\u001b[0m\u001b[1;33m\u001b[0m\u001b[0m\n\u001b[0;32m   2518\u001b[0m                  \u001b[0mlabel\u001b[0m\u001b[1;33m=\u001b[0m\u001b[0mlabel\u001b[0m\u001b[1;33m,\u001b[0m \u001b[0msecondary_y\u001b[0m\u001b[1;33m=\u001b[0m\u001b[0msecondary_y\u001b[0m\u001b[1;33m,\u001b[0m\u001b[1;33m\u001b[0m\u001b[0m\n\u001b[1;32m-> 2519\u001b[1;33m                  **kwds)\n\u001b[0m\u001b[0;32m   2520\u001b[0m \u001b[1;33m\u001b[0m\u001b[0m\n\u001b[0;32m   2521\u001b[0m \u001b[1;33m\u001b[0m\u001b[0m\n",
      "\u001b[1;32mC:\\Python27\\ArcGIS10.3\\lib\\site-packages\\pandas\\tools\\plotting.pyc\u001b[0m in \u001b[0;36m_plot\u001b[1;34m(data, x, y, subplots, ax, kind, **kwds)\u001b[0m\n\u001b[0;32m   2322\u001b[0m         \u001b[0mplot_obj\u001b[0m \u001b[1;33m=\u001b[0m \u001b[0mklass\u001b[0m\u001b[1;33m(\u001b[0m\u001b[0mdata\u001b[0m\u001b[1;33m,\u001b[0m \u001b[0msubplots\u001b[0m\u001b[1;33m=\u001b[0m\u001b[0msubplots\u001b[0m\u001b[1;33m,\u001b[0m \u001b[0max\u001b[0m\u001b[1;33m=\u001b[0m\u001b[0max\u001b[0m\u001b[1;33m,\u001b[0m \u001b[0mkind\u001b[0m\u001b[1;33m=\u001b[0m\u001b[0mkind\u001b[0m\u001b[1;33m,\u001b[0m \u001b[1;33m**\u001b[0m\u001b[0mkwds\u001b[0m\u001b[1;33m)\u001b[0m\u001b[1;33m\u001b[0m\u001b[0m\n\u001b[0;32m   2323\u001b[0m \u001b[1;33m\u001b[0m\u001b[0m\n\u001b[1;32m-> 2324\u001b[1;33m     \u001b[0mplot_obj\u001b[0m\u001b[1;33m.\u001b[0m\u001b[0mgenerate\u001b[0m\u001b[1;33m(\u001b[0m\u001b[1;33m)\u001b[0m\u001b[1;33m\u001b[0m\u001b[0m\n\u001b[0m\u001b[0;32m   2325\u001b[0m     \u001b[0mplot_obj\u001b[0m\u001b[1;33m.\u001b[0m\u001b[0mdraw\u001b[0m\u001b[1;33m(\u001b[0m\u001b[1;33m)\u001b[0m\u001b[1;33m\u001b[0m\u001b[0m\n\u001b[0;32m   2326\u001b[0m     \u001b[1;32mreturn\u001b[0m \u001b[0mplot_obj\u001b[0m\u001b[1;33m.\u001b[0m\u001b[0mresult\u001b[0m\u001b[1;33m\u001b[0m\u001b[0m\n",
      "\u001b[1;32mC:\\Python27\\ArcGIS10.3\\lib\\site-packages\\pandas\\tools\\plotting.pyc\u001b[0m in \u001b[0;36mgenerate\u001b[1;34m(self)\u001b[0m\n\u001b[0;32m    910\u001b[0m     \u001b[1;32mdef\u001b[0m \u001b[0mgenerate\u001b[0m\u001b[1;33m(\u001b[0m\u001b[0mself\u001b[0m\u001b[1;33m)\u001b[0m\u001b[1;33m:\u001b[0m\u001b[1;33m\u001b[0m\u001b[0m\n\u001b[0;32m    911\u001b[0m         \u001b[0mself\u001b[0m\u001b[1;33m.\u001b[0m\u001b[0m_args_adjust\u001b[0m\u001b[1;33m(\u001b[0m\u001b[1;33m)\u001b[0m\u001b[1;33m\u001b[0m\u001b[0m\n\u001b[1;32m--> 912\u001b[1;33m         \u001b[0mself\u001b[0m\u001b[1;33m.\u001b[0m\u001b[0m_compute_plot_data\u001b[0m\u001b[1;33m(\u001b[0m\u001b[1;33m)\u001b[0m\u001b[1;33m\u001b[0m\u001b[0m\n\u001b[0m\u001b[0;32m    913\u001b[0m         \u001b[0mself\u001b[0m\u001b[1;33m.\u001b[0m\u001b[0m_setup_subplots\u001b[0m\u001b[1;33m(\u001b[0m\u001b[1;33m)\u001b[0m\u001b[1;33m\u001b[0m\u001b[0m\n\u001b[0;32m    914\u001b[0m         \u001b[0mself\u001b[0m\u001b[1;33m.\u001b[0m\u001b[0m_make_plot\u001b[0m\u001b[1;33m(\u001b[0m\u001b[1;33m)\u001b[0m\u001b[1;33m\u001b[0m\u001b[0m\n",
      "\u001b[1;32mC:\\Python27\\ArcGIS10.3\\lib\\site-packages\\pandas\\tools\\plotting.pyc\u001b[0m in \u001b[0;36m_compute_plot_data\u001b[1;34m(self)\u001b[0m\n\u001b[0;32m   1015\u001b[0m         \u001b[1;32mif\u001b[0m \u001b[0mis_empty\u001b[0m\u001b[1;33m:\u001b[0m\u001b[1;33m\u001b[0m\u001b[0m\n\u001b[0;32m   1016\u001b[0m             raise TypeError('Empty {0!r}: no numeric data to '\n\u001b[1;32m-> 1017\u001b[1;33m                             'plot'.format(numeric_data.__class__.__name__))\n\u001b[0m\u001b[0;32m   1018\u001b[0m \u001b[1;33m\u001b[0m\u001b[0m\n\u001b[0;32m   1019\u001b[0m         \u001b[0mself\u001b[0m\u001b[1;33m.\u001b[0m\u001b[0mdata\u001b[0m \u001b[1;33m=\u001b[0m \u001b[0mnumeric_data\u001b[0m\u001b[1;33m\u001b[0m\u001b[0m\n",
      "\u001b[1;31mTypeError\u001b[0m: Empty 'DataFrame': no numeric data to plot"
     ]
    }
   ],
   "source": [
    "Nitrate[Nitrate['StationId'].isin(GWSTID)]['ResultValue'].plot()"
   ]
  },
  {
   "cell_type": "code",
   "execution_count": null,
   "metadata": {
    "collapsed": true
   },
   "outputs": [],
   "source": []
  }
 ],
 "metadata": {
  "kernelspec": {
   "display_name": "Python 2",
   "language": "python",
   "name": "python2"
  },
  "language_info": {
   "codemirror_mode": {
    "name": "ipython",
    "version": 2
   },
   "file_extension": ".py",
   "mimetype": "text/x-python",
   "name": "python",
   "nbconvert_exporter": "python",
   "pygments_lexer": "ipython2",
   "version": "2.7.8"
  }
 },
 "nbformat": 4,
 "nbformat_minor": 0
}
