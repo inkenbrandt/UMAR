{
 "cells": [
  {
   "cell_type": "code",
   "execution_count": 600,
   "metadata": {
    "collapsed": true
   },
   "outputs": [],
   "source": [
    "%matplotlib inline\n",
    "import pandas as pd\n",
    "import numpy as np\n",
    "import matplotlib.pyplot as plt"
   ]
  },
  {
   "cell_type": "markdown",
   "metadata": {},
   "source": [
    "#Import and Standardize Data"
   ]
  },
  {
   "cell_type": "code",
   "execution_count": 601,
   "metadata": {
    "collapsed": true
   },
   "outputs": [],
   "source": [
    "#rootname = \"/media/p/5F5B-8FCB/PROJECTS/UMAR/Phase_II/Data/chem/\" #thumb on ubuntu\n",
    "rootname = \"E:\\\\PROJECTS\\\\UMAR\\\\Phase_II\\\\Data\\\\chem\\\\\" #thumb on windows"
   ]
  },
  {
   "cell_type": "code",
   "execution_count": 602,
   "metadata": {
    "collapsed": false
   },
   "outputs": [],
   "source": [
    "WQPResultsFile = rootname + \"result.csv\"\n",
    "WQPStationFile = rootname + \"station.csv\"\n",
    "SDWISFile = rootname + \"SDWIS_Cache.txt\"\n",
    "AGStationsFile = rootname + \"AG_Stations_Cache.csv\"\n",
    "AGResultsFile = rootname + \"AG_byparam.csv\"\n",
    "UGSFile = rootname + \"UGS_Cache.txt\"\n",
    "STORLegStatFile = rootname + \"UT_Cache_sta_001.txt\"\n",
    "STORLegResFile = rootname + \"UT_Cache_res_001.txt\"\n",
    "STORParamFile = rootname + \"parameter.txt\""
   ]
  },
  {
   "cell_type": "markdown",
   "metadata": {},
   "source": [
    "##WQP"
   ]
  },
  {
   "cell_type": "markdown",
   "metadata": {},
   "source": [
    "http://waterqualitydata.us/Station/search?statecode=US%3A49&countycode=US%3A49%3A005&sampleMedia=Water&characteristicType=Information%3BInorganics%2C+Major%2C+Metals%3BInorganics%2C+Major%2C+Non-metals%3BInorganics%2C+Minor%2C+Metals%3BInorganics%2C+Minor%2C+Non-metals%3BNot+Assigned%3BNutrient%3BPhysical%3BStable+Isotopes&mimeType=csv&zip=yes&sorted=no"
   ]
  },
  {
   "cell_type": "markdown",
   "metadata": {},
   "source": [
    "\n",
    "http://waterqualitydata.us/Result/search?statecode=US%3A49&countycode=US%3A49%3A005&sampleMedia=Water&characteristicType=Information%3BInorganics%2C+Major%2C+Metals%3BInorganics%2C+Major%2C+Non-metals%3BInorganics%2C+Minor%2C+Metals%3BInorganics%2C+Minor%2C+Non-metals%3BNot+Assigned%3BNutrient%3BPhysical%3BStable+Isotopes&mimeType=csv&zip=yes&sorted=no"
   ]
  },
  {
   "cell_type": "code",
   "execution_count": 603,
   "metadata": {
    "collapsed": false
   },
   "outputs": [],
   "source": [
    "Rdtypes = {\"OrganizationIdentifier\":np.str_, \"OrganizationFormalName\":np.str_, \"ActivityIdentifier\":np.str_, \n",
    "           \"ActivityTypeCode\":np.str_, \"ActivityMediaName\":np.str_, \"ActivityMediaSubdivisionName\":np.str_, \n",
    "           \"ActivityStartDate\":np.str_, \"ActivityStartTime/Time\":np.str_, \"ActivityStartTime/TimeZoneCode\":np.str_, \n",
    "           \"ActivityEndDate\":np.str_, \"ActivityEndTime/Time\":np.str_, \"ActivityEndTime/TimeZoneCode\":np.str_, \n",
    "           \"ActivityDepthHeightMeasure/MeasureValue\":np.float16, \"ActivityDepthHeightMeasure/MeasureUnitCode\":np.str_, \n",
    "           \"ActivityDepthAltitudeReferencePointText\":np.str_, \"ActivityTopDepthHeightMeasure/MeasureValue\":np.float16, \n",
    "           \"ActivityTopDepthHeightMeasure/MeasureUnitCode\":np.str_, \n",
    "           \"ActivityBottomDepthHeightMeasure/MeasureValue\":np.float16, \n",
    "           \"ActivityBottomDepthHeightMeasure/MeasureUnitCode\":np.str_, \n",
    "           \"ProjectIdentifier\":np.str_, \"ActivityConductingOrganizationText\":np.str_, \n",
    "           \"MonitoringLocationIdentifier\":np.str_, \"ActivityCommentText\":np.str_, \n",
    "           \"SampleAquifer\":np.str_, \"HydrologicCondition\":np.str_, \"HydrologicEvent\":np.str_, \n",
    "           \"SampleCollectionMethod/MethodIdentifier\":np.str_, \"SampleCollectionMethod/MethodIdentifierContext\":np.str_, \n",
    "           \"SampleCollectionMethod/MethodName\":np.str_, \"SampleCollectionEquipmentName\":np.str_, \n",
    "           \"ResultDetectionConditionText\":np.str_, \"CharacteristicName\":np.str_, \"ResultSampleFractionText\":np.str_, \n",
    "           \"ResultMeasureValue\":np.str_, \"ResultMeasure/MeasureUnitCode\":np.str_, \"MeasureQualifierCode\":np.str_, \n",
    "           \"ResultStatusIdentifier\":np.str_, \"StatisticalBaseCode\":np.str_, \"ResultValueTypeName\":np.str_, \n",
    "           \"ResultWeightBasisText\":np.str_, \"ResultTimeBasisText\":np.str_, \"ResultTemperatureBasisText\":np.str_, \n",
    "           \"ResultParticleSizeBasisText\":np.str_, \"PrecisionValue\":np.str_, \"ResultCommentText\":np.str_, \n",
    "           \"USGSPCode\":np.str_, \"ResultDepthHeightMeasure/MeasureValue\":np.float16, \n",
    "           \"ResultDepthHeightMeasure/MeasureUnitCode\":np.str_, \"ResultDepthAltitudeReferencePointText\":np.str_, \n",
    "           \"SubjectTaxonomicName\":np.str_, \"SampleTissueAnatomyName\":np.str_, \n",
    "           \"ResultAnalyticalMethod/MethodIdentifier\":np.str_, \"ResultAnalyticalMethod/MethodIdentifierContext\":np.str_, \n",
    "           \"ResultAnalyticalMethod/MethodName\":np.str_, \"MethodDescriptionText\":np.str_, \"LaboratoryName\":np.str_, \n",
    "           \"AnalysisStartDate\":np.str_, \"ResultLaboratoryCommentText\":np.str_, \n",
    "           \"DetectionQuantitationLimitTypeName\":np.str_, \"DetectionQuantitationLimitMeasure/MeasureValue\":np.str_, \n",
    "           \"DetectionQuantitationLimitMeasure/MeasureUnitCode\":np.str_, \"PreparationStartDate\":np.str_, \n",
    "           \"ProviderName\":np.str_} \n",
    "\n",
    "dt = [[6,7],56,61]"
   ]
  },
  {
   "cell_type": "code",
   "execution_count": 604,
   "metadata": {
    "collapsed": false
   },
   "outputs": [],
   "source": [
    "WQP = pd.read_csv(WQPResultsFile, dtype=Rdtypes, parse_dates=dt)"
   ]
  },
  {
   "cell_type": "code",
   "execution_count": 605,
   "metadata": {
    "collapsed": true
   },
   "outputs": [],
   "source": [
    "ResFieldDict = {\"AnalysisStartDate\":\"AnalysisDate\", \"ResultAnalyticalMethod/MethodIdentifier\":\"AnalytMeth\", \n",
    "                \"ResultAnalyticalMethod/MethodName\":\"AnalytMethId\", \"ResultDetectionConditionText\":\"DetectCond\", \n",
    "                \"ResultLaboratoryCommentText\":\"LabComments\", \"LaboratoryName\":\"LabName\", \n",
    "                \"DetectionQuantitationLimitTypeName\":\"LimitType\", \"DetectionQuantitationLimitMeasure/MeasureValue\":\"MDL\", \n",
    "                \"DetectionQuantitationLimitMeasure/MeasureUnitCode\":\"MDLUnit\", \"MethodDescriptionText\":\"MethodDescript\", \n",
    "                \"OrganizationIdentifier\":\"OrgId\", \"OrganizationFormalName\":\"OrgName\", \"CharacteristicName\":\"Param\", \n",
    "                \"ProjectIdentifier\":\"ProjectId\", \"MeasureQualifierCode\":\"QualCode\", \"ResultCommentText\":\"ResultComment\", \n",
    "                \"ResultStatusIdentifier\":\"ResultStatus\", \"ResultMeasureValue\":\"ResultValue\", \n",
    "                \"ActivityCommentText\":\"SampComment\", \"ActivityDepthHeightMeasure/MeasureValue\":\"SampDepth\", \n",
    "                \"ActivityDepthAltitudeReferencePointText\":\"SampDepthRef\", \n",
    "                \"ActivityDepthHeightMeasure/MeasureUnitCode\":\"SampDepthU\", \"SampleCollectionEquipmentName\":\"SampEquip\", \n",
    "                \"ResultSampleFractionText\":\"SampFrac\", \"ActivityStartDate\":\"SampleDate\", \"ActivityIdentifier\":\"SampleId\", \n",
    "                \"ActivityStartTime/Time\":\"SampleTime\", \"ActivityMediaSubdivisionName\":\"SampMedia\", \n",
    "                \"SampleCollectionMethod/MethodIdentifier\":\"SampMeth\", \"SampleCollectionMethod/MethodName\":\"SampMethName\", \n",
    "                \"ActivityTypeCode\":\"SampType\", \"MonitoringLocationIdentifier\":\"StationId\", \n",
    "                \"ResultMeasure/MeasureUnitCode\":\"Unit\", \"USGSPCode\":\"USGSPCode\",\n",
    "                \"ActivityStartDate_ActivityStartTime/Time\":\"SampleDate\"} "
   ]
  },
  {
   "cell_type": "code",
   "execution_count": 606,
   "metadata": {
    "collapsed": true
   },
   "outputs": [],
   "source": [
    "WQP.rename(columns=ResFieldDict,inplace=True)"
   ]
  },
  {
   "cell_type": "code",
   "execution_count": 607,
   "metadata": {
    "collapsed": false
   },
   "outputs": [],
   "source": [
    "resdroplist = [\"ActivityBottomDepthHeightMeasure/MeasureUnitCode\", \"ActivityBottomDepthHeightMeasure/MeasureValue\", \n",
    "               \"ActivityConductingOrganizationText\", \"ActivityEndDate\", \"ActivityEndTime/Time\", \n",
    "               \"ActivityEndTime/TimeZoneCode\", \"ActivityMediaName\", \"ActivityStartTime/TimeZoneCode\", \n",
    "               \"ActivityTopDepthHeightMeasure/MeasureUnitCode\", \"ActivityTopDepthHeightMeasure/MeasureValue\", \n",
    "               \"HydrologicCondition\", \"HydrologicEvent\", \"PrecisionValue\", \"PreparationStartDate\", \"ProviderName\", \n",
    "               \"ResultAnalyticalMethod/MethodIdentifierContext\", \"ResultDepthAltitudeReferencePointText\", \n",
    "               \"ResultDepthHeightMeasure/MeasureUnitCode\", \"ResultDepthHeightMeasure/MeasureValue\", \n",
    "               \"ResultParticleSizeBasisText\", \"ResultTemperatureBasisText\", \n",
    "               \"ResultTimeBasisText\", \"ResultValueTypeName\", \"ResultWeightBasisText\", \"SampleAquifer\", \n",
    "               \"SampleCollectionMethod/MethodIdentifierContext\", \"SampleTissueAnatomyName\", \"StatisticalBaseCode\", \n",
    "               \"SubjectTaxonomicName\"] "
   ]
  },
  {
   "cell_type": "code",
   "execution_count": 608,
   "metadata": {
    "collapsed": false
   },
   "outputs": [],
   "source": [
    "WQP.drop(resdroplist,inplace=True,axis=1)"
   ]
  },
  {
   "cell_type": "code",
   "execution_count": 609,
   "metadata": {
    "collapsed": false
   },
   "outputs": [],
   "source": [
    "WQP['ResultValue'] = WQP['ResultValue'].convert_objects(convert_numeric=True)\n",
    "WQP['MDL'] = WQP['MDL'].convert_objects(convert_numeric=True)"
   ]
  },
  {
   "cell_type": "code",
   "execution_count": 610,
   "metadata": {
    "collapsed": true
   },
   "outputs": [],
   "source": [
    "WQP['StationId'] = WQP['StationId'].str.replace('_WQX-','-')"
   ]
  },
  {
   "cell_type": "code",
   "execution_count": 611,
   "metadata": {
    "collapsed": false
   },
   "outputs": [],
   "source": [
    "def unitfix(x):\n",
    "    z = str(x).lower()\n",
    "    if z == \"ug/l\":\n",
    "        return \"mg/l\"\n",
    "    elif z == \"mg/l\":\n",
    "        return \"mg/l\"\n",
    "    else:\n",
    "        return x\n",
    "\n",
    "WQP.Unit = WQP.Unit.apply(lambda x: str(x).rstrip(), 1)\n",
    "WQP.ResultValue = WQP[[\"ResultValue\",\"Unit\"]].apply(lambda x: x[0]/1000 if x[1]==\"ug/L\" else x[0], 1)\n",
    "WQP.Unit = WQP.Unit.apply(lambda x: unitfix(x),1)"
   ]
  },
  {
   "cell_type": "code",
   "execution_count": 612,
   "metadata": {
    "collapsed": false
   },
   "outputs": [
    {
     "data": {
      "text/plain": [
       "array(['mg/l', 'None', 'nan', 'NTU', 'umho/cm', 'deg C', 'ft3/sec', 'mgd',\n",
       "       'g/min', 'gal/min', '%', 'ppt', 'm', 'ft/sec', 'ppth', 'pCi/L',\n",
       "       'cfs', 'ueq/L', 'uS/cm', 'mS/cm', 'gal/day', 'mg/day', 'mg/l as N',\n",
       "       'tons/ac ft', 'tons/day', 'mg/l CaCO3', 'ft3/s', 'std units',\n",
       "       'uS/cm @25C', 'mg/l as Na', 'PCU', 'ft', 'mg/l as P', 'per mil',\n",
       "       'tons', 'ppm', 'mm/Hg', '% saturatn', 'mg/l NH4', 'code', 'in'], dtype=object)"
      ]
     },
     "execution_count": 612,
     "metadata": {},
     "output_type": "execute_result"
    }
   ],
   "source": [
    "WQP.Unit.unique()"
   ]
  },
  {
   "cell_type": "code",
   "execution_count": 613,
   "metadata": {
    "collapsed": true
   },
   "outputs": [],
   "source": [
    "WQPStat = pd.read_csv(WQPStationFile)"
   ]
  },
  {
   "cell_type": "code",
   "execution_count": 614,
   "metadata": {
    "collapsed": true
   },
   "outputs": [],
   "source": [
    "StatFieldDict = {\"MonitoringLocationIdentifier\":\"StationId\", \"AquiferName\":\"Aquifer\", \"AquiferTypeName\":\"AquiferType\", \n",
    "             \"ConstructionDateText\":\"ConstDate\", \"CountyCode\":\"CountyCode\", \"WellDepthMeasure/MeasureValue\":\"Depth\", \n",
    "             \"WellDepthMeasure/MeasureUnitCode\":\"DepthUnit\", \"VerticalMeasure/MeasureValue\":\"Elev\", \n",
    "             \"VerticalAccuracyMeasure/MeasureValue\":\"ElevAcc\", \"VerticalAccuracyMeasure/MeasureUnitCode\":\"ElevAccUnit\", \n",
    "             \"VerticalCollectionMethodName\":\"ElevMeth\", \"VerticalCoordinateReferenceSystemDatumName\":\"ElevRef\", \n",
    "             \"VerticalMeasure/MeasureUnitCode\":\"ElevUnit\", \"FormationTypeText\":\"FmType\", \n",
    "             \"WellHoleDepthMeasure/MeasureValue\":\"HoleDepth\", \"WellHoleDepthMeasure/MeasureUnitCode\":\"HoleDUnit\", \n",
    "             \"HorizontalAccuracyMeasure/MeasureValue\":\"HorAcc\", \"HorizontalAccuracyMeasure/MeasureUnitCode\":\"HorAccUnit\", \n",
    "             \"HorizontalCollectionMethodName\":\"HorCollMeth\", \"HorizontalCoordinateReferenceSystemDatumName\":\"HorRef\", \n",
    "             \"HUCEightDigitCode\":\"HUC8\", \"LatitudeMeasure\":\"Lat_Y\", \"LongitudeMeasure\":\"Lon_X\", \n",
    "             \"OrganizationIdentifier\":\"OrgId\", \"OrganizationFormalName\":\"OrgName\", \"StateCode\":\"StateCode\", \n",
    "             \"MonitoringLocationDescriptionText\":\"StationComment\", \"MonitoringLocationName\":\"StationName\", \n",
    "             \"MonitoringLocationTypeName\":\"StationType\"} "
   ]
  },
  {
   "cell_type": "code",
   "execution_count": 615,
   "metadata": {
    "collapsed": true
   },
   "outputs": [],
   "source": [
    "WQPStat.rename(columns=StatFieldDict,inplace=True)"
   ]
  },
  {
   "cell_type": "code",
   "execution_count": 616,
   "metadata": {
    "collapsed": true
   },
   "outputs": [],
   "source": [
    "statdroplist = [\"ContributingDrainageAreaMeasure/MeasureUnitCode\", \"ContributingDrainageAreaMeasure/MeasureValue\", \n",
    "                \"DrainageAreaMeasure/MeasureUnitCode\", \"DrainageAreaMeasure/MeasureValue\", \"CountryCode\", \"ProviderName\", \n",
    "                \"SourceMapScaleNumeric\"]\n",
    "WQPStat.drop(statdroplist,inplace=True,axis=1)"
   ]
  },
  {
   "cell_type": "code",
   "execution_count": 617,
   "metadata": {
    "collapsed": true
   },
   "outputs": [],
   "source": [
    "TypeDict = {\"Stream: Canal\":\"Stream\", \"River/Stream\":\"Stream\", \n",
    "            \"Stream: Canal\":\"Stream\", \"Well: Test hole not completed as a well\":\"Well\"}\n",
    "WQPStat.StationType = WQPStat[\"StationType\"].apply(lambda x: TypeDict.get(x,x),1)\n",
    "WQPStat.Elev = WQPStat.Elev.apply(lambda x: np.nan if x==0.0 else round(x,1), 1)"
   ]
  },
  {
   "cell_type": "code",
   "execution_count": 618,
   "metadata": {
    "collapsed": false
   },
   "outputs": [],
   "source": [
    "WQPStat['StationId'] = WQPStat['StationId'].str.replace('_WQX-','-')\n",
    "WQPStat.drop_duplicates(subset=['StationId'],inplace=True)"
   ]
  },
  {
   "cell_type": "markdown",
   "metadata": {},
   "source": [
    "##SDWIS"
   ]
  },
  {
   "cell_type": "markdown",
   "metadata": {},
   "source": [
    "SDWIS data were extracted from the Utah SDWIS database into ArcGIS 10.3.2 using the following SQL query.  NED 10m elevation and UTM coordinates were appended using ArcGIS."
   ]
  },
  {
   "cell_type": "markdown",
   "metadata": {},
   "source": [
    "```SQL\n",
    "SELECT UTV80.TINWSF.EXTERNAL_SYS_NUM AS \"FED_NM\",  UTV80.TINWSF.ST_ASGN_IDENT_CD AS \"ST_ID\",  UTV80.TINWSF.TYPE_CODE,  UTV80.TINWSYS.NAME AS \"SYS_NM\", UTV80.TINWSYS.D_PRIN_CNTY_SVD_NM AS \"COUNTY\", UTV80.TINWSF.NAME AS \"FAC_NM\",  UTV80.TINWSF.TINWSYS_IS_NUMBER AS \"SY_NBR\", UTV80.TINLOC.LATITUDE_MEASURE AS \"Y\",  UTV80.TINLOC.LONGITUDE_MEASURE AS \"X\",  UTV80.TINLOC.VERTICAL_MEASURE AS \"Z\", UTV80.TSASAMPL.COLLLECTION_END_DT AS \"DTE\", UTV80.TSAANLYT.NAME AS \"ANLY_NM\",  UTV80.TSASAR.CONCENTRATION_MSR AS \"CONC_MSR\", UTV80.TSASAR.TSASAR_IS_NUMBER AS \"ID_NUM\",  UTV80.TSASAR.UOM_CODE,   UTV80.TSASAR.DETECTN_LIMIT_NUM AS \"DET_LIM\", UTV80.TSASAR.DETECTN_LIM_UOM_CD AS \"DET_UOM\"  FROM  UTV80.TINWSF  INNER JOIN  UTV80.TINWSYS ON UTV80.TINWSF.TINWSYS_IS_NUMBER = UTV80.TINWSYS.TINWSYS_IS_NUMBER  INNER JOIN  UTV80.TINLOC ON UTV80.TINWSF.TINWSF_IS_NUMBER = UTV80.TINLOC.TINWSF_IS_NUMBER  INNER JOIN  UTV80.TSASMPPT ON UTV80.TINWSF.TINWSF_IS_NUMBER = UTV80.TSASMPPT.TINWSF0IS_NUMBER  INNER JOIN  UTV80.TSASAMPL ON UTV80.TSASMPPT.TSASMPPT_IS_NUMBER = UTV80.TSASAMPL.TSASMPPT_IS_NUMBER  INNER JOIN  UTV80.TSASAR ON UTV80.TSASAMPL.TSASAMPL_IS_NUMBER = UTV80.TSASAR.TSASAMPL_IS_NUMBER  INNER JOIN  UTV80.TSAANLYT ON UTV80.TSASAR.TSAANLYT_IS_NUMBER = UTV80.TSAANLYT.TSAANLYT_IS_NUMBER WHERE  (UTV80.TINWSYS.D_PRIN_CNTY_SVD_NM LIKE '%CACHE COUNTY%')   AND (UTV80.TSAANLYT.NAME LIKE '%NITRATE%' OR UTV80.TSAANLYT.NAME LIKE '%SULFATE%' OR UTV80.TSAANLYT.NAME LIKE '%TDS%' OR UTV80.TSAANLYT.NAME LIKE '%SODIUM%' OR UTV80.TSAANLYT.NAME LIKE '%FLUORIDE%' OR UTV80.TSAANLYT.NAME LIKE '%MAGNESIUM%' OR UTV80.TSAANLYT.NAME LIKE '%SELENIUM%' OR  UTV80.TSAANLYT.NAME LIKE '%CALCIUM%' OR UTV80.TSAANLYT.NAME LIKE '%CHLORIDE%' OR UTV80.TSAANLYT.NAME LIKE '%POTASSIUM%' OR UTV80.TSAANLYT.NAME LIKE '%SELENIUM%' OR UTV80.TSAANLYT.NAME LIKE '%SILICA%' OR UTV80.TSAANLYT.NAME LIKE '%IRON %' OR UTV80.TSAANLYT.NAME LIKE '%ALKA %' OR UTV80.TSAANLYT.NAME LIKE '%CONDUCTIVITY%' OR UTV80.TSAANLYT.NAME LIKE '%PH %' OR UTV80.TSAANLYT.NAME LIKE '%TEMP%' OR UTV80.TSAANLYT.NAME LIKE '%ARSENIC%' OR UTV80.TSAANLYT.NAME LIKE '%CARBON%' OR UTV80.TSAANLYT.NAME LIKE '%TRITIUM%' OR UTV80.TSAANLYT.NAME LIKE '%COPPER%' OR UTV80.TSAANLYT.NAME LIKE '%LEAD%' OR UTV80.TSAANLYT.NAME LIKE '%NITROGEN%' OR UTV80.TSAANLYT.NAME LIKE '%PHOSPHATE%' OR UTV80.TSAANLYT.NAME LIKE '%TDS%' OR UTV80.TSAANLYT.NAME LIKE '%ZINC%' OR UTV80.TSAANLYT.NAME LIKE '%IRON%' OR UTV80.TSAANLYT.NAME LIKE '%CHROMIUM%' ) ORDER BY UTV80.TINWSF.ST_ASGN_IDENT_CD\n",
    "```"
   ]
  },
  {
   "cell_type": "code",
   "execution_count": 619,
   "metadata": {
    "collapsed": false
   },
   "outputs": [],
   "source": [
    "SDWIS = pd.read_csv(SDWISFile)\n",
    "\n",
    "def sampid(x):\n",
    "    return \"SDWIS\" + str(x[0]) + str(x[1]) + str(x[2])[:-7]\n",
    "\n",
    "def statid(x):\n",
    "    return \"SDWIS\" + str(x[0]) + str(x[1]) \n",
    "\n",
    "def statnm(x):\n",
    "    return str(str(x[0]) + \" \" + str(x[1])).title()\n",
    "\n",
    "SDWIS[\"StationId\"] = SDWIS[[\"FED_NM\",\"ST_ID\"]].apply(lambda x: statid(x),1)\n",
    "SDWIS[\"StationName\"] = SDWIS[[\"SYS_NM\",\"FAC_NM\"]].apply(lambda x: statnm(x),1)\n",
    "SDWIS[\"SampleId\"] = SDWIS[[\"FED_NM\",\"ST_ID\",\"DTE\"]].apply(lambda x: sampid(x),1)\n",
    "SDWIS[\"OrgId\"] = \"UDDW\"\n",
    "SDWIS[\"OrgName\"] = \"Utah Division of Drinking Water\"\n",
    "SDWIS[\"Elev\"] = SDWIS[\"NED10m\"].apply(lambda x: round(x*3.2808,1),1)\n",
    "SDWIS[\"Unit\"] = SDWIS[\"UOM_CODE\"].apply(lambda x: str(x).lower(),1)\n",
    "SDWIS[\"MDLUnit\"] = SDWIS[\"DET_UOM\"].apply(lambda x: str(x).lower(),1)\n",
    "SDWIS[\"Param\"] = SDWIS[\"ANLY_NM\"].apply(lambda x: str(x).title().rstrip(),1)"
   ]
  },
  {
   "cell_type": "code",
   "execution_count": 620,
   "metadata": {
    "collapsed": false
   },
   "outputs": [],
   "source": [
    "SDWISFields ={\"DTE\":\"SampleDate\", \"TYPE_CODE\":\"StationType\",\n",
    "              \"CONC_MSR\":\"ResultValue\", \"DET_LIM\":\"MDL\",\n",
    "              \"Y\":\"Lat_Y\", \"X\":\"Lon_X\"}  \n",
    "SDWIS.rename(columns=SDWISFields,inplace=True)"
   ]
  },
  {
   "cell_type": "code",
   "execution_count": 621,
   "metadata": {
    "collapsed": false
   },
   "outputs": [],
   "source": [
    "SDWIS.drop([\"FED_NM\", \"DET_UOM\", \"UOM_CODE\",\"ANLY_NM\", \"FAC_NM\", \"ST_ID\", \n",
    "            \"SYS_NM\", \"COUNTY\", \"SY_NBR\", \"Z\", \"ID_NUM\", \"NED10m\",\n",
    "            \"POINT_X\", \"POINT_Y\"],inplace=True, axis=1)"
   ]
  },
  {
   "cell_type": "code",
   "execution_count": 622,
   "metadata": {
    "collapsed": false
   },
   "outputs": [],
   "source": [
    "SDWISPmatch = {\"Ph\":\"pH\",\"Tds\":\"TDS\",\"Nitrogen-Ammonia As (N)\":\"Nitrogen-Ammonia as (N)\",\n",
    "              \"Hydroxide As Calcium Carbonate\":\"Hydroxide as Calcium Carbonate\",\n",
    "               \"Bicarbonate As Hco3\":\"Bicarbonate as HCO3\"}\n",
    "SDWIS[\"Param\"] = SDWIS[\"Param\"].apply(lambda x: SDWISPmatch.get(x,x))\n",
    "SDWIS[\"StationName\"] = SDWIS[\"StationName\"].apply(lambda x: x.replace(\"Wtp\",\"WTP\"))\n",
    "SDWIS[\"Unit\"] = SDWIS[\"Unit\"].apply(lambda x: x.rstrip(),1)\n",
    "SDWIS[\"ResultValue\"] = SDWIS[[\"ResultValue\",\"Unit\"]].apply(lambda x: x[0]/1000 if x[1]==\"ug/L\" else x[0], 1)\n",
    "SDWIS[\"Unit\"] = SDWIS[\"Unit\"].apply(lambda x: unitfix(x),1)"
   ]
  },
  {
   "cell_type": "code",
   "execution_count": 623,
   "metadata": {
    "collapsed": false
   },
   "outputs": [],
   "source": [
    "SDWISType = {\"SP\":\"Spring\",\"WL\":\"Well\",\"TP\":\"Facility Other\",\"IN\":\"Stream\",\"CC\":\"Connection\"}\n",
    "SDWIS.StationType = SDWIS.StationType.apply(lambda x: SDWISType.get(x,x),1)"
   ]
  },
  {
   "cell_type": "markdown",
   "metadata": {},
   "source": [
    "SDWIS facility type code (FacTypeCode): CC, Consecutive_connection;\n",
    "CH, Common_headers; CS, Cistern; CW, Clear_well;\n",
    "DS, Distribution_system_zone; IG, Infiltration_gallery; IN,\n",
    "Intake; NP, Non-piped; OT, Other; PC, Pressure_control;\n",
    "PF, Pump_facility; RC, Roof_catchment; RS, Reservoir; SI,\n",
    "Surface_impoundment; SP, Spring; SS, Sampling_station; ST,\n",
    "Storage; TM, Transmission_main; TP, Treatment_plant; WH,\n",
    "Well_head; WL, Well."
   ]
  },
  {
   "cell_type": "code",
   "execution_count": 624,
   "metadata": {
    "collapsed": false
   },
   "outputs": [
    {
     "data": {
      "text/plain": [
       "Index([u'StationType', u'Lat_Y', u'Lon_X', u'SampleDate', u'ResultValue',\n",
       "       u'MDL', u'StationId', u'StationName', u'SampleId', u'OrgId', u'OrgName',\n",
       "       u'Elev', u'Unit', u'MDLUnit', u'Param'],\n",
       "      dtype='object')"
      ]
     },
     "execution_count": 624,
     "metadata": {},
     "output_type": "execute_result"
    }
   ],
   "source": [
    "SDWIS.columns"
   ]
  },
  {
   "cell_type": "code",
   "execution_count": 625,
   "metadata": {
    "collapsed": true
   },
   "outputs": [],
   "source": [
    "SDWISSta = SDWIS.drop([u'SampleDate', u'ResultValue', u'MDL', u'SampleId', u'Unit', u'MDLUnit', u'Param'], axis=1)\n",
    "SDWISSta.drop_duplicates(inplace=True)"
   ]
  },
  {
   "cell_type": "code",
   "execution_count": 626,
   "metadata": {
    "collapsed": false
   },
   "outputs": [],
   "source": [
    "SDWISRes = SDWIS.drop([u'StationType', u'Lat_Y', u'Lon_X', u'StationName', u'Elev'], axis=1)"
   ]
  },
  {
   "cell_type": "markdown",
   "metadata": {},
   "source": [
    "##UDAF"
   ]
  },
  {
   "cell_type": "code",
   "execution_count": 627,
   "metadata": {
    "collapsed": true
   },
   "outputs": [],
   "source": [
    "AGStat = pd.read_csv(AGStationsFile)\n",
    "AGStat[\"StationType\"] = \"Well\"\n",
    "AGStatFields = {\"SITEID\":\"StationId\",\"FINISHEDDE\":\"Depth\",\"POINT_Y\":\"Lat_Y\",\n",
    "                \"POINT_X\":\"Lon_X\",\"ELEV_FT\":\"Elev\",\"ACCURACY\":\"HorAcc\"}\n",
    "AGStat.rename(columns=AGStatFields,inplace=True)"
   ]
  },
  {
   "cell_type": "code",
   "execution_count": 628,
   "metadata": {
    "collapsed": true
   },
   "outputs": [],
   "source": [
    "AGStat.drop([\"OBJECTID_1\", \"OBJECTID\", \"PUB_YR\", \"SAMPLENO\", \"WLDATE\", \"WLDEPTH\"], inplace=True, axis=1)"
   ]
  },
  {
   "cell_type": "code",
   "execution_count": 629,
   "metadata": {
    "collapsed": false
   },
   "outputs": [],
   "source": [
    "AGStat.StationId = AGStat.StationId.apply(lambda x: \"UDAF-\"+str(int(x)).zfill(5),1)"
   ]
  },
  {
   "cell_type": "code",
   "execution_count": 630,
   "metadata": {
    "collapsed": false
   },
   "outputs": [],
   "source": [
    "names = [\"SampleId\",\"ResultValue\", \"ParAbb\", \"Unit\", \"Param\", \"MDL\",\"BelowLim\",\"TestNo\",\n",
    "         \"StationId\",\"SampleDate\",\"SampYear\"]\n",
    "AGRes = pd.read_csv(AGResultsFile, names=names, index_col=10)"
   ]
  },
  {
   "cell_type": "code",
   "execution_count": 631,
   "metadata": {
    "collapsed": false
   },
   "outputs": [],
   "source": [
    "AGRes.ResultValue = AGRes[[\"BelowLim\",\"ResultValue\"]].apply(lambda x: np.nan if x[0]==\"Y\" or x[1] == 0.0 else x[1], 1)\n",
    "AGRes.ResultValue = AGRes[[\"ResultValue\",\"Unit\"]].apply(lambda x: x[0]/1000 if x[1]==\"ug/L\" else x[0], 1)"
   ]
  },
  {
   "cell_type": "code",
   "execution_count": 632,
   "metadata": {
    "collapsed": false
   },
   "outputs": [],
   "source": [
    "AGRes.Unit = AGRes[\"Unit\"].apply(lambda x: unitfix(x),1)"
   ]
  },
  {
   "cell_type": "code",
   "execution_count": 633,
   "metadata": {
    "collapsed": false
   },
   "outputs": [],
   "source": [
    "AGRes.dropna(subset=[\"StationId\",\"ResultValue\"], how=\"any\", inplace=True)"
   ]
  },
  {
   "cell_type": "code",
   "execution_count": 634,
   "metadata": {
    "collapsed": false
   },
   "outputs": [],
   "source": [
    "AGRes.StationId = AGRes.StationId.apply(lambda x: \"UDAF-\"+str(int(x)).zfill(5),1)"
   ]
  },
  {
   "cell_type": "code",
   "execution_count": 635,
   "metadata": {
    "collapsed": false
   },
   "outputs": [],
   "source": [
    "AGStAv = list(AGStat.StationId.values)\n",
    "AGRes = AGRes[AGRes.StationId.isin(AGStAv)]"
   ]
  },
  {
   "cell_type": "markdown",
   "metadata": {},
   "source": [
    "##STORET Legacy"
   ]
  },
  {
   "cell_type": "code",
   "execution_count": 636,
   "metadata": {
    "collapsed": false
   },
   "outputs": [],
   "source": [
    "STORLegSta = pd.read_table(STORLegStatFile, skiprows=[1])\n",
    "STORLegRes = pd.read_table(STORLegResFile, skiprows=[1])\n",
    "STORParam = pd.read_table(STORParamFile)"
   ]
  },
  {
   "cell_type": "code",
   "execution_count": 637,
   "metadata": {
    "collapsed": false
   },
   "outputs": [],
   "source": [
    "rescol = list(STORLegRes.columns)\n",
    "j = []\n",
    "for i in rescol:\n",
    "    j.append(i.rstrip(\"\\t\").rstrip().lstrip().replace(\" \",\"\"))\n",
    "resdict = dict(zip(rescol,j))\n",
    "STORLegRes.rename(columns=resdict,inplace=True)\n",
    "\n",
    "statcol = list(STORLegSta.columns)\n",
    "k = []\n",
    "for i in statcol:\n",
    "    k.append(i.rstrip(\"\\t\").rstrip().lstrip().replace(\" \",\"\"))\n",
    "statdict = dict(zip(statcol,k))\n",
    "STORLegSta.rename(columns=statdict,inplace=True)"
   ]
  },
  {
   "cell_type": "code",
   "execution_count": 638,
   "metadata": {
    "collapsed": false
   },
   "outputs": [],
   "source": [
    "def timefix(x):\n",
    "    x = str(x).rstrip().zfill(4)\n",
    "    if x==np.nan:\n",
    "        return \"00:00\"\n",
    "    elif int(x[0:2])>23:\n",
    "        return \"00:00\"\n",
    "    elif int(x[2:])>59:\n",
    "        return \"00:00\"\n",
    "    else:\n",
    "        return x[0:2] + \":\" + x[2:]\n",
    "\n",
    "STORLegRes[\"StartTime\"] = STORLegRes[\"StartTime\"].apply(lambda x: timefix(x), 1)\n",
    "STORLegRes[\"SampleDate\"] = STORLegRes[[\"StartDate\",\"StartTime\"]].apply(lambda x: str(x[0]).rstrip() + \" \" + x[1],1)\n",
    "STORLegRes[\"SampleDate\"] = pd.to_datetime(STORLegRes[\"SampleDate\"], format=\"%Y-%m-%d %H:%M\")\n",
    "STORLegRes = STORLegRes[STORLegRes.SecondaryActivityCategory.isin(['Water',np.nan])]\n",
    "STORParamDict = dict(zip(STORParam['Parameter No.'].values, STORParam['Full Name'].values))\n",
    "STORLegRes.Param = STORLegRes.Param.apply(lambda x: STORParamDict.get(x),1) "
   ]
  },
  {
   "cell_type": "code",
   "execution_count": 639,
   "metadata": {
    "collapsed": true
   },
   "outputs": [],
   "source": [
    "STORResField = {\"Agency\":\"OrgId\",\"AgencyName\":\"OrgName\",\"Station\":\"StationId\",\"SampleDepth\":\"SampDepth\"}\n",
    "STORLegRes.rename(columns=STORResField,inplace=True)"
   ]
  },
  {
   "cell_type": "code",
   "execution_count": 640,
   "metadata": {
    "collapsed": false
   },
   "outputs": [],
   "source": [
    "STORLegRes.drop([\"StateName\", \"CountyName\", \"HUC\", \"EndDate\", \"UMK\", \"CS\", \"ReplicateNumber\",\n",
    "                 \"COMPOSITE_GRAB_NUMBER\",\"CM\",\"PrimaryActivityCategory\",\"PrimaryActivityCategory\",\n",
    "                 \"SecondaryActivityCategory\",\n",
    "                 \"EndTime\", \"StartDate\", \"StartTime\", \"Latitude\", \"Longitude\"],inplace=True,axis=1)"
   ]
  },
  {
   "cell_type": "code",
   "execution_count": 641,
   "metadata": {
    "collapsed": false
   },
   "outputs": [],
   "source": [
    "STORLegRes[\"SampleId\"] = STORLegRes[[\"StationId\",\"SampleDate\"]].apply(lambda x: str(x[0]) + \"-\" + str(x[1]),1 )\n",
    "STORLegRes[\"StationId\"] = STORLegRes[\"StationId\"].apply(lambda x: \"EPALeg-\" + x, 1)"
   ]
  },
  {
   "cell_type": "code",
   "execution_count": 642,
   "metadata": {
    "collapsed": false
   },
   "outputs": [],
   "source": [
    "STORLegRes.Param = STORLegRes.Param.apply(lambda x: str(x).title(),1)"
   ]
  },
  {
   "cell_type": "code",
   "execution_count": 643,
   "metadata": {
    "collapsed": false
   },
   "outputs": [],
   "source": [
    "STORKeepers = ['Temperature, Water (Degrees Centigrade)',\n",
    "               'Temperature, Water (Degrees Fahrenheit)', \n",
    "               'Specific Conductance,Field (Umhos/Cm @ 25C)',\n",
    "               'Specific Conductance (Umhos/Cm @ 25C)', \n",
    "               'Sulfate (As S) Whole     Water, Mg/L',\n",
    "               'Oxygen, Dissolved                             Mg/L',\n",
    "               'Oxygen, Dissolved, Percent Of Saturation         %',\n",
    "               'Bod, 5 Day, 20 Deg C                          Mg/L',\n",
    "               'Ph (Standard Units)', 'Ph, Lab, Standard Units                         Su',\n",
    "               'Carbon Dioxide (Mg/L As Co2)', 'Alkalinity,Total,Low Level Gran Analysis     Ueq/L',\n",
    "               'Alkalinity, Total (Mg/L As Caco3)', 'Bicarbonate Ion (Mg/L As Hco3)', 'Carbonate Ion (Mg/L As Co3)',\n",
    "               'Nitrogen, Ammonia, Total (Mg/L As N)', 'Ammonia, Unionzed                      (Mg/L As N)',\n",
    "               'Nitrite Nitrogen, Total (Mg/L As N)', 'Ammonia, Unionized (Calc Fr Temp-Ph-Nh4)  (Mg/L)',\n",
    "               'Nitrate Nitrogen, Total (Mg/L As N)', 'Nitrogen, Kjeldahl, Total, (Mg/L As N)',\n",
    "               'Nitrite Plus Nitrate, Total 1 Det. (Mg/L As N)', 'Phosphorus (P), Water, Total Recoverable      Ug/L',\n",
    "               'Phosphorus, Total (Mg/L As P)', 'Phosphorus, Dissolved Orthophosphate (Mg/L As P)',\n",
    "               'Carbon, Dissolved Organic (Mg/L As C)',\n",
    "               'Carbon, Dissolved Inorganic (Mg/L As C)',\n",
    "               'Hardness, Total (Mg/L As Caco3)', 'Calcium (Mg/L As Caco3)',\n",
    "               'Calcium, Dissolved (Mg/L As Ca)',\n",
    "               'Magnesium, Dissolved (Mg/L As Mg)',\n",
    "               'Sodium, Dissolved (Mg/L As Na)',\n",
    "               'Potassium, Dissolved (Mg/L As K)',\n",
    "               'Chloride, Dissolved In Water           Mg/L',\n",
    "               'Sulfate, Dissolved (Mg/L As So4)',\n",
    "               'Fluoride, Dissolved (Mg/L As F)',\n",
    "               'Silica, Dissolved (Mg/L As Si02)',\n",
    "               'Arsenic, Dissolved  (Ug/L As As)', 'Arsenic, Total (Ug/L As As)',\n",
    "               'Barium, Dissolved (Ug/L As Ba)', 'Barium, Total (Ug/L As Ba)',\n",
    "               'Beryllium, Total (Ug/L As Be)', 'Boron, Dissolved (Ug/L As B)',\n",
    "               'Boron, Total (Ug/L As B)', 'Cadmium, Dissolved (Ug/L As Cd)',\n",
    "               'Cadmium, Total (Ug/L As Cd)', 'Chromium, Dissolved (Ug/L As Cr)',\n",
    "               'Chromium, Hexavalent (Ug/L As Cr)', 'Chromium, Total (Ug/L As Cr)',\n",
    "               'Copper, Dissolved (Ug/L As Cu)', 'Copper, Total (Ug/L As Cu)',\n",
    "               'Iron, Dissolved (Ug/L As Fe)', 'Lead, Dissolved (Ug/L As Pb)',\n",
    "               'Lead, Total (Ug/L As Pb)', 'Manganese, Total (Ug/L As Mn)',\n",
    "               'Manganese, Dissolved (Ug/L As Mn)', 'Thallium, Total (Ug/L As Tl)',\n",
    "               'Nickel, Dissolved (Ug/L As Ni)', 'Nickel, Total (Ug/L As Ni)',\n",
    "               'Silver, Dissolved (Ug/L As Ag)', 'Silver, Total (Ug/L As Ag)',\n",
    "               'Zinc, Dissolved (Ug/L As Zn)', 'Zinc, Total (Ug/L As Zn)',\n",
    "               'Antimony, Total (Ug/L As Sb)', 'Aluminum, Total (Ug/L As Al)',\n",
    "               'Selenium, Dissolved (Ug/L As Se)', 'Selenium, Total (Ug/L As Se)',\n",
    "               'Tritium (1H3),Total (Picocuries/Liter)',\n",
    "               'Hardness, Ca Mg Calculated (Mg/L As Caco3)',\n",
    "               'Chlorine, Total Residual (Mg/L)',\n",
    "               'Residue,Total Filtrable (Dried At 180C),Mg/L',\n",
    "               'Nitrate Nitrogen, Dissolved (Mg/L As No3)', 'Iron (Ug/L As Fe)',\n",
    "               'Phosphorus, Total, As Po4 - Mg/L', 'Mercury, Total  (Ug/L As Hg)']\n",
    "STORLegRes = STORLegRes[STORLegRes.Param.isin(STORKeepers)] "
   ]
  },
  {
   "cell_type": "code",
   "execution_count": 644,
   "metadata": {
    "collapsed": true
   },
   "outputs": [],
   "source": [
    "def parsplit(x,p):\n",
    "    x = str(x).rstrip().lstrip()\n",
    "    if p == \"Un\":\n",
    "        z = -1\n",
    "        x = str(x).replace(\"Mg/L\", \"mg/l\")\n",
    "        x = str(x).replace(\"Ug/L\", \"ug/l\")\n",
    "        x = str(x).replace(\"o\", \"O\")\n",
    "        x = str(x).replace(\"c\", \"C\")\n",
    "        x = str(x).replace(\"TOtal ReCOverable\",\"Total Recoverable\")        \n",
    "        x = str(x).replace(\"UmhOs\", \"umhos\")\n",
    "        x = str(x).replace(\"TOtal\",\"Total\")\n",
    "    elif p== \"Par\":\n",
    "        z = 0\n",
    "        x = str(x).replace(\", Standard Units\",\"\")\n",
    "        x = str(x).replace(\", Unionized\",\"\")\n",
    "        x = str(x).replace(\", Unionzed\",\"\")\n",
    "        x = str(x).replace(\",Low Level Gran Analysis\",\"\")\n",
    "        x = str(x).replace(\" Ion\",\"\")\n",
    "        x = str(x).replace(\",Total\",\", Total\")\n",
    "        if x == \"Ph\" or x == \"Ph, Lab\":\n",
    "            x = str(x).replace(\"Ph\",\"pH\")\n",
    "    if \"(\" in x:\n",
    "        x = str(x).replace(\" As \", \" as \")\n",
    "        return str(x).split(\" (\")[z].rstrip(\")\").rstrip().lstrip()\n",
    "    else:\n",
    "        return str(x).split(\"  \")[z].rstrip().lstrip()\n",
    "\n",
    "def splitmore(x):\n",
    "    if \"NO3\" in x:\n",
    "        return x\n",
    "    elif \" as \" in x:\n",
    "        return x.split(\" as \")[0]\n",
    "    elif x == \"As S) WhOle     Water, mg/l\" or x == \"Dried At 180C),mg/l\" or x==\"PhOsphOrus, Total, As PO4 - mg/l\":\n",
    "        return \"mg/l\"\n",
    "    elif x == \"P), Water, Total Recoverable      ug/l\":\n",
    "        return \"ug/l\"\n",
    "    else:\n",
    "        return x\n",
    "\n",
    "def unitconv(x):\n",
    "    if x[1]==\"ug/l\":\n",
    "        return x[0]/1000\n",
    "    elif x[1]==\"Degrees Fahrenheit\":\n",
    "        return (float(x[0])-32.0)*(5.0/9.0)\n",
    "    else:\n",
    "        return x[0]"
   ]
  },
  {
   "cell_type": "code",
   "execution_count": 645,
   "metadata": {
    "collapsed": false
   },
   "outputs": [
    {
     "data": {
      "text/plain": [
       "array(['Temperature, Water', 'Specific Conductance,Field',\n",
       "       'Specific Conductance', 'Sulfate', 'Oxygen, Dissolved',\n",
       "       'Oxygen, Dissolved, Percent Of Saturation', 'Bod, 5 Day, 20 Deg C',\n",
       "       'Ph', 'Ph, Lab', 'Carbon Dioxide', 'Alkalinity, Total',\n",
       "       'Bicarbonate', 'Carbonate', 'Nitrogen, Ammonia, Total', 'Ammonia',\n",
       "       'Nitrite Nitrogen, Total', 'Nitrate Nitrogen, Total',\n",
       "       'Nitrogen, Kjeldahl, Total,', 'Nitrite Plus Nitrate, Total 1 Det.',\n",
       "       'Phosphorus', 'Phosphorus, Total',\n",
       "       'Phosphorus, Dissolved Orthophosphate', 'Carbon, Dissolved Organic',\n",
       "       'Carbon, Dissolved Inorganic', 'Hardness, Total', 'Calcium',\n",
       "       'Calcium, Dissolved', 'Magnesium, Dissolved', 'Sodium, Dissolved',\n",
       "       'Potassium, Dissolved', 'Chloride, Dissolved In Water',\n",
       "       'Sulfate, Dissolved', 'Fluoride, Dissolved', 'Silica, Dissolved',\n",
       "       'Arsenic, Dissolved', 'Arsenic, Total', 'Barium, Dissolved',\n",
       "       'Barium, Total', 'Beryllium, Total', 'Boron, Dissolved',\n",
       "       'Boron, Total', 'Cadmium, Dissolved', 'Cadmium, Total',\n",
       "       'Chromium, Dissolved', 'Chromium, Hexavalent', 'Chromium, Total',\n",
       "       'Copper, Dissolved', 'Copper, Total', 'Iron, Dissolved',\n",
       "       'Lead, Dissolved', 'Lead, Total', 'Manganese, Total',\n",
       "       'Manganese, Dissolved', 'Thallium, Total', 'Nickel, Dissolved',\n",
       "       'Nickel, Total', 'Silver, Dissolved', 'Silver, Total',\n",
       "       'Zinc, Dissolved', 'Zinc, Total', 'Antimony, Total',\n",
       "       'Aluminum, Total', 'Selenium, Dissolved', 'Selenium, Total',\n",
       "       'Tritium', 'Hardness, Ca Mg Calculated', 'Chlorine, Total Residual',\n",
       "       'Residue, Total Filtrable', 'Nitrate Nitrogen, Dissolved', 'Iron',\n",
       "       'Phosphorus, Total, As Po4 - Mg/L', 'Mercury, Total'], dtype=object)"
      ]
     },
     "execution_count": 645,
     "metadata": {},
     "output_type": "execute_result"
    }
   ],
   "source": [
    "STORLegRes[\"Unit\"] = STORLegRes[\"Param\"].apply(lambda x: parsplit(x,\"Un\"), 1)\n",
    "STORLegRes[\"Param\"] = STORLegRes[\"Param\"].apply(lambda x: parsplit(x,\"Par\"), 1)\n",
    "STORLegRes[\"Unit\"] = STORLegRes[\"Unit\"].apply(lambda x: splitmore(x), 1)\n",
    "STORLegRes[\"ResultValue\"] = STORLegRes[[\"ResultValue\",\"Unit\"]].apply(lambda x: unitconv(x), 1)\n",
    "STORLegRes[\"Unit\"] = STORLegRes[\"Unit\"].apply(lambda x: \"mg/l\" if x==\"ug/l\" else x, 1)\n",
    "STORLegRes[\"Unit\"] = STORLegRes[\"Unit\"].apply(lambda x: \"Degrees Centigrade\" if x==\"Degrees Fahrenheit\" else x, 1)\n",
    "STORLegRes[\"Param\"].unique()"
   ]
  },
  {
   "cell_type": "code",
   "execution_count": 646,
   "metadata": {
    "collapsed": false
   },
   "outputs": [],
   "source": [
    "STORStaField = {\"Agency\":\"OrgId\",\"AgencyName\":\"OrgName\",\"Station\":\"StationId\",\n",
    "                \"Latitude\":\"Lat_Y\", \"Longitude\":\"Lon_Y\", \"HUC\":\"HUC8\", \"StationDepth\":\"Depth\"}\n",
    "STORLegSta.rename(columns=STORStaField,inplace=True)"
   ]
  },
  {
   "cell_type": "code",
   "execution_count": 647,
   "metadata": {
    "collapsed": false
   },
   "outputs": [],
   "source": [
    "STORLegSta.drop([\"RchmileSegment\",\"MilesUpReach\", \"Rchonoff\", \n",
    "                 \"Rchname\", \"StateName\", \"CountyName\"], inplace=True, axis=1)"
   ]
  },
  {
   "cell_type": "code",
   "execution_count": 648,
   "metadata": {
    "collapsed": false
   },
   "outputs": [
    {
     "data": {
      "text/plain": [
       "array(['/TYPA/AMBNT/STREAM                                               ',\n",
       "       '/TYPA/IND/TREATD/OUTFL/STREAM                                    ',\n",
       "       '/TYPA/AMBNT/LAKE                                                 ',\n",
       "       '/TYPA/MUN/INTAKE/NONAMB/SPRING/SUPPLY                            ',\n",
       "       '/TYPA/MUN/INTAKE/NONAMB/WELL/SUPPLY                              ',\n",
       "       '/TYPA/MUN/INTAKE/AMBNT/STREAM/SUPPLY                             ',\n",
       "       '/TYPA/MUN/INTAKE/NONAMB/PIPE/SUPPLY                              '], dtype=object)"
      ]
     },
     "execution_count": 648,
     "metadata": {},
     "output_type": "execute_result"
    }
   ],
   "source": [
    "STORLegSta.StationType.unique()"
   ]
  },
  {
   "cell_type": "code",
   "execution_count": 649,
   "metadata": {
    "collapsed": false
   },
   "outputs": [],
   "source": [
    "STORLegSta.StationType = STORLegSta.StationType.apply(lambda x: str(x).rstrip(\" \").strip(\"/SUPPLY\").split(\"/\")[-1].title(),1)"
   ]
  },
  {
   "cell_type": "code",
   "execution_count": 650,
   "metadata": {
    "collapsed": true
   },
   "outputs": [],
   "source": [
    "LegTypeDict = {\"We\":\"Well\"}\n",
    "STORLegSta.StationType = STORLegSta.StationType.apply(lambda x: LegTypeDict.get(x,x),1)"
   ]
  },
  {
   "cell_type": "code",
   "execution_count": 651,
   "metadata": {
    "collapsed": false
   },
   "outputs": [],
   "source": [
    "STORLegSta.StationId = STORLegSta[\"StationId\"].apply(lambda x: \"EPALeg-\" + x, 1)"
   ]
  },
  {
   "cell_type": "markdown",
   "metadata": {},
   "source": [
    "#Combine Data"
   ]
  },
  {
   "cell_type": "code",
   "execution_count": 652,
   "metadata": {
    "collapsed": false
   },
   "outputs": [],
   "source": [
    "Res = pd.concat([STORLegRes,AGRes,SDWISRes,WQP])"
   ]
  },
  {
   "cell_type": "code",
   "execution_count": 665,
   "metadata": {
    "collapsed": false
   },
   "outputs": [],
   "source": [
    "Res[[\"Param\",\"Unit\"]].drop_duplicates(subset=[\"Param\",\"Unit\"]).sort([\"Param\"]).to_clipboard()"
   ]
  },
  {
   "cell_type": "code",
   "execution_count": 660,
   "metadata": {
    "collapsed": false
   },
   "outputs": [
    {
     "data": {
      "text/plain": [
       "445080"
      ]
     },
     "execution_count": 660,
     "metadata": {},
     "output_type": "execute_result"
    }
   ],
   "source": [
    "Res = Res[~Res[\"Unit\"].isin(['ueq/L','Ueq/L','ueq/l','tons/ac ft','tons/day','meq/L'])]\n",
    "Res = Res[~Res[\"Param\"].isin([\"Heptachlorobiphenyl\", \"Hydrocarbons\", \"Hydroxide\", \"Ionic strength\",\n",
    "                              \"Floating debris, severity\", \"Carbon Tetrachloride\", \"Trichlorobiphenyl\",\n",
    "                              \"Vinyl Chloride\", \"True color\", \"Color\", \"Trash, Debris, Floatables\",\n",
    "                              \"Total volatile solids\", \"Temperature, air\", \"Residue, Total Filtrable\",\n",
    "                              \"Pentachlorobiphenyl\", \"Odor threshold number\", \"Odor, atmospheric\",\n",
    "                              \"Instream features, est. stream width\", \"Hydroxide\", \n",
    "                              \"Light, transmissivity\"\n",
    "                              "
   ]
  },
  {
   "cell_type": "code",
   "execution_count": null,
   "metadata": {
    "collapsed": true
   },
   "outputs": [],
   "source": [
    "Stat = pd.concat([STORLegSta,AGStat, SDWISSta, WQPStat])"
   ]
  },
  {
   "cell_type": "code",
   "execution_count": null,
   "metadata": {
    "collapsed": true
   },
   "outputs": [],
   "source": [
    "DO\n",
    "Ca\n",
    "Mg\n",
    "Na\n",
    "K\n",
    "Cl\n",
    "Meas_Alk\n",
    "HCO3\n",
    "CO3\n",
    "SO4\n",
    "F\n",
    "NO2\n",
    "NO3\n",
    "Ag_diss\n",
    "Ag_tot\n",
    "Al_diss\n",
    "CN_diss\n",
    "Al_tot\n",
    "CN_tot\n",
    "As_diss\n",
    "As_tot\n",
    "B\n",
    "Ba\n",
    "Br\n",
    "Cd_diss\n",
    "Cd_tot\n",
    "Cr_diss\n",
    "Cr_III_diss\n",
    "Cr_VI_diss\n",
    "Cu_diss\n",
    "Cu_tot\n",
    "Fe_diss\n",
    "Fe_tot\n",
    "Fe_II_diss\n",
    "Fe_III_diss\n",
    "Hg_diss\n",
    "Hg_tot\n",
    "Li\n",
    "Meas_Hardness\n",
    "Mn_diss\n",
    "Mn_tot\n",
    "Mo_diss\n",
    "Mo_tot\n",
    "NH4\n",
    "Ni_diss\n",
    "Ni_tot\n",
    "Pb_diss\n",
    "Pb_total\n",
    "Sb_diss\n",
    "Sb_tot\n",
    "Se_diss\n",
    "Si\n",
    "Sr\n",
    "Tl_diss\n",
    "Tl_tot\n",
    "U_diss\n",
    "U_tot\n",
    "V_diss\n",
    "V_tot\n",
    "Zn_tot\n",
    "Zn_diss\n",
    "Benzene\n",
    "Ethylbenzene\n",
    "Toluene\n",
    "TCE\n",
    "PCE\n",
    "Vinyl chloride\n",
    "Xylene"
   ]
  },
  {
   "cell_type": "code",
   "execution_count": null,
   "metadata": {
    "collapsed": true
   },
   "outputs": [],
   "source": []
  },
  {
   "cell_type": "code",
   "execution_count": null,
   "metadata": {
    "collapsed": true
   },
   "outputs": [],
   "source": []
  },
  {
   "cell_type": "code",
   "execution_count": null,
   "metadata": {
    "collapsed": true
   },
   "outputs": [],
   "source": []
  }
 ],
 "metadata": {
  "kernelspec": {
   "display_name": "Python 2",
   "language": "python",
   "name": "python2"
  },
  "language_info": {
   "codemirror_mode": {
    "name": "ipython",
    "version": 2
   },
   "file_extension": ".py",
   "mimetype": "text/x-python",
   "name": "python",
   "nbconvert_exporter": "python",
   "pygments_lexer": "ipython2",
   "version": "2.7.8"
  }
 },
 "nbformat": 4,
 "nbformat_minor": 0
}
